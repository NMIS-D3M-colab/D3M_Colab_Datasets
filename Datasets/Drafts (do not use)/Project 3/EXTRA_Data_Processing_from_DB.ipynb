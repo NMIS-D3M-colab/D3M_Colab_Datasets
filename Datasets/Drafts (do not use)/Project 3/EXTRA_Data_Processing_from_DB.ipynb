{
 "cells": [
  {
   "cell_type": "code",
   "execution_count": 1,
   "id": "ac378ce6",
   "metadata": {},
   "outputs": [],
   "source": [
    "import pyodbc\n",
    "import pandas as pd\n",
    "import pandas.io.sql as psql\n",
    "import time"
   ]
  },
  {
   "cell_type": "code",
   "execution_count": 2,
   "id": "e3c39c2f",
   "metadata": {},
   "outputs": [
    {
     "ename": "InterfaceError",
     "evalue": "('IM002', '[IM002] [Microsoft][ODBC Driver Manager] Data source name not found and no default driver specified (0) (SQLDriverConnect)')",
     "output_type": "error",
     "traceback": [
      "\u001b[1;31m---------------------------------------------------------------------------\u001b[0m",
      "\u001b[1;31mInterfaceError\u001b[0m                            Traceback (most recent call last)",
      "\u001b[1;32m~\\AppData\\Local\\Temp\\ipykernel_20672\\2101764649.py\u001b[0m in \u001b[0;36m<module>\u001b[1;34m\u001b[0m\n\u001b[0;32m      4\u001b[0m \u001b[0mpassword\u001b[0m \u001b[1;33m=\u001b[0m \u001b[1;34mr'NMISIgnitionDB'\u001b[0m\u001b[1;33m\u001b[0m\u001b[1;33m\u001b[0m\u001b[0m\n\u001b[0;32m      5\u001b[0m \u001b[1;33m\u001b[0m\u001b[0m\n\u001b[1;32m----> 6\u001b[1;33m \u001b[0mcnxn\u001b[0m \u001b[1;33m=\u001b[0m \u001b[0mpyodbc\u001b[0m\u001b[1;33m.\u001b[0m\u001b[0mconnect\u001b[0m\u001b[1;33m(\u001b[0m\u001b[1;34m'DRIVER={ODBC Driver 18 for SQL Server};SERVER='\u001b[0m\u001b[1;33m+\u001b[0m\u001b[0mserver\u001b[0m\u001b[1;33m+\u001b[0m\u001b[1;34m';DATABASE='\u001b[0m\u001b[1;33m+\u001b[0m\u001b[0mdatabase\u001b[0m\u001b[1;33m+\u001b[0m \u001b[1;34m';ENCRYPT=no; UID='\u001b[0m\u001b[1;33m+\u001b[0m\u001b[0musername\u001b[0m\u001b[1;33m+\u001b[0m\u001b[1;34m';PWD='\u001b[0m\u001b[1;33m+\u001b[0m \u001b[0mpassword\u001b[0m\u001b[1;33m)\u001b[0m\u001b[1;33m\u001b[0m\u001b[1;33m\u001b[0m\u001b[0m\n\u001b[0m",
      "\u001b[1;31mInterfaceError\u001b[0m: ('IM002', '[IM002] [Microsoft][ODBC Driver Manager] Data source name not found and no default driver specified (0) (SQLDriverConnect)')"
     ]
    }
   ],
   "source": [
    "server = r'130.159.75.36'\n",
    "database = r'NMIS'\n",
    "username = r'Ignition_DB_Reader'\n",
    "password = r'NMISIgnitionDB'\n",
    "\n",
    "cnxn = pyodbc.connect('DRIVER={ODBC Driver 18 for SQL Server};SERVER='+server+';DATABASE='+database+ ';ENCRYPT=no; UID='+username+';PWD='+ password)"
   ]
  },
  {
   "cell_type": "code",
   "execution_count": null,
   "id": "35c21b40",
   "metadata": {},
   "outputs": [],
   "source": [
    "#cursor = cnxn.cursor()"
   ]
  },
  {
   "cell_type": "code",
   "execution_count": null,
   "id": "b3ed002a",
   "metadata": {},
   "outputs": [],
   "source": [
    "#cursor.execute(\"\"\"SELECT TOP (10000) * FROM dbo.CMI_DB\"\"\")"
   ]
  },
  {
   "cell_type": "code",
   "execution_count": null,
   "id": "e63bd672",
   "metadata": {},
   "outputs": [],
   "source": [
    "#selected = cursor.fetchall()\n",
    "#selected"
   ]
  },
  {
   "cell_type": "code",
   "execution_count": null,
   "id": "8ee68ab2",
   "metadata": {},
   "outputs": [],
   "source": [
    "#start = time.time()\n",
    "\n",
    "#rows = cursor.execute(\"SELECT TOP (1000000) * FROM dbo.CMI_DB\").fetchall() "
   ]
  },
  {
   "cell_type": "code",
   "execution_count": null,
   "id": "e46f86df",
   "metadata": {},
   "outputs": [],
   "source": [
    "#Read cursor data into Pandas dataframe\n",
    "#df = pd.DataFrame([tuple(t) for t in rows])"
   ]
  },
  {
   "cell_type": "code",
   "execution_count": null,
   "id": "0728772d",
   "metadata": {},
   "outputs": [],
   "source": [
    "#df"
   ]
  },
  {
   "cell_type": "code",
   "execution_count": null,
   "id": "8b4e0924",
   "metadata": {},
   "outputs": [],
   "source": [
    "#end = time.time()\n",
    "#print(end - start)"
   ]
  },
  {
   "cell_type": "code",
   "execution_count": null,
   "id": "2acff6c1",
   "metadata": {},
   "outputs": [],
   "source": [
    "#start = time.time()\n",
    "#rows_2 = cursor.execute(\"SELECT TOP (1000000) * FROM dbo.CMI_DB\").fetchall() "
   ]
  },
  {
   "cell_type": "code",
   "execution_count": null,
   "id": "136e0f41",
   "metadata": {},
   "outputs": [],
   "source": [
    "#Read cursor data into Pandas dataframe\n",
    "#df_2 = pd.DataFrame((tuple(t) for t in rows_2))"
   ]
  },
  {
   "cell_type": "code",
   "execution_count": null,
   "id": "df44acab",
   "metadata": {},
   "outputs": [],
   "source": [
    "#df_2"
   ]
  },
  {
   "cell_type": "code",
   "execution_count": null,
   "id": "c0194100",
   "metadata": {},
   "outputs": [],
   "source": [
    "#end = time.time()\n",
    "#print(end - start)"
   ]
  },
  {
   "cell_type": "code",
   "execution_count": null,
   "id": "ac82063e",
   "metadata": {},
   "outputs": [],
   "source": [
    "start = time.time()\n",
    "df_all = pd.read_sql(\"SELECT * FROM dbo.CMI_DB where t_stamp between '2022-11-21' and '2022-11-26';\", cnxn)\n",
    "df_all"
   ]
  },
  {
   "cell_type": "code",
   "execution_count": null,
   "id": "175755b1",
   "metadata": {},
   "outputs": [],
   "source": [
    "end = time.time()\n",
    "print(end - start)"
   ]
  },
  {
   "cell_type": "code",
   "execution_count": null,
   "id": "3a06386b",
   "metadata": {},
   "outputs": [],
   "source": [
    "import sqlite3\n",
    "import pymssql\n",
    "start = time.time()"
   ]
  },
  {
   "cell_type": "code",
   "execution_count": null,
   "id": "c528aa94",
   "metadata": {},
   "outputs": [],
   "source": [
    "df_all.to_csv('df_all.csv')"
   ]
  },
  {
   "cell_type": "code",
   "execution_count": null,
   "id": "cf62aeb8",
   "metadata": {},
   "outputs": [],
   "source": [
    "df_3 = pd.read_sql_query(\"SELECT * FROM dbo.CMI_DB;\", cnxn)\n",
    "df_3"
   ]
  },
  {
   "cell_type": "code",
   "execution_count": null,
   "id": "4622096a",
   "metadata": {},
   "outputs": [],
   "source": [
    "end = time.time()\n",
    "print(end - start)"
   ]
  },
  {
   "cell_type": "code",
   "execution_count": null,
   "id": "8e6eeda0",
   "metadata": {},
   "outputs": [],
   "source": [
    "import matplotlib.pyplot as plt"
   ]
  },
  {
   "cell_type": "code",
   "execution_count": null,
   "id": "877014cc",
   "metadata": {},
   "outputs": [],
   "source": [
    "df_all.plot(x='t_stamp', y='FURNACE_0126_341_04_O2', kind='line')\n",
    "plt.show()\n"
   ]
  },
  {
   "cell_type": "code",
   "execution_count": null,
   "id": "709392c9",
   "metadata": {},
   "outputs": [],
   "source": [
    "df_4 = df_3[(df_3['t_stamp'] > '2022-10-01 00:00:00.000') & (df_3['t_stamp'] <= '2022-11-15 00:00:00.000')]"
   ]
  },
  {
   "cell_type": "code",
   "execution_count": null,
   "id": "96d4e700",
   "metadata": {},
   "outputs": [],
   "source": [
    "df_4.plot(x='t_stamp', y='FURNACE_0126_341_04_O2', kind='line')\n",
    "plt.show()"
   ]
  },
  {
   "cell_type": "code",
   "execution_count": null,
   "id": "9a79d127",
   "metadata": {},
   "outputs": [],
   "source": [
    "df_4.info()"
   ]
  },
  {
   "cell_type": "code",
   "execution_count": null,
   "id": "62f5b744",
   "metadata": {},
   "outputs": [],
   "source": [
    "df_5 = df_3[(df_3['t_stamp'] > '2022-10-27 00:00:00.000') & (df_3['t_stamp'] <= '2022-10-30 00:00:00.000')]"
   ]
  },
  {
   "cell_type": "code",
   "execution_count": null,
   "id": "0ae718d6",
   "metadata": {},
   "outputs": [],
   "source": [
    "df_5.plot(x='t_stamp', y='FURNACE_0126_341_04_O2', kind='scatter')\n",
    "plt.show()"
   ]
  },
  {
   "cell_type": "code",
   "execution_count": null,
   "id": "0e146823",
   "metadata": {},
   "outputs": [],
   "source": [
    "df_5['t_stamp'] = pd.to_datetime(df_5['t_stamp'], format='%Y-%m-%d')\n",
    "df_5.set_index('t_stamp').plot(subplots=True, layout=(12,4), figsize=(30,50))"
   ]
  },
  {
   "cell_type": "code",
   "execution_count": null,
   "id": "22bf28d3",
   "metadata": {},
   "outputs": [],
   "source": []
  },
  {
   "cell_type": "code",
   "execution_count": null,
   "id": "01af9f5f",
   "metadata": {},
   "outputs": [],
   "source": [
    "def find_plateaus(F, min_length=200, tolerance = 0.75, smoothing=25):\n",
    "    '''\n",
    "    Finds plateaus of signal using second derivative of F.\n",
    "\n",
    "    Parameters\n",
    "    ----------\n",
    "    F : Signal.\n",
    "    min_length: Minimum length of plateau.\n",
    "    tolerance: Number between 0 and 1 indicating how tolerant\n",
    "        the requirement of constant slope of the plateau is.\n",
    "    smoothing: Size of uniform filter 1D applied to F and its derivatives.\n",
    "    \n",
    "    Returns\n",
    "    -------\n",
    "    plateaus: array of plateau left and right edges pairs\n",
    "    dF: (smoothed) derivative of F\n",
    "    d2F: (smoothed) Second Derivative of F\n",
    "    '''\n",
    "    import numpy as np\n",
    "    from scipy.ndimage import uniform_filter1d\n",
    "    \n",
    "    # calculate smooth gradients\n",
    "    smoothF = uniform_filter1d(F, size = smoothing)\n",
    "    dF = uniform_filter1d(np.gradient(smoothF),size = smoothing)\n",
    "    d2F = uniform_filter1d(np.gradient(dF),size = smoothing)\n",
    "    \n",
    "    def zero_runs(x):\n",
    "        '''\n",
    "        Helper function for finding sequences of 0s in a signal\n",
    "        https://stackoverflow.com/questions/24885092/finding-the-consecutive-zeros-in-a-numpy-array/24892274#24892274\n",
    "        '''\n",
    "        iszero = np.concatenate(([0], np.equal(x, 0).view(np.int8), [0]))\n",
    "        absdiff = np.abs(np.diff(iszero))\n",
    "        ranges = np.where(absdiff == 1)[0].reshape(-1, 2)\n",
    "        return ranges\n",
    "    \n",
    "    # Find ranges where second derivative is zero\n",
    "    # Values under eps are assumed to be zero.\n",
    "    eps = np.quantile(abs(d2F),tolerance) \n",
    "    smalld2F = (abs(d2F) <= eps)\n",
    "    \n",
    "    # Find repititions in the mask \"smalld2F\" (i.e. ranges where d2F is constantly zero)\n",
    "    p = zero_runs(np.diff(smalld2F))\n",
    "    \n",
    "    # np.diff(p) gives the length of each range found.\n",
    "    # only accept plateaus of min_length\n",
    "    plateaus = p[(np.diff(p) > min_length).flatten()]\n",
    "    \n",
    "    return (plateaus, dF, d2F)"
   ]
  },
  {
   "cell_type": "code",
   "execution_count": null,
   "id": "07340bb1",
   "metadata": {},
   "outputs": [],
   "source": [
    "df_all.plot(x='t_stamp', y='ROOF_0104_300_06_TC', kind='line')\n",
    "plt.show()"
   ]
  },
  {
   "cell_type": "code",
   "execution_count": null,
   "id": "d8a25b26",
   "metadata": {},
   "outputs": [],
   "source": [
    "find_plateaus(df_all['ROOF_0104_300_06_TC'], min_length=2000, tolerance = 0.8, smoothing=25)"
   ]
  },
  {
   "cell_type": "code",
   "execution_count": null,
   "id": "3591aab8",
   "metadata": {},
   "outputs": [],
   "source": []
  }
 ],
 "metadata": {
  "kernelspec": {
   "display_name": "Python 3 (ipykernel)",
   "language": "python",
   "name": "python3"
  },
  "language_info": {
   "codemirror_mode": {
    "name": "ipython",
    "version": 3
   },
   "file_extension": ".py",
   "mimetype": "text/x-python",
   "name": "python",
   "nbconvert_exporter": "python",
   "pygments_lexer": "ipython3",
   "version": "3.9.13"
  }
 },
 "nbformat": 4,
 "nbformat_minor": 5
}
