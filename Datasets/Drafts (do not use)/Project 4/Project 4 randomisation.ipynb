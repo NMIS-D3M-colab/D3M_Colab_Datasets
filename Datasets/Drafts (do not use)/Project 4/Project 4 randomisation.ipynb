{
 "cells": [
  {
   "cell_type": "code",
   "execution_count": 5,
   "id": "104f51b7",
   "metadata": {},
   "outputs": [],
   "source": [
    "import pandas as pd\n",
    "import glob\n",
    "from datetime import datetime, timedelta\n",
    "\n",
    "# Function to update date and time columns in a DataFrame\n",
    "def update_datetime_columns(df):\n",
    "    df['Start'] = pd.to_datetime(df['Start']) + timedelta(hours=1, minutes=30)\n",
    "    df['End'] = pd.to_datetime(df['End']) + timedelta(hours=1, minutes=30)\n",
    "    return df\n",
    "\n",
    "# List all CSV files in the current directory with the .csv extension\n",
    "csv_files = glob.glob('plate_data/*.csv')\n",
    "\n",
    "# Process each CSV file\n",
    "for file_name in csv_files:\n",
    "    # Read CSV file into DataFrame\n",
    "    df = pd.read_csv(file_name, delimiter=';')\n",
    "    \n",
    "    # Update date and time columns\n",
    "    df = update_datetime_columns(df)\n",
    "    \n",
    "    # Add 2 years to the Start and End columns\n",
    "    df['Start'] = df['Start'] + pd.offsets.DateOffset(years=2)\n",
    "    df['End'] = df['End'] + pd.offsets.DateOffset(years=2)\n",
    "    \n",
    "    # Write the updated DataFrame back to CSV\n",
    "    df.to_csv(file_name, index=False, sep=';')\n"
   ]
  },
  {
   "cell_type": "code",
   "execution_count": 11,
   "id": "0eece924",
   "metadata": {},
   "outputs": [],
   "source": [
    "import pandas as pd\n",
    "import glob\n",
    "import os\n",
    "from datetime import datetime, timedelta\n",
    "\n",
    "# Function to update date and time columns in a DataFrame\n",
    "def update_datetime_columns(df):\n",
    "    df['Start'] = pd.to_datetime(df['Start']) + timedelta(hours=1, minutes=30)\n",
    "    df['End'] = pd.to_datetime(df['End']) + timedelta(hours=1, minutes=30)\n",
    "    return df\n",
    "\n",
    "# List all CSV files in the current directory with the .csv extension\n",
    "csv_files = glob.glob('plate_data/*.csv')\n",
    "\n",
    "# Sort the list of CSV files\n",
    "csv_files.sort()\n",
    "\n",
    "# Process each CSV file\n",
    "for i, file_name in enumerate(csv_files, 1):\n",
    "    # Read CSV file into DataFrame\n",
    "    df = pd.read_csv(file_name, delimiter=';')\n",
    "    \n",
    "    # Update date and time columns\n",
    "    df = update_datetime_columns(df)\n",
    "    \n",
    "    # Add 2 years to the Start and End columns\n",
    "    df['Start'] = df['Start'] + pd.offsets.DateOffset(years=2)\n",
    "    df['End'] = df['End'] + pd.offsets.DateOffset(years=2)\n",
    "    \n",
    "    # Rename the CSV file\n",
    "    new_file_name = f'data_{i}.csv'\n",
    "    os.rename(file_name, new_file_name)\n",
    "    \n",
    "    # Write the updated DataFrame to the renamed CSV file\n",
    "    df.to_csv(new_file_name, index=False, sep=';')"
   ]
  },
  {
   "cell_type": "code",
   "execution_count": null,
   "id": "1d87bafe",
   "metadata": {},
   "outputs": [],
   "source": []
  }
 ],
 "metadata": {
  "kernelspec": {
   "display_name": "Python 3 (ipykernel)",
   "language": "python",
   "name": "python3"
  },
  "language_info": {
   "codemirror_mode": {
    "name": "ipython",
    "version": 3
   },
   "file_extension": ".py",
   "mimetype": "text/x-python",
   "name": "python",
   "nbconvert_exporter": "python",
   "pygments_lexer": "ipython3",
   "version": "3.9.13"
  }
 },
 "nbformat": 4,
 "nbformat_minor": 5
}
