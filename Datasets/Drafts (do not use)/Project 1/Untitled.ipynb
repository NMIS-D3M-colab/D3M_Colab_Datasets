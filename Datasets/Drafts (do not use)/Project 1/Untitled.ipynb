{
 "cells": [
  {
   "cell_type": "code",
   "execution_count": 2,
   "id": "d963da82",
   "metadata": {},
   "outputs": [
    {
     "name": "stdout",
     "output_type": "stream",
     "text": [
      "Justine Cassell and Matthew Stone. 1999. Living hand to mouth: Psychological theories about speech and gesture in interactive dialogue systems. In Proceedings of the AAAI Fall symposium ’99 .\n",
      "Elisabeth Andre, Thomas Rist , Susanne van Mulken , Martin Rumpler, Stephan Baldes,. 2000. The Automated Design of Believable Dialogues for Animated Presentation Teams. Embodied Conversational Agents (2000). DOI:https://doi.org/10.7551/mitpress/2697.003.0010\n",
      "Timothy W. Bickmore, Laura M. Pfeifer Vardoulakis, and Daniel Schulman. 2013. Tinker: a relational agent museum guide. Autonomous Agents and Multi-Agent Systems 27, 2 (2013), 254-276. DOI:https://doi.org/10.1007/s10458-012-9216-7\n",
      "Kevin K. Bowden, Tommy Nilsson, Christine P. Spencer, Kubra Cengiz, Alexandru Ghitulescu, and Jelte B. Van Waterschoot. 2016. I Probe, Therefore I Am: Designing a Virtual Journalist with Human Emotions. Proceedings of eNTERFACE’16 - The 12th Summer Workshop on Multimodal Interfaces. Retrieved from https://research.utwente.nl/en/publications/i-probe-therefore-i-am-designing-a-virtual-journalist-with-human-\n",
      "Justine Cassell, Joseph Sullivan, Scott Prevost, and Elizabeth Churchill. 2000. Embodied Conversational Agents. MIT Press.\n",
      "Danai Korre. 2019. Usability Evaluation of Spoken Humanoid Embodied Conversational Agents in Mobile Serious Games. The University of Edinburgh, Edinburgh.\n",
      "Min‐Hui Foo, Gary Douglas, and Mervyn A. Jack. 2008. Incentive schemes in the financial services sector. International Journal of Bank Marketing 26, 2 (2008), 99-118. DOI:https://doi.org/10.1108/02652320810852772\n",
      "Barbara Hayes-Roth. 1998. Jennifer James, celebrity auto spokesperson. ACM SIGGRAPH 98 Conference abstracts and applications (1998). DOI:https://doi.org/10.1145/280953.281349\n",
      "Stefan Kopp, Lars Gesellensetter, Nicole C. Krämer, and Ipke Wachsmuth. 2005. A Conversational Agent as Museum Guide – Design and Evaluation of a Real-World Application. Intelligent Virtual Agents (2005), 329-343. DOI:https://doi.org/10.1007/11550617_28\n",
      "Alexandra Matthews, Nicholas Anderson, James Anderson, and Mervyn Jack. 2008. Individualised Product Portrayals in the Usability of a 3D Embodied Conversational Agent in an eBanking Scenario. Intelligent Virtual Agents (2008), 516-517. DOI:https://doi.org/10.1007/978-3-540-85483-8_67\n",
      "Chris McCollum, John Deaton, Charles Barba, Thomas Santerelli, Michael J. Singer, and Bruce W. Kerr. 2004. Developing an immersive, cultural training system. The Interservice/Industry Training, Simulation and Education Conference(I/ITSEC). 2004.\n",
      "Marissa Milne, Martin H Luerssen, Trent W Lewis, Richard E Leibbrandt, and David M W Powers. 2010. Development of a virtual agent based social tutor for children with autism spectrum disorders. The 2010 International Joint Conference on Neural Networks (IJCNN) (2010). DOI:https://doi.org/10.1109/ijcnn.2010.5596584\n",
      "Justine Cassell. 2001. Nudge nudge wink wink: elements of face-to-face conversation for embodied conversational agents. Embodied conversational agents. MIT Press, Cambridge, MA, USA, 1–27.\n",
      "Simon Provoost, Ho Ming Lau, Jeroen Ruwaard, and Heleen Riper. 2017. Embodied Conversational Agents in Clinical Psychology: A Scoping Review. Journal of Medical Internet Research 19, 5 (2017). DOI:https://doi.org/10.2196/jmir.6553\n",
      "Alexei V. Samsonovich, Zhen Liu, and Ting Ting Liu. 2023. On the Possibility of Regulation of Human Emotions via Multimodal Social Interaction with an Embodied Agent Controlled by eBICA-Based Emotional Interaction Model. Artificial General Intelligence (2023), 374-383. DOI:https://doi.org/10.1007/978-3-031-19907-3_36\n",
      "Sofie Smedegaard Skov, Josefine Ranfelt Andersen, Sigurd Lauridsen, Mads Bab, Marianne Bundsbæk, and Maj Britt Dahl Nielsen. 2022. Designing a conversational agent to promote teamwork and collaborative practices using design thinking: An explorative study on user experiences. Frontiers in Psychology 13, (2022). DOI:https://doi.org/10.3389/fpsyg.2022.903715\n",
      "Silke Ter Stal, Monique Tabak, Harm Op den Akker, Tessa Beinema, and Hermie Hermens. 2019. Who Do You Prefer? The Effect of Age, Gender and Role on Users’ First Impressions of Embodied Conversational Agents in eHealth. International Journal of Human–Computer Interaction 36, 9 (2019), 881-892. DOI:https://doi.org/10.1080/10447318.2019.1699744\n",
      "Helen McBreen. 2006. Embodied Conversational Agents in E-Commerce Applications. Multiagent Systems, Artificial Societies, and Simulated Organizations (2006), 267-274. DOI:https://doi.org/10.1007/0-306-47373-9_33\n",
      "Ramin Yaghoubzadeh, Marcel Kramer, Karola Pitsch, and Stefan Kopp. 2013. Virtual Agents as Daily Assistants for Elderly or Cognitively Impaired People. Intelligent Virtual Agents (2013), 79-91. DOI:https://doi.org/10.1007/978-3-642-40415-3_7\n"
     ]
    }
   ],
   "source": [
    "def sort_references(references):\n",
    "    sorted_references = sorted(references, key=lambda x: x.split(',')[0].split()[-1].lower())\n",
    "    return sorted_references\n",
    "\n",
    "# Example usage\n",
    "references = [\n",
    "    \"Alexandra Matthews, Nicholas Anderson, James Anderson, and Mervyn Jack. 2008. Individualised Product Portrayals in the Usability of a 3D Embodied Conversational Agent in an eBanking Scenario. Intelligent Virtual Agents (2008), 516-517. DOI:https://doi.org/10.1007/978-3-540-85483-8_67\",\n",
    "    \"Helen McBreen. 2006. Embodied Conversational Agents in E-Commerce Applications. Multiagent Systems, Artificial Societies, and Simulated Organizations (2006), 267-274. DOI:https://doi.org/10.1007/0-306-47373-9_33\",\n",
    "    \"Justine Cassell, Joseph Sullivan, Scott Prevost, and Elizabeth Churchill. 2000. Embodied Conversational Agents. MIT Press.\",\n",
    "    \"Kevin K. Bowden, Tommy Nilsson, Christine P. Spencer, Kubra Cengiz, Alexandru Ghitulescu, and Jelte B. Van Waterschoot. 2016. I Probe, Therefore I Am: Designing a Virtual Journalist with Human Emotions. Proceedings of eNTERFACE’16 - The 12th Summer Workshop on Multimodal Interfaces. Retrieved from https://research.utwente.nl/en/publications/i-probe-therefore-i-am-designing-a-virtual-journalist-with-human-\",\n",
    "    \"Min‐Hui Foo, Gary Douglas, and Mervyn A. Jack. 2008. Incentive schemes in the financial services sector. International Journal of Bank Marketing 26, 2 (2008), 99-118. DOI:https://doi.org/10.1108/02652320810852772\",\n",
    "    \"Ramin Yaghoubzadeh, Marcel Kramer, Karola Pitsch, and Stefan Kopp. 2013. Virtual Agents as Daily Assistants for Elderly or Cognitively Impaired People. Intelligent Virtual Agents (2013), 79-91. DOI:https://doi.org/10.1007/978-3-642-40415-3_7\",\n",
    "    \"Stefan Kopp, Lars Gesellensetter, Nicole C. Krämer, and Ipke Wachsmuth. 2005. A Conversational Agent as Museum Guide – Design and Evaluation of a Real-World Application. Intelligent Virtual Agents (2005), 329-343. DOI:https://doi.org/10.1007/11550617_28\",\n",
    "    \"Timothy W. Bickmore, Laura M. Pfeifer Vardoulakis, and Daniel Schulman. 2013. Tinker: a relational agent museum guide. Autonomous Agents and Multi-Agent Systems 27, 2 (2013), 254-276. DOI:https://doi.org/10.1007/s10458-012-9216-7\",\n",
    "    \"Justine Cassell. 2001. Nudge nudge wink wink: elements of face-to-face conversation for embodied conversational agents. Embodied conversational agents. MIT Press, Cambridge, MA, USA, 1–27.\",\n",
    "    \"Elisabeth Andre, Thomas Rist , Susanne van Mulken , Martin Rumpler, Stephan Baldes,. 2000. The Automated Design of Believable Dialogues for Animated Presentation Teams. Embodied Conversational Agents (2000). DOI:https://doi.org/10.7551/mitpress/2697.003.0010\",\n",
    "    \"Barbara Hayes-Roth. 1998. Jennifer James, celebrity auto spokesperson. ACM SIGGRAPH 98 Conference abstracts and applications (1998). DOI:https://doi.org/10.1145/280953.281349\",\n",
    "    \"Chris McCollum, John Deaton, Charles Barba, Thomas Santerelli, Michael J. Singer, and Bruce W. Kerr. 2004. Developing an immersive, cultural training system. The Interservice/Industry Training, Simulation and Education Conference(I/ITSEC). 2004.\",\n",
    "    \"Danai Korre. 2019. Usability Evaluation of Spoken Humanoid Embodied Conversational Agents in Mobile Serious Games. The University of Edinburgh, Edinburgh.\",\n",
    "    \"Justine Cassell and Matthew Stone. 1999. Living hand to mouth: Psychological theories about speech and gesture in interactive dialogue systems. In Proceedings of the AAAI Fall symposium ’99 .\",\n",
    "    \"Marissa Milne, Martin H Luerssen, Trent W Lewis, Richard E Leibbrandt, and David M W Powers. 2010. Development of a virtual agent based social tutor for children with autism spectrum disorders. The 2010 International Joint Conference on Neural Networks (IJCNN) (2010). DOI:https://doi.org/10.1109/ijcnn.2010.5596584\",\n",
    "    \"Silke Ter Stal, Monique Tabak, Harm Op den Akker, Tessa Beinema, and Hermie Hermens. 2019. Who Do You Prefer? The Effect of Age, Gender and Role on Users’ First Impressions of Embodied Conversational Agents in eHealth. International Journal of Human–Computer Interaction 36, 9 (2019), 881-892. DOI:https://doi.org/10.1080/10447318.2019.1699744\",\n",
    "    \"Simon Provoost, Ho Ming Lau, Jeroen Ruwaard, and Heleen Riper. 2017. Embodied Conversational Agents in Clinical Psychology: A Scoping Review. Journal of Medical Internet Research 19, 5 (2017). DOI:https://doi.org/10.2196/jmir.6553\",\n",
    "    \"Alexei V. Samsonovich, Zhen Liu, and Ting Ting Liu. 2023. On the Possibility of Regulation of Human Emotions via Multimodal Social Interaction with an Embodied Agent Controlled by eBICA-Based Emotional Interaction Model. Artificial General Intelligence (2023), 374-383. DOI:https://doi.org/10.1007/978-3-031-19907-3_36\",\n",
    "    \"Sofie Smedegaard Skov, Josefine Ranfelt Andersen, Sigurd Lauridsen, Mads Bab, Marianne Bundsbæk, and Maj Britt Dahl Nielsen. 2022. Designing a conversational agent to promote teamwork and collaborative practices using design thinking: An explorative study on user experiences. Frontiers in Psychology 13, (2022). DOI:https://doi.org/10.3389/fpsyg.2022.903715\"\n",
    "]\n",
    "\n",
    "sorted_references = sort_references(references)\n",
    "\n",
    "# Print the sorted references\n",
    "for reference in sorted_references:\n",
    "    print(reference)\n"
   ]
  },
  {
   "cell_type": "code",
   "execution_count": null,
   "id": "8b72f6bb",
   "metadata": {},
   "outputs": [],
   "source": []
  }
 ],
 "metadata": {
  "kernelspec": {
   "display_name": "Python 3 (ipykernel)",
   "language": "python",
   "name": "python3"
  },
  "language_info": {
   "codemirror_mode": {
    "name": "ipython",
    "version": 3
   },
   "file_extension": ".py",
   "mimetype": "text/x-python",
   "name": "python",
   "nbconvert_exporter": "python",
   "pygments_lexer": "ipython3",
   "version": "3.9.13"
  }
 },
 "nbformat": 4,
 "nbformat_minor": 5
}
