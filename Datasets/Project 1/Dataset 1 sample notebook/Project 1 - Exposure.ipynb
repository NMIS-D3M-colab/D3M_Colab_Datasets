{
 "cells": [
  {
   "cell_type": "markdown",
   "id": "5a381704",
   "metadata": {},
   "source": [
    "# Project 1"
   ]
  },
  {
   "cell_type": "markdown",
   "id": "c88b8603",
   "metadata": {},
   "source": [
    "### Name of facility: EnergiCorp\n",
    "In a fictional nuclear energy factory named EnergiCorp, the need arises to analyze radiation exposure data for employees to ensure the continued safety and well-being of the workforce. The facility operates nuclear reactors and other radiation-emitting equipment to generate electricity, adhering to stringent safety protocols and regulatory requirements. As part of the radiation protection program, comprehensive data analysis is required to assess employee radiation exposure levels and identify potential areas of improvement in radiation safety measures.\n",
    "\n",
    "### Problem statement: \n",
    "EnergiCorp faces challenges in effectively analyzing the radiation exposure data, leading to the following problem statement:\n",
    "\n",
    "Problem: EnergiCorp lacks a streamlined and efficient process to analyze and interpret radiation exposure data for its employees, hindering the identification of patterns, trends, and potential areas of concern. \n",
    "\n",
    "The goal of this project is to do a day shift and night shift comparison by using machine learning to predict a certain amount of radiation a person will take over a given time frame.\n",
    "\n",
    "The tasks we do within a radioactive environment use a unique number, the people doing this task will get an EPD (Electronic Personal Dosimeter) that they have to tell the Health Physics Monitor what task id they will go down on before the issue of the EPD this will track there dose and time within the radioactive environment."
   ]
  },
  {
   "cell_type": "markdown",
   "id": "8eb927ad",
   "metadata": {},
   "source": [
    "What we know about the datasets: \n",
    "\n",
    "* Name is 'employee_' followed by a number\n",
    "* You can have duplicates on all individual columns but not row by row duplicates \n",
    "* Time In and Time out columns should only include datetime64 data types\n",
    "* No body dose should exeed 0.05 "
   ]
  },
  {
   "cell_type": "markdown",
   "id": "c5d8ea17",
   "metadata": {},
   "source": [
    "# Importing my libraries"
   ]
  },
  {
   "cell_type": "code",
   "execution_count": 1,
   "id": "3cfc1102",
   "metadata": {},
   "outputs": [
    {
     "data": {
      "text/html": [
       "        <script type=\"text/javascript\">\n",
       "        window.PlotlyConfig = {MathJaxConfig: 'local'};\n",
       "        if (window.MathJax && window.MathJax.Hub && window.MathJax.Hub.Config) {window.MathJax.Hub.Config({SVG: {font: \"STIX-Web\"}});}\n",
       "        if (typeof require !== 'undefined') {\n",
       "        require.undef(\"plotly\");\n",
       "        requirejs.config({\n",
       "            paths: {\n",
       "                'plotly': ['https://cdn.plot.ly/plotly-2.12.1.min']\n",
       "            }\n",
       "        });\n",
       "        require(['plotly'], function(Plotly) {\n",
       "            window._Plotly = Plotly;\n",
       "        });\n",
       "        }\n",
       "        </script>\n",
       "        "
      ]
     },
     "metadata": {},
     "output_type": "display_data"
    }
   ],
   "source": [
    "import pandas as pd \n",
    "import numpy as np\n",
    "from datetime import datetime, date, time\n",
    "import cufflinks as cf\n",
    "cf.go_offline()\n",
    "cf.set_config_file(offline=False, world_readable=True)\n",
    "import plotly.graph_objects as go\n",
    "import plotly.express as px\n",
    "from plotly.subplots import make_subplots\n",
    "from sklearn.linear_model import LinearRegression\n",
    "from sklearn.model_selection import train_test_split\n",
    "from matplotlib import pyplot as plt"
   ]
  },
  {
   "cell_type": "markdown",
   "id": "4699c523",
   "metadata": {},
   "source": [
    "# Read the data"
   ]
  },
  {
   "cell_type": "code",
   "execution_count": 2,
   "id": "5157c722",
   "metadata": {},
   "outputs": [],
   "source": [
    "df1 = pd.read_csv('data1.csv')\n",
    "df2 = pd.read_csv('data2.csv')"
   ]
  },
  {
   "cell_type": "code",
   "execution_count": 3,
   "id": "b741ef37",
   "metadata": {},
   "outputs": [
    {
     "data": {
      "text/html": [
       "<div>\n",
       "<style scoped>\n",
       "    .dataframe tbody tr th:only-of-type {\n",
       "        vertical-align: middle;\n",
       "    }\n",
       "\n",
       "    .dataframe tbody tr th {\n",
       "        vertical-align: top;\n",
       "    }\n",
       "\n",
       "    .dataframe thead th {\n",
       "        text-align: right;\n",
       "    }\n",
       "</style>\n",
       "<table border=\"1\" class=\"dataframe\">\n",
       "  <thead>\n",
       "    <tr style=\"text-align: right;\">\n",
       "      <th></th>\n",
       "      <th>Name</th>\n",
       "      <th>Unnamed: 1</th>\n",
       "      <th>Time in</th>\n",
       "      <th>Unnamed: 3</th>\n",
       "      <th>Time/Date\\nOut</th>\n",
       "      <th>Unnamed: 5</th>\n",
       "      <th>Whole Body Dose</th>\n",
       "    </tr>\n",
       "  </thead>\n",
       "  <tbody>\n",
       "    <tr>\n",
       "      <th>0</th>\n",
       "      <td>employee_26</td>\n",
       "      <td>NaN</td>\n",
       "      <td>16/07/2032 22:50</td>\n",
       "      <td>NaN</td>\n",
       "      <td>17/07/2032 06:49</td>\n",
       "      <td>NaN</td>\n",
       "      <td>0.044</td>\n",
       "    </tr>\n",
       "    <tr>\n",
       "      <th>1</th>\n",
       "      <td>employee_14</td>\n",
       "      <td>NaN</td>\n",
       "      <td>16/07/2032 22:52</td>\n",
       "      <td>NaN</td>\n",
       "      <td>17/07/2032 06:50</td>\n",
       "      <td>NaN</td>\n",
       "      <td>0.038</td>\n",
       "    </tr>\n",
       "    <tr>\n",
       "      <th>2</th>\n",
       "      <td>employee_26</td>\n",
       "      <td>NaN</td>\n",
       "      <td>17/07/2032 22:46</td>\n",
       "      <td>NaN</td>\n",
       "      <td>18/07/2032 06:47</td>\n",
       "      <td>NaN</td>\n",
       "      <td>0.011</td>\n",
       "    </tr>\n",
       "    <tr>\n",
       "      <th>3</th>\n",
       "      <td>employee_9</td>\n",
       "      <td>NaN</td>\n",
       "      <td>21/07/2032 23:11</td>\n",
       "      <td>NaN</td>\n",
       "      <td>22/07/2032 06:45</td>\n",
       "      <td>NaN</td>\n",
       "      <td>0.015</td>\n",
       "    </tr>\n",
       "    <tr>\n",
       "      <th>4</th>\n",
       "      <td>employee_8</td>\n",
       "      <td>NaN</td>\n",
       "      <td>21/07/2032 23:12</td>\n",
       "      <td>NaN</td>\n",
       "      <td>22/07/2032 06:47</td>\n",
       "      <td>NaN</td>\n",
       "      <td>0.008</td>\n",
       "    </tr>\n",
       "    <tr>\n",
       "      <th>...</th>\n",
       "      <td>...</td>\n",
       "      <td>...</td>\n",
       "      <td>...</td>\n",
       "      <td>...</td>\n",
       "      <td>...</td>\n",
       "      <td>...</td>\n",
       "      <td>...</td>\n",
       "    </tr>\n",
       "    <tr>\n",
       "      <th>122</th>\n",
       "      <td>employee_8</td>\n",
       "      <td>NaN</td>\n",
       "      <td>17/09/2032 22:59</td>\n",
       "      <td>NaN</td>\n",
       "      <td>18/09/2032 06:48</td>\n",
       "      <td>NaN</td>\n",
       "      <td>0.011</td>\n",
       "    </tr>\n",
       "    <tr>\n",
       "      <th>123</th>\n",
       "      <td>employee_21</td>\n",
       "      <td>NaN</td>\n",
       "      <td>17/09/2032 23:00</td>\n",
       "      <td>NaN</td>\n",
       "      <td>18/09/2032 06:47</td>\n",
       "      <td>NaN</td>\n",
       "      <td>0.012</td>\n",
       "    </tr>\n",
       "    <tr>\n",
       "      <th>124</th>\n",
       "      <td>employee_17</td>\n",
       "      <td>NaN</td>\n",
       "      <td>01/09/2032 23:05</td>\n",
       "      <td>NaN</td>\n",
       "      <td>NaN</td>\n",
       "      <td>NaN</td>\n",
       "      <td>0.003</td>\n",
       "    </tr>\n",
       "    <tr>\n",
       "      <th>125</th>\n",
       "      <td>employee_15</td>\n",
       "      <td>NaN</td>\n",
       "      <td>NaN</td>\n",
       "      <td>NaN</td>\n",
       "      <td>16/09/2032 23:26</td>\n",
       "      <td>NaN</td>\n",
       "      <td>0.001</td>\n",
       "    </tr>\n",
       "    <tr>\n",
       "      <th>126</th>\n",
       "      <td>NaN</td>\n",
       "      <td>NaN</td>\n",
       "      <td>17/09/2032 22:34</td>\n",
       "      <td>NaN</td>\n",
       "      <td>18/09/2032 06:50</td>\n",
       "      <td>NaN</td>\n",
       "      <td>0.011</td>\n",
       "    </tr>\n",
       "  </tbody>\n",
       "</table>\n",
       "<p>127 rows × 7 columns</p>\n",
       "</div>"
      ],
      "text/plain": [
       "            Name  Unnamed: 1           Time in  Unnamed: 3    Time/Date\\nOut  \\\n",
       "0    employee_26         NaN  16/07/2032 22:50         NaN  17/07/2032 06:49   \n",
       "1    employee_14         NaN  16/07/2032 22:52         NaN  17/07/2032 06:50   \n",
       "2    employee_26         NaN  17/07/2032 22:46         NaN  18/07/2032 06:47   \n",
       "3     employee_9         NaN  21/07/2032 23:11         NaN  22/07/2032 06:45   \n",
       "4     employee_8         NaN  21/07/2032 23:12         NaN  22/07/2032 06:47   \n",
       "..           ...         ...               ...         ...               ...   \n",
       "122   employee_8         NaN  17/09/2032 22:59         NaN  18/09/2032 06:48   \n",
       "123  employee_21         NaN  17/09/2032 23:00         NaN  18/09/2032 06:47   \n",
       "124  employee_17         NaN  01/09/2032 23:05         NaN               NaN   \n",
       "125  employee_15         NaN               NaN         NaN  16/09/2032 23:26   \n",
       "126          NaN         NaN  17/09/2032 22:34         NaN  18/09/2032 06:50   \n",
       "\n",
       "     Unnamed: 5 Whole Body Dose  \n",
       "0           NaN           0.044  \n",
       "1           NaN           0.038  \n",
       "2           NaN           0.011  \n",
       "3           NaN           0.015  \n",
       "4           NaN           0.008  \n",
       "..          ...             ...  \n",
       "122         NaN           0.011  \n",
       "123         NaN           0.012  \n",
       "124         NaN           0.003  \n",
       "125         NaN           0.001  \n",
       "126         NaN           0.011  \n",
       "\n",
       "[127 rows x 7 columns]"
      ]
     },
     "execution_count": 3,
     "metadata": {},
     "output_type": "execute_result"
    }
   ],
   "source": [
    "df1"
   ]
  },
  {
   "cell_type": "code",
   "execution_count": 4,
   "id": "19e1104d",
   "metadata": {},
   "outputs": [
    {
     "data": {
      "text/html": [
       "<div>\n",
       "<style scoped>\n",
       "    .dataframe tbody tr th:only-of-type {\n",
       "        vertical-align: middle;\n",
       "    }\n",
       "\n",
       "    .dataframe tbody tr th {\n",
       "        vertical-align: top;\n",
       "    }\n",
       "\n",
       "    .dataframe thead th {\n",
       "        text-align: right;\n",
       "    }\n",
       "</style>\n",
       "<table border=\"1\" class=\"dataframe\">\n",
       "  <thead>\n",
       "    <tr style=\"text-align: right;\">\n",
       "      <th></th>\n",
       "      <th>Name</th>\n",
       "      <th>Unnamed: 1</th>\n",
       "      <th>Time In</th>\n",
       "      <th>Time/Date Out</th>\n",
       "      <th>Unnamed: 4</th>\n",
       "      <th>Unnamed: 5</th>\n",
       "      <th>Whole Body Dose msv</th>\n",
       "    </tr>\n",
       "  </thead>\n",
       "  <tbody>\n",
       "    <tr>\n",
       "      <th>0</th>\n",
       "      <td>employee_1</td>\n",
       "      <td>NaN</td>\n",
       "      <td>21/07/2025 09:57</td>\n",
       "      <td>21/07/2025 15:13</td>\n",
       "      <td>NaN</td>\n",
       "      <td>NaN</td>\n",
       "      <td>0.008</td>\n",
       "    </tr>\n",
       "    <tr>\n",
       "      <th>1</th>\n",
       "      <td>employee_1</td>\n",
       "      <td>NaN</td>\n",
       "      <td>22/07/2025 09:03</td>\n",
       "      <td>22/07/2025 15:10</td>\n",
       "      <td>NaN</td>\n",
       "      <td>NaN</td>\n",
       "      <td>0.009</td>\n",
       "    </tr>\n",
       "    <tr>\n",
       "      <th>2</th>\n",
       "      <td>employee_1</td>\n",
       "      <td>NaN</td>\n",
       "      <td>10/08/2025 09:17</td>\n",
       "      <td>10/08/2025 15:57</td>\n",
       "      <td>NaN</td>\n",
       "      <td>NaN</td>\n",
       "      <td>0.020</td>\n",
       "    </tr>\n",
       "    <tr>\n",
       "      <th>3</th>\n",
       "      <td>employee_1</td>\n",
       "      <td>NaN</td>\n",
       "      <td>11/08/2025 08:58</td>\n",
       "      <td>11/08/2025 15:57</td>\n",
       "      <td>NaN</td>\n",
       "      <td>NaN</td>\n",
       "      <td>0.012</td>\n",
       "    </tr>\n",
       "    <tr>\n",
       "      <th>4</th>\n",
       "      <td>employee_1</td>\n",
       "      <td>NaN</td>\n",
       "      <td>13/08/2025 09:04</td>\n",
       "      <td>13/08/2025 15:11</td>\n",
       "      <td>NaN</td>\n",
       "      <td>NaN</td>\n",
       "      <td>0.021</td>\n",
       "    </tr>\n",
       "    <tr>\n",
       "      <th>...</th>\n",
       "      <td>...</td>\n",
       "      <td>...</td>\n",
       "      <td>...</td>\n",
       "      <td>...</td>\n",
       "      <td>...</td>\n",
       "      <td>...</td>\n",
       "      <td>...</td>\n",
       "    </tr>\n",
       "    <tr>\n",
       "      <th>153</th>\n",
       "      <td>employee_B</td>\n",
       "      <td>NaN</td>\n",
       "      <td>03/08/2025 08:36</td>\n",
       "      <td>03/08/2025 15:02</td>\n",
       "      <td>NaN</td>\n",
       "      <td>NaN</td>\n",
       "      <td>0.042</td>\n",
       "    </tr>\n",
       "    <tr>\n",
       "      <th>154</th>\n",
       "      <td>employee_G</td>\n",
       "      <td>NaN</td>\n",
       "      <td>19/01/2026 21:42</td>\n",
       "      <td>20/01/2026 06:06</td>\n",
       "      <td>NaN</td>\n",
       "      <td>NaN</td>\n",
       "      <td>0.004</td>\n",
       "    </tr>\n",
       "    <tr>\n",
       "      <th>155</th>\n",
       "      <td>NaN</td>\n",
       "      <td>NaN</td>\n",
       "      <td>NaN</td>\n",
       "      <td>NaN</td>\n",
       "      <td>NaN</td>\n",
       "      <td>NaN</td>\n",
       "      <td>NaN</td>\n",
       "    </tr>\n",
       "    <tr>\n",
       "      <th>156</th>\n",
       "      <td>employee_6</td>\n",
       "      <td>NaN</td>\n",
       "      <td>17/12/2025 13:30</td>\n",
       "      <td>17/12/2025 14:55</td>\n",
       "      <td>NaN</td>\n",
       "      <td>NaN</td>\n",
       "      <td>0.004</td>\n",
       "    </tr>\n",
       "    <tr>\n",
       "      <th>157</th>\n",
       "      <td>NaN</td>\n",
       "      <td>NaN</td>\n",
       "      <td>NaN</td>\n",
       "      <td>NaN</td>\n",
       "      <td>NaN</td>\n",
       "      <td>NaN</td>\n",
       "      <td>NaN</td>\n",
       "    </tr>\n",
       "  </tbody>\n",
       "</table>\n",
       "<p>158 rows × 7 columns</p>\n",
       "</div>"
      ],
      "text/plain": [
       "           Name  Unnamed: 1           Time In     Time/Date Out  Unnamed: 4  \\\n",
       "0    employee_1         NaN  21/07/2025 09:57  21/07/2025 15:13         NaN   \n",
       "1    employee_1         NaN  22/07/2025 09:03  22/07/2025 15:10         NaN   \n",
       "2    employee_1         NaN  10/08/2025 09:17  10/08/2025 15:57         NaN   \n",
       "3    employee_1         NaN  11/08/2025 08:58  11/08/2025 15:57         NaN   \n",
       "4    employee_1         NaN  13/08/2025 09:04  13/08/2025 15:11         NaN   \n",
       "..          ...         ...               ...               ...         ...   \n",
       "153  employee_B         NaN  03/08/2025 08:36  03/08/2025 15:02         NaN   \n",
       "154  employee_G         NaN  19/01/2026 21:42  20/01/2026 06:06         NaN   \n",
       "155         NaN         NaN               NaN               NaN         NaN   \n",
       "156  employee_6         NaN  17/12/2025 13:30  17/12/2025 14:55         NaN   \n",
       "157         NaN         NaN               NaN               NaN         NaN   \n",
       "\n",
       "     Unnamed: 5  Whole Body Dose msv  \n",
       "0           NaN                0.008  \n",
       "1           NaN                0.009  \n",
       "2           NaN                0.020  \n",
       "3           NaN                0.012  \n",
       "4           NaN                0.021  \n",
       "..          ...                  ...  \n",
       "153         NaN                0.042  \n",
       "154         NaN                0.004  \n",
       "155         NaN                  NaN  \n",
       "156         NaN                0.004  \n",
       "157         NaN                  NaN  \n",
       "\n",
       "[158 rows x 7 columns]"
      ]
     },
     "execution_count": 4,
     "metadata": {},
     "output_type": "execute_result"
    }
   ],
   "source": [
    "df2"
   ]
  },
  {
   "cell_type": "markdown",
   "id": "86e4b276",
   "metadata": {},
   "source": [
    "# Data preprocessing"
   ]
  },
  {
   "cell_type": "code",
   "execution_count": 5,
   "id": "83a88a2f",
   "metadata": {},
   "outputs": [
    {
     "name": "stdout",
     "output_type": "stream",
     "text": [
      "Column in df1: Name - Empty Values: 1\n",
      "Column in df2: Name - Empty Values: 2\n",
      "Column in df1: Unnamed: 1 - Empty Values: 127\n",
      "Column in df2: Unnamed: 1 - Empty Values: 158\n",
      "Column in df1: Time in - Empty Values: 1\n",
      "Column in df2: Time In - Empty Values: 3\n",
      "Column in df1: Unnamed: 3 - Empty Values: 127\n",
      "Column in df2: Time/Date Out - Empty Values: 3\n",
      "Column in df1: Time/Date\n",
      "Out - Empty Values: 1\n",
      "Column in df2: Unnamed: 4 - Empty Values: 158\n",
      "Column in df1: Unnamed: 5 - Empty Values: 127\n",
      "Column in df2: Unnamed: 5 - Empty Values: 158\n",
      "Column in df1: Whole Body Dose - Empty Values: 0\n",
      "Column in df2: Whole Body Dose msv - Empty Values: 2\n"
     ]
    }
   ],
   "source": [
    "# Iterate over the columns of df1 and df2 together\n",
    "for dt1, dt2 in zip(df1.columns, df2.columns):\n",
    "    # Find empty values in df1 column\n",
    "    empty_values1 = df1[dt1].isnull().sum()\n",
    "    \n",
    "    # Find empty values in df2 column\n",
    "    empty_values2 = df2[dt2].isnull().sum()\n",
    "\n",
    "    # Print the column name and the count of empty values for both dataframes\n",
    "    print(f\"Column in df1: {dt1} - Empty Values: {empty_values1}\")\n",
    "    print(f\"Column in df2: {dt2} - Empty Values: {empty_values2}\")"
   ]
  },
  {
   "cell_type": "markdown",
   "id": "f3225861",
   "metadata": {},
   "source": [
    "## Remove all unwanted columns in data"
   ]
  },
  {
   "cell_type": "code",
   "execution_count": 6,
   "id": "d7d0248d",
   "metadata": {},
   "outputs": [
    {
     "data": {
      "text/html": [
       "<div>\n",
       "<style scoped>\n",
       "    .dataframe tbody tr th:only-of-type {\n",
       "        vertical-align: middle;\n",
       "    }\n",
       "\n",
       "    .dataframe tbody tr th {\n",
       "        vertical-align: top;\n",
       "    }\n",
       "\n",
       "    .dataframe thead th {\n",
       "        text-align: right;\n",
       "    }\n",
       "</style>\n",
       "<table border=\"1\" class=\"dataframe\">\n",
       "  <thead>\n",
       "    <tr style=\"text-align: right;\">\n",
       "      <th></th>\n",
       "      <th>Name</th>\n",
       "      <th>Time in</th>\n",
       "      <th>Time/Date\\nOut</th>\n",
       "      <th>Whole Body Dose</th>\n",
       "    </tr>\n",
       "  </thead>\n",
       "  <tbody>\n",
       "    <tr>\n",
       "      <th>0</th>\n",
       "      <td>employee_26</td>\n",
       "      <td>16/07/2032 22:50</td>\n",
       "      <td>17/07/2032 06:49</td>\n",
       "      <td>0.044</td>\n",
       "    </tr>\n",
       "    <tr>\n",
       "      <th>1</th>\n",
       "      <td>employee_14</td>\n",
       "      <td>16/07/2032 22:52</td>\n",
       "      <td>17/07/2032 06:50</td>\n",
       "      <td>0.038</td>\n",
       "    </tr>\n",
       "    <tr>\n",
       "      <th>2</th>\n",
       "      <td>employee_26</td>\n",
       "      <td>17/07/2032 22:46</td>\n",
       "      <td>18/07/2032 06:47</td>\n",
       "      <td>0.011</td>\n",
       "    </tr>\n",
       "    <tr>\n",
       "      <th>3</th>\n",
       "      <td>employee_9</td>\n",
       "      <td>21/07/2032 23:11</td>\n",
       "      <td>22/07/2032 06:45</td>\n",
       "      <td>0.015</td>\n",
       "    </tr>\n",
       "    <tr>\n",
       "      <th>4</th>\n",
       "      <td>employee_8</td>\n",
       "      <td>21/07/2032 23:12</td>\n",
       "      <td>22/07/2032 06:47</td>\n",
       "      <td>0.008</td>\n",
       "    </tr>\n",
       "    <tr>\n",
       "      <th>...</th>\n",
       "      <td>...</td>\n",
       "      <td>...</td>\n",
       "      <td>...</td>\n",
       "      <td>...</td>\n",
       "    </tr>\n",
       "    <tr>\n",
       "      <th>122</th>\n",
       "      <td>employee_8</td>\n",
       "      <td>17/09/2032 22:59</td>\n",
       "      <td>18/09/2032 06:48</td>\n",
       "      <td>0.011</td>\n",
       "    </tr>\n",
       "    <tr>\n",
       "      <th>123</th>\n",
       "      <td>employee_21</td>\n",
       "      <td>17/09/2032 23:00</td>\n",
       "      <td>18/09/2032 06:47</td>\n",
       "      <td>0.012</td>\n",
       "    </tr>\n",
       "    <tr>\n",
       "      <th>124</th>\n",
       "      <td>employee_17</td>\n",
       "      <td>01/09/2032 23:05</td>\n",
       "      <td>NaN</td>\n",
       "      <td>0.003</td>\n",
       "    </tr>\n",
       "    <tr>\n",
       "      <th>125</th>\n",
       "      <td>employee_15</td>\n",
       "      <td>NaN</td>\n",
       "      <td>16/09/2032 23:26</td>\n",
       "      <td>0.001</td>\n",
       "    </tr>\n",
       "    <tr>\n",
       "      <th>126</th>\n",
       "      <td>NaN</td>\n",
       "      <td>17/09/2032 22:34</td>\n",
       "      <td>18/09/2032 06:50</td>\n",
       "      <td>0.011</td>\n",
       "    </tr>\n",
       "  </tbody>\n",
       "</table>\n",
       "<p>127 rows × 4 columns</p>\n",
       "</div>"
      ],
      "text/plain": [
       "            Name           Time in    Time/Date\\nOut Whole Body Dose\n",
       "0    employee_26  16/07/2032 22:50  17/07/2032 06:49           0.044\n",
       "1    employee_14  16/07/2032 22:52  17/07/2032 06:50           0.038\n",
       "2    employee_26  17/07/2032 22:46  18/07/2032 06:47           0.011\n",
       "3     employee_9  21/07/2032 23:11  22/07/2032 06:45           0.015\n",
       "4     employee_8  21/07/2032 23:12  22/07/2032 06:47           0.008\n",
       "..           ...               ...               ...             ...\n",
       "122   employee_8  17/09/2032 22:59  18/09/2032 06:48           0.011\n",
       "123  employee_21  17/09/2032 23:00  18/09/2032 06:47           0.012\n",
       "124  employee_17  01/09/2032 23:05               NaN           0.003\n",
       "125  employee_15               NaN  16/09/2032 23:26           0.001\n",
       "126          NaN  17/09/2032 22:34  18/09/2032 06:50           0.011\n",
       "\n",
       "[127 rows x 4 columns]"
      ]
     },
     "execution_count": 6,
     "metadata": {},
     "output_type": "execute_result"
    }
   ],
   "source": [
    "# Removing empty columns in df1\n",
    "df1 = df1.dropna(axis=1, how='all')\n",
    "\n",
    "# Removing empty columns in df2\n",
    "df2 = df2.dropna(axis=1, how='all')\n",
    "df1"
   ]
  },
  {
   "cell_type": "markdown",
   "id": "6b144729",
   "metadata": {},
   "source": [
    "## Renaming colums to be the same as each data frame"
   ]
  },
  {
   "cell_type": "code",
   "execution_count": 7,
   "id": "3c71fdd0",
   "metadata": {},
   "outputs": [
    {
     "data": {
      "text/html": [
       "<div>\n",
       "<style scoped>\n",
       "    .dataframe tbody tr th:only-of-type {\n",
       "        vertical-align: middle;\n",
       "    }\n",
       "\n",
       "    .dataframe tbody tr th {\n",
       "        vertical-align: top;\n",
       "    }\n",
       "\n",
       "    .dataframe thead th {\n",
       "        text-align: right;\n",
       "    }\n",
       "</style>\n",
       "<table border=\"1\" class=\"dataframe\">\n",
       "  <thead>\n",
       "    <tr style=\"text-align: right;\">\n",
       "      <th></th>\n",
       "      <th>Name</th>\n",
       "      <th>Time_in</th>\n",
       "      <th>Time_out</th>\n",
       "      <th>Whole_Body_Dose</th>\n",
       "    </tr>\n",
       "  </thead>\n",
       "  <tbody>\n",
       "    <tr>\n",
       "      <th>0</th>\n",
       "      <td>employee_1</td>\n",
       "      <td>21/07/2025 09:57</td>\n",
       "      <td>21/07/2025 15:13</td>\n",
       "      <td>0.008</td>\n",
       "    </tr>\n",
       "    <tr>\n",
       "      <th>1</th>\n",
       "      <td>employee_1</td>\n",
       "      <td>22/07/2025 09:03</td>\n",
       "      <td>22/07/2025 15:10</td>\n",
       "      <td>0.009</td>\n",
       "    </tr>\n",
       "    <tr>\n",
       "      <th>2</th>\n",
       "      <td>employee_1</td>\n",
       "      <td>10/08/2025 09:17</td>\n",
       "      <td>10/08/2025 15:57</td>\n",
       "      <td>0.020</td>\n",
       "    </tr>\n",
       "    <tr>\n",
       "      <th>3</th>\n",
       "      <td>employee_1</td>\n",
       "      <td>11/08/2025 08:58</td>\n",
       "      <td>11/08/2025 15:57</td>\n",
       "      <td>0.012</td>\n",
       "    </tr>\n",
       "    <tr>\n",
       "      <th>4</th>\n",
       "      <td>employee_1</td>\n",
       "      <td>13/08/2025 09:04</td>\n",
       "      <td>13/08/2025 15:11</td>\n",
       "      <td>0.021</td>\n",
       "    </tr>\n",
       "    <tr>\n",
       "      <th>...</th>\n",
       "      <td>...</td>\n",
       "      <td>...</td>\n",
       "      <td>...</td>\n",
       "      <td>...</td>\n",
       "    </tr>\n",
       "    <tr>\n",
       "      <th>153</th>\n",
       "      <td>employee_B</td>\n",
       "      <td>03/08/2025 08:36</td>\n",
       "      <td>03/08/2025 15:02</td>\n",
       "      <td>0.042</td>\n",
       "    </tr>\n",
       "    <tr>\n",
       "      <th>154</th>\n",
       "      <td>employee_G</td>\n",
       "      <td>19/01/2026 21:42</td>\n",
       "      <td>20/01/2026 06:06</td>\n",
       "      <td>0.004</td>\n",
       "    </tr>\n",
       "    <tr>\n",
       "      <th>155</th>\n",
       "      <td>NaN</td>\n",
       "      <td>NaN</td>\n",
       "      <td>NaN</td>\n",
       "      <td>NaN</td>\n",
       "    </tr>\n",
       "    <tr>\n",
       "      <th>156</th>\n",
       "      <td>employee_6</td>\n",
       "      <td>17/12/2025 13:30</td>\n",
       "      <td>17/12/2025 14:55</td>\n",
       "      <td>0.004</td>\n",
       "    </tr>\n",
       "    <tr>\n",
       "      <th>157</th>\n",
       "      <td>NaN</td>\n",
       "      <td>NaN</td>\n",
       "      <td>NaN</td>\n",
       "      <td>NaN</td>\n",
       "    </tr>\n",
       "  </tbody>\n",
       "</table>\n",
       "<p>158 rows × 4 columns</p>\n",
       "</div>"
      ],
      "text/plain": [
       "           Name           Time_in          Time_out  Whole_Body_Dose\n",
       "0    employee_1  21/07/2025 09:57  21/07/2025 15:13            0.008\n",
       "1    employee_1  22/07/2025 09:03  22/07/2025 15:10            0.009\n",
       "2    employee_1  10/08/2025 09:17  10/08/2025 15:57            0.020\n",
       "3    employee_1  11/08/2025 08:58  11/08/2025 15:57            0.012\n",
       "4    employee_1  13/08/2025 09:04  13/08/2025 15:11            0.021\n",
       "..          ...               ...               ...              ...\n",
       "153  employee_B  03/08/2025 08:36  03/08/2025 15:02            0.042\n",
       "154  employee_G  19/01/2026 21:42  20/01/2026 06:06            0.004\n",
       "155         NaN               NaN               NaN              NaN\n",
       "156  employee_6  17/12/2025 13:30  17/12/2025 14:55            0.004\n",
       "157         NaN               NaN               NaN              NaN\n",
       "\n",
       "[158 rows x 4 columns]"
      ]
     },
     "execution_count": 7,
     "metadata": {},
     "output_type": "execute_result"
    }
   ],
   "source": [
    "# Optimized renaming of columns in df1\n",
    "df1.rename(columns={'Time in': 'Time_in', 'Time/Date\\nOut': 'Time_out', 'Whole Body Dose': 'Whole_Body_Dose'}, inplace=True)\n",
    "\n",
    "# Optimized renaming of columns in df2\n",
    "df2.rename(columns={'Time/Date Out': 'Time_out', 'Whole Body Dose msv': 'Whole_Body_Dose', 'Time In': 'Time_in'}, inplace=True)\n",
    "df2"
   ]
  },
  {
   "cell_type": "markdown",
   "id": "4fa2f984",
   "metadata": {},
   "source": [
    "## Remove rows with empty cells"
   ]
  },
  {
   "cell_type": "code",
   "execution_count": 8,
   "id": "c26a3c12",
   "metadata": {},
   "outputs": [],
   "source": [
    "# Removing rows with empty cells in df1\n",
    "df1.dropna(inplace=True)\n",
    "\n",
    "# Removing rows with empty cells in df2\n",
    "df2.dropna(inplace=True)"
   ]
  },
  {
   "cell_type": "code",
   "execution_count": 9,
   "id": "d86e9c48",
   "metadata": {},
   "outputs": [
    {
     "name": "stdout",
     "output_type": "stream",
     "text": [
      "Column: Name - Empty Values: 0\n",
      "Column: Time_in - Empty Values: 0\n",
      "Column: Time_out - Empty Values: 0\n",
      "Column: Whole_Body_Dose - Empty Values: 0\n",
      " \n",
      "Column: Name - Empty Values: 0\n",
      "Column: Time_in - Empty Values: 0\n",
      "Column: Time_out - Empty Values: 0\n",
      "Column: Whole_Body_Dose - Empty Values: 0\n"
     ]
    }
   ],
   "source": [
    "# Iterate over the columns\n",
    "\n",
    "for dt in df1.columns:\n",
    "    # Find empty values in the column\n",
    "    empty_values = df1[dt].isnull().sum()\n",
    "\n",
    "    # Print the column name and the count of empty values\n",
    "    print(f\"Column: {dt} - Empty Values: {empty_values}\")\n",
    "\n",
    "print(' ')\n",
    "for dt in df2.columns:\n",
    "    # Find empty values in the column\n",
    "    empty_values = df2[dt].isnull().sum()\n",
    "\n",
    "    # Print the column name and the count of empty values\n",
    "    print(f\"Column: {dt} - Empty Values: {empty_values}\")"
   ]
  },
  {
   "cell_type": "markdown",
   "id": "8bef608b",
   "metadata": {},
   "source": [
    "## Check for wrong data"
   ]
  },
  {
   "cell_type": "code",
   "execution_count": 10,
   "id": "3ac2f0f4",
   "metadata": {},
   "outputs": [
    {
     "name": "stdout",
     "output_type": "stream",
     "text": [
      "Rows with strings in df1:\n",
      "            Name           Time_in          Time_out Whole_Body_Dose\n",
      "118  employee_10  16/09/2032 22:35  16/09/2032 23:26               O\n",
      "\n",
      "Rows with strings in df2:\n",
      "Empty DataFrame\n",
      "Columns: [Name, Time_in, Time_out, Whole_Body_Dose]\n",
      "Index: []\n"
     ]
    }
   ],
   "source": [
    "#check for wrong data types in column whole body dose\n",
    "\n",
    "# Identify rows with strings in 'whole body dose' of df1\n",
    "df1_strings = df1[pd.to_numeric(df1['Whole_Body_Dose'], errors='coerce').isna()]\n",
    "\n",
    "#Identify rows with strings in 'whole body dose' of df2\n",
    "df2_strings = df2[pd.to_numeric(df2['Whole_Body_Dose'], errors='coerce').isna()]\n",
    "\n",
    "# Inspect the rows with strings in 'col1'\n",
    "print(\"Rows with strings in df1:\")\n",
    "print(df1_strings)\n",
    "\n",
    "print(\"\\nRows with strings in df2:\")\n",
    "print(df2_strings)\n"
   ]
  },
  {
   "cell_type": "code",
   "execution_count": 11,
   "id": "6feb531f",
   "metadata": {},
   "outputs": [
    {
     "data": {
      "text/html": [
       "<div>\n",
       "<style scoped>\n",
       "    .dataframe tbody tr th:only-of-type {\n",
       "        vertical-align: middle;\n",
       "    }\n",
       "\n",
       "    .dataframe tbody tr th {\n",
       "        vertical-align: top;\n",
       "    }\n",
       "\n",
       "    .dataframe thead th {\n",
       "        text-align: right;\n",
       "    }\n",
       "</style>\n",
       "<table border=\"1\" class=\"dataframe\">\n",
       "  <thead>\n",
       "    <tr style=\"text-align: right;\">\n",
       "      <th></th>\n",
       "      <th>Name</th>\n",
       "      <th>Time_in</th>\n",
       "      <th>Time_out</th>\n",
       "      <th>Whole_Body_Dose</th>\n",
       "    </tr>\n",
       "  </thead>\n",
       "  <tbody>\n",
       "    <tr>\n",
       "      <th>0</th>\n",
       "      <td>employee_26</td>\n",
       "      <td>16/07/2032 22:50</td>\n",
       "      <td>17/07/2032 06:49</td>\n",
       "      <td>0.044</td>\n",
       "    </tr>\n",
       "    <tr>\n",
       "      <th>1</th>\n",
       "      <td>employee_14</td>\n",
       "      <td>16/07/2032 22:52</td>\n",
       "      <td>17/07/2032 06:50</td>\n",
       "      <td>0.038</td>\n",
       "    </tr>\n",
       "    <tr>\n",
       "      <th>2</th>\n",
       "      <td>employee_26</td>\n",
       "      <td>17/07/2032 22:46</td>\n",
       "      <td>18/07/2032 06:47</td>\n",
       "      <td>0.011</td>\n",
       "    </tr>\n",
       "    <tr>\n",
       "      <th>3</th>\n",
       "      <td>employee_9</td>\n",
       "      <td>21/07/2032 23:11</td>\n",
       "      <td>22/07/2032 06:45</td>\n",
       "      <td>0.015</td>\n",
       "    </tr>\n",
       "    <tr>\n",
       "      <th>4</th>\n",
       "      <td>employee_8</td>\n",
       "      <td>21/07/2032 23:12</td>\n",
       "      <td>22/07/2032 06:47</td>\n",
       "      <td>0.008</td>\n",
       "    </tr>\n",
       "    <tr>\n",
       "      <th>...</th>\n",
       "      <td>...</td>\n",
       "      <td>...</td>\n",
       "      <td>...</td>\n",
       "      <td>...</td>\n",
       "    </tr>\n",
       "    <tr>\n",
       "      <th>119</th>\n",
       "      <td>employee_12</td>\n",
       "      <td>17/09/2032 22:34</td>\n",
       "      <td>18/09/2032 06:50</td>\n",
       "      <td>0.011</td>\n",
       "    </tr>\n",
       "    <tr>\n",
       "      <th>120</th>\n",
       "      <td>employee_10</td>\n",
       "      <td>17/09/2032 22:35</td>\n",
       "      <td>18/09/2032 06:47</td>\n",
       "      <td>0.008</td>\n",
       "    </tr>\n",
       "    <tr>\n",
       "      <th>121</th>\n",
       "      <td>employee_15</td>\n",
       "      <td>17/09/2032 22:35</td>\n",
       "      <td>18/09/2032 06:48</td>\n",
       "      <td>0.025</td>\n",
       "    </tr>\n",
       "    <tr>\n",
       "      <th>122</th>\n",
       "      <td>employee_8</td>\n",
       "      <td>17/09/2032 22:59</td>\n",
       "      <td>18/09/2032 06:48</td>\n",
       "      <td>0.011</td>\n",
       "    </tr>\n",
       "    <tr>\n",
       "      <th>123</th>\n",
       "      <td>employee_21</td>\n",
       "      <td>17/09/2032 23:00</td>\n",
       "      <td>18/09/2032 06:47</td>\n",
       "      <td>0.012</td>\n",
       "    </tr>\n",
       "  </tbody>\n",
       "</table>\n",
       "<p>124 rows × 4 columns</p>\n",
       "</div>"
      ],
      "text/plain": [
       "            Name           Time_in          Time_out  Whole_Body_Dose\n",
       "0    employee_26  16/07/2032 22:50  17/07/2032 06:49            0.044\n",
       "1    employee_14  16/07/2032 22:52  17/07/2032 06:50            0.038\n",
       "2    employee_26  17/07/2032 22:46  18/07/2032 06:47            0.011\n",
       "3     employee_9  21/07/2032 23:11  22/07/2032 06:45            0.015\n",
       "4     employee_8  21/07/2032 23:12  22/07/2032 06:47            0.008\n",
       "..           ...               ...               ...              ...\n",
       "119  employee_12  17/09/2032 22:34  18/09/2032 06:50            0.011\n",
       "120  employee_10  17/09/2032 22:35  18/09/2032 06:47            0.008\n",
       "121  employee_15  17/09/2032 22:35  18/09/2032 06:48            0.025\n",
       "122   employee_8  17/09/2032 22:59  18/09/2032 06:48            0.011\n",
       "123  employee_21  17/09/2032 23:00  18/09/2032 06:47            0.012\n",
       "\n",
       "[124 rows x 4 columns]"
      ]
     },
     "execution_count": 11,
     "metadata": {},
     "output_type": "execute_result"
    }
   ],
   "source": [
    "# Replace 'O' with '0' in Whole_Body_Dose of df1\n",
    "df1['Whole_Body_Dose'] = df1['Whole_Body_Dose'].str.replace('O', '0')\n",
    "df1['Whole_Body_Dose'] = df1['Whole_Body_Dose'].astype(float)\n",
    "df1"
   ]
  },
  {
   "cell_type": "code",
   "execution_count": 12,
   "id": "ed71b5ef",
   "metadata": {},
   "outputs": [
    {
     "name": "stdout",
     "output_type": "stream",
     "text": [
      "Rows with wrong data in the current data frame:\n",
      "Empty DataFrame\n",
      "Columns: [Name, Time_in, Time_out, Whole_Body_Dose]\n",
      "Index: []\n",
      "\n",
      "Rows with wrong data in the current data frame:\n",
      "Empty DataFrame\n",
      "Columns: [Name, Time_in, Time_out, Whole_Body_Dose]\n",
      "Index: []\n",
      "\n"
     ]
    }
   ],
   "source": [
    "#check for wrong data types in columns time in and time out\n",
    "\n",
    "data_frames = [df1, df2]  # List of data frames\n",
    "\n",
    "for i, df in enumerate(data_frames):\n",
    "\n",
    "    # Identify rows with wrong data (strings)\n",
    "    df_wrg = df[df['Time_in'].isna() | df['Time_out'].isna()]\n",
    "\n",
    "    # Remove rows with wrong data\n",
    "    df_clean = df.dropna(subset=['Time_in', 'Time_out'])\n",
    "\n",
    "    # Reset the index of the cleaned data frame\n",
    "    df_clean = df_clean.reset_index(drop=True)\n",
    "\n",
    "    # Inspect the rows with wrong data\n",
    "    print(\"Rows with wrong data in the current data frame:\")\n",
    "    print(df_wrg)\n",
    "    print()\n",
    "\n",
    "    # Update df1 or df2 with the cleaned data frame\n",
    "    data_frames[i] = df_clean\n",
    "\n",
    "# Updated df1 and df2 with cleaned data\n",
    "df1 = data_frames[0]\n",
    "df2 = data_frames[1]\n"
   ]
  },
  {
   "cell_type": "code",
   "execution_count": 13,
   "id": "695990a7",
   "metadata": {
    "scrolled": false
   },
   "outputs": [
    {
     "data": {
      "text/html": [
       "<div>\n",
       "<style scoped>\n",
       "    .dataframe tbody tr th:only-of-type {\n",
       "        vertical-align: middle;\n",
       "    }\n",
       "\n",
       "    .dataframe tbody tr th {\n",
       "        vertical-align: top;\n",
       "    }\n",
       "\n",
       "    .dataframe thead th {\n",
       "        text-align: right;\n",
       "    }\n",
       "</style>\n",
       "<table border=\"1\" class=\"dataframe\">\n",
       "  <thead>\n",
       "    <tr style=\"text-align: right;\">\n",
       "      <th></th>\n",
       "      <th>Name</th>\n",
       "      <th>Time_in</th>\n",
       "      <th>Time_out</th>\n",
       "      <th>Whole_Body_Dose</th>\n",
       "    </tr>\n",
       "  </thead>\n",
       "  <tbody>\n",
       "    <tr>\n",
       "      <th>0</th>\n",
       "      <td>employee_1</td>\n",
       "      <td>2025-07-21 09:57:00</td>\n",
       "      <td>2025-07-21 15:13:00</td>\n",
       "      <td>0.008</td>\n",
       "    </tr>\n",
       "    <tr>\n",
       "      <th>1</th>\n",
       "      <td>employee_1</td>\n",
       "      <td>2025-07-22 09:03:00</td>\n",
       "      <td>2025-07-22 15:10:00</td>\n",
       "      <td>0.009</td>\n",
       "    </tr>\n",
       "    <tr>\n",
       "      <th>2</th>\n",
       "      <td>employee_1</td>\n",
       "      <td>2025-08-10 09:17:00</td>\n",
       "      <td>2025-08-10 15:57:00</td>\n",
       "      <td>0.020</td>\n",
       "    </tr>\n",
       "    <tr>\n",
       "      <th>3</th>\n",
       "      <td>employee_1</td>\n",
       "      <td>2025-08-11 08:58:00</td>\n",
       "      <td>2025-08-11 15:57:00</td>\n",
       "      <td>0.012</td>\n",
       "    </tr>\n",
       "    <tr>\n",
       "      <th>4</th>\n",
       "      <td>employee_1</td>\n",
       "      <td>2025-08-13 09:04:00</td>\n",
       "      <td>2025-08-13 15:11:00</td>\n",
       "      <td>0.021</td>\n",
       "    </tr>\n",
       "    <tr>\n",
       "      <th>5</th>\n",
       "      <td>employee_1</td>\n",
       "      <td>2025-08-31 22:09:00</td>\n",
       "      <td>2025-08-31 22:11:00</td>\n",
       "      <td>0.000</td>\n",
       "    </tr>\n",
       "    <tr>\n",
       "      <th>6</th>\n",
       "      <td>employee_1</td>\n",
       "      <td>2025-08-31 22:11:00</td>\n",
       "      <td>2025-09-01 05:37:00</td>\n",
       "      <td>0.040</td>\n",
       "    </tr>\n",
       "    <tr>\n",
       "      <th>7</th>\n",
       "      <td>employee_1</td>\n",
       "      <td>2025-09-01 22:47:00</td>\n",
       "      <td>2025-09-02 05:55:00</td>\n",
       "      <td>0.032</td>\n",
       "    </tr>\n",
       "    <tr>\n",
       "      <th>8</th>\n",
       "      <td>employee_1</td>\n",
       "      <td>2025-09-02 22:15:00</td>\n",
       "      <td>2025-09-03 06:09:00</td>\n",
       "      <td>0.035</td>\n",
       "    </tr>\n",
       "    <tr>\n",
       "      <th>9</th>\n",
       "      <td>employee_1</td>\n",
       "      <td>2025-09-03 22:37:00</td>\n",
       "      <td>2025-09-04 05:51:00</td>\n",
       "      <td>0.031</td>\n",
       "    </tr>\n",
       "    <tr>\n",
       "      <th>10</th>\n",
       "      <td>employee_1</td>\n",
       "      <td>2025-09-07 09:23:00</td>\n",
       "      <td>2025-09-07 15:24:00</td>\n",
       "      <td>0.025</td>\n",
       "    </tr>\n",
       "    <tr>\n",
       "      <th>11</th>\n",
       "      <td>employee_1</td>\n",
       "      <td>2025-09-17 08:29:00</td>\n",
       "      <td>2025-09-17 15:00:00</td>\n",
       "      <td>0.002</td>\n",
       "    </tr>\n",
       "    <tr>\n",
       "      <th>12</th>\n",
       "      <td>employee_1</td>\n",
       "      <td>2025-10-28 10:49:00</td>\n",
       "      <td>2025-10-28 16:15:00</td>\n",
       "      <td>0.020</td>\n",
       "    </tr>\n",
       "    <tr>\n",
       "      <th>13</th>\n",
       "      <td>employee_1</td>\n",
       "      <td>2025-11-18 21:52:00</td>\n",
       "      <td>2025-11-19 05:43:00</td>\n",
       "      <td>0.019</td>\n",
       "    </tr>\n",
       "    <tr>\n",
       "      <th>14</th>\n",
       "      <td>employee_1</td>\n",
       "      <td>2025-11-24 08:15:00</td>\n",
       "      <td>2025-11-24 15:45:00</td>\n",
       "      <td>0.003</td>\n",
       "    </tr>\n",
       "    <tr>\n",
       "      <th>15</th>\n",
       "      <td>employee_1</td>\n",
       "      <td>2025-12-17 13:36:00</td>\n",
       "      <td>2025-12-17 14:59:00</td>\n",
       "      <td>0.002</td>\n",
       "    </tr>\n",
       "    <tr>\n",
       "      <th>16</th>\n",
       "      <td>employee_11</td>\n",
       "      <td>2025-09-17 13:25:00</td>\n",
       "      <td>2025-09-17 15:17:00</td>\n",
       "      <td>0.001</td>\n",
       "    </tr>\n",
       "    <tr>\n",
       "      <th>17</th>\n",
       "      <td>employee_11</td>\n",
       "      <td>2025-11-01 21:45:00</td>\n",
       "      <td>2025-11-02 07:31:00</td>\n",
       "      <td>0.009</td>\n",
       "    </tr>\n",
       "    <tr>\n",
       "      <th>18</th>\n",
       "      <td>employee_11</td>\n",
       "      <td>2025-11-03 13:17:00</td>\n",
       "      <td>2025-11-03 14:46:00</td>\n",
       "      <td>0.013</td>\n",
       "    </tr>\n",
       "    <tr>\n",
       "      <th>19</th>\n",
       "      <td>employee_11</td>\n",
       "      <td>2025-11-23 22:01:00</td>\n",
       "      <td>2025-11-24 05:12:00</td>\n",
       "      <td>0.019</td>\n",
       "    </tr>\n",
       "    <tr>\n",
       "      <th>20</th>\n",
       "      <td>employee_11</td>\n",
       "      <td>2025-11-25 21:52:00</td>\n",
       "      <td>2025-11-26 05:26:00</td>\n",
       "      <td>0.021</td>\n",
       "    </tr>\n",
       "    <tr>\n",
       "      <th>21</th>\n",
       "      <td>employee_11</td>\n",
       "      <td>2025-12-17 08:48:00</td>\n",
       "      <td>2025-12-17 14:21:00</td>\n",
       "      <td>0.009</td>\n",
       "    </tr>\n",
       "    <tr>\n",
       "      <th>22</th>\n",
       "      <td>employee_11</td>\n",
       "      <td>2026-01-19 21:59:00</td>\n",
       "      <td>2026-01-20 06:00:00</td>\n",
       "      <td>0.010</td>\n",
       "    </tr>\n",
       "    <tr>\n",
       "      <th>23</th>\n",
       "      <td>employee_13</td>\n",
       "      <td>2025-08-12 13:25:00</td>\n",
       "      <td>2025-08-12 15:20:00</td>\n",
       "      <td>0.017</td>\n",
       "    </tr>\n",
       "    <tr>\n",
       "      <th>24</th>\n",
       "      <td>employee_13</td>\n",
       "      <td>2025-11-03 08:24:00</td>\n",
       "      <td>2025-11-03 15:25:00</td>\n",
       "      <td>0.018</td>\n",
       "    </tr>\n",
       "    <tr>\n",
       "      <th>25</th>\n",
       "      <td>employee_14</td>\n",
       "      <td>2025-11-24 21:44:00</td>\n",
       "      <td>2025-11-25 05:32:00</td>\n",
       "      <td>0.011</td>\n",
       "    </tr>\n",
       "    <tr>\n",
       "      <th>26</th>\n",
       "      <td>employee_15</td>\n",
       "      <td>2025-09-07 22:08:00</td>\n",
       "      <td>2025-09-08 05:21:00</td>\n",
       "      <td>0.030</td>\n",
       "    </tr>\n",
       "    <tr>\n",
       "      <th>27</th>\n",
       "      <td>employee_15</td>\n",
       "      <td>2025-09-17 13:24:00</td>\n",
       "      <td>2025-09-17 15:16:00</td>\n",
       "      <td>0.001</td>\n",
       "    </tr>\n",
       "    <tr>\n",
       "      <th>28</th>\n",
       "      <td>employee_15</td>\n",
       "      <td>2025-11-24 21:43:00</td>\n",
       "      <td>2025-11-25 05:33:00</td>\n",
       "      <td>0.027</td>\n",
       "    </tr>\n",
       "    <tr>\n",
       "      <th>29</th>\n",
       "      <td>employee_16</td>\n",
       "      <td>2025-08-31 21:44:00</td>\n",
       "      <td>2025-09-01 05:36:00</td>\n",
       "      <td>0.028</td>\n",
       "    </tr>\n",
       "    <tr>\n",
       "      <th>30</th>\n",
       "      <td>employee_16</td>\n",
       "      <td>2025-09-01 22:40:00</td>\n",
       "      <td>2025-09-02 06:03:00</td>\n",
       "      <td>0.024</td>\n",
       "    </tr>\n",
       "    <tr>\n",
       "      <th>31</th>\n",
       "      <td>employee_16</td>\n",
       "      <td>2025-09-02 22:13:00</td>\n",
       "      <td>2025-09-03 06:09:00</td>\n",
       "      <td>0.027</td>\n",
       "    </tr>\n",
       "    <tr>\n",
       "      <th>32</th>\n",
       "      <td>employee_16</td>\n",
       "      <td>2025-09-03 22:33:00</td>\n",
       "      <td>2025-09-04 05:51:00</td>\n",
       "      <td>0.033</td>\n",
       "    </tr>\n",
       "    <tr>\n",
       "      <th>33</th>\n",
       "      <td>employee_16</td>\n",
       "      <td>2025-10-05 22:25:00</td>\n",
       "      <td>2025-10-06 05:59:00</td>\n",
       "      <td>0.020</td>\n",
       "    </tr>\n",
       "    <tr>\n",
       "      <th>34</th>\n",
       "      <td>employee_16</td>\n",
       "      <td>2025-10-06 21:48:00</td>\n",
       "      <td>2025-10-07 05:44:00</td>\n",
       "      <td>0.007</td>\n",
       "    </tr>\n",
       "    <tr>\n",
       "      <th>35</th>\n",
       "      <td>employee_16</td>\n",
       "      <td>2025-10-28 21:41:00</td>\n",
       "      <td>2025-10-29 05:43:00</td>\n",
       "      <td>0.018</td>\n",
       "    </tr>\n",
       "    <tr>\n",
       "      <th>36</th>\n",
       "      <td>employee_16</td>\n",
       "      <td>2025-10-28 21:41:00</td>\n",
       "      <td>2025-10-29 05:43:00</td>\n",
       "      <td>0.018</td>\n",
       "    </tr>\n",
       "    <tr>\n",
       "      <th>37</th>\n",
       "      <td>employee_16</td>\n",
       "      <td>2025-11-23 22:07:00</td>\n",
       "      <td>2025-11-24 05:27:00</td>\n",
       "      <td>0.008</td>\n",
       "    </tr>\n",
       "    <tr>\n",
       "      <th>38</th>\n",
       "      <td>employee_16</td>\n",
       "      <td>2025-11-24 21:42:00</td>\n",
       "      <td>2025-11-25 05:32:00</td>\n",
       "      <td>0.027</td>\n",
       "    </tr>\n",
       "    <tr>\n",
       "      <th>39</th>\n",
       "      <td>employee_16</td>\n",
       "      <td>2025-11-25 21:54:00</td>\n",
       "      <td>2025-11-26 05:20:00</td>\n",
       "      <td>0.018</td>\n",
       "    </tr>\n",
       "    <tr>\n",
       "      <th>40</th>\n",
       "      <td>employee_16</td>\n",
       "      <td>2025-11-26 22:33:00</td>\n",
       "      <td>2025-11-27 05:16:00</td>\n",
       "      <td>0.019</td>\n",
       "    </tr>\n",
       "    <tr>\n",
       "      <th>41</th>\n",
       "      <td>employee_16</td>\n",
       "      <td>2025-12-17 08:29:00</td>\n",
       "      <td>2025-12-17 14:57:00</td>\n",
       "      <td>0.005</td>\n",
       "    </tr>\n",
       "    <tr>\n",
       "      <th>42</th>\n",
       "      <td>employee_17</td>\n",
       "      <td>2025-11-17 21:47:00</td>\n",
       "      <td>2025-11-17 22:55:00</td>\n",
       "      <td>0.005</td>\n",
       "    </tr>\n",
       "    <tr>\n",
       "      <th>43</th>\n",
       "      <td>employee_18</td>\n",
       "      <td>2025-08-24 10:09:00</td>\n",
       "      <td>2025-08-24 15:05:00</td>\n",
       "      <td>0.023</td>\n",
       "    </tr>\n",
       "    <tr>\n",
       "      <th>44</th>\n",
       "      <td>employee_18</td>\n",
       "      <td>2025-08-25 10:20:00</td>\n",
       "      <td>2025-08-25 15:09:00</td>\n",
       "      <td>0.020</td>\n",
       "    </tr>\n",
       "    <tr>\n",
       "      <th>45</th>\n",
       "      <td>employee_18</td>\n",
       "      <td>2025-08-26 09:39:00</td>\n",
       "      <td>2025-08-26 15:35:00</td>\n",
       "      <td>0.016</td>\n",
       "    </tr>\n",
       "    <tr>\n",
       "      <th>46</th>\n",
       "      <td>employee_18</td>\n",
       "      <td>2025-08-27 09:32:00</td>\n",
       "      <td>2025-08-27 13:52:00</td>\n",
       "      <td>0.010</td>\n",
       "    </tr>\n",
       "    <tr>\n",
       "      <th>47</th>\n",
       "      <td>employee_18</td>\n",
       "      <td>2025-09-01 08:40:00</td>\n",
       "      <td>2025-09-01 13:43:00</td>\n",
       "      <td>0.031</td>\n",
       "    </tr>\n",
       "    <tr>\n",
       "      <th>48</th>\n",
       "      <td>employee_18</td>\n",
       "      <td>2025-09-02 08:43:00</td>\n",
       "      <td>2025-09-02 15:13:00</td>\n",
       "      <td>0.045</td>\n",
       "    </tr>\n",
       "    <tr>\n",
       "      <th>49</th>\n",
       "      <td>employee_18</td>\n",
       "      <td>2025-09-03 08:40:00</td>\n",
       "      <td>2025-09-03 11:04:00</td>\n",
       "      <td>0.027</td>\n",
       "    </tr>\n",
       "  </tbody>\n",
       "</table>\n",
       "</div>"
      ],
      "text/plain": [
       "           Name             Time_in            Time_out  Whole_Body_Dose\n",
       "0    employee_1 2025-07-21 09:57:00 2025-07-21 15:13:00            0.008\n",
       "1    employee_1 2025-07-22 09:03:00 2025-07-22 15:10:00            0.009\n",
       "2    employee_1 2025-08-10 09:17:00 2025-08-10 15:57:00            0.020\n",
       "3    employee_1 2025-08-11 08:58:00 2025-08-11 15:57:00            0.012\n",
       "4    employee_1 2025-08-13 09:04:00 2025-08-13 15:11:00            0.021\n",
       "5    employee_1 2025-08-31 22:09:00 2025-08-31 22:11:00            0.000\n",
       "6    employee_1 2025-08-31 22:11:00 2025-09-01 05:37:00            0.040\n",
       "7    employee_1 2025-09-01 22:47:00 2025-09-02 05:55:00            0.032\n",
       "8    employee_1 2025-09-02 22:15:00 2025-09-03 06:09:00            0.035\n",
       "9    employee_1 2025-09-03 22:37:00 2025-09-04 05:51:00            0.031\n",
       "10   employee_1 2025-09-07 09:23:00 2025-09-07 15:24:00            0.025\n",
       "11   employee_1 2025-09-17 08:29:00 2025-09-17 15:00:00            0.002\n",
       "12   employee_1 2025-10-28 10:49:00 2025-10-28 16:15:00            0.020\n",
       "13   employee_1 2025-11-18 21:52:00 2025-11-19 05:43:00            0.019\n",
       "14   employee_1 2025-11-24 08:15:00 2025-11-24 15:45:00            0.003\n",
       "15   employee_1 2025-12-17 13:36:00 2025-12-17 14:59:00            0.002\n",
       "16  employee_11 2025-09-17 13:25:00 2025-09-17 15:17:00            0.001\n",
       "17  employee_11 2025-11-01 21:45:00 2025-11-02 07:31:00            0.009\n",
       "18  employee_11 2025-11-03 13:17:00 2025-11-03 14:46:00            0.013\n",
       "19  employee_11 2025-11-23 22:01:00 2025-11-24 05:12:00            0.019\n",
       "20  employee_11 2025-11-25 21:52:00 2025-11-26 05:26:00            0.021\n",
       "21  employee_11 2025-12-17 08:48:00 2025-12-17 14:21:00            0.009\n",
       "22  employee_11 2026-01-19 21:59:00 2026-01-20 06:00:00            0.010\n",
       "23  employee_13 2025-08-12 13:25:00 2025-08-12 15:20:00            0.017\n",
       "24  employee_13 2025-11-03 08:24:00 2025-11-03 15:25:00            0.018\n",
       "25  employee_14 2025-11-24 21:44:00 2025-11-25 05:32:00            0.011\n",
       "26  employee_15 2025-09-07 22:08:00 2025-09-08 05:21:00            0.030\n",
       "27  employee_15 2025-09-17 13:24:00 2025-09-17 15:16:00            0.001\n",
       "28  employee_15 2025-11-24 21:43:00 2025-11-25 05:33:00            0.027\n",
       "29  employee_16 2025-08-31 21:44:00 2025-09-01 05:36:00            0.028\n",
       "30  employee_16 2025-09-01 22:40:00 2025-09-02 06:03:00            0.024\n",
       "31  employee_16 2025-09-02 22:13:00 2025-09-03 06:09:00            0.027\n",
       "32  employee_16 2025-09-03 22:33:00 2025-09-04 05:51:00            0.033\n",
       "33  employee_16 2025-10-05 22:25:00 2025-10-06 05:59:00            0.020\n",
       "34  employee_16 2025-10-06 21:48:00 2025-10-07 05:44:00            0.007\n",
       "35  employee_16 2025-10-28 21:41:00 2025-10-29 05:43:00            0.018\n",
       "36  employee_16 2025-10-28 21:41:00 2025-10-29 05:43:00            0.018\n",
       "37  employee_16 2025-11-23 22:07:00 2025-11-24 05:27:00            0.008\n",
       "38  employee_16 2025-11-24 21:42:00 2025-11-25 05:32:00            0.027\n",
       "39  employee_16 2025-11-25 21:54:00 2025-11-26 05:20:00            0.018\n",
       "40  employee_16 2025-11-26 22:33:00 2025-11-27 05:16:00            0.019\n",
       "41  employee_16 2025-12-17 08:29:00 2025-12-17 14:57:00            0.005\n",
       "42  employee_17 2025-11-17 21:47:00 2025-11-17 22:55:00            0.005\n",
       "43  employee_18 2025-08-24 10:09:00 2025-08-24 15:05:00            0.023\n",
       "44  employee_18 2025-08-25 10:20:00 2025-08-25 15:09:00            0.020\n",
       "45  employee_18 2025-08-26 09:39:00 2025-08-26 15:35:00            0.016\n",
       "46  employee_18 2025-08-27 09:32:00 2025-08-27 13:52:00            0.010\n",
       "47  employee_18 2025-09-01 08:40:00 2025-09-01 13:43:00            0.031\n",
       "48  employee_18 2025-09-02 08:43:00 2025-09-02 15:13:00            0.045\n",
       "49  employee_18 2025-09-03 08:40:00 2025-09-03 11:04:00            0.027"
      ]
     },
     "execution_count": 13,
     "metadata": {},
     "output_type": "execute_result"
    }
   ],
   "source": [
    "for df in data_frames:\n",
    "    df['Time_in'] = pd.to_datetime(df['Time_in'], format='%d/%m/%Y %H:%M')\n",
    "    df['Time_out'] = pd.to_datetime(df['Time_out'], format='%d/%m/%Y %H:%M')\n",
    "df2.head(50)"
   ]
  },
  {
   "cell_type": "code",
   "execution_count": 14,
   "id": "4b0c4e7c",
   "metadata": {},
   "outputs": [
    {
     "name": "stdout",
     "output_type": "stream",
     "text": [
      "<class 'pandas.core.frame.DataFrame'>\n",
      "RangeIndex: 124 entries, 0 to 123\n",
      "Data columns (total 4 columns):\n",
      " #   Column           Non-Null Count  Dtype         \n",
      "---  ------           --------------  -----         \n",
      " 0   Name             124 non-null    object        \n",
      " 1   Time_in          124 non-null    datetime64[ns]\n",
      " 2   Time_out         124 non-null    datetime64[ns]\n",
      " 3   Whole_Body_Dose  124 non-null    float64       \n",
      "dtypes: datetime64[ns](2), float64(1), object(1)\n",
      "memory usage: 4.0+ KB\n",
      "<class 'pandas.core.frame.DataFrame'>\n",
      "RangeIndex: 154 entries, 0 to 153\n",
      "Data columns (total 4 columns):\n",
      " #   Column           Non-Null Count  Dtype         \n",
      "---  ------           --------------  -----         \n",
      " 0   Name             154 non-null    object        \n",
      " 1   Time_in          154 non-null    datetime64[ns]\n",
      " 2   Time_out         154 non-null    datetime64[ns]\n",
      " 3   Whole_Body_Dose  154 non-null    float64       \n",
      "dtypes: datetime64[ns](2), float64(1), object(1)\n",
      "memory usage: 4.9+ KB\n"
     ]
    }
   ],
   "source": [
    "df1.info()\n",
    "df2.info()"
   ]
  },
  {
   "cell_type": "code",
   "execution_count": 15,
   "id": "ddf07293",
   "metadata": {},
   "outputs": [
    {
     "name": "stdout",
     "output_type": "stream",
     "text": [
      "Values in df1 with Whole_Body_Dose above or equal to 0.05:\n",
      "Series([], Name: Whole_Body_Dose, dtype: float64)\n",
      "\n",
      "Values in df2 with Whole_Body_Dose above or equal to 0.05:\n",
      "Series([], Name: Whole_Body_Dose, dtype: float64)\n",
      "\n"
     ]
    }
   ],
   "source": [
    "#Check if body doses are bellow 0.05\n",
    "\n",
    "for i, df in enumerate(data_frames):\n",
    "    # Get values in 'Whole_Body_Dose' column that are over the threshold\n",
    "    above_threshold = df[df['Whole_Body_Dose'] >= 0.05]['Whole_Body_Dose']\n",
    "    \n",
    "    # Print the values above the threshold\n",
    "    print(f\"Values in df{i+1} with Whole_Body_Dose above or equal to 0.05:\")\n",
    "    print(above_threshold)\n",
    "    print()\n"
   ]
  },
  {
   "cell_type": "code",
   "execution_count": 16,
   "id": "23cd1ec8",
   "metadata": {},
   "outputs": [
    {
     "name": "stdout",
     "output_type": "stream",
     "text": [
      "Cleaned df1 (removed duplicate rows):\n",
      "            Name             Time_in            Time_out  Whole_Body_Dose\n",
      "0    employee_26 2032-07-16 22:50:00 2032-07-17 06:49:00            0.044\n",
      "1    employee_14 2032-07-16 22:52:00 2032-07-17 06:50:00            0.038\n",
      "2    employee_26 2032-07-17 22:46:00 2032-07-18 06:47:00            0.011\n",
      "3     employee_9 2032-07-21 23:11:00 2032-07-22 06:45:00            0.015\n",
      "4     employee_8 2032-07-21 23:12:00 2032-07-22 06:47:00            0.008\n",
      "..           ...                 ...                 ...              ...\n",
      "119  employee_12 2032-09-17 22:34:00 2032-09-18 06:50:00            0.011\n",
      "120  employee_10 2032-09-17 22:35:00 2032-09-18 06:47:00            0.008\n",
      "121  employee_15 2032-09-17 22:35:00 2032-09-18 06:48:00            0.025\n",
      "122   employee_8 2032-09-17 22:59:00 2032-09-18 06:48:00            0.011\n",
      "123  employee_21 2032-09-17 23:00:00 2032-09-18 06:47:00            0.012\n",
      "\n",
      "[124 rows x 4 columns]\n",
      "\n",
      "Cleaned df2 (removed duplicate rows):\n",
      "           Name             Time_in            Time_out  Whole_Body_Dose\n",
      "0    employee_1 2025-07-21 09:57:00 2025-07-21 15:13:00            0.008\n",
      "1    employee_1 2025-07-22 09:03:00 2025-07-22 15:10:00            0.009\n",
      "2    employee_1 2025-08-10 09:17:00 2025-08-10 15:57:00            0.020\n",
      "3    employee_1 2025-08-11 08:58:00 2025-08-11 15:57:00            0.012\n",
      "4    employee_1 2025-08-13 09:04:00 2025-08-13 15:11:00            0.021\n",
      "..          ...                 ...                 ...              ...\n",
      "144  employee_9 2025-11-23 22:05:00 2025-11-24 05:17:00            0.009\n",
      "145  employee_9 2025-11-25 22:53:00 2025-11-26 05:26:00            0.000\n",
      "146  employee_9 2026-01-19 22:01:00 2026-01-20 06:02:00            0.008\n",
      "147  employee_B 2025-08-03 08:36:00 2025-08-03 15:02:00            0.042\n",
      "148  employee_G 2026-01-19 21:42:00 2026-01-20 06:06:00            0.004\n",
      "\n",
      "[149 rows x 4 columns]\n",
      "\n"
     ]
    }
   ],
   "source": [
    "#remove duplicates\n",
    "\n",
    "for i, df in enumerate(data_frames):\n",
    "    # Remove duplicate rows\n",
    "    df_clean = df.drop_duplicates()\n",
    "    \n",
    "    # Reset the index of the cleaned data frame\n",
    "    df_clean = df_clean.reset_index(drop=True)\n",
    "    \n",
    "    # Print the cleaned data frame\n",
    "    print(f\"Cleaned df{i+1} (removed duplicate rows):\")\n",
    "    print(df_clean)\n",
    "    print()\n",
    "    \n",
    "    # Update df1 or df2 with the cleaned data frame\n",
    "    data_frames[i] = df_clean\n",
    "\n",
    "# Updated df1 and df2 with cleaned data (removed duplicates)\n",
    "df1 = data_frames[0]\n",
    "df2 = data_frames[1]\n"
   ]
  },
  {
   "cell_type": "code",
   "execution_count": 17,
   "id": "5a859748",
   "metadata": {},
   "outputs": [
    {
     "name": "stdout",
     "output_type": "stream",
     "text": [
      "Invalid entries found:\n",
      "employee_11a\n",
      "No invalid entries found.\n",
      "Invalid entries found:\n",
      "employee_B\n",
      "employee_G\n",
      "No invalid entries found.\n"
     ]
    }
   ],
   "source": [
    "#check that names have the correct format\n",
    "\n",
    "import re\n",
    "\n",
    "def find_invalid_entries(names):\n",
    "    pattern = r'^employee_\\d+$'  # Regular expression pattern to match 'employee_' followed by a number\n",
    "\n",
    "    invalid_entries = []\n",
    "    for name in names:\n",
    "        if not re.match(pattern, name):\n",
    "            invalid_entries.append(name)\n",
    "\n",
    "    return invalid_entries\n",
    "\n",
    "data_frames = [df1, df2]\n",
    "\n",
    "for df in data_frames:\n",
    "    column_names = df['Name']\n",
    "    invalid_entries = find_invalid_entries(column_names)\n",
    "    if invalid_entries:\n",
    "        print(\"Invalid entries found:\")\n",
    "        for entry in invalid_entries:\n",
    "            print(entry)\n",
    "        else:\n",
    "            print(\"No invalid entries found.\")\n"
   ]
  },
  {
   "cell_type": "code",
   "execution_count": 18,
   "id": "b5d07c89",
   "metadata": {},
   "outputs": [],
   "source": [
    "#Replace employee_26a and remove employee_B and employee_G\n",
    "df1['Name'] = df1['Name'].replace('employee_11a', 'employee_1')\n",
    "\n",
    "# Removing 'employee_B' and 'employee_G' from the 'Name' column\n",
    "df2 = df2[~df2['Name'].isin(['employee_B', 'employee_G'])]\n"
   ]
  },
  {
   "cell_type": "code",
   "execution_count": 19,
   "id": "c571f843",
   "metadata": {},
   "outputs": [
    {
     "name": "stdout",
     "output_type": "stream",
     "text": [
      "<class 'pandas.core.frame.DataFrame'>\n",
      "RangeIndex: 124 entries, 0 to 123\n",
      "Data columns (total 4 columns):\n",
      " #   Column           Non-Null Count  Dtype         \n",
      "---  ------           --------------  -----         \n",
      " 0   Name             124 non-null    object        \n",
      " 1   Time_in          124 non-null    datetime64[ns]\n",
      " 2   Time_out         124 non-null    datetime64[ns]\n",
      " 3   Whole_Body_Dose  124 non-null    float64       \n",
      "dtypes: datetime64[ns](2), float64(1), object(1)\n",
      "memory usage: 4.0+ KB\n",
      "<class 'pandas.core.frame.DataFrame'>\n",
      "Int64Index: 147 entries, 0 to 146\n",
      "Data columns (total 4 columns):\n",
      " #   Column           Non-Null Count  Dtype         \n",
      "---  ------           --------------  -----         \n",
      " 0   Name             147 non-null    object        \n",
      " 1   Time_in          147 non-null    datetime64[ns]\n",
      " 2   Time_out         147 non-null    datetime64[ns]\n",
      " 3   Whole_Body_Dose  147 non-null    float64       \n",
      "dtypes: datetime64[ns](2), float64(1), object(1)\n",
      "memory usage: 5.7+ KB\n"
     ]
    }
   ],
   "source": [
    "df1.info()\n",
    "df2.info()"
   ]
  },
  {
   "cell_type": "markdown",
   "id": "5ba9cfb2",
   "metadata": {},
   "source": [
    "# Analysis\n",
    "## Setting the name column to index"
   ]
  },
  {
   "cell_type": "code",
   "execution_count": 20,
   "id": "da44c9f9",
   "metadata": {},
   "outputs": [
    {
     "data": {
      "text/html": [
       "<div>\n",
       "<style scoped>\n",
       "    .dataframe tbody tr th:only-of-type {\n",
       "        vertical-align: middle;\n",
       "    }\n",
       "\n",
       "    .dataframe tbody tr th {\n",
       "        vertical-align: top;\n",
       "    }\n",
       "\n",
       "    .dataframe thead th {\n",
       "        text-align: right;\n",
       "    }\n",
       "</style>\n",
       "<table border=\"1\" class=\"dataframe\">\n",
       "  <thead>\n",
       "    <tr style=\"text-align: right;\">\n",
       "      <th></th>\n",
       "      <th>Time_in</th>\n",
       "      <th>Time_out</th>\n",
       "      <th>Whole_Body_Dose</th>\n",
       "    </tr>\n",
       "    <tr>\n",
       "      <th>Name</th>\n",
       "      <th></th>\n",
       "      <th></th>\n",
       "      <th></th>\n",
       "    </tr>\n",
       "  </thead>\n",
       "  <tbody>\n",
       "    <tr>\n",
       "      <th>employee_26</th>\n",
       "      <td>2032-07-16 22:50:00</td>\n",
       "      <td>2032-07-17 06:49:00</td>\n",
       "      <td>0.044</td>\n",
       "    </tr>\n",
       "    <tr>\n",
       "      <th>employee_14</th>\n",
       "      <td>2032-07-16 22:52:00</td>\n",
       "      <td>2032-07-17 06:50:00</td>\n",
       "      <td>0.038</td>\n",
       "    </tr>\n",
       "    <tr>\n",
       "      <th>employee_26</th>\n",
       "      <td>2032-07-17 22:46:00</td>\n",
       "      <td>2032-07-18 06:47:00</td>\n",
       "      <td>0.011</td>\n",
       "    </tr>\n",
       "    <tr>\n",
       "      <th>employee_9</th>\n",
       "      <td>2032-07-21 23:11:00</td>\n",
       "      <td>2032-07-22 06:45:00</td>\n",
       "      <td>0.015</td>\n",
       "    </tr>\n",
       "    <tr>\n",
       "      <th>employee_8</th>\n",
       "      <td>2032-07-21 23:12:00</td>\n",
       "      <td>2032-07-22 06:47:00</td>\n",
       "      <td>0.008</td>\n",
       "    </tr>\n",
       "    <tr>\n",
       "      <th>...</th>\n",
       "      <td>...</td>\n",
       "      <td>...</td>\n",
       "      <td>...</td>\n",
       "    </tr>\n",
       "    <tr>\n",
       "      <th>employee_12</th>\n",
       "      <td>2032-09-17 22:34:00</td>\n",
       "      <td>2032-09-18 06:50:00</td>\n",
       "      <td>0.011</td>\n",
       "    </tr>\n",
       "    <tr>\n",
       "      <th>employee_10</th>\n",
       "      <td>2032-09-17 22:35:00</td>\n",
       "      <td>2032-09-18 06:47:00</td>\n",
       "      <td>0.008</td>\n",
       "    </tr>\n",
       "    <tr>\n",
       "      <th>employee_15</th>\n",
       "      <td>2032-09-17 22:35:00</td>\n",
       "      <td>2032-09-18 06:48:00</td>\n",
       "      <td>0.025</td>\n",
       "    </tr>\n",
       "    <tr>\n",
       "      <th>employee_8</th>\n",
       "      <td>2032-09-17 22:59:00</td>\n",
       "      <td>2032-09-18 06:48:00</td>\n",
       "      <td>0.011</td>\n",
       "    </tr>\n",
       "    <tr>\n",
       "      <th>employee_21</th>\n",
       "      <td>2032-09-17 23:00:00</td>\n",
       "      <td>2032-09-18 06:47:00</td>\n",
       "      <td>0.012</td>\n",
       "    </tr>\n",
       "  </tbody>\n",
       "</table>\n",
       "<p>124 rows × 3 columns</p>\n",
       "</div>"
      ],
      "text/plain": [
       "                        Time_in            Time_out  Whole_Body_Dose\n",
       "Name                                                                \n",
       "employee_26 2032-07-16 22:50:00 2032-07-17 06:49:00            0.044\n",
       "employee_14 2032-07-16 22:52:00 2032-07-17 06:50:00            0.038\n",
       "employee_26 2032-07-17 22:46:00 2032-07-18 06:47:00            0.011\n",
       "employee_9  2032-07-21 23:11:00 2032-07-22 06:45:00            0.015\n",
       "employee_8  2032-07-21 23:12:00 2032-07-22 06:47:00            0.008\n",
       "...                         ...                 ...              ...\n",
       "employee_12 2032-09-17 22:34:00 2032-09-18 06:50:00            0.011\n",
       "employee_10 2032-09-17 22:35:00 2032-09-18 06:47:00            0.008\n",
       "employee_15 2032-09-17 22:35:00 2032-09-18 06:48:00            0.025\n",
       "employee_8  2032-09-17 22:59:00 2032-09-18 06:48:00            0.011\n",
       "employee_21 2032-09-17 23:00:00 2032-09-18 06:47:00            0.012\n",
       "\n",
       "[124 rows x 3 columns]"
      ]
     },
     "execution_count": 20,
     "metadata": {},
     "output_type": "execute_result"
    }
   ],
   "source": [
    "df1.set_index('Name',inplace=True)\n",
    "df2.set_index('Name',inplace=True)\n",
    "df1"
   ]
  },
  {
   "cell_type": "markdown",
   "id": "2141ab18",
   "metadata": {},
   "source": [
    "## Sorting the data to see who was doing the task the most"
   ]
  },
  {
   "cell_type": "markdown",
   "id": "50c70451",
   "metadata": {},
   "source": [
    "As we can see below on data frame df1, employee 11 has clocked in on the job 13 times.\n",
    "\n",
    "We need to understand that out of the 23 people below not all the people are the main technicians for this task, some may be supervisors or lifting support staff. This will be the same for the other data frame also."
   ]
  },
  {
   "cell_type": "code",
   "execution_count": 21,
   "id": "04c94d16",
   "metadata": {},
   "outputs": [
    {
     "data": {
      "text/plain": [
       "employee_11    13\n",
       "employee_21    10\n",
       "employee_16     8\n",
       "employee_14     8\n",
       "employee_9      7\n",
       "employee_8      7\n",
       "employee_2      7\n",
       "employee_18     7\n",
       "employee_26     6\n",
       "employee_19     6\n",
       "employee_10     5\n",
       "employee_15     5\n",
       "employee_3      5\n",
       "employee_1      4\n",
       "employee_24     4\n",
       "employee_23     3\n",
       "employee_13     3\n",
       "employee_6      3\n",
       "employee_22     2\n",
       "employee_5      2\n",
       "employee_17     2\n",
       "employee_4      2\n",
       "employee_20     2\n",
       "employee_7      1\n",
       "employee_25     1\n",
       "employee_12     1\n",
       "Name: Name, dtype: int64"
      ]
     },
     "execution_count": 21,
     "metadata": {},
     "output_type": "execute_result"
    }
   ],
   "source": [
    "most_used_df1 =df1.index.value_counts() \n",
    "most_used_df1.head(50)"
   ]
  },
  {
   "cell_type": "markdown",
   "id": "23a7abca",
   "metadata": {},
   "source": [
    "As we can see below on data frame df2, employee 21 has clocked in on the job 23 times. This is concerning as the men should be rotated more often, but this is not always achievable with leave, sickness and production requirements."
   ]
  },
  {
   "cell_type": "code",
   "execution_count": 22,
   "id": "e1afad29",
   "metadata": {},
   "outputs": [
    {
     "data": {
      "text/plain": [
       "employee_21    23\n",
       "employee_1     16\n",
       "employee_6     13\n",
       "employee_16    12\n",
       "employee_3     12\n",
       "employee_25    11\n",
       "employee_18     8\n",
       "employee_11     7\n",
       "employee_23     6\n",
       "employee_9      5\n",
       "employee_24     5\n",
       "employee_4      4\n",
       "employee_8      3\n",
       "employee_5      3\n",
       "employee_22     3\n",
       "employee_20     3\n",
       "employee_2      3\n",
       "employee_15     3\n",
       "employee_7      2\n",
       "employee_13     2\n",
       "employee_14     1\n",
       "employee_19     1\n",
       "employee_17     1\n",
       "Name: Name, dtype: int64"
      ]
     },
     "execution_count": 22,
     "metadata": {},
     "output_type": "execute_result"
    }
   ],
   "source": [
    "most_used_df2 = df2.index.value_counts()\n",
    "most_used_df2.head(50)"
   ]
  },
  {
   "cell_type": "markdown",
   "id": "978bd4fa",
   "metadata": {},
   "source": [
    "# Getting a total dose per person taking for the entire task"
   ]
  },
  {
   "cell_type": "markdown",
   "id": "5d471757",
   "metadata": {},
   "source": [
    "We can see below that employee 11 has received 254 µSv (microsieverts). The Sievert represents the equivalent biological effect of depositing a joule of gamma ray energy in a kilogram of human tissue. To put the dose received into perspective on a 5 hour plane journey you would receive 40 µSv. Average yearly dose received from natural background a human receives is 3650 µSv."
   ]
  },
  {
   "cell_type": "code",
   "execution_count": 23,
   "id": "61ee009b",
   "metadata": {},
   "outputs": [
    {
     "data": {
      "text/html": [
       "<div>\n",
       "<style scoped>\n",
       "    .dataframe tbody tr th:only-of-type {\n",
       "        vertical-align: middle;\n",
       "    }\n",
       "\n",
       "    .dataframe tbody tr th {\n",
       "        vertical-align: top;\n",
       "    }\n",
       "\n",
       "    .dataframe thead th {\n",
       "        text-align: right;\n",
       "    }\n",
       "</style>\n",
       "<table border=\"1\" class=\"dataframe\">\n",
       "  <thead>\n",
       "    <tr style=\"text-align: right;\">\n",
       "      <th></th>\n",
       "      <th>Whole_Body_Dose</th>\n",
       "    </tr>\n",
       "    <tr>\n",
       "      <th>Name</th>\n",
       "      <th></th>\n",
       "    </tr>\n",
       "  </thead>\n",
       "  <tbody>\n",
       "    <tr>\n",
       "      <th>employee_11</th>\n",
       "      <td>0.254</td>\n",
       "    </tr>\n",
       "    <tr>\n",
       "      <th>employee_18</th>\n",
       "      <td>0.187</td>\n",
       "    </tr>\n",
       "    <tr>\n",
       "      <th>employee_9</th>\n",
       "      <td>0.174</td>\n",
       "    </tr>\n",
       "    <tr>\n",
       "      <th>employee_21</th>\n",
       "      <td>0.160</td>\n",
       "    </tr>\n",
       "    <tr>\n",
       "      <th>employee_14</th>\n",
       "      <td>0.149</td>\n",
       "    </tr>\n",
       "    <tr>\n",
       "      <th>employee_2</th>\n",
       "      <td>0.139</td>\n",
       "    </tr>\n",
       "    <tr>\n",
       "      <th>employee_26</th>\n",
       "      <td>0.133</td>\n",
       "    </tr>\n",
       "    <tr>\n",
       "      <th>employee_3</th>\n",
       "      <td>0.106</td>\n",
       "    </tr>\n",
       "    <tr>\n",
       "      <th>employee_16</th>\n",
       "      <td>0.099</td>\n",
       "    </tr>\n",
       "    <tr>\n",
       "      <th>employee_8</th>\n",
       "      <td>0.091</td>\n",
       "    </tr>\n",
       "    <tr>\n",
       "      <th>employee_15</th>\n",
       "      <td>0.085</td>\n",
       "    </tr>\n",
       "    <tr>\n",
       "      <th>employee_1</th>\n",
       "      <td>0.077</td>\n",
       "    </tr>\n",
       "    <tr>\n",
       "      <th>employee_24</th>\n",
       "      <td>0.064</td>\n",
       "    </tr>\n",
       "    <tr>\n",
       "      <th>employee_13</th>\n",
       "      <td>0.048</td>\n",
       "    </tr>\n",
       "    <tr>\n",
       "      <th>employee_5</th>\n",
       "      <td>0.044</td>\n",
       "    </tr>\n",
       "    <tr>\n",
       "      <th>employee_6</th>\n",
       "      <td>0.038</td>\n",
       "    </tr>\n",
       "    <tr>\n",
       "      <th>employee_10</th>\n",
       "      <td>0.036</td>\n",
       "    </tr>\n",
       "    <tr>\n",
       "      <th>employee_20</th>\n",
       "      <td>0.035</td>\n",
       "    </tr>\n",
       "    <tr>\n",
       "      <th>employee_4</th>\n",
       "      <td>0.030</td>\n",
       "    </tr>\n",
       "    <tr>\n",
       "      <th>employee_22</th>\n",
       "      <td>0.021</td>\n",
       "    </tr>\n",
       "    <tr>\n",
       "      <th>employee_19</th>\n",
       "      <td>0.017</td>\n",
       "    </tr>\n",
       "    <tr>\n",
       "      <th>employee_23</th>\n",
       "      <td>0.017</td>\n",
       "    </tr>\n",
       "    <tr>\n",
       "      <th>employee_7</th>\n",
       "      <td>0.015</td>\n",
       "    </tr>\n",
       "    <tr>\n",
       "      <th>employee_25</th>\n",
       "      <td>0.011</td>\n",
       "    </tr>\n",
       "    <tr>\n",
       "      <th>employee_12</th>\n",
       "      <td>0.011</td>\n",
       "    </tr>\n",
       "    <tr>\n",
       "      <th>employee_17</th>\n",
       "      <td>0.009</td>\n",
       "    </tr>\n",
       "  </tbody>\n",
       "</table>\n",
       "</div>"
      ],
      "text/plain": [
       "             Whole_Body_Dose\n",
       "Name                        \n",
       "employee_11            0.254\n",
       "employee_18            0.187\n",
       "employee_9             0.174\n",
       "employee_21            0.160\n",
       "employee_14            0.149\n",
       "employee_2             0.139\n",
       "employee_26            0.133\n",
       "employee_3             0.106\n",
       "employee_16            0.099\n",
       "employee_8             0.091\n",
       "employee_15            0.085\n",
       "employee_1             0.077\n",
       "employee_24            0.064\n",
       "employee_13            0.048\n",
       "employee_5             0.044\n",
       "employee_6             0.038\n",
       "employee_10            0.036\n",
       "employee_20            0.035\n",
       "employee_4             0.030\n",
       "employee_22            0.021\n",
       "employee_19            0.017\n",
       "employee_23            0.017\n",
       "employee_7             0.015\n",
       "employee_25            0.011\n",
       "employee_12            0.011\n",
       "employee_17            0.009"
      ]
     },
     "execution_count": 23,
     "metadata": {},
     "output_type": "execute_result"
    }
   ],
   "source": [
    "df1.groupby(df1.index).sum().sort_values(by='Whole_Body_Dose', ascending=False)"
   ]
  },
  {
   "cell_type": "markdown",
   "id": "43e97bd6",
   "metadata": {},
   "source": [
    "As we can see employee 21 has received a total of 444 µSv (microsieverts). The least amount taking is from employee 17 who took 5 µSv, employee 17 clocked in on the job 1 time. This should never be the case where one person takes a quarter of the accrued dose, we have got better at dose management, but we need to train more staff to do different jobs as then we could rotate the people more often."
   ]
  },
  {
   "cell_type": "code",
   "execution_count": 24,
   "id": "4e7027be",
   "metadata": {},
   "outputs": [
    {
     "data": {
      "text/html": [
       "<div>\n",
       "<style scoped>\n",
       "    .dataframe tbody tr th:only-of-type {\n",
       "        vertical-align: middle;\n",
       "    }\n",
       "\n",
       "    .dataframe tbody tr th {\n",
       "        vertical-align: top;\n",
       "    }\n",
       "\n",
       "    .dataframe thead th {\n",
       "        text-align: right;\n",
       "    }\n",
       "</style>\n",
       "<table border=\"1\" class=\"dataframe\">\n",
       "  <thead>\n",
       "    <tr style=\"text-align: right;\">\n",
       "      <th></th>\n",
       "      <th>Whole_Body_Dose</th>\n",
       "    </tr>\n",
       "    <tr>\n",
       "      <th>Name</th>\n",
       "      <th></th>\n",
       "    </tr>\n",
       "  </thead>\n",
       "  <tbody>\n",
       "    <tr>\n",
       "      <th>employee_21</th>\n",
       "      <td>0.444</td>\n",
       "    </tr>\n",
       "    <tr>\n",
       "      <th>employee_1</th>\n",
       "      <td>0.279</td>\n",
       "    </tr>\n",
       "    <tr>\n",
       "      <th>employee_16</th>\n",
       "      <td>0.234</td>\n",
       "    </tr>\n",
       "    <tr>\n",
       "      <th>employee_18</th>\n",
       "      <td>0.196</td>\n",
       "    </tr>\n",
       "    <tr>\n",
       "      <th>employee_3</th>\n",
       "      <td>0.182</td>\n",
       "    </tr>\n",
       "    <tr>\n",
       "      <th>employee_23</th>\n",
       "      <td>0.161</td>\n",
       "    </tr>\n",
       "    <tr>\n",
       "      <th>employee_25</th>\n",
       "      <td>0.108</td>\n",
       "    </tr>\n",
       "    <tr>\n",
       "      <th>employee_11</th>\n",
       "      <td>0.082</td>\n",
       "    </tr>\n",
       "    <tr>\n",
       "      <th>employee_15</th>\n",
       "      <td>0.058</td>\n",
       "    </tr>\n",
       "    <tr>\n",
       "      <th>employee_6</th>\n",
       "      <td>0.049</td>\n",
       "    </tr>\n",
       "    <tr>\n",
       "      <th>employee_24</th>\n",
       "      <td>0.039</td>\n",
       "    </tr>\n",
       "    <tr>\n",
       "      <th>employee_13</th>\n",
       "      <td>0.035</td>\n",
       "    </tr>\n",
       "    <tr>\n",
       "      <th>employee_8</th>\n",
       "      <td>0.034</td>\n",
       "    </tr>\n",
       "    <tr>\n",
       "      <th>employee_9</th>\n",
       "      <td>0.034</td>\n",
       "    </tr>\n",
       "    <tr>\n",
       "      <th>employee_2</th>\n",
       "      <td>0.033</td>\n",
       "    </tr>\n",
       "    <tr>\n",
       "      <th>employee_4</th>\n",
       "      <td>0.028</td>\n",
       "    </tr>\n",
       "    <tr>\n",
       "      <th>employee_5</th>\n",
       "      <td>0.022</td>\n",
       "    </tr>\n",
       "    <tr>\n",
       "      <th>employee_22</th>\n",
       "      <td>0.022</td>\n",
       "    </tr>\n",
       "    <tr>\n",
       "      <th>employee_19</th>\n",
       "      <td>0.020</td>\n",
       "    </tr>\n",
       "    <tr>\n",
       "      <th>employee_20</th>\n",
       "      <td>0.019</td>\n",
       "    </tr>\n",
       "    <tr>\n",
       "      <th>employee_14</th>\n",
       "      <td>0.011</td>\n",
       "    </tr>\n",
       "    <tr>\n",
       "      <th>employee_7</th>\n",
       "      <td>0.009</td>\n",
       "    </tr>\n",
       "    <tr>\n",
       "      <th>employee_17</th>\n",
       "      <td>0.005</td>\n",
       "    </tr>\n",
       "  </tbody>\n",
       "</table>\n",
       "</div>"
      ],
      "text/plain": [
       "             Whole_Body_Dose\n",
       "Name                        \n",
       "employee_21            0.444\n",
       "employee_1             0.279\n",
       "employee_16            0.234\n",
       "employee_18            0.196\n",
       "employee_3             0.182\n",
       "employee_23            0.161\n",
       "employee_25            0.108\n",
       "employee_11            0.082\n",
       "employee_15            0.058\n",
       "employee_6             0.049\n",
       "employee_24            0.039\n",
       "employee_13            0.035\n",
       "employee_8             0.034\n",
       "employee_9             0.034\n",
       "employee_2             0.033\n",
       "employee_4             0.028\n",
       "employee_5             0.022\n",
       "employee_22            0.022\n",
       "employee_19            0.020\n",
       "employee_20            0.019\n",
       "employee_14            0.011\n",
       "employee_7             0.009\n",
       "employee_17            0.005"
      ]
     },
     "execution_count": 24,
     "metadata": {},
     "output_type": "execute_result"
    }
   ],
   "source": [
    "df2.groupby(df2.index).sum().sort_values(by='Whole_Body_Dose', ascending=False)"
   ]
  },
  {
   "cell_type": "markdown",
   "id": "8c48b12c",
   "metadata": {},
   "source": [
    "# Getting the total time taking per entry "
   ]
  },
  {
   "cell_type": "markdown",
   "id": "25bd7890",
   "metadata": {},
   "source": [
    "In the datetime(dtype) you can subtract the time out with the time in to give you the total time difference, this is what i did below. This gave me the duration of how long the Person had an EPD out for. Typical working hours are 9 hours and 15 minutes. Looking below you can see employee 13 took a total of 11 µSv (microsieverts) with a total of 7 hours and 49 minutes, employee 2 took a total 4 µSv (microsieverts) with the total time of 7 hours and 52 minutes. Similar times, but such a big difference in the dose taken."
   ]
  },
  {
   "cell_type": "code",
   "execution_count": 26,
   "id": "d3d25ccf",
   "metadata": {},
   "outputs": [],
   "source": [
    "# Convert 'Time_in' and 'Time_out' columns to datetime\n",
    "for df in data_frames:\n",
    "    df['Time_in'] = pd.to_datetime(df['Time_in'])\n",
    "    df['Time_out'] = pd.to_datetime(df['Time_out'])"
   ]
  },
  {
   "cell_type": "code",
   "execution_count": 27,
   "id": "38020d4a",
   "metadata": {},
   "outputs": [
    {
     "data": {
      "text/html": [
       "<div>\n",
       "<style scoped>\n",
       "    .dataframe tbody tr th:only-of-type {\n",
       "        vertical-align: middle;\n",
       "    }\n",
       "\n",
       "    .dataframe tbody tr th {\n",
       "        vertical-align: top;\n",
       "    }\n",
       "\n",
       "    .dataframe thead th {\n",
       "        text-align: right;\n",
       "    }\n",
       "</style>\n",
       "<table border=\"1\" class=\"dataframe\">\n",
       "  <thead>\n",
       "    <tr style=\"text-align: right;\">\n",
       "      <th></th>\n",
       "      <th>Time_in</th>\n",
       "      <th>Time_out</th>\n",
       "      <th>Whole_Body_Dose</th>\n",
       "      <th>diff</th>\n",
       "    </tr>\n",
       "    <tr>\n",
       "      <th>Name</th>\n",
       "      <th></th>\n",
       "      <th></th>\n",
       "      <th></th>\n",
       "      <th></th>\n",
       "    </tr>\n",
       "  </thead>\n",
       "  <tbody>\n",
       "    <tr>\n",
       "      <th>employee_1</th>\n",
       "      <td>2025-07-21 09:57:00</td>\n",
       "      <td>2025-07-21 15:13:00</td>\n",
       "      <td>0.008</td>\n",
       "      <td>0 days 05:16:00</td>\n",
       "    </tr>\n",
       "    <tr>\n",
       "      <th>employee_1</th>\n",
       "      <td>2025-07-22 09:03:00</td>\n",
       "      <td>2025-07-22 15:10:00</td>\n",
       "      <td>0.009</td>\n",
       "      <td>0 days 06:07:00</td>\n",
       "    </tr>\n",
       "    <tr>\n",
       "      <th>employee_1</th>\n",
       "      <td>2025-08-10 09:17:00</td>\n",
       "      <td>2025-08-10 15:57:00</td>\n",
       "      <td>0.020</td>\n",
       "      <td>0 days 06:40:00</td>\n",
       "    </tr>\n",
       "    <tr>\n",
       "      <th>employee_1</th>\n",
       "      <td>2025-08-11 08:58:00</td>\n",
       "      <td>2025-08-11 15:57:00</td>\n",
       "      <td>0.012</td>\n",
       "      <td>0 days 06:59:00</td>\n",
       "    </tr>\n",
       "    <tr>\n",
       "      <th>employee_1</th>\n",
       "      <td>2025-08-13 09:04:00</td>\n",
       "      <td>2025-08-13 15:11:00</td>\n",
       "      <td>0.021</td>\n",
       "      <td>0 days 06:07:00</td>\n",
       "    </tr>\n",
       "    <tr>\n",
       "      <th>employee_1</th>\n",
       "      <td>2025-08-31 22:09:00</td>\n",
       "      <td>2025-08-31 22:11:00</td>\n",
       "      <td>0.000</td>\n",
       "      <td>0 days 00:02:00</td>\n",
       "    </tr>\n",
       "    <tr>\n",
       "      <th>employee_1</th>\n",
       "      <td>2025-08-31 22:11:00</td>\n",
       "      <td>2025-09-01 05:37:00</td>\n",
       "      <td>0.040</td>\n",
       "      <td>0 days 07:26:00</td>\n",
       "    </tr>\n",
       "    <tr>\n",
       "      <th>employee_1</th>\n",
       "      <td>2025-09-01 22:47:00</td>\n",
       "      <td>2025-09-02 05:55:00</td>\n",
       "      <td>0.032</td>\n",
       "      <td>0 days 07:08:00</td>\n",
       "    </tr>\n",
       "    <tr>\n",
       "      <th>employee_1</th>\n",
       "      <td>2025-09-02 22:15:00</td>\n",
       "      <td>2025-09-03 06:09:00</td>\n",
       "      <td>0.035</td>\n",
       "      <td>0 days 07:54:00</td>\n",
       "    </tr>\n",
       "    <tr>\n",
       "      <th>employee_1</th>\n",
       "      <td>2025-09-03 22:37:00</td>\n",
       "      <td>2025-09-04 05:51:00</td>\n",
       "      <td>0.031</td>\n",
       "      <td>0 days 07:14:00</td>\n",
       "    </tr>\n",
       "  </tbody>\n",
       "</table>\n",
       "</div>"
      ],
      "text/plain": [
       "                       Time_in            Time_out  Whole_Body_Dose  \\\n",
       "Name                                                                  \n",
       "employee_1 2025-07-21 09:57:00 2025-07-21 15:13:00            0.008   \n",
       "employee_1 2025-07-22 09:03:00 2025-07-22 15:10:00            0.009   \n",
       "employee_1 2025-08-10 09:17:00 2025-08-10 15:57:00            0.020   \n",
       "employee_1 2025-08-11 08:58:00 2025-08-11 15:57:00            0.012   \n",
       "employee_1 2025-08-13 09:04:00 2025-08-13 15:11:00            0.021   \n",
       "employee_1 2025-08-31 22:09:00 2025-08-31 22:11:00            0.000   \n",
       "employee_1 2025-08-31 22:11:00 2025-09-01 05:37:00            0.040   \n",
       "employee_1 2025-09-01 22:47:00 2025-09-02 05:55:00            0.032   \n",
       "employee_1 2025-09-02 22:15:00 2025-09-03 06:09:00            0.035   \n",
       "employee_1 2025-09-03 22:37:00 2025-09-04 05:51:00            0.031   \n",
       "\n",
       "                      diff  \n",
       "Name                        \n",
       "employee_1 0 days 05:16:00  \n",
       "employee_1 0 days 06:07:00  \n",
       "employee_1 0 days 06:40:00  \n",
       "employee_1 0 days 06:59:00  \n",
       "employee_1 0 days 06:07:00  \n",
       "employee_1 0 days 00:02:00  \n",
       "employee_1 0 days 07:26:00  \n",
       "employee_1 0 days 07:08:00  \n",
       "employee_1 0 days 07:54:00  \n",
       "employee_1 0 days 07:14:00  "
      ]
     },
     "execution_count": 27,
     "metadata": {},
     "output_type": "execute_result"
    }
   ],
   "source": [
    "df1['diff'] = df1['Time_out'] -df1['Time_in']\n",
    "df2['diff'] = df2['Time_out'] - df2['Time_in']\n",
    "df2.head(10)"
   ]
  },
  {
   "cell_type": "markdown",
   "id": "e728245d",
   "metadata": {},
   "source": [
    "## Converting the datetime to decimal "
   ]
  },
  {
   "cell_type": "markdown",
   "id": "070a32a8",
   "metadata": {},
   "source": [
    "Below I used the following code to convert my total time on the job to decimal time, this is so i could plot the time on charts as i could not get datetime(dtypes) to plot."
   ]
  },
  {
   "cell_type": "code",
   "execution_count": 28,
   "id": "7384d83e",
   "metadata": {},
   "outputs": [],
   "source": [
    "df1['Time_Decimal'] = (df1['diff']  / np.timedelta64(1, 'h'))\n",
    "df2['Time_Decimal'] = (df2['diff']  / np.timedelta64(1, 'h'))"
   ]
  },
  {
   "cell_type": "markdown",
   "id": "bd6844be",
   "metadata": {},
   "source": [
    "## Seperating the data frame into a dayshift and nightshift data frame"
   ]
  },
  {
   "cell_type": "markdown",
   "id": "97553cd2",
   "metadata": {},
   "source": [
    "The below code will look for any time starting past 21:00 and class it as night shift. I separated my night shift and day shift for each data frame."
   ]
  },
  {
   "cell_type": "code",
   "execution_count": 29,
   "id": "65ff9fc6",
   "metadata": {},
   "outputs": [
    {
     "data": {
      "text/html": [
       "<div>\n",
       "<style scoped>\n",
       "    .dataframe tbody tr th:only-of-type {\n",
       "        vertical-align: middle;\n",
       "    }\n",
       "\n",
       "    .dataframe tbody tr th {\n",
       "        vertical-align: top;\n",
       "    }\n",
       "\n",
       "    .dataframe thead th {\n",
       "        text-align: right;\n",
       "    }\n",
       "</style>\n",
       "<table border=\"1\" class=\"dataframe\">\n",
       "  <thead>\n",
       "    <tr style=\"text-align: right;\">\n",
       "      <th></th>\n",
       "      <th>Time_in</th>\n",
       "      <th>Time_out</th>\n",
       "      <th>Whole_Body_Dose</th>\n",
       "      <th>diff</th>\n",
       "      <th>Time_Decimal</th>\n",
       "    </tr>\n",
       "    <tr>\n",
       "      <th>Name</th>\n",
       "      <th></th>\n",
       "      <th></th>\n",
       "      <th></th>\n",
       "      <th></th>\n",
       "      <th></th>\n",
       "    </tr>\n",
       "  </thead>\n",
       "  <tbody>\n",
       "    <tr>\n",
       "      <th>employee_26</th>\n",
       "      <td>2032-07-16 22:50:00</td>\n",
       "      <td>2032-07-17 06:49:00</td>\n",
       "      <td>0.044</td>\n",
       "      <td>0 days 07:59:00</td>\n",
       "      <td>7.983333</td>\n",
       "    </tr>\n",
       "    <tr>\n",
       "      <th>employee_14</th>\n",
       "      <td>2032-07-16 22:52:00</td>\n",
       "      <td>2032-07-17 06:50:00</td>\n",
       "      <td>0.038</td>\n",
       "      <td>0 days 07:58:00</td>\n",
       "      <td>7.966667</td>\n",
       "    </tr>\n",
       "    <tr>\n",
       "      <th>employee_26</th>\n",
       "      <td>2032-07-17 22:46:00</td>\n",
       "      <td>2032-07-18 06:47:00</td>\n",
       "      <td>0.011</td>\n",
       "      <td>0 days 08:01:00</td>\n",
       "      <td>8.016667</td>\n",
       "    </tr>\n",
       "    <tr>\n",
       "      <th>employee_9</th>\n",
       "      <td>2032-07-21 23:11:00</td>\n",
       "      <td>2032-07-22 06:45:00</td>\n",
       "      <td>0.015</td>\n",
       "      <td>0 days 07:34:00</td>\n",
       "      <td>7.566667</td>\n",
       "    </tr>\n",
       "    <tr>\n",
       "      <th>employee_8</th>\n",
       "      <td>2032-07-21 23:12:00</td>\n",
       "      <td>2032-07-22 06:47:00</td>\n",
       "      <td>0.008</td>\n",
       "      <td>0 days 07:35:00</td>\n",
       "      <td>7.583333</td>\n",
       "    </tr>\n",
       "  </tbody>\n",
       "</table>\n",
       "</div>"
      ],
      "text/plain": [
       "                        Time_in            Time_out  Whole_Body_Dose  \\\n",
       "Name                                                                   \n",
       "employee_26 2032-07-16 22:50:00 2032-07-17 06:49:00            0.044   \n",
       "employee_14 2032-07-16 22:52:00 2032-07-17 06:50:00            0.038   \n",
       "employee_26 2032-07-17 22:46:00 2032-07-18 06:47:00            0.011   \n",
       "employee_9  2032-07-21 23:11:00 2032-07-22 06:45:00            0.015   \n",
       "employee_8  2032-07-21 23:12:00 2032-07-22 06:47:00            0.008   \n",
       "\n",
       "                       diff  Time_Decimal  \n",
       "Name                                       \n",
       "employee_26 0 days 07:59:00      7.983333  \n",
       "employee_14 0 days 07:58:00      7.966667  \n",
       "employee_26 0 days 08:01:00      8.016667  \n",
       "employee_9  0 days 07:34:00      7.566667  \n",
       "employee_8  0 days 07:35:00      7.583333  "
      ]
     },
     "execution_count": 29,
     "metadata": {},
     "output_type": "execute_result"
    }
   ],
   "source": [
    "nightshift_3 = df1.loc[df1['Time_in'].dt.time > time(21,00)]\n",
    "nightshift_3.head()"
   ]
  },
  {
   "cell_type": "code",
   "execution_count": 30,
   "id": "aa4bafbf",
   "metadata": {},
   "outputs": [
    {
     "data": {
      "text/html": [
       "<div>\n",
       "<style scoped>\n",
       "    .dataframe tbody tr th:only-of-type {\n",
       "        vertical-align: middle;\n",
       "    }\n",
       "\n",
       "    .dataframe tbody tr th {\n",
       "        vertical-align: top;\n",
       "    }\n",
       "\n",
       "    .dataframe thead th {\n",
       "        text-align: right;\n",
       "    }\n",
       "</style>\n",
       "<table border=\"1\" class=\"dataframe\">\n",
       "  <thead>\n",
       "    <tr style=\"text-align: right;\">\n",
       "      <th></th>\n",
       "      <th>Time_in</th>\n",
       "      <th>Time_out</th>\n",
       "      <th>Whole_Body_Dose</th>\n",
       "      <th>diff</th>\n",
       "      <th>Time_Decimal</th>\n",
       "    </tr>\n",
       "    <tr>\n",
       "      <th>Name</th>\n",
       "      <th></th>\n",
       "      <th></th>\n",
       "      <th></th>\n",
       "      <th></th>\n",
       "      <th></th>\n",
       "    </tr>\n",
       "  </thead>\n",
       "  <tbody>\n",
       "    <tr>\n",
       "      <th>employee_1</th>\n",
       "      <td>2025-08-31 22:09:00</td>\n",
       "      <td>2025-08-31 22:11:00</td>\n",
       "      <td>0.000</td>\n",
       "      <td>0 days 00:02:00</td>\n",
       "      <td>0.033333</td>\n",
       "    </tr>\n",
       "    <tr>\n",
       "      <th>employee_1</th>\n",
       "      <td>2025-08-31 22:11:00</td>\n",
       "      <td>2025-09-01 05:37:00</td>\n",
       "      <td>0.040</td>\n",
       "      <td>0 days 07:26:00</td>\n",
       "      <td>7.433333</td>\n",
       "    </tr>\n",
       "    <tr>\n",
       "      <th>employee_1</th>\n",
       "      <td>2025-09-01 22:47:00</td>\n",
       "      <td>2025-09-02 05:55:00</td>\n",
       "      <td>0.032</td>\n",
       "      <td>0 days 07:08:00</td>\n",
       "      <td>7.133333</td>\n",
       "    </tr>\n",
       "    <tr>\n",
       "      <th>employee_1</th>\n",
       "      <td>2025-09-02 22:15:00</td>\n",
       "      <td>2025-09-03 06:09:00</td>\n",
       "      <td>0.035</td>\n",
       "      <td>0 days 07:54:00</td>\n",
       "      <td>7.900000</td>\n",
       "    </tr>\n",
       "    <tr>\n",
       "      <th>employee_1</th>\n",
       "      <td>2025-09-03 22:37:00</td>\n",
       "      <td>2025-09-04 05:51:00</td>\n",
       "      <td>0.031</td>\n",
       "      <td>0 days 07:14:00</td>\n",
       "      <td>7.233333</td>\n",
       "    </tr>\n",
       "    <tr>\n",
       "      <th>employee_1</th>\n",
       "      <td>2025-11-18 21:52:00</td>\n",
       "      <td>2025-11-19 05:43:00</td>\n",
       "      <td>0.019</td>\n",
       "      <td>0 days 07:51:00</td>\n",
       "      <td>7.850000</td>\n",
       "    </tr>\n",
       "    <tr>\n",
       "      <th>employee_11</th>\n",
       "      <td>2025-11-01 21:45:00</td>\n",
       "      <td>2025-11-02 07:31:00</td>\n",
       "      <td>0.009</td>\n",
       "      <td>0 days 09:46:00</td>\n",
       "      <td>9.766667</td>\n",
       "    </tr>\n",
       "    <tr>\n",
       "      <th>employee_11</th>\n",
       "      <td>2025-11-23 22:01:00</td>\n",
       "      <td>2025-11-24 05:12:00</td>\n",
       "      <td>0.019</td>\n",
       "      <td>0 days 07:11:00</td>\n",
       "      <td>7.183333</td>\n",
       "    </tr>\n",
       "    <tr>\n",
       "      <th>employee_11</th>\n",
       "      <td>2025-11-25 21:52:00</td>\n",
       "      <td>2025-11-26 05:26:00</td>\n",
       "      <td>0.021</td>\n",
       "      <td>0 days 07:34:00</td>\n",
       "      <td>7.566667</td>\n",
       "    </tr>\n",
       "    <tr>\n",
       "      <th>employee_11</th>\n",
       "      <td>2026-01-19 21:59:00</td>\n",
       "      <td>2026-01-20 06:00:00</td>\n",
       "      <td>0.010</td>\n",
       "      <td>0 days 08:01:00</td>\n",
       "      <td>8.016667</td>\n",
       "    </tr>\n",
       "  </tbody>\n",
       "</table>\n",
       "</div>"
      ],
      "text/plain": [
       "                        Time_in            Time_out  Whole_Body_Dose  \\\n",
       "Name                                                                   \n",
       "employee_1  2025-08-31 22:09:00 2025-08-31 22:11:00            0.000   \n",
       "employee_1  2025-08-31 22:11:00 2025-09-01 05:37:00            0.040   \n",
       "employee_1  2025-09-01 22:47:00 2025-09-02 05:55:00            0.032   \n",
       "employee_1  2025-09-02 22:15:00 2025-09-03 06:09:00            0.035   \n",
       "employee_1  2025-09-03 22:37:00 2025-09-04 05:51:00            0.031   \n",
       "employee_1  2025-11-18 21:52:00 2025-11-19 05:43:00            0.019   \n",
       "employee_11 2025-11-01 21:45:00 2025-11-02 07:31:00            0.009   \n",
       "employee_11 2025-11-23 22:01:00 2025-11-24 05:12:00            0.019   \n",
       "employee_11 2025-11-25 21:52:00 2025-11-26 05:26:00            0.021   \n",
       "employee_11 2026-01-19 21:59:00 2026-01-20 06:00:00            0.010   \n",
       "\n",
       "                       diff  Time_Decimal  \n",
       "Name                                       \n",
       "employee_1  0 days 00:02:00      0.033333  \n",
       "employee_1  0 days 07:26:00      7.433333  \n",
       "employee_1  0 days 07:08:00      7.133333  \n",
       "employee_1  0 days 07:54:00      7.900000  \n",
       "employee_1  0 days 07:14:00      7.233333  \n",
       "employee_1  0 days 07:51:00      7.850000  \n",
       "employee_11 0 days 09:46:00      9.766667  \n",
       "employee_11 0 days 07:11:00      7.183333  \n",
       "employee_11 0 days 07:34:00      7.566667  \n",
       "employee_11 0 days 08:01:00      8.016667  "
      ]
     },
     "execution_count": 30,
     "metadata": {},
     "output_type": "execute_result"
    }
   ],
   "source": [
    "nightshift_4 = df2.loc[df2['Time_in'].dt.time > time(21,00)]\n",
    "nightshift_4.head(10)"
   ]
  },
  {
   "cell_type": "markdown",
   "id": "3c136886",
   "metadata": {},
   "source": [
    "The below code will look at the Time in column to see if any, time starts before 21:00 and put it into a day shift data frame. This is the good thing about having an datetime(dtype) as this code was simple to do."
   ]
  },
  {
   "cell_type": "code",
   "execution_count": 31,
   "id": "d32bf3e1",
   "metadata": {},
   "outputs": [
    {
     "data": {
      "text/html": [
       "<div>\n",
       "<style scoped>\n",
       "    .dataframe tbody tr th:only-of-type {\n",
       "        vertical-align: middle;\n",
       "    }\n",
       "\n",
       "    .dataframe tbody tr th {\n",
       "        vertical-align: top;\n",
       "    }\n",
       "\n",
       "    .dataframe thead th {\n",
       "        text-align: right;\n",
       "    }\n",
       "</style>\n",
       "<table border=\"1\" class=\"dataframe\">\n",
       "  <thead>\n",
       "    <tr style=\"text-align: right;\">\n",
       "      <th></th>\n",
       "      <th>Time_in</th>\n",
       "      <th>Time_out</th>\n",
       "      <th>Whole_Body_Dose</th>\n",
       "      <th>diff</th>\n",
       "      <th>Time_Decimal</th>\n",
       "    </tr>\n",
       "    <tr>\n",
       "      <th>Name</th>\n",
       "      <th></th>\n",
       "      <th></th>\n",
       "      <th></th>\n",
       "      <th></th>\n",
       "      <th></th>\n",
       "    </tr>\n",
       "  </thead>\n",
       "  <tbody>\n",
       "    <tr>\n",
       "      <th>employee_2</th>\n",
       "      <td>2032-07-23 09:02:00</td>\n",
       "      <td>2032-07-23 15:07:00</td>\n",
       "      <td>0.030</td>\n",
       "      <td>0 days 06:05:00</td>\n",
       "      <td>6.083333</td>\n",
       "    </tr>\n",
       "    <tr>\n",
       "      <th>employee_11</th>\n",
       "      <td>2032-07-23 09:03:00</td>\n",
       "      <td>2032-07-23 15:07:00</td>\n",
       "      <td>0.029</td>\n",
       "      <td>0 days 06:04:00</td>\n",
       "      <td>6.066667</td>\n",
       "    </tr>\n",
       "    <tr>\n",
       "      <th>employee_25</th>\n",
       "      <td>2032-07-23 09:53:00</td>\n",
       "      <td>2032-07-23 15:07:00</td>\n",
       "      <td>0.011</td>\n",
       "      <td>0 days 05:14:00</td>\n",
       "      <td>5.233333</td>\n",
       "    </tr>\n",
       "    <tr>\n",
       "      <th>employee_2</th>\n",
       "      <td>2032-07-24 08:59:00</td>\n",
       "      <td>2032-07-24 17:02:00</td>\n",
       "      <td>0.043</td>\n",
       "      <td>0 days 08:03:00</td>\n",
       "      <td>8.050000</td>\n",
       "    </tr>\n",
       "    <tr>\n",
       "      <th>employee_11</th>\n",
       "      <td>2032-07-24 08:59:00</td>\n",
       "      <td>2032-07-24 17:02:00</td>\n",
       "      <td>0.039</td>\n",
       "      <td>0 days 08:03:00</td>\n",
       "      <td>8.050000</td>\n",
       "    </tr>\n",
       "    <tr>\n",
       "      <th>employee_2</th>\n",
       "      <td>2032-07-25 09:14:00</td>\n",
       "      <td>2032-07-25 16:03:00</td>\n",
       "      <td>0.013</td>\n",
       "      <td>0 days 06:49:00</td>\n",
       "      <td>6.816667</td>\n",
       "    </tr>\n",
       "    <tr>\n",
       "      <th>employee_11</th>\n",
       "      <td>2032-07-25 09:15:00</td>\n",
       "      <td>2032-07-25 16:02:00</td>\n",
       "      <td>0.012</td>\n",
       "      <td>0 days 06:47:00</td>\n",
       "      <td>6.783333</td>\n",
       "    </tr>\n",
       "    <tr>\n",
       "      <th>employee_2</th>\n",
       "      <td>2032-07-26 09:16:00</td>\n",
       "      <td>2032-07-26 15:12:00</td>\n",
       "      <td>0.007</td>\n",
       "      <td>0 days 05:56:00</td>\n",
       "      <td>5.933333</td>\n",
       "    </tr>\n",
       "    <tr>\n",
       "      <th>employee_24</th>\n",
       "      <td>2032-07-26 09:17:00</td>\n",
       "      <td>2032-07-26 10:54:00</td>\n",
       "      <td>0.016</td>\n",
       "      <td>0 days 01:37:00</td>\n",
       "      <td>1.616667</td>\n",
       "    </tr>\n",
       "    <tr>\n",
       "      <th>employee_21</th>\n",
       "      <td>2032-07-30 09:11:00</td>\n",
       "      <td>2032-07-30 15:35:00</td>\n",
       "      <td>0.024</td>\n",
       "      <td>0 days 06:24:00</td>\n",
       "      <td>6.400000</td>\n",
       "    </tr>\n",
       "    <tr>\n",
       "      <th>employee_5</th>\n",
       "      <td>2032-07-30 09:15:00</td>\n",
       "      <td>2032-07-30 16:25:00</td>\n",
       "      <td>0.042</td>\n",
       "      <td>0 days 07:10:00</td>\n",
       "      <td>7.166667</td>\n",
       "    </tr>\n",
       "    <tr>\n",
       "      <th>employee_5</th>\n",
       "      <td>2032-07-31 09:18:00</td>\n",
       "      <td>2032-07-31 10:01:00</td>\n",
       "      <td>0.002</td>\n",
       "      <td>0 days 00:43:00</td>\n",
       "      <td>0.716667</td>\n",
       "    </tr>\n",
       "    <tr>\n",
       "      <th>employee_21</th>\n",
       "      <td>2032-07-31 09:21:00</td>\n",
       "      <td>2032-07-31 10:01:00</td>\n",
       "      <td>0.003</td>\n",
       "      <td>0 days 00:40:00</td>\n",
       "      <td>0.666667</td>\n",
       "    </tr>\n",
       "    <tr>\n",
       "      <th>employee_21</th>\n",
       "      <td>2032-08-04 09:19:00</td>\n",
       "      <td>2032-08-04 16:31:00</td>\n",
       "      <td>0.025</td>\n",
       "      <td>0 days 07:12:00</td>\n",
       "      <td>7.200000</td>\n",
       "    </tr>\n",
       "    <tr>\n",
       "      <th>employee_16</th>\n",
       "      <td>2032-08-04 09:19:00</td>\n",
       "      <td>2032-08-04 16:29:00</td>\n",
       "      <td>0.013</td>\n",
       "      <td>0 days 07:10:00</td>\n",
       "      <td>7.166667</td>\n",
       "    </tr>\n",
       "    <tr>\n",
       "      <th>employee_21</th>\n",
       "      <td>2032-08-06 09:10:00</td>\n",
       "      <td>2032-08-06 15:14:00</td>\n",
       "      <td>0.005</td>\n",
       "      <td>0 days 06:04:00</td>\n",
       "      <td>6.066667</td>\n",
       "    </tr>\n",
       "    <tr>\n",
       "      <th>employee_16</th>\n",
       "      <td>2032-08-06 09:11:00</td>\n",
       "      <td>2032-08-06 16:57:00</td>\n",
       "      <td>0.015</td>\n",
       "      <td>0 days 07:46:00</td>\n",
       "      <td>7.766667</td>\n",
       "    </tr>\n",
       "    <tr>\n",
       "      <th>employee_24</th>\n",
       "      <td>2032-08-26 09:29:00</td>\n",
       "      <td>2032-08-26 16:51:00</td>\n",
       "      <td>0.027</td>\n",
       "      <td>0 days 07:22:00</td>\n",
       "      <td>7.366667</td>\n",
       "    </tr>\n",
       "    <tr>\n",
       "      <th>employee_11</th>\n",
       "      <td>2032-08-26 09:30:00</td>\n",
       "      <td>2032-08-26 16:51:00</td>\n",
       "      <td>0.022</td>\n",
       "      <td>0 days 07:21:00</td>\n",
       "      <td>7.350000</td>\n",
       "    </tr>\n",
       "    <tr>\n",
       "      <th>employee_23</th>\n",
       "      <td>2032-08-26 11:55:00</td>\n",
       "      <td>2032-08-26 16:53:00</td>\n",
       "      <td>0.006</td>\n",
       "      <td>0 days 04:58:00</td>\n",
       "      <td>4.966667</td>\n",
       "    </tr>\n",
       "    <tr>\n",
       "      <th>employee_19</th>\n",
       "      <td>2032-08-26 11:56:00</td>\n",
       "      <td>2032-08-26 16:53:00</td>\n",
       "      <td>0.006</td>\n",
       "      <td>0 days 04:57:00</td>\n",
       "      <td>4.950000</td>\n",
       "    </tr>\n",
       "    <tr>\n",
       "      <th>employee_3</th>\n",
       "      <td>2032-08-27 09:32:00</td>\n",
       "      <td>2032-08-27 16:39:00</td>\n",
       "      <td>0.028</td>\n",
       "      <td>0 days 07:07:00</td>\n",
       "      <td>7.116667</td>\n",
       "    </tr>\n",
       "    <tr>\n",
       "      <th>employee_4</th>\n",
       "      <td>2032-08-27 09:33:00</td>\n",
       "      <td>2032-08-27 16:40:00</td>\n",
       "      <td>0.020</td>\n",
       "      <td>0 days 07:07:00</td>\n",
       "      <td>7.116667</td>\n",
       "    </tr>\n",
       "    <tr>\n",
       "      <th>employee_24</th>\n",
       "      <td>2032-08-27 14:44:00</td>\n",
       "      <td>2032-08-27 16:42:00</td>\n",
       "      <td>0.005</td>\n",
       "      <td>0 days 01:58:00</td>\n",
       "      <td>1.966667</td>\n",
       "    </tr>\n",
       "    <tr>\n",
       "      <th>employee_11</th>\n",
       "      <td>2032-08-27 14:45:00</td>\n",
       "      <td>2032-08-27 16:38:00</td>\n",
       "      <td>0.005</td>\n",
       "      <td>0 days 01:53:00</td>\n",
       "      <td>1.883333</td>\n",
       "    </tr>\n",
       "    <tr>\n",
       "      <th>employee_24</th>\n",
       "      <td>2032-08-28 09:23:00</td>\n",
       "      <td>2032-08-28 16:11:00</td>\n",
       "      <td>0.016</td>\n",
       "      <td>0 days 06:48:00</td>\n",
       "      <td>6.800000</td>\n",
       "    </tr>\n",
       "    <tr>\n",
       "      <th>employee_11</th>\n",
       "      <td>2032-08-28 09:25:00</td>\n",
       "      <td>2032-08-28 16:11:00</td>\n",
       "      <td>0.017</td>\n",
       "      <td>0 days 06:46:00</td>\n",
       "      <td>6.766667</td>\n",
       "    </tr>\n",
       "    <tr>\n",
       "      <th>employee_19</th>\n",
       "      <td>2032-08-28 09:47:00</td>\n",
       "      <td>2032-08-28 10:10:00</td>\n",
       "      <td>0.001</td>\n",
       "      <td>0 days 00:23:00</td>\n",
       "      <td>0.383333</td>\n",
       "    </tr>\n",
       "    <tr>\n",
       "      <th>employee_18</th>\n",
       "      <td>2032-09-01 09:50:00</td>\n",
       "      <td>2032-09-01 17:25:00</td>\n",
       "      <td>0.040</td>\n",
       "      <td>0 days 07:35:00</td>\n",
       "      <td>7.583333</td>\n",
       "    </tr>\n",
       "    <tr>\n",
       "      <th>employee_9</th>\n",
       "      <td>2032-09-01 09:51:00</td>\n",
       "      <td>2032-09-01 17:23:00</td>\n",
       "      <td>0.037</td>\n",
       "      <td>0 days 07:32:00</td>\n",
       "      <td>7.533333</td>\n",
       "    </tr>\n",
       "    <tr>\n",
       "      <th>employee_18</th>\n",
       "      <td>2032-09-02 09:10:00</td>\n",
       "      <td>2032-09-02 16:04:00</td>\n",
       "      <td>0.008</td>\n",
       "      <td>0 days 06:54:00</td>\n",
       "      <td>6.900000</td>\n",
       "    </tr>\n",
       "    <tr>\n",
       "      <th>employee_9</th>\n",
       "      <td>2032-09-02 09:11:00</td>\n",
       "      <td>2032-09-02 16:04:00</td>\n",
       "      <td>0.006</td>\n",
       "      <td>0 days 06:53:00</td>\n",
       "      <td>6.883333</td>\n",
       "    </tr>\n",
       "    <tr>\n",
       "      <th>employee_18</th>\n",
       "      <td>2032-09-03 08:58:00</td>\n",
       "      <td>2032-09-03 16:41:00</td>\n",
       "      <td>0.046</td>\n",
       "      <td>0 days 07:43:00</td>\n",
       "      <td>7.716667</td>\n",
       "    </tr>\n",
       "    <tr>\n",
       "      <th>employee_9</th>\n",
       "      <td>2032-09-03 08:58:00</td>\n",
       "      <td>2032-09-03 16:41:00</td>\n",
       "      <td>0.038</td>\n",
       "      <td>0 days 07:43:00</td>\n",
       "      <td>7.716667</td>\n",
       "    </tr>\n",
       "    <tr>\n",
       "      <th>employee_3</th>\n",
       "      <td>2032-09-04 09:00:00</td>\n",
       "      <td>2032-09-04 12:23:00</td>\n",
       "      <td>0.013</td>\n",
       "      <td>0 days 03:23:00</td>\n",
       "      <td>3.383333</td>\n",
       "    </tr>\n",
       "    <tr>\n",
       "      <th>employee_22</th>\n",
       "      <td>2032-09-04 09:01:00</td>\n",
       "      <td>2032-09-04 12:22:00</td>\n",
       "      <td>0.014</td>\n",
       "      <td>0 days 03:21:00</td>\n",
       "      <td>3.350000</td>\n",
       "    </tr>\n",
       "    <tr>\n",
       "      <th>employee_18</th>\n",
       "      <td>2032-09-04 09:17:00</td>\n",
       "      <td>2032-09-04 17:09:00</td>\n",
       "      <td>0.021</td>\n",
       "      <td>0 days 07:52:00</td>\n",
       "      <td>7.866667</td>\n",
       "    </tr>\n",
       "    <tr>\n",
       "      <th>employee_26</th>\n",
       "      <td>2032-09-04 09:18:00</td>\n",
       "      <td>2032-09-04 16:54:00</td>\n",
       "      <td>0.016</td>\n",
       "      <td>0 days 07:36:00</td>\n",
       "      <td>7.600000</td>\n",
       "    </tr>\n",
       "    <tr>\n",
       "      <th>employee_19</th>\n",
       "      <td>2032-09-08 09:22:00</td>\n",
       "      <td>2032-09-08 09:51:00</td>\n",
       "      <td>0.002</td>\n",
       "      <td>0 days 00:29:00</td>\n",
       "      <td>0.483333</td>\n",
       "    </tr>\n",
       "    <tr>\n",
       "      <th>employee_1</th>\n",
       "      <td>2032-09-08 09:23:00</td>\n",
       "      <td>2032-09-08 16:26:00</td>\n",
       "      <td>0.020</td>\n",
       "      <td>0 days 07:03:00</td>\n",
       "      <td>7.050000</td>\n",
       "    </tr>\n",
       "    <tr>\n",
       "      <th>employee_14</th>\n",
       "      <td>2032-09-08 09:24:00</td>\n",
       "      <td>2032-09-08 16:28:00</td>\n",
       "      <td>0.021</td>\n",
       "      <td>0 days 07:04:00</td>\n",
       "      <td>7.066667</td>\n",
       "    </tr>\n",
       "    <tr>\n",
       "      <th>employee_2</th>\n",
       "      <td>2032-09-09 09:17:00</td>\n",
       "      <td>2032-09-09 15:38:00</td>\n",
       "      <td>0.025</td>\n",
       "      <td>0 days 06:21:00</td>\n",
       "      <td>6.350000</td>\n",
       "    </tr>\n",
       "    <tr>\n",
       "      <th>employee_11</th>\n",
       "      <td>2032-09-09 09:17:00</td>\n",
       "      <td>2032-09-09 15:37:00</td>\n",
       "      <td>0.026</td>\n",
       "      <td>0 days 06:20:00</td>\n",
       "      <td>6.333333</td>\n",
       "    </tr>\n",
       "    <tr>\n",
       "      <th>employee_17</th>\n",
       "      <td>2032-09-09 10:22:00</td>\n",
       "      <td>2032-09-09 11:03:00</td>\n",
       "      <td>0.006</td>\n",
       "      <td>0 days 00:41:00</td>\n",
       "      <td>0.683333</td>\n",
       "    </tr>\n",
       "    <tr>\n",
       "      <th>employee_19</th>\n",
       "      <td>2032-09-09 11:32:00</td>\n",
       "      <td>2032-09-09 12:16:00</td>\n",
       "      <td>0.002</td>\n",
       "      <td>0 days 00:44:00</td>\n",
       "      <td>0.733333</td>\n",
       "    </tr>\n",
       "    <tr>\n",
       "      <th>employee_11</th>\n",
       "      <td>2032-09-10 09:15:00</td>\n",
       "      <td>2032-09-10 16:14:00</td>\n",
       "      <td>0.028</td>\n",
       "      <td>0 days 06:59:00</td>\n",
       "      <td>6.983333</td>\n",
       "    </tr>\n",
       "    <tr>\n",
       "      <th>employee_2</th>\n",
       "      <td>2032-09-10 11:17:00</td>\n",
       "      <td>2032-09-10 16:14:00</td>\n",
       "      <td>0.017</td>\n",
       "      <td>0 days 04:57:00</td>\n",
       "      <td>4.950000</td>\n",
       "    </tr>\n",
       "    <tr>\n",
       "      <th>employee_15</th>\n",
       "      <td>2032-09-11 08:34:00</td>\n",
       "      <td>2032-09-11 14:22:00</td>\n",
       "      <td>0.029</td>\n",
       "      <td>0 days 05:48:00</td>\n",
       "      <td>5.800000</td>\n",
       "    </tr>\n",
       "    <tr>\n",
       "      <th>employee_13</th>\n",
       "      <td>2032-09-11 08:34:00</td>\n",
       "      <td>2032-09-11 14:22:00</td>\n",
       "      <td>0.027</td>\n",
       "      <td>0 days 05:48:00</td>\n",
       "      <td>5.800000</td>\n",
       "    </tr>\n",
       "    <tr>\n",
       "      <th>employee_10</th>\n",
       "      <td>2032-09-11 08:35:00</td>\n",
       "      <td>2032-09-11 14:30:00</td>\n",
       "      <td>0.023</td>\n",
       "      <td>0 days 05:55:00</td>\n",
       "      <td>5.916667</td>\n",
       "    </tr>\n",
       "    <tr>\n",
       "      <th>employee_11</th>\n",
       "      <td>2032-09-12 09:10:00</td>\n",
       "      <td>2032-09-12 12:01:00</td>\n",
       "      <td>0.023</td>\n",
       "      <td>0 days 02:51:00</td>\n",
       "      <td>2.850000</td>\n",
       "    </tr>\n",
       "    <tr>\n",
       "      <th>employee_21</th>\n",
       "      <td>2032-09-12 09:11:00</td>\n",
       "      <td>2032-09-12 12:00:00</td>\n",
       "      <td>0.014</td>\n",
       "      <td>0 days 02:49:00</td>\n",
       "      <td>2.816667</td>\n",
       "    </tr>\n",
       "    <tr>\n",
       "      <th>employee_13</th>\n",
       "      <td>2032-09-12 09:17:00</td>\n",
       "      <td>2032-09-12 11:38:00</td>\n",
       "      <td>0.018</td>\n",
       "      <td>0 days 02:21:00</td>\n",
       "      <td>2.350000</td>\n",
       "    </tr>\n",
       "    <tr>\n",
       "      <th>employee_15</th>\n",
       "      <td>2032-09-12 09:18:00</td>\n",
       "      <td>2032-09-12 11:39:00</td>\n",
       "      <td>0.024</td>\n",
       "      <td>0 days 02:21:00</td>\n",
       "      <td>2.350000</td>\n",
       "    </tr>\n",
       "    <tr>\n",
       "      <th>employee_22</th>\n",
       "      <td>2032-09-16 14:33:00</td>\n",
       "      <td>2032-09-16 15:55:00</td>\n",
       "      <td>0.007</td>\n",
       "      <td>0 days 01:22:00</td>\n",
       "      <td>1.366667</td>\n",
       "    </tr>\n",
       "    <tr>\n",
       "      <th>employee_3</th>\n",
       "      <td>2032-09-16 14:35:00</td>\n",
       "      <td>2032-09-16 15:55:00</td>\n",
       "      <td>0.010</td>\n",
       "      <td>0 days 01:20:00</td>\n",
       "      <td>1.333333</td>\n",
       "    </tr>\n",
       "    <tr>\n",
       "      <th>employee_6</th>\n",
       "      <td>2032-09-16 14:36:00</td>\n",
       "      <td>2032-09-16 15:54:00</td>\n",
       "      <td>0.006</td>\n",
       "      <td>0 days 01:18:00</td>\n",
       "      <td>1.300000</td>\n",
       "    </tr>\n",
       "  </tbody>\n",
       "</table>\n",
       "</div>"
      ],
      "text/plain": [
       "                        Time_in            Time_out  Whole_Body_Dose  \\\n",
       "Name                                                                   \n",
       "employee_2  2032-07-23 09:02:00 2032-07-23 15:07:00            0.030   \n",
       "employee_11 2032-07-23 09:03:00 2032-07-23 15:07:00            0.029   \n",
       "employee_25 2032-07-23 09:53:00 2032-07-23 15:07:00            0.011   \n",
       "employee_2  2032-07-24 08:59:00 2032-07-24 17:02:00            0.043   \n",
       "employee_11 2032-07-24 08:59:00 2032-07-24 17:02:00            0.039   \n",
       "employee_2  2032-07-25 09:14:00 2032-07-25 16:03:00            0.013   \n",
       "employee_11 2032-07-25 09:15:00 2032-07-25 16:02:00            0.012   \n",
       "employee_2  2032-07-26 09:16:00 2032-07-26 15:12:00            0.007   \n",
       "employee_24 2032-07-26 09:17:00 2032-07-26 10:54:00            0.016   \n",
       "employee_21 2032-07-30 09:11:00 2032-07-30 15:35:00            0.024   \n",
       "employee_5  2032-07-30 09:15:00 2032-07-30 16:25:00            0.042   \n",
       "employee_5  2032-07-31 09:18:00 2032-07-31 10:01:00            0.002   \n",
       "employee_21 2032-07-31 09:21:00 2032-07-31 10:01:00            0.003   \n",
       "employee_21 2032-08-04 09:19:00 2032-08-04 16:31:00            0.025   \n",
       "employee_16 2032-08-04 09:19:00 2032-08-04 16:29:00            0.013   \n",
       "employee_21 2032-08-06 09:10:00 2032-08-06 15:14:00            0.005   \n",
       "employee_16 2032-08-06 09:11:00 2032-08-06 16:57:00            0.015   \n",
       "employee_24 2032-08-26 09:29:00 2032-08-26 16:51:00            0.027   \n",
       "employee_11 2032-08-26 09:30:00 2032-08-26 16:51:00            0.022   \n",
       "employee_23 2032-08-26 11:55:00 2032-08-26 16:53:00            0.006   \n",
       "employee_19 2032-08-26 11:56:00 2032-08-26 16:53:00            0.006   \n",
       "employee_3  2032-08-27 09:32:00 2032-08-27 16:39:00            0.028   \n",
       "employee_4  2032-08-27 09:33:00 2032-08-27 16:40:00            0.020   \n",
       "employee_24 2032-08-27 14:44:00 2032-08-27 16:42:00            0.005   \n",
       "employee_11 2032-08-27 14:45:00 2032-08-27 16:38:00            0.005   \n",
       "employee_24 2032-08-28 09:23:00 2032-08-28 16:11:00            0.016   \n",
       "employee_11 2032-08-28 09:25:00 2032-08-28 16:11:00            0.017   \n",
       "employee_19 2032-08-28 09:47:00 2032-08-28 10:10:00            0.001   \n",
       "employee_18 2032-09-01 09:50:00 2032-09-01 17:25:00            0.040   \n",
       "employee_9  2032-09-01 09:51:00 2032-09-01 17:23:00            0.037   \n",
       "employee_18 2032-09-02 09:10:00 2032-09-02 16:04:00            0.008   \n",
       "employee_9  2032-09-02 09:11:00 2032-09-02 16:04:00            0.006   \n",
       "employee_18 2032-09-03 08:58:00 2032-09-03 16:41:00            0.046   \n",
       "employee_9  2032-09-03 08:58:00 2032-09-03 16:41:00            0.038   \n",
       "employee_3  2032-09-04 09:00:00 2032-09-04 12:23:00            0.013   \n",
       "employee_22 2032-09-04 09:01:00 2032-09-04 12:22:00            0.014   \n",
       "employee_18 2032-09-04 09:17:00 2032-09-04 17:09:00            0.021   \n",
       "employee_26 2032-09-04 09:18:00 2032-09-04 16:54:00            0.016   \n",
       "employee_19 2032-09-08 09:22:00 2032-09-08 09:51:00            0.002   \n",
       "employee_1  2032-09-08 09:23:00 2032-09-08 16:26:00            0.020   \n",
       "employee_14 2032-09-08 09:24:00 2032-09-08 16:28:00            0.021   \n",
       "employee_2  2032-09-09 09:17:00 2032-09-09 15:38:00            0.025   \n",
       "employee_11 2032-09-09 09:17:00 2032-09-09 15:37:00            0.026   \n",
       "employee_17 2032-09-09 10:22:00 2032-09-09 11:03:00            0.006   \n",
       "employee_19 2032-09-09 11:32:00 2032-09-09 12:16:00            0.002   \n",
       "employee_11 2032-09-10 09:15:00 2032-09-10 16:14:00            0.028   \n",
       "employee_2  2032-09-10 11:17:00 2032-09-10 16:14:00            0.017   \n",
       "employee_15 2032-09-11 08:34:00 2032-09-11 14:22:00            0.029   \n",
       "employee_13 2032-09-11 08:34:00 2032-09-11 14:22:00            0.027   \n",
       "employee_10 2032-09-11 08:35:00 2032-09-11 14:30:00            0.023   \n",
       "employee_11 2032-09-12 09:10:00 2032-09-12 12:01:00            0.023   \n",
       "employee_21 2032-09-12 09:11:00 2032-09-12 12:00:00            0.014   \n",
       "employee_13 2032-09-12 09:17:00 2032-09-12 11:38:00            0.018   \n",
       "employee_15 2032-09-12 09:18:00 2032-09-12 11:39:00            0.024   \n",
       "employee_22 2032-09-16 14:33:00 2032-09-16 15:55:00            0.007   \n",
       "employee_3  2032-09-16 14:35:00 2032-09-16 15:55:00            0.010   \n",
       "employee_6  2032-09-16 14:36:00 2032-09-16 15:54:00            0.006   \n",
       "\n",
       "                       diff  Time_Decimal  \n",
       "Name                                       \n",
       "employee_2  0 days 06:05:00      6.083333  \n",
       "employee_11 0 days 06:04:00      6.066667  \n",
       "employee_25 0 days 05:14:00      5.233333  \n",
       "employee_2  0 days 08:03:00      8.050000  \n",
       "employee_11 0 days 08:03:00      8.050000  \n",
       "employee_2  0 days 06:49:00      6.816667  \n",
       "employee_11 0 days 06:47:00      6.783333  \n",
       "employee_2  0 days 05:56:00      5.933333  \n",
       "employee_24 0 days 01:37:00      1.616667  \n",
       "employee_21 0 days 06:24:00      6.400000  \n",
       "employee_5  0 days 07:10:00      7.166667  \n",
       "employee_5  0 days 00:43:00      0.716667  \n",
       "employee_21 0 days 00:40:00      0.666667  \n",
       "employee_21 0 days 07:12:00      7.200000  \n",
       "employee_16 0 days 07:10:00      7.166667  \n",
       "employee_21 0 days 06:04:00      6.066667  \n",
       "employee_16 0 days 07:46:00      7.766667  \n",
       "employee_24 0 days 07:22:00      7.366667  \n",
       "employee_11 0 days 07:21:00      7.350000  \n",
       "employee_23 0 days 04:58:00      4.966667  \n",
       "employee_19 0 days 04:57:00      4.950000  \n",
       "employee_3  0 days 07:07:00      7.116667  \n",
       "employee_4  0 days 07:07:00      7.116667  \n",
       "employee_24 0 days 01:58:00      1.966667  \n",
       "employee_11 0 days 01:53:00      1.883333  \n",
       "employee_24 0 days 06:48:00      6.800000  \n",
       "employee_11 0 days 06:46:00      6.766667  \n",
       "employee_19 0 days 00:23:00      0.383333  \n",
       "employee_18 0 days 07:35:00      7.583333  \n",
       "employee_9  0 days 07:32:00      7.533333  \n",
       "employee_18 0 days 06:54:00      6.900000  \n",
       "employee_9  0 days 06:53:00      6.883333  \n",
       "employee_18 0 days 07:43:00      7.716667  \n",
       "employee_9  0 days 07:43:00      7.716667  \n",
       "employee_3  0 days 03:23:00      3.383333  \n",
       "employee_22 0 days 03:21:00      3.350000  \n",
       "employee_18 0 days 07:52:00      7.866667  \n",
       "employee_26 0 days 07:36:00      7.600000  \n",
       "employee_19 0 days 00:29:00      0.483333  \n",
       "employee_1  0 days 07:03:00      7.050000  \n",
       "employee_14 0 days 07:04:00      7.066667  \n",
       "employee_2  0 days 06:21:00      6.350000  \n",
       "employee_11 0 days 06:20:00      6.333333  \n",
       "employee_17 0 days 00:41:00      0.683333  \n",
       "employee_19 0 days 00:44:00      0.733333  \n",
       "employee_11 0 days 06:59:00      6.983333  \n",
       "employee_2  0 days 04:57:00      4.950000  \n",
       "employee_15 0 days 05:48:00      5.800000  \n",
       "employee_13 0 days 05:48:00      5.800000  \n",
       "employee_10 0 days 05:55:00      5.916667  \n",
       "employee_11 0 days 02:51:00      2.850000  \n",
       "employee_21 0 days 02:49:00      2.816667  \n",
       "employee_13 0 days 02:21:00      2.350000  \n",
       "employee_15 0 days 02:21:00      2.350000  \n",
       "employee_22 0 days 01:22:00      1.366667  \n",
       "employee_3  0 days 01:20:00      1.333333  \n",
       "employee_6  0 days 01:18:00      1.300000  "
      ]
     },
     "execution_count": 31,
     "metadata": {},
     "output_type": "execute_result"
    }
   ],
   "source": [
    "dayshift_3 = df1.loc[df1['Time_in'].dt.time < time(21,00)]\n",
    "dayshift_3"
   ]
  },
  {
   "cell_type": "code",
   "execution_count": 32,
   "id": "3585902f",
   "metadata": {},
   "outputs": [
    {
     "data": {
      "text/html": [
       "<div>\n",
       "<style scoped>\n",
       "    .dataframe tbody tr th:only-of-type {\n",
       "        vertical-align: middle;\n",
       "    }\n",
       "\n",
       "    .dataframe tbody tr th {\n",
       "        vertical-align: top;\n",
       "    }\n",
       "\n",
       "    .dataframe thead th {\n",
       "        text-align: right;\n",
       "    }\n",
       "</style>\n",
       "<table border=\"1\" class=\"dataframe\">\n",
       "  <thead>\n",
       "    <tr style=\"text-align: right;\">\n",
       "      <th></th>\n",
       "      <th>Time_in</th>\n",
       "      <th>Time_out</th>\n",
       "      <th>Whole_Body_Dose</th>\n",
       "      <th>diff</th>\n",
       "      <th>Time_Decimal</th>\n",
       "    </tr>\n",
       "    <tr>\n",
       "      <th>Name</th>\n",
       "      <th></th>\n",
       "      <th></th>\n",
       "      <th></th>\n",
       "      <th></th>\n",
       "      <th></th>\n",
       "    </tr>\n",
       "  </thead>\n",
       "  <tbody>\n",
       "    <tr>\n",
       "      <th>employee_1</th>\n",
       "      <td>2025-07-21 09:57:00</td>\n",
       "      <td>2025-07-21 15:13:00</td>\n",
       "      <td>0.008</td>\n",
       "      <td>0 days 05:16:00</td>\n",
       "      <td>5.266667</td>\n",
       "    </tr>\n",
       "    <tr>\n",
       "      <th>employee_1</th>\n",
       "      <td>2025-07-22 09:03:00</td>\n",
       "      <td>2025-07-22 15:10:00</td>\n",
       "      <td>0.009</td>\n",
       "      <td>0 days 06:07:00</td>\n",
       "      <td>6.116667</td>\n",
       "    </tr>\n",
       "    <tr>\n",
       "      <th>employee_1</th>\n",
       "      <td>2025-08-10 09:17:00</td>\n",
       "      <td>2025-08-10 15:57:00</td>\n",
       "      <td>0.020</td>\n",
       "      <td>0 days 06:40:00</td>\n",
       "      <td>6.666667</td>\n",
       "    </tr>\n",
       "    <tr>\n",
       "      <th>employee_1</th>\n",
       "      <td>2025-08-11 08:58:00</td>\n",
       "      <td>2025-08-11 15:57:00</td>\n",
       "      <td>0.012</td>\n",
       "      <td>0 days 06:59:00</td>\n",
       "      <td>6.983333</td>\n",
       "    </tr>\n",
       "    <tr>\n",
       "      <th>employee_1</th>\n",
       "      <td>2025-08-13 09:04:00</td>\n",
       "      <td>2025-08-13 15:11:00</td>\n",
       "      <td>0.021</td>\n",
       "      <td>0 days 06:07:00</td>\n",
       "      <td>6.116667</td>\n",
       "    </tr>\n",
       "    <tr>\n",
       "      <th>...</th>\n",
       "      <td>...</td>\n",
       "      <td>...</td>\n",
       "      <td>...</td>\n",
       "      <td>...</td>\n",
       "      <td>...</td>\n",
       "    </tr>\n",
       "    <tr>\n",
       "      <th>employee_6</th>\n",
       "      <td>2025-10-05 08:34:00</td>\n",
       "      <td>2025-10-05 09:14:00</td>\n",
       "      <td>0.002</td>\n",
       "      <td>0 days 00:40:00</td>\n",
       "      <td>0.666667</td>\n",
       "    </tr>\n",
       "    <tr>\n",
       "      <th>employee_6</th>\n",
       "      <td>2025-11-03 08:48:00</td>\n",
       "      <td>2025-11-03 14:48:00</td>\n",
       "      <td>0.008</td>\n",
       "      <td>0 days 06:00:00</td>\n",
       "      <td>6.000000</td>\n",
       "    </tr>\n",
       "    <tr>\n",
       "      <th>employee_6</th>\n",
       "      <td>2025-12-17 13:30:00</td>\n",
       "      <td>2025-12-17 14:55:00</td>\n",
       "      <td>0.004</td>\n",
       "      <td>0 days 01:25:00</td>\n",
       "      <td>1.416667</td>\n",
       "    </tr>\n",
       "    <tr>\n",
       "      <th>employee_8</th>\n",
       "      <td>2025-07-22 09:02:00</td>\n",
       "      <td>2025-07-22 09:55:00</td>\n",
       "      <td>0.004</td>\n",
       "      <td>0 days 00:53:00</td>\n",
       "      <td>0.883333</td>\n",
       "    </tr>\n",
       "    <tr>\n",
       "      <th>employee_9</th>\n",
       "      <td>2025-11-03 13:16:00</td>\n",
       "      <td>2025-11-03 14:47:00</td>\n",
       "      <td>0.008</td>\n",
       "      <td>0 days 01:31:00</td>\n",
       "      <td>1.516667</td>\n",
       "    </tr>\n",
       "  </tbody>\n",
       "</table>\n",
       "<p>90 rows × 5 columns</p>\n",
       "</div>"
      ],
      "text/plain": [
       "                       Time_in            Time_out  Whole_Body_Dose  \\\n",
       "Name                                                                  \n",
       "employee_1 2025-07-21 09:57:00 2025-07-21 15:13:00            0.008   \n",
       "employee_1 2025-07-22 09:03:00 2025-07-22 15:10:00            0.009   \n",
       "employee_1 2025-08-10 09:17:00 2025-08-10 15:57:00            0.020   \n",
       "employee_1 2025-08-11 08:58:00 2025-08-11 15:57:00            0.012   \n",
       "employee_1 2025-08-13 09:04:00 2025-08-13 15:11:00            0.021   \n",
       "...                        ...                 ...              ...   \n",
       "employee_6 2025-10-05 08:34:00 2025-10-05 09:14:00            0.002   \n",
       "employee_6 2025-11-03 08:48:00 2025-11-03 14:48:00            0.008   \n",
       "employee_6 2025-12-17 13:30:00 2025-12-17 14:55:00            0.004   \n",
       "employee_8 2025-07-22 09:02:00 2025-07-22 09:55:00            0.004   \n",
       "employee_9 2025-11-03 13:16:00 2025-11-03 14:47:00            0.008   \n",
       "\n",
       "                      diff  Time_Decimal  \n",
       "Name                                      \n",
       "employee_1 0 days 05:16:00      5.266667  \n",
       "employee_1 0 days 06:07:00      6.116667  \n",
       "employee_1 0 days 06:40:00      6.666667  \n",
       "employee_1 0 days 06:59:00      6.983333  \n",
       "employee_1 0 days 06:07:00      6.116667  \n",
       "...                    ...           ...  \n",
       "employee_6 0 days 00:40:00      0.666667  \n",
       "employee_6 0 days 06:00:00      6.000000  \n",
       "employee_6 0 days 01:25:00      1.416667  \n",
       "employee_8 0 days 00:53:00      0.883333  \n",
       "employee_9 0 days 01:31:00      1.516667  \n",
       "\n",
       "[90 rows x 5 columns]"
      ]
     },
     "execution_count": 32,
     "metadata": {},
     "output_type": "execute_result"
    }
   ],
   "source": [
    "dayshift_4 = df2.loc[df2['Time_in'].dt.time < time(21,00)]\n",
    "dayshift_4"
   ]
  },
  {
   "cell_type": "markdown",
   "id": "e16cca1c",
   "metadata": {},
   "source": [
    "# df1, Time and Dose Data Total"
   ]
  },
  {
   "cell_type": "markdown",
   "id": "7cd87459",
   "metadata": {},
   "source": [
    "In the below code I have summed up the total time taking across the entirety of the data frame, collective dose taking across the whole data frame, the average time and the average dose taking.\n",
    "\n",
    "The task took a total of 33 days and 11 hours, accruing a total of 2.05 mSv (millisievert). 1 mSv (millisievert) is 1000 µSv (microsieverts)."
   ]
  },
  {
   "cell_type": "code",
   "execution_count": 33,
   "id": "136b6447",
   "metadata": {},
   "outputs": [
    {
     "data": {
      "text/plain": [
       "Timedelta('33 days 11:06:00')"
      ]
     },
     "execution_count": 33,
     "metadata": {},
     "output_type": "execute_result"
    }
   ],
   "source": [
    "df1['diff'].sum()"
   ]
  },
  {
   "cell_type": "code",
   "execution_count": 35,
   "id": "7e5f7085",
   "metadata": {},
   "outputs": [
    {
     "data": {
      "text/plain": [
       "2.0500000000000003"
      ]
     },
     "execution_count": 35,
     "metadata": {},
     "output_type": "execute_result"
    }
   ],
   "source": [
    "df1['Whole_Body_Dose'].sum()"
   ]
  },
  {
   "cell_type": "code",
   "execution_count": 36,
   "id": "f7e409e7",
   "metadata": {},
   "outputs": [
    {
     "data": {
      "text/plain": [
       "Timedelta('0 days 06:28:35.806451612')"
      ]
     },
     "execution_count": 36,
     "metadata": {},
     "output_type": "execute_result"
    }
   ],
   "source": [
    "df1['diff'].mean(axis=0)"
   ]
  },
  {
   "cell_type": "code",
   "execution_count": 37,
   "id": "f28f2fbc",
   "metadata": {},
   "outputs": [
    {
     "data": {
      "text/plain": [
       "0.016532258064516116"
      ]
     },
     "execution_count": 37,
     "metadata": {},
     "output_type": "execute_result"
    }
   ],
   "source": [
    "df1['Whole_Body_Dose'].mean(axis=0)"
   ]
  },
  {
   "cell_type": "markdown",
   "id": "b85f3008",
   "metadata": {},
   "source": [
    "## df1, Time and Dose Data Dayshift"
   ]
  },
  {
   "cell_type": "markdown",
   "id": "1b0c1610",
   "metadata": {},
   "source": [
    "As we can see day shift has taken a total of 12 days and 5 hours, with the total accrued dose of 1.04 mSv (millisievert) at an average dose of 18 µSv (microsieverts), this is interesting as the above collective average dose was 16 µSv (microsieverts)."
   ]
  },
  {
   "cell_type": "code",
   "execution_count": 38,
   "id": "4a8d2f80",
   "metadata": {},
   "outputs": [
    {
     "data": {
      "text/plain": [
       "Timedelta('12 days 05:30:00')"
      ]
     },
     "execution_count": 38,
     "metadata": {},
     "output_type": "execute_result"
    }
   ],
   "source": [
    "dayshift_3['diff'].sum()"
   ]
  },
  {
   "cell_type": "code",
   "execution_count": 40,
   "id": "307e2044",
   "metadata": {},
   "outputs": [
    {
     "data": {
      "text/plain": [
       "1.0490000000000002"
      ]
     },
     "execution_count": 40,
     "metadata": {},
     "output_type": "execute_result"
    }
   ],
   "source": [
    "dayshift_3['Whole_Body_Dose'].sum()"
   ]
  },
  {
   "cell_type": "code",
   "execution_count": 41,
   "id": "3d5bd6ce",
   "metadata": {},
   "outputs": [
    {
     "data": {
      "text/plain": [
       "Timedelta('0 days 05:08:56.842105263')"
      ]
     },
     "execution_count": 41,
     "metadata": {},
     "output_type": "execute_result"
    }
   ],
   "source": [
    "dayshift_3['diff'].mean(axis=0)"
   ]
  },
  {
   "cell_type": "code",
   "execution_count": 42,
   "id": "ee58c0d6",
   "metadata": {},
   "outputs": [
    {
     "data": {
      "text/plain": [
       "0.018403508771929835"
      ]
     },
     "execution_count": 42,
     "metadata": {},
     "output_type": "execute_result"
    }
   ],
   "source": [
    "dayshift_3['Whole_Body_Dose'].mean(axis=0)"
   ]
  },
  {
   "cell_type": "markdown",
   "id": "782837fd",
   "metadata": {},
   "source": [
    "## df1, Time and Dose Data Nightshift"
   ]
  },
  {
   "cell_type": "markdown",
   "id": "4c8e4533",
   "metadata": {},
   "source": [
    "Now the interesting stuff. The below code shows that the total time taken to complete the task was 21 days and 5 hours, accruing a total of 1.001 mSv (millisievert) with an average dose of 14 µSv (microsieverts).\n",
    "\n",
    "So night shift took a total of 48 µSv (microsieverts) less than day shift, but took 9 days more to achieve this????\n",
    "\n",
    "My discovery is that radiation is nocturnal or the employees on night shift are not handing in there EPDs (Electronic Personal Dosimeter) when the task is complete. You can make your own conclusion on this. I would say the latter as the men the feel they are being tracked, this is why they dont hand in the EPD when they complete the task."
   ]
  },
  {
   "cell_type": "code",
   "execution_count": 44,
   "id": "298e942f",
   "metadata": {},
   "outputs": [
    {
     "data": {
      "text/plain": [
       "Timedelta('21 days 05:36:00')"
      ]
     },
     "execution_count": 44,
     "metadata": {},
     "output_type": "execute_result"
    }
   ],
   "source": [
    "nightshift_3['diff'].sum()"
   ]
  },
  {
   "cell_type": "code",
   "execution_count": 45,
   "id": "4bbc99d5",
   "metadata": {},
   "outputs": [
    {
     "data": {
      "text/plain": [
       "1.0010000000000001"
      ]
     },
     "execution_count": 45,
     "metadata": {},
     "output_type": "execute_result"
    }
   ],
   "source": [
    "nightshift_3['Whole_Body_Dose'].sum()"
   ]
  },
  {
   "cell_type": "code",
   "execution_count": 46,
   "id": "df210802",
   "metadata": {},
   "outputs": [
    {
     "data": {
      "text/plain": [
       "Timedelta('0 days 07:36:21.492537313')"
      ]
     },
     "execution_count": 46,
     "metadata": {},
     "output_type": "execute_result"
    }
   ],
   "source": [
    "nightshift_3['diff'].mean(axis=0)"
   ]
  },
  {
   "cell_type": "code",
   "execution_count": 47,
   "id": "a09e1963",
   "metadata": {},
   "outputs": [
    {
     "data": {
      "text/plain": [
       "0.014940298507462695"
      ]
     },
     "execution_count": 47,
     "metadata": {},
     "output_type": "execute_result"
    }
   ],
   "source": [
    "nightshift_3['Whole_Body_Dose'].mean(axis=0)"
   ]
  },
  {
   "cell_type": "markdown",
   "id": "525c7f9f",
   "metadata": {},
   "source": [
    "# Pie Charts Showing df1 Total Dose, Dayshift Dose and Nightshift Dose "
   ]
  },
  {
   "cell_type": "markdown",
   "id": "c2198006",
   "metadata": {},
   "source": [
    "The below code shows my interactive pie charts, you just hover the mouse over the top of the pie to see the dose accrued and the person thats taken it. You can see below that Person 15 took most of his dose on day shift."
   ]
  },
  {
   "cell_type": "code",
   "execution_count": 50,
   "id": "aa443bbf",
   "metadata": {},
   "outputs": [
    {
     "data": {
      "application/vnd.plotly.v1+json": {
       "config": {
        "linkText": "Export to plot.ly",
        "plotlyServerURL": "https://plot.ly",
        "showLink": true
       },
       "data": [
        {
         "labels": [
          "employee_26",
          "employee_14",
          "employee_26",
          "employee_9",
          "employee_8",
          "employee_21",
          "employee_9",
          "employee_8",
          "employee_21",
          "employee_2",
          "employee_11",
          "employee_25",
          "employee_8",
          "employee_21",
          "employee_2",
          "employee_11",
          "employee_18",
          "employee_8",
          "employee_2",
          "employee_11",
          "employee_2",
          "employee_24",
          "employee_23",
          "employee_16",
          "employee_14",
          "employee_20",
          "employee_21",
          "employee_5",
          "employee_14",
          "employee_20",
          "employee_5",
          "employee_21",
          "employee_21",
          "employee_16",
          "employee_18",
          "employee_9",
          "employee_18",
          "employee_9",
          "employee_7",
          "employee_21",
          "employee_16",
          "employee_3",
          "employee_6",
          "employee_4",
          "employee_24",
          "employee_11",
          "employee_23",
          "employee_19",
          "employee_3",
          "employee_4",
          "employee_24",
          "employee_11",
          "employee_24",
          "employee_11",
          "employee_19",
          "employee_18",
          "employee_9",
          "employee_19",
          "employee_16",
          "employee_8",
          "employee_11",
          "employee_14",
          "employee_17",
          "employee_18",
          "employee_9",
          "employee_11",
          "employee_14",
          "employee_16",
          "employee_18",
          "employee_9",
          "employee_2",
          "employee_19",
          "employee_10",
          "employee_8",
          "employee_11",
          "employee_14",
          "employee_16",
          "employee_3",
          "employee_22",
          "employee_18",
          "employee_26",
          "employee_15",
          "employee_10",
          "employee_13",
          "employee_11",
          "employee_14",
          "employee_16",
          "employee_19",
          "employee_1",
          "employee_14",
          "employee_1",
          "employee_23",
          "employee_26",
          "employee_2",
          "employee_11",
          "employee_17",
          "employee_19",
          "employee_26",
          "employee_1",
          "employee_11",
          "employee_2",
          "employee_3",
          "employee_6",
          "employee_26",
          "employee_1",
          "employee_15",
          "employee_13",
          "employee_10",
          "employee_11",
          "employee_21",
          "employee_13",
          "employee_15",
          "employee_16",
          "employee_21",
          "employee_22",
          "employee_3",
          "employee_6",
          "employee_15",
          "employee_10",
          "employee_12",
          "employee_10",
          "employee_15",
          "employee_8",
          "employee_21"
         ],
         "marker": {
          "colors": [
           "rgba(255, 153, 51, 1.0)",
           "rgba(55, 128, 191, 1.0)",
           "rgba(50, 171, 96, 1.0)",
           "rgba(128, 0, 128, 1.0)",
           "rgba(219, 64, 82, 1.0)",
           "rgba(0, 128, 128, 1.0)",
           "rgba(255, 255, 51, 1.0)",
           "rgba(128, 128, 0, 1.0)",
           "rgba(251, 128, 114, 1.0)",
           "rgba(128, 177, 211, 1.0)",
           "rgba(128, 177, 211, 0.935483870967742)",
           "rgba(255, 153, 51, 0.935483870967742)",
           "rgba(55, 128, 191, 0.935483870967742)",
           "rgba(50, 171, 96, 0.935483870967742)",
           "rgba(128, 0, 128, 0.935483870967742)",
           "rgba(219, 64, 82, 0.935483870967742)",
           "rgba(0, 128, 128, 0.935483870967742)",
           "rgba(255, 255, 51, 0.935483870967742)",
           "rgba(128, 128, 0, 0.935483870967742)",
           "rgba(251, 128, 114, 0.935483870967742)",
           "rgba(251, 128, 114, 0.8709677419354838)",
           "rgba(128, 177, 211, 0.8709677419354838)",
           "rgba(255, 153, 51, 0.8709677419354838)",
           "rgba(55, 128, 191, 0.8709677419354838)",
           "rgba(50, 171, 96, 0.8709677419354838)",
           "rgba(128, 0, 128, 0.8709677419354838)",
           "rgba(219, 64, 82, 0.8709677419354838)",
           "rgba(0, 128, 128, 0.8709677419354838)",
           "rgba(255, 255, 51, 0.8709677419354838)",
           "rgba(128, 128, 0, 0.8709677419354838)",
           "rgba(128, 128, 0, 0.8064516129032258)",
           "rgba(251, 128, 114, 0.8064516129032258)",
           "rgba(128, 177, 211, 0.8064516129032258)",
           "rgba(255, 153, 51, 0.8064516129032258)",
           "rgba(55, 128, 191, 0.8064516129032258)",
           "rgba(50, 171, 96, 0.8064516129032258)",
           "rgba(128, 0, 128, 0.8064516129032258)",
           "rgba(219, 64, 82, 0.8064516129032258)",
           "rgba(0, 128, 128, 0.8064516129032258)",
           "rgba(255, 255, 51, 0.8064516129032258)",
           "rgba(255, 255, 51, 0.7419354838709677)",
           "rgba(128, 128, 0, 0.7419354838709677)",
           "rgba(251, 128, 114, 0.7419354838709677)",
           "rgba(128, 177, 211, 0.7419354838709677)",
           "rgba(255, 153, 51, 0.7419354838709677)",
           "rgba(55, 128, 191, 0.7419354838709677)",
           "rgba(50, 171, 96, 0.7419354838709677)",
           "rgba(128, 0, 128, 0.7419354838709677)",
           "rgba(219, 64, 82, 0.7419354838709677)",
           "rgba(0, 128, 128, 0.7419354838709677)",
           "rgba(0, 128, 128, 0.6774193548387097)",
           "rgba(255, 255, 51, 0.6774193548387097)",
           "rgba(128, 128, 0, 0.6774193548387097)",
           "rgba(251, 128, 114, 0.6774193548387097)",
           "rgba(128, 177, 211, 0.6774193548387097)",
           "rgba(255, 153, 51, 0.6774193548387097)",
           "rgba(55, 128, 191, 0.6774193548387097)",
           "rgba(50, 171, 96, 0.6774193548387097)",
           "rgba(128, 0, 128, 0.6774193548387097)",
           "rgba(219, 64, 82, 0.6774193548387097)",
           "rgba(219, 64, 82, 0.6129032258064515)",
           "rgba(0, 128, 128, 0.6129032258064515)",
           "rgba(255, 255, 51, 0.6129032258064515)",
           "rgba(128, 128, 0, 0.6129032258064515)",
           "rgba(251, 128, 114, 0.6129032258064515)",
           "rgba(128, 177, 211, 0.6129032258064515)",
           "rgba(255, 153, 51, 0.6129032258064515)",
           "rgba(55, 128, 191, 0.6129032258064515)",
           "rgba(50, 171, 96, 0.6129032258064515)",
           "rgba(128, 0, 128, 0.6129032258064515)",
           "rgba(128, 0, 128, 0.5483870967741935)",
           "rgba(219, 64, 82, 0.5483870967741935)",
           "rgba(0, 128, 128, 0.5483870967741935)",
           "rgba(255, 255, 51, 0.5483870967741935)",
           "rgba(128, 128, 0, 0.5483870967741935)",
           "rgba(251, 128, 114, 0.5483870967741935)",
           "rgba(128, 177, 211, 0.5483870967741935)",
           "rgba(255, 153, 51, 0.5483870967741935)",
           "rgba(55, 128, 191, 0.5483870967741935)",
           "rgba(50, 171, 96, 0.5483870967741935)",
           "rgba(50, 171, 96, 0.48387096774193555)",
           "rgba(128, 0, 128, 0.48387096774193555)",
           "rgba(219, 64, 82, 0.48387096774193555)",
           "rgba(0, 128, 128, 0.48387096774193555)",
           "rgba(255, 255, 51, 0.48387096774193555)",
           "rgba(128, 128, 0, 0.48387096774193555)",
           "rgba(251, 128, 114, 0.48387096774193555)",
           "rgba(128, 177, 211, 0.48387096774193555)",
           "rgba(255, 153, 51, 0.48387096774193555)",
           "rgba(55, 128, 191, 0.48387096774193555)",
           "rgba(55, 128, 191, 0.41935483870967755)",
           "rgba(50, 171, 96, 0.41935483870967755)",
           "rgba(128, 0, 128, 0.41935483870967755)",
           "rgba(219, 64, 82, 0.41935483870967755)",
           "rgba(0, 128, 128, 0.41935483870967755)",
           "rgba(255, 255, 51, 0.41935483870967755)",
           "rgba(128, 128, 0, 0.41935483870967755)",
           "rgba(251, 128, 114, 0.41935483870967755)",
           "rgba(128, 177, 211, 0.41935483870967755)",
           "rgba(255, 153, 51, 0.41935483870967755)",
           "rgba(255, 153, 51, 0.3548387096774193)",
           "rgba(55, 128, 191, 0.3548387096774193)",
           "rgba(50, 171, 96, 0.3548387096774193)",
           "rgba(128, 0, 128, 0.3548387096774193)",
           "rgba(219, 64, 82, 0.3548387096774193)",
           "rgba(0, 128, 128, 0.3548387096774193)",
           "rgba(255, 255, 51, 0.3548387096774193)",
           "rgba(128, 128, 0, 0.3548387096774193)",
           "rgba(251, 128, 114, 0.3548387096774193)",
           "rgba(128, 177, 211, 0.3548387096774193)",
           "rgba(128, 177, 211, 0.2903225806451613)",
           "rgba(255, 153, 51, 0.2903225806451613)",
           "rgba(55, 128, 191, 0.2903225806451613)",
           "rgba(50, 171, 96, 0.2903225806451613)",
           "rgba(128, 0, 128, 0.2903225806451613)",
           "rgba(219, 64, 82, 0.2903225806451613)",
           "rgba(0, 128, 128, 0.2903225806451613)",
           "rgba(255, 255, 51, 0.2903225806451613)",
           "rgba(128, 128, 0, 0.2903225806451613)",
           "rgba(251, 128, 114, 0.2903225806451613)",
           "rgba(251, 128, 114, 0.2258064516129033)",
           "rgba(128, 177, 211, 0.2258064516129033)",
           "rgba(255, 153, 51, 0.2258064516129033)",
           "rgba(55, 128, 191, 0.2258064516129033)"
          ]
         },
         "name": "",
         "pull": [
          0,
          0,
          0.1
         ],
         "textinfo": "label",
         "type": "pie",
         "values": [
          0.044,
          0.038,
          0.011,
          0.015,
          0.008,
          0.018,
          0.029,
          0.031,
          0.029,
          0.03,
          0.029,
          0.011,
          0.019,
          0.018,
          0.043,
          0.039,
          0.023,
          0.01,
          0.013,
          0.012,
          0.007,
          0.016,
          0.007,
          0.01,
          0.021,
          0.025,
          0.024,
          0.042,
          0.012,
          0.01,
          0.002,
          0.003,
          0.025,
          0.013,
          0.018,
          0.022,
          0.031,
          0.027,
          0.015,
          0.005,
          0.015,
          0.021,
          0.012,
          0.01,
          0.027,
          0.022,
          0.006,
          0.006,
          0.028,
          0.02,
          0.005,
          0.005,
          0.016,
          0.017,
          0.001,
          0.04,
          0.037,
          0.004,
          0.017,
          0.011,
          0.016,
          0.017,
          0.003,
          0.008,
          0.006,
          0.014,
          0.012,
          0.011,
          0.046,
          0.038,
          0.004,
          0.002,
          0.001,
          0.001,
          0.016,
          0.018,
          0.012,
          0.013,
          0.014,
          0.021,
          0.016,
          0.006,
          0.004,
          0.003,
          0.007,
          0.01,
          0.01,
          0.002,
          0.02,
          0.021,
          0.025,
          0.004,
          0.014,
          0.025,
          0.026,
          0.006,
          0.002,
          0.026,
          0.019,
          0.028,
          0.017,
          0.034,
          0.02,
          0.022,
          0.013,
          0.029,
          0.027,
          0.023,
          0.023,
          0.014,
          0.018,
          0.024,
          0.011,
          0.012,
          0.007,
          0.01,
          0.006,
          0.001,
          0,
          0.011,
          0.008,
          0.025,
          0.011,
          0.012
         ]
        }
       ],
       "layout": {
        "legend": {
         "bgcolor": "#F5F6F9",
         "font": {
          "color": "#4D5663"
         }
        },
        "paper_bgcolor": "#F5F6F9",
        "plot_bgcolor": "#F5F6F9",
        "title": "Total Body Dose Taken Per Person",
        "titlefont": {
         "color": "#4D5663"
        }
       }
      },
      "text/html": [
       "<div>                            <div id=\"b4218818-d488-4609-9ae1-4b3d80e638b6\" class=\"plotly-graph-div\" style=\"height:525px; width:100%;\"></div>            <script type=\"text/javascript\">                require([\"plotly\"], function(Plotly) {                    window.PLOTLYENV=window.PLOTLYENV || {};\n",
       "                    window.PLOTLYENV.BASE_URL='https://plot.ly';                                    if (document.getElementById(\"b4218818-d488-4609-9ae1-4b3d80e638b6\")) {                    Plotly.newPlot(                        \"b4218818-d488-4609-9ae1-4b3d80e638b6\",                        [{\"labels\":[\"employee_26\",\"employee_14\",\"employee_26\",\"employee_9\",\"employee_8\",\"employee_21\",\"employee_9\",\"employee_8\",\"employee_21\",\"employee_2\",\"employee_11\",\"employee_25\",\"employee_8\",\"employee_21\",\"employee_2\",\"employee_11\",\"employee_18\",\"employee_8\",\"employee_2\",\"employee_11\",\"employee_2\",\"employee_24\",\"employee_23\",\"employee_16\",\"employee_14\",\"employee_20\",\"employee_21\",\"employee_5\",\"employee_14\",\"employee_20\",\"employee_5\",\"employee_21\",\"employee_21\",\"employee_16\",\"employee_18\",\"employee_9\",\"employee_18\",\"employee_9\",\"employee_7\",\"employee_21\",\"employee_16\",\"employee_3\",\"employee_6\",\"employee_4\",\"employee_24\",\"employee_11\",\"employee_23\",\"employee_19\",\"employee_3\",\"employee_4\",\"employee_24\",\"employee_11\",\"employee_24\",\"employee_11\",\"employee_19\",\"employee_18\",\"employee_9\",\"employee_19\",\"employee_16\",\"employee_8\",\"employee_11\",\"employee_14\",\"employee_17\",\"employee_18\",\"employee_9\",\"employee_11\",\"employee_14\",\"employee_16\",\"employee_18\",\"employee_9\",\"employee_2\",\"employee_19\",\"employee_10\",\"employee_8\",\"employee_11\",\"employee_14\",\"employee_16\",\"employee_3\",\"employee_22\",\"employee_18\",\"employee_26\",\"employee_15\",\"employee_10\",\"employee_13\",\"employee_11\",\"employee_14\",\"employee_16\",\"employee_19\",\"employee_1\",\"employee_14\",\"employee_1\",\"employee_23\",\"employee_26\",\"employee_2\",\"employee_11\",\"employee_17\",\"employee_19\",\"employee_26\",\"employee_1\",\"employee_11\",\"employee_2\",\"employee_3\",\"employee_6\",\"employee_26\",\"employee_1\",\"employee_15\",\"employee_13\",\"employee_10\",\"employee_11\",\"employee_21\",\"employee_13\",\"employee_15\",\"employee_16\",\"employee_21\",\"employee_22\",\"employee_3\",\"employee_6\",\"employee_15\",\"employee_10\",\"employee_12\",\"employee_10\",\"employee_15\",\"employee_8\",\"employee_21\"],\"marker\":{\"colors\":[\"rgba(255, 153, 51, 1.0)\",\"rgba(55, 128, 191, 1.0)\",\"rgba(50, 171, 96, 1.0)\",\"rgba(128, 0, 128, 1.0)\",\"rgba(219, 64, 82, 1.0)\",\"rgba(0, 128, 128, 1.0)\",\"rgba(255, 255, 51, 1.0)\",\"rgba(128, 128, 0, 1.0)\",\"rgba(251, 128, 114, 1.0)\",\"rgba(128, 177, 211, 1.0)\",\"rgba(128, 177, 211, 0.935483870967742)\",\"rgba(255, 153, 51, 0.935483870967742)\",\"rgba(55, 128, 191, 0.935483870967742)\",\"rgba(50, 171, 96, 0.935483870967742)\",\"rgba(128, 0, 128, 0.935483870967742)\",\"rgba(219, 64, 82, 0.935483870967742)\",\"rgba(0, 128, 128, 0.935483870967742)\",\"rgba(255, 255, 51, 0.935483870967742)\",\"rgba(128, 128, 0, 0.935483870967742)\",\"rgba(251, 128, 114, 0.935483870967742)\",\"rgba(251, 128, 114, 0.8709677419354838)\",\"rgba(128, 177, 211, 0.8709677419354838)\",\"rgba(255, 153, 51, 0.8709677419354838)\",\"rgba(55, 128, 191, 0.8709677419354838)\",\"rgba(50, 171, 96, 0.8709677419354838)\",\"rgba(128, 0, 128, 0.8709677419354838)\",\"rgba(219, 64, 82, 0.8709677419354838)\",\"rgba(0, 128, 128, 0.8709677419354838)\",\"rgba(255, 255, 51, 0.8709677419354838)\",\"rgba(128, 128, 0, 0.8709677419354838)\",\"rgba(128, 128, 0, 0.8064516129032258)\",\"rgba(251, 128, 114, 0.8064516129032258)\",\"rgba(128, 177, 211, 0.8064516129032258)\",\"rgba(255, 153, 51, 0.8064516129032258)\",\"rgba(55, 128, 191, 0.8064516129032258)\",\"rgba(50, 171, 96, 0.8064516129032258)\",\"rgba(128, 0, 128, 0.8064516129032258)\",\"rgba(219, 64, 82, 0.8064516129032258)\",\"rgba(0, 128, 128, 0.8064516129032258)\",\"rgba(255, 255, 51, 0.8064516129032258)\",\"rgba(255, 255, 51, 0.7419354838709677)\",\"rgba(128, 128, 0, 0.7419354838709677)\",\"rgba(251, 128, 114, 0.7419354838709677)\",\"rgba(128, 177, 211, 0.7419354838709677)\",\"rgba(255, 153, 51, 0.7419354838709677)\",\"rgba(55, 128, 191, 0.7419354838709677)\",\"rgba(50, 171, 96, 0.7419354838709677)\",\"rgba(128, 0, 128, 0.7419354838709677)\",\"rgba(219, 64, 82, 0.7419354838709677)\",\"rgba(0, 128, 128, 0.7419354838709677)\",\"rgba(0, 128, 128, 0.6774193548387097)\",\"rgba(255, 255, 51, 0.6774193548387097)\",\"rgba(128, 128, 0, 0.6774193548387097)\",\"rgba(251, 128, 114, 0.6774193548387097)\",\"rgba(128, 177, 211, 0.6774193548387097)\",\"rgba(255, 153, 51, 0.6774193548387097)\",\"rgba(55, 128, 191, 0.6774193548387097)\",\"rgba(50, 171, 96, 0.6774193548387097)\",\"rgba(128, 0, 128, 0.6774193548387097)\",\"rgba(219, 64, 82, 0.6774193548387097)\",\"rgba(219, 64, 82, 0.6129032258064515)\",\"rgba(0, 128, 128, 0.6129032258064515)\",\"rgba(255, 255, 51, 0.6129032258064515)\",\"rgba(128, 128, 0, 0.6129032258064515)\",\"rgba(251, 128, 114, 0.6129032258064515)\",\"rgba(128, 177, 211, 0.6129032258064515)\",\"rgba(255, 153, 51, 0.6129032258064515)\",\"rgba(55, 128, 191, 0.6129032258064515)\",\"rgba(50, 171, 96, 0.6129032258064515)\",\"rgba(128, 0, 128, 0.6129032258064515)\",\"rgba(128, 0, 128, 0.5483870967741935)\",\"rgba(219, 64, 82, 0.5483870967741935)\",\"rgba(0, 128, 128, 0.5483870967741935)\",\"rgba(255, 255, 51, 0.5483870967741935)\",\"rgba(128, 128, 0, 0.5483870967741935)\",\"rgba(251, 128, 114, 0.5483870967741935)\",\"rgba(128, 177, 211, 0.5483870967741935)\",\"rgba(255, 153, 51, 0.5483870967741935)\",\"rgba(55, 128, 191, 0.5483870967741935)\",\"rgba(50, 171, 96, 0.5483870967741935)\",\"rgba(50, 171, 96, 0.48387096774193555)\",\"rgba(128, 0, 128, 0.48387096774193555)\",\"rgba(219, 64, 82, 0.48387096774193555)\",\"rgba(0, 128, 128, 0.48387096774193555)\",\"rgba(255, 255, 51, 0.48387096774193555)\",\"rgba(128, 128, 0, 0.48387096774193555)\",\"rgba(251, 128, 114, 0.48387096774193555)\",\"rgba(128, 177, 211, 0.48387096774193555)\",\"rgba(255, 153, 51, 0.48387096774193555)\",\"rgba(55, 128, 191, 0.48387096774193555)\",\"rgba(55, 128, 191, 0.41935483870967755)\",\"rgba(50, 171, 96, 0.41935483870967755)\",\"rgba(128, 0, 128, 0.41935483870967755)\",\"rgba(219, 64, 82, 0.41935483870967755)\",\"rgba(0, 128, 128, 0.41935483870967755)\",\"rgba(255, 255, 51, 0.41935483870967755)\",\"rgba(128, 128, 0, 0.41935483870967755)\",\"rgba(251, 128, 114, 0.41935483870967755)\",\"rgba(128, 177, 211, 0.41935483870967755)\",\"rgba(255, 153, 51, 0.41935483870967755)\",\"rgba(255, 153, 51, 0.3548387096774193)\",\"rgba(55, 128, 191, 0.3548387096774193)\",\"rgba(50, 171, 96, 0.3548387096774193)\",\"rgba(128, 0, 128, 0.3548387096774193)\",\"rgba(219, 64, 82, 0.3548387096774193)\",\"rgba(0, 128, 128, 0.3548387096774193)\",\"rgba(255, 255, 51, 0.3548387096774193)\",\"rgba(128, 128, 0, 0.3548387096774193)\",\"rgba(251, 128, 114, 0.3548387096774193)\",\"rgba(128, 177, 211, 0.3548387096774193)\",\"rgba(128, 177, 211, 0.2903225806451613)\",\"rgba(255, 153, 51, 0.2903225806451613)\",\"rgba(55, 128, 191, 0.2903225806451613)\",\"rgba(50, 171, 96, 0.2903225806451613)\",\"rgba(128, 0, 128, 0.2903225806451613)\",\"rgba(219, 64, 82, 0.2903225806451613)\",\"rgba(0, 128, 128, 0.2903225806451613)\",\"rgba(255, 255, 51, 0.2903225806451613)\",\"rgba(128, 128, 0, 0.2903225806451613)\",\"rgba(251, 128, 114, 0.2903225806451613)\",\"rgba(251, 128, 114, 0.2258064516129033)\",\"rgba(128, 177, 211, 0.2258064516129033)\",\"rgba(255, 153, 51, 0.2258064516129033)\",\"rgba(55, 128, 191, 0.2258064516129033)\"]},\"name\":\"\",\"pull\":[0,0,0.1],\"textinfo\":\"label\",\"values\":[0.044,0.038,0.011,0.015,0.008,0.018,0.029,0.031,0.029,0.03,0.029,0.011,0.019,0.018,0.043,0.039,0.023,0.01,0.013,0.012,0.007,0.016,0.007,0.01,0.021,0.025,0.024,0.042,0.012,0.01,0.002,0.003,0.025,0.013,0.018,0.022,0.031,0.027,0.015,0.005,0.015,0.021,0.012,0.01,0.027,0.022,0.006,0.006,0.028,0.02,0.005,0.005,0.016,0.017,0.001,0.04,0.037,0.004,0.017,0.011,0.016,0.017,0.003,0.008,0.006,0.014,0.012,0.011,0.046,0.038,0.004,0.002,0.001,0.001,0.016,0.018,0.012,0.013,0.014,0.021,0.016,0.006,0.004,0.003,0.007,0.01,0.01,0.002,0.02,0.021,0.025,0.004,0.014,0.025,0.026,0.006,0.002,0.026,0.019,0.028,0.017,0.034,0.02,0.022,0.013,0.029,0.027,0.023,0.023,0.014,0.018,0.024,0.011,0.012,0.007,0.01,0.006,0.001,0.0,0.011,0.008,0.025,0.011,0.012],\"type\":\"pie\"}],                        {\"legend\":{\"bgcolor\":\"#F5F6F9\",\"font\":{\"color\":\"#4D5663\"}},\"paper_bgcolor\":\"#F5F6F9\",\"plot_bgcolor\":\"#F5F6F9\",\"titlefont\":{\"color\":\"#4D5663\"},\"title\":\"Total Body Dose Taken Per Person\"},                        {\"showLink\": true, \"linkText\": \"Export to plot.ly\", \"plotlyServerURL\": \"https://plot.ly\", \"responsive\": true}                    ).then(function(){\n",
       "                            \n",
       "var gd = document.getElementById('b4218818-d488-4609-9ae1-4b3d80e638b6');\n",
       "var x = new MutationObserver(function (mutations, observer) {{\n",
       "        var display = window.getComputedStyle(gd).display;\n",
       "        if (!display || display === 'none') {{\n",
       "            console.log([gd, 'removed!']);\n",
       "            Plotly.purge(gd);\n",
       "            observer.disconnect();\n",
       "        }}\n",
       "}});\n",
       "\n",
       "// Listen for the removal of the full notebook cells\n",
       "var notebookContainer = gd.closest('#notebook-container');\n",
       "if (notebookContainer) {{\n",
       "    x.observe(notebookContainer, {childList: true});\n",
       "}}\n",
       "\n",
       "// Listen for the clearing of the current output cell\n",
       "var outputEl = gd.closest('.output');\n",
       "if (outputEl) {{\n",
       "    x.observe(outputEl, {childList: true});\n",
       "}}\n",
       "\n",
       "                        })                };                });            </script>        </div>"
      ]
     },
     "metadata": {},
     "output_type": "display_data"
    },
    {
     "data": {
      "application/vnd.plotly.v1+json": {
       "config": {
        "linkText": "Export to plot.ly",
        "plotlyServerURL": "https://plot.ly",
        "showLink": true
       },
       "data": [
        {
         "labels": [
          "employee_2",
          "employee_11",
          "employee_25",
          "employee_2",
          "employee_11",
          "employee_2",
          "employee_11",
          "employee_2",
          "employee_24",
          "employee_21",
          "employee_5",
          "employee_5",
          "employee_21",
          "employee_21",
          "employee_16",
          "employee_21",
          "employee_16",
          "employee_24",
          "employee_11",
          "employee_23",
          "employee_19",
          "employee_3",
          "employee_4",
          "employee_24",
          "employee_11",
          "employee_24",
          "employee_11",
          "employee_19",
          "employee_18",
          "employee_9",
          "employee_18",
          "employee_9",
          "employee_18",
          "employee_9",
          "employee_3",
          "employee_22",
          "employee_18",
          "employee_26",
          "employee_19",
          "employee_1",
          "employee_14",
          "employee_2",
          "employee_11",
          "employee_17",
          "employee_19",
          "employee_11",
          "employee_2",
          "employee_15",
          "employee_13",
          "employee_10",
          "employee_11",
          "employee_21",
          "employee_13",
          "employee_15",
          "employee_22",
          "employee_3",
          "employee_6"
         ],
         "marker": {
          "colors": [
           "rgba(255, 153, 51, 1.0)",
           "rgba(55, 128, 191, 1.0)",
           "rgba(50, 171, 96, 1.0)",
           "rgba(128, 0, 128, 1.0)",
           "rgba(219, 64, 82, 1.0)",
           "rgba(0, 128, 128, 1.0)",
           "rgba(255, 255, 51, 1.0)",
           "rgba(128, 128, 0, 1.0)",
           "rgba(251, 128, 114, 1.0)",
           "rgba(128, 177, 211, 1.0)",
           "rgba(128, 177, 211, 0.8999999999999999)",
           "rgba(255, 153, 51, 0.8999999999999999)",
           "rgba(55, 128, 191, 0.8999999999999999)",
           "rgba(50, 171, 96, 0.8999999999999999)",
           "rgba(128, 0, 128, 0.8999999999999999)",
           "rgba(219, 64, 82, 0.8999999999999999)",
           "rgba(0, 128, 128, 0.8999999999999999)",
           "rgba(255, 255, 51, 0.8999999999999999)",
           "rgba(128, 128, 0, 0.8999999999999999)",
           "rgba(251, 128, 114, 0.8999999999999999)",
           "rgba(251, 128, 114, 0.7999999999999998)",
           "rgba(128, 177, 211, 0.7999999999999998)",
           "rgba(255, 153, 51, 0.7999999999999998)",
           "rgba(55, 128, 191, 0.7999999999999998)",
           "rgba(50, 171, 96, 0.7999999999999998)",
           "rgba(128, 0, 128, 0.7999999999999998)",
           "rgba(219, 64, 82, 0.7999999999999998)",
           "rgba(0, 128, 128, 0.7999999999999998)",
           "rgba(255, 255, 51, 0.7999999999999998)",
           "rgba(128, 128, 0, 0.7999999999999998)",
           "rgba(128, 128, 0, 0.7)",
           "rgba(251, 128, 114, 0.7)",
           "rgba(128, 177, 211, 0.7)",
           "rgba(255, 153, 51, 0.7)",
           "rgba(55, 128, 191, 0.7)",
           "rgba(50, 171, 96, 0.7)",
           "rgba(128, 0, 128, 0.7)",
           "rgba(219, 64, 82, 0.7)",
           "rgba(0, 128, 128, 0.7)",
           "rgba(255, 255, 51, 0.7)",
           "rgba(255, 255, 51, 0.5999999999999999)",
           "rgba(128, 128, 0, 0.5999999999999999)",
           "rgba(251, 128, 114, 0.5999999999999999)",
           "rgba(128, 177, 211, 0.5999999999999999)",
           "rgba(255, 153, 51, 0.5999999999999999)",
           "rgba(55, 128, 191, 0.5999999999999999)",
           "rgba(50, 171, 96, 0.5999999999999999)",
           "rgba(128, 0, 128, 0.5999999999999999)",
           "rgba(219, 64, 82, 0.5999999999999999)",
           "rgba(0, 128, 128, 0.5999999999999999)",
           "rgba(0, 128, 128, 0.49999999999999983)",
           "rgba(255, 255, 51, 0.49999999999999983)",
           "rgba(128, 128, 0, 0.49999999999999983)",
           "rgba(251, 128, 114, 0.49999999999999983)",
           "rgba(128, 177, 211, 0.49999999999999983)",
           "rgba(255, 153, 51, 0.49999999999999983)",
           "rgba(55, 128, 191, 0.49999999999999983)"
          ]
         },
         "name": "",
         "pull": [
          0,
          0,
          0.1
         ],
         "textinfo": "label",
         "type": "pie",
         "values": [
          0.03,
          0.029,
          0.011,
          0.043,
          0.039,
          0.013,
          0.012,
          0.007,
          0.016,
          0.024,
          0.042,
          0.002,
          0.003,
          0.025,
          0.013,
          0.005,
          0.015,
          0.027,
          0.022,
          0.006,
          0.006,
          0.028,
          0.02,
          0.005,
          0.005,
          0.016,
          0.017,
          0.001,
          0.04,
          0.037,
          0.008,
          0.006,
          0.046,
          0.038,
          0.013,
          0.014,
          0.021,
          0.016,
          0.002,
          0.02,
          0.021,
          0.025,
          0.026,
          0.006,
          0.002,
          0.028,
          0.017,
          0.029,
          0.027,
          0.023,
          0.023,
          0.014,
          0.018,
          0.024,
          0.007,
          0.01,
          0.006
         ]
        }
       ],
       "layout": {
        "legend": {
         "bgcolor": "#F5F6F9",
         "font": {
          "color": "#4D5663"
         }
        },
        "paper_bgcolor": "#F5F6F9",
        "plot_bgcolor": "#F5F6F9",
        "title": "Total Body Dose Taken Per Person Dayshift",
        "titlefont": {
         "color": "#4D5663"
        }
       }
      },
      "text/html": [
       "<div>                            <div id=\"1dc78d37-9642-4ccc-95d8-acdff4cfacb7\" class=\"plotly-graph-div\" style=\"height:525px; width:100%;\"></div>            <script type=\"text/javascript\">                require([\"plotly\"], function(Plotly) {                    window.PLOTLYENV=window.PLOTLYENV || {};\n",
       "                    window.PLOTLYENV.BASE_URL='https://plot.ly';                                    if (document.getElementById(\"1dc78d37-9642-4ccc-95d8-acdff4cfacb7\")) {                    Plotly.newPlot(                        \"1dc78d37-9642-4ccc-95d8-acdff4cfacb7\",                        [{\"labels\":[\"employee_2\",\"employee_11\",\"employee_25\",\"employee_2\",\"employee_11\",\"employee_2\",\"employee_11\",\"employee_2\",\"employee_24\",\"employee_21\",\"employee_5\",\"employee_5\",\"employee_21\",\"employee_21\",\"employee_16\",\"employee_21\",\"employee_16\",\"employee_24\",\"employee_11\",\"employee_23\",\"employee_19\",\"employee_3\",\"employee_4\",\"employee_24\",\"employee_11\",\"employee_24\",\"employee_11\",\"employee_19\",\"employee_18\",\"employee_9\",\"employee_18\",\"employee_9\",\"employee_18\",\"employee_9\",\"employee_3\",\"employee_22\",\"employee_18\",\"employee_26\",\"employee_19\",\"employee_1\",\"employee_14\",\"employee_2\",\"employee_11\",\"employee_17\",\"employee_19\",\"employee_11\",\"employee_2\",\"employee_15\",\"employee_13\",\"employee_10\",\"employee_11\",\"employee_21\",\"employee_13\",\"employee_15\",\"employee_22\",\"employee_3\",\"employee_6\"],\"marker\":{\"colors\":[\"rgba(255, 153, 51, 1.0)\",\"rgba(55, 128, 191, 1.0)\",\"rgba(50, 171, 96, 1.0)\",\"rgba(128, 0, 128, 1.0)\",\"rgba(219, 64, 82, 1.0)\",\"rgba(0, 128, 128, 1.0)\",\"rgba(255, 255, 51, 1.0)\",\"rgba(128, 128, 0, 1.0)\",\"rgba(251, 128, 114, 1.0)\",\"rgba(128, 177, 211, 1.0)\",\"rgba(128, 177, 211, 0.8999999999999999)\",\"rgba(255, 153, 51, 0.8999999999999999)\",\"rgba(55, 128, 191, 0.8999999999999999)\",\"rgba(50, 171, 96, 0.8999999999999999)\",\"rgba(128, 0, 128, 0.8999999999999999)\",\"rgba(219, 64, 82, 0.8999999999999999)\",\"rgba(0, 128, 128, 0.8999999999999999)\",\"rgba(255, 255, 51, 0.8999999999999999)\",\"rgba(128, 128, 0, 0.8999999999999999)\",\"rgba(251, 128, 114, 0.8999999999999999)\",\"rgba(251, 128, 114, 0.7999999999999998)\",\"rgba(128, 177, 211, 0.7999999999999998)\",\"rgba(255, 153, 51, 0.7999999999999998)\",\"rgba(55, 128, 191, 0.7999999999999998)\",\"rgba(50, 171, 96, 0.7999999999999998)\",\"rgba(128, 0, 128, 0.7999999999999998)\",\"rgba(219, 64, 82, 0.7999999999999998)\",\"rgba(0, 128, 128, 0.7999999999999998)\",\"rgba(255, 255, 51, 0.7999999999999998)\",\"rgba(128, 128, 0, 0.7999999999999998)\",\"rgba(128, 128, 0, 0.7)\",\"rgba(251, 128, 114, 0.7)\",\"rgba(128, 177, 211, 0.7)\",\"rgba(255, 153, 51, 0.7)\",\"rgba(55, 128, 191, 0.7)\",\"rgba(50, 171, 96, 0.7)\",\"rgba(128, 0, 128, 0.7)\",\"rgba(219, 64, 82, 0.7)\",\"rgba(0, 128, 128, 0.7)\",\"rgba(255, 255, 51, 0.7)\",\"rgba(255, 255, 51, 0.5999999999999999)\",\"rgba(128, 128, 0, 0.5999999999999999)\",\"rgba(251, 128, 114, 0.5999999999999999)\",\"rgba(128, 177, 211, 0.5999999999999999)\",\"rgba(255, 153, 51, 0.5999999999999999)\",\"rgba(55, 128, 191, 0.5999999999999999)\",\"rgba(50, 171, 96, 0.5999999999999999)\",\"rgba(128, 0, 128, 0.5999999999999999)\",\"rgba(219, 64, 82, 0.5999999999999999)\",\"rgba(0, 128, 128, 0.5999999999999999)\",\"rgba(0, 128, 128, 0.49999999999999983)\",\"rgba(255, 255, 51, 0.49999999999999983)\",\"rgba(128, 128, 0, 0.49999999999999983)\",\"rgba(251, 128, 114, 0.49999999999999983)\",\"rgba(128, 177, 211, 0.49999999999999983)\",\"rgba(255, 153, 51, 0.49999999999999983)\",\"rgba(55, 128, 191, 0.49999999999999983)\"]},\"name\":\"\",\"pull\":[0,0,0.1],\"textinfo\":\"label\",\"values\":[0.03,0.029,0.011,0.043,0.039,0.013,0.012,0.007,0.016,0.024,0.042,0.002,0.003,0.025,0.013,0.005,0.015,0.027,0.022,0.006,0.006,0.028,0.02,0.005,0.005,0.016,0.017,0.001,0.04,0.037,0.008,0.006,0.046,0.038,0.013,0.014,0.021,0.016,0.002,0.02,0.021,0.025,0.026,0.006,0.002,0.028,0.017,0.029,0.027,0.023,0.023,0.014,0.018,0.024,0.007,0.01,0.006],\"type\":\"pie\"}],                        {\"legend\":{\"bgcolor\":\"#F5F6F9\",\"font\":{\"color\":\"#4D5663\"}},\"paper_bgcolor\":\"#F5F6F9\",\"plot_bgcolor\":\"#F5F6F9\",\"titlefont\":{\"color\":\"#4D5663\"},\"title\":\"Total Body Dose Taken Per Person Dayshift\"},                        {\"showLink\": true, \"linkText\": \"Export to plot.ly\", \"plotlyServerURL\": \"https://plot.ly\", \"responsive\": true}                    ).then(function(){\n",
       "                            \n",
       "var gd = document.getElementById('1dc78d37-9642-4ccc-95d8-acdff4cfacb7');\n",
       "var x = new MutationObserver(function (mutations, observer) {{\n",
       "        var display = window.getComputedStyle(gd).display;\n",
       "        if (!display || display === 'none') {{\n",
       "            console.log([gd, 'removed!']);\n",
       "            Plotly.purge(gd);\n",
       "            observer.disconnect();\n",
       "        }}\n",
       "}});\n",
       "\n",
       "// Listen for the removal of the full notebook cells\n",
       "var notebookContainer = gd.closest('#notebook-container');\n",
       "if (notebookContainer) {{\n",
       "    x.observe(notebookContainer, {childList: true});\n",
       "}}\n",
       "\n",
       "// Listen for the clearing of the current output cell\n",
       "var outputEl = gd.closest('.output');\n",
       "if (outputEl) {{\n",
       "    x.observe(outputEl, {childList: true});\n",
       "}}\n",
       "\n",
       "                        })                };                });            </script>        </div>"
      ]
     },
     "metadata": {},
     "output_type": "display_data"
    },
    {
     "data": {
      "application/vnd.plotly.v1+json": {
       "config": {
        "linkText": "Export to plot.ly",
        "plotlyServerURL": "https://plot.ly",
        "showLink": true
       },
       "data": [
        {
         "labels": [
          "employee_26",
          "employee_14",
          "employee_26",
          "employee_9",
          "employee_8",
          "employee_21",
          "employee_9",
          "employee_8",
          "employee_21",
          "employee_8",
          "employee_21",
          "employee_18",
          "employee_8",
          "employee_23",
          "employee_16",
          "employee_14",
          "employee_20",
          "employee_14",
          "employee_20",
          "employee_18",
          "employee_9",
          "employee_18",
          "employee_9",
          "employee_7",
          "employee_3",
          "employee_6",
          "employee_4",
          "employee_19",
          "employee_16",
          "employee_8",
          "employee_11",
          "employee_14",
          "employee_17",
          "employee_11",
          "employee_14",
          "employee_16",
          "employee_2",
          "employee_19",
          "employee_10",
          "employee_8",
          "employee_11",
          "employee_14",
          "employee_16",
          "employee_15",
          "employee_10",
          "employee_13",
          "employee_11",
          "employee_14",
          "employee_16",
          "employee_1",
          "employee_23",
          "employee_26",
          "employee_26",
          "employee_1",
          "employee_3",
          "employee_6",
          "employee_26",
          "employee_1",
          "employee_16",
          "employee_21",
          "employee_15",
          "employee_10",
          "employee_12",
          "employee_10",
          "employee_15",
          "employee_8",
          "employee_21"
         ],
         "marker": {
          "colors": [
           "rgba(255, 153, 51, 1.0)",
           "rgba(55, 128, 191, 1.0)",
           "rgba(50, 171, 96, 1.0)",
           "rgba(128, 0, 128, 1.0)",
           "rgba(219, 64, 82, 1.0)",
           "rgba(0, 128, 128, 1.0)",
           "rgba(255, 255, 51, 1.0)",
           "rgba(128, 128, 0, 1.0)",
           "rgba(251, 128, 114, 1.0)",
           "rgba(128, 177, 211, 1.0)",
           "rgba(128, 177, 211, 0.8999999999999999)",
           "rgba(255, 153, 51, 0.8999999999999999)",
           "rgba(55, 128, 191, 0.8999999999999999)",
           "rgba(50, 171, 96, 0.8999999999999999)",
           "rgba(128, 0, 128, 0.8999999999999999)",
           "rgba(219, 64, 82, 0.8999999999999999)",
           "rgba(0, 128, 128, 0.8999999999999999)",
           "rgba(255, 255, 51, 0.8999999999999999)",
           "rgba(128, 128, 0, 0.8999999999999999)",
           "rgba(251, 128, 114, 0.8999999999999999)",
           "rgba(251, 128, 114, 0.7999999999999998)",
           "rgba(128, 177, 211, 0.7999999999999998)",
           "rgba(255, 153, 51, 0.7999999999999998)",
           "rgba(55, 128, 191, 0.7999999999999998)",
           "rgba(50, 171, 96, 0.7999999999999998)",
           "rgba(128, 0, 128, 0.7999999999999998)",
           "rgba(219, 64, 82, 0.7999999999999998)",
           "rgba(0, 128, 128, 0.7999999999999998)",
           "rgba(255, 255, 51, 0.7999999999999998)",
           "rgba(128, 128, 0, 0.7999999999999998)",
           "rgba(128, 128, 0, 0.7)",
           "rgba(251, 128, 114, 0.7)",
           "rgba(128, 177, 211, 0.7)",
           "rgba(255, 153, 51, 0.7)",
           "rgba(55, 128, 191, 0.7)",
           "rgba(50, 171, 96, 0.7)",
           "rgba(128, 0, 128, 0.7)",
           "rgba(219, 64, 82, 0.7)",
           "rgba(0, 128, 128, 0.7)",
           "rgba(255, 255, 51, 0.7)",
           "rgba(255, 255, 51, 0.5999999999999999)",
           "rgba(128, 128, 0, 0.5999999999999999)",
           "rgba(251, 128, 114, 0.5999999999999999)",
           "rgba(128, 177, 211, 0.5999999999999999)",
           "rgba(255, 153, 51, 0.5999999999999999)",
           "rgba(55, 128, 191, 0.5999999999999999)",
           "rgba(50, 171, 96, 0.5999999999999999)",
           "rgba(128, 0, 128, 0.5999999999999999)",
           "rgba(219, 64, 82, 0.5999999999999999)",
           "rgba(0, 128, 128, 0.5999999999999999)",
           "rgba(0, 128, 128, 0.49999999999999983)",
           "rgba(255, 255, 51, 0.49999999999999983)",
           "rgba(128, 128, 0, 0.49999999999999983)",
           "rgba(251, 128, 114, 0.49999999999999983)",
           "rgba(128, 177, 211, 0.49999999999999983)",
           "rgba(255, 153, 51, 0.49999999999999983)",
           "rgba(55, 128, 191, 0.49999999999999983)",
           "rgba(50, 171, 96, 0.49999999999999983)",
           "rgba(128, 0, 128, 0.49999999999999983)",
           "rgba(219, 64, 82, 0.49999999999999983)",
           "rgba(219, 64, 82, 0.39999999999999974)",
           "rgba(0, 128, 128, 0.39999999999999974)",
           "rgba(255, 255, 51, 0.39999999999999974)",
           "rgba(128, 128, 0, 0.39999999999999974)",
           "rgba(251, 128, 114, 0.39999999999999974)",
           "rgba(128, 177, 211, 0.39999999999999974)",
           "rgba(255, 153, 51, 0.39999999999999974)"
          ]
         },
         "name": "",
         "pull": [
          0,
          0,
          0.1
         ],
         "textinfo": "label",
         "type": "pie",
         "values": [
          0.044,
          0.038,
          0.011,
          0.015,
          0.008,
          0.018,
          0.029,
          0.031,
          0.029,
          0.019,
          0.018,
          0.023,
          0.01,
          0.007,
          0.01,
          0.021,
          0.025,
          0.012,
          0.01,
          0.018,
          0.022,
          0.031,
          0.027,
          0.015,
          0.021,
          0.012,
          0.01,
          0.004,
          0.017,
          0.011,
          0.016,
          0.017,
          0.003,
          0.014,
          0.012,
          0.011,
          0.004,
          0.002,
          0.001,
          0.001,
          0.016,
          0.018,
          0.012,
          0.006,
          0.004,
          0.003,
          0.007,
          0.01,
          0.01,
          0.025,
          0.004,
          0.014,
          0.026,
          0.019,
          0.034,
          0.02,
          0.022,
          0.013,
          0.011,
          0.012,
          0.001,
          0,
          0.011,
          0.008,
          0.025,
          0.011,
          0.012
         ]
        }
       ],
       "layout": {
        "legend": {
         "bgcolor": "#F5F6F9",
         "font": {
          "color": "#4D5663"
         }
        },
        "paper_bgcolor": "#F5F6F9",
        "plot_bgcolor": "#F5F6F9",
        "title": "Total Body Dose Taken Per Person Nightshift",
        "titlefont": {
         "color": "#4D5663"
        }
       }
      },
      "text/html": [
       "<div>                            <div id=\"e808a5f5-6df9-4256-b374-30809dc86bf1\" class=\"plotly-graph-div\" style=\"height:525px; width:100%;\"></div>            <script type=\"text/javascript\">                require([\"plotly\"], function(Plotly) {                    window.PLOTLYENV=window.PLOTLYENV || {};\n",
       "                    window.PLOTLYENV.BASE_URL='https://plot.ly';                                    if (document.getElementById(\"e808a5f5-6df9-4256-b374-30809dc86bf1\")) {                    Plotly.newPlot(                        \"e808a5f5-6df9-4256-b374-30809dc86bf1\",                        [{\"labels\":[\"employee_26\",\"employee_14\",\"employee_26\",\"employee_9\",\"employee_8\",\"employee_21\",\"employee_9\",\"employee_8\",\"employee_21\",\"employee_8\",\"employee_21\",\"employee_18\",\"employee_8\",\"employee_23\",\"employee_16\",\"employee_14\",\"employee_20\",\"employee_14\",\"employee_20\",\"employee_18\",\"employee_9\",\"employee_18\",\"employee_9\",\"employee_7\",\"employee_3\",\"employee_6\",\"employee_4\",\"employee_19\",\"employee_16\",\"employee_8\",\"employee_11\",\"employee_14\",\"employee_17\",\"employee_11\",\"employee_14\",\"employee_16\",\"employee_2\",\"employee_19\",\"employee_10\",\"employee_8\",\"employee_11\",\"employee_14\",\"employee_16\",\"employee_15\",\"employee_10\",\"employee_13\",\"employee_11\",\"employee_14\",\"employee_16\",\"employee_1\",\"employee_23\",\"employee_26\",\"employee_26\",\"employee_1\",\"employee_3\",\"employee_6\",\"employee_26\",\"employee_1\",\"employee_16\",\"employee_21\",\"employee_15\",\"employee_10\",\"employee_12\",\"employee_10\",\"employee_15\",\"employee_8\",\"employee_21\"],\"marker\":{\"colors\":[\"rgba(255, 153, 51, 1.0)\",\"rgba(55, 128, 191, 1.0)\",\"rgba(50, 171, 96, 1.0)\",\"rgba(128, 0, 128, 1.0)\",\"rgba(219, 64, 82, 1.0)\",\"rgba(0, 128, 128, 1.0)\",\"rgba(255, 255, 51, 1.0)\",\"rgba(128, 128, 0, 1.0)\",\"rgba(251, 128, 114, 1.0)\",\"rgba(128, 177, 211, 1.0)\",\"rgba(128, 177, 211, 0.8999999999999999)\",\"rgba(255, 153, 51, 0.8999999999999999)\",\"rgba(55, 128, 191, 0.8999999999999999)\",\"rgba(50, 171, 96, 0.8999999999999999)\",\"rgba(128, 0, 128, 0.8999999999999999)\",\"rgba(219, 64, 82, 0.8999999999999999)\",\"rgba(0, 128, 128, 0.8999999999999999)\",\"rgba(255, 255, 51, 0.8999999999999999)\",\"rgba(128, 128, 0, 0.8999999999999999)\",\"rgba(251, 128, 114, 0.8999999999999999)\",\"rgba(251, 128, 114, 0.7999999999999998)\",\"rgba(128, 177, 211, 0.7999999999999998)\",\"rgba(255, 153, 51, 0.7999999999999998)\",\"rgba(55, 128, 191, 0.7999999999999998)\",\"rgba(50, 171, 96, 0.7999999999999998)\",\"rgba(128, 0, 128, 0.7999999999999998)\",\"rgba(219, 64, 82, 0.7999999999999998)\",\"rgba(0, 128, 128, 0.7999999999999998)\",\"rgba(255, 255, 51, 0.7999999999999998)\",\"rgba(128, 128, 0, 0.7999999999999998)\",\"rgba(128, 128, 0, 0.7)\",\"rgba(251, 128, 114, 0.7)\",\"rgba(128, 177, 211, 0.7)\",\"rgba(255, 153, 51, 0.7)\",\"rgba(55, 128, 191, 0.7)\",\"rgba(50, 171, 96, 0.7)\",\"rgba(128, 0, 128, 0.7)\",\"rgba(219, 64, 82, 0.7)\",\"rgba(0, 128, 128, 0.7)\",\"rgba(255, 255, 51, 0.7)\",\"rgba(255, 255, 51, 0.5999999999999999)\",\"rgba(128, 128, 0, 0.5999999999999999)\",\"rgba(251, 128, 114, 0.5999999999999999)\",\"rgba(128, 177, 211, 0.5999999999999999)\",\"rgba(255, 153, 51, 0.5999999999999999)\",\"rgba(55, 128, 191, 0.5999999999999999)\",\"rgba(50, 171, 96, 0.5999999999999999)\",\"rgba(128, 0, 128, 0.5999999999999999)\",\"rgba(219, 64, 82, 0.5999999999999999)\",\"rgba(0, 128, 128, 0.5999999999999999)\",\"rgba(0, 128, 128, 0.49999999999999983)\",\"rgba(255, 255, 51, 0.49999999999999983)\",\"rgba(128, 128, 0, 0.49999999999999983)\",\"rgba(251, 128, 114, 0.49999999999999983)\",\"rgba(128, 177, 211, 0.49999999999999983)\",\"rgba(255, 153, 51, 0.49999999999999983)\",\"rgba(55, 128, 191, 0.49999999999999983)\",\"rgba(50, 171, 96, 0.49999999999999983)\",\"rgba(128, 0, 128, 0.49999999999999983)\",\"rgba(219, 64, 82, 0.49999999999999983)\",\"rgba(219, 64, 82, 0.39999999999999974)\",\"rgba(0, 128, 128, 0.39999999999999974)\",\"rgba(255, 255, 51, 0.39999999999999974)\",\"rgba(128, 128, 0, 0.39999999999999974)\",\"rgba(251, 128, 114, 0.39999999999999974)\",\"rgba(128, 177, 211, 0.39999999999999974)\",\"rgba(255, 153, 51, 0.39999999999999974)\"]},\"name\":\"\",\"pull\":[0,0,0.1],\"textinfo\":\"label\",\"values\":[0.044,0.038,0.011,0.015,0.008,0.018,0.029,0.031,0.029,0.019,0.018,0.023,0.01,0.007,0.01,0.021,0.025,0.012,0.01,0.018,0.022,0.031,0.027,0.015,0.021,0.012,0.01,0.004,0.017,0.011,0.016,0.017,0.003,0.014,0.012,0.011,0.004,0.002,0.001,0.001,0.016,0.018,0.012,0.006,0.004,0.003,0.007,0.01,0.01,0.025,0.004,0.014,0.026,0.019,0.034,0.02,0.022,0.013,0.011,0.012,0.001,0.0,0.011,0.008,0.025,0.011,0.012],\"type\":\"pie\"}],                        {\"legend\":{\"bgcolor\":\"#F5F6F9\",\"font\":{\"color\":\"#4D5663\"}},\"paper_bgcolor\":\"#F5F6F9\",\"plot_bgcolor\":\"#F5F6F9\",\"titlefont\":{\"color\":\"#4D5663\"},\"title\":\"Total Body Dose Taken Per Person Nightshift\"},                        {\"showLink\": true, \"linkText\": \"Export to plot.ly\", \"plotlyServerURL\": \"https://plot.ly\", \"responsive\": true}                    ).then(function(){\n",
       "                            \n",
       "var gd = document.getElementById('e808a5f5-6df9-4256-b374-30809dc86bf1');\n",
       "var x = new MutationObserver(function (mutations, observer) {{\n",
       "        var display = window.getComputedStyle(gd).display;\n",
       "        if (!display || display === 'none') {{\n",
       "            console.log([gd, 'removed!']);\n",
       "            Plotly.purge(gd);\n",
       "            observer.disconnect();\n",
       "        }}\n",
       "}});\n",
       "\n",
       "// Listen for the removal of the full notebook cells\n",
       "var notebookContainer = gd.closest('#notebook-container');\n",
       "if (notebookContainer) {{\n",
       "    x.observe(notebookContainer, {childList: true});\n",
       "}}\n",
       "\n",
       "// Listen for the clearing of the current output cell\n",
       "var outputEl = gd.closest('.output');\n",
       "if (outputEl) {{\n",
       "    x.observe(outputEl, {childList: true});\n",
       "}}\n",
       "\n",
       "                        })                };                });            </script>        </div>"
      ]
     },
     "metadata": {},
     "output_type": "display_data"
    }
   ],
   "source": [
    "df1.reset_index().iplot(kind=\"pie\",\n",
    "                             labels='Name',\n",
    "                             values= 'Whole_Body_Dose',\n",
    "                             textinfo='label',\n",
    "                             pull=[0, 0, 0.1],\n",
    "                        title=\"Total Body Dose Taken Per Person\")\n",
    "                             \n",
    "\n",
    "dayshift_3.reset_index().iplot(kind=\"pie\",\n",
    "                             labels='Name',\n",
    "                             values= 'Whole_Body_Dose',\n",
    "                             textinfo='label',\n",
    "                             pull=[0, 0, 0.1],\n",
    "                               title=\"Total Body Dose Taken Per Person Dayshift\")\n",
    "                             \n",
    "\n",
    "nightshift_3.reset_index().iplot(kind=\"pie\",\n",
    "                             labels='Name',\n",
    "                             values= 'Whole_Body_Dose',\n",
    "                             textinfo='label',\n",
    "                             pull=[0, 0, 0.1],\n",
    "                                 title=\"Total Body Dose Taken Per Person Nightshift\")\n",
    "                             "
   ]
  },
  {
   "cell_type": "markdown",
   "id": "24a4cc71",
   "metadata": {},
   "source": [
    "In the below code I have summed up the total time taking across the entirety of the data frame, collective dose taking across the whole data frame, the average time and the average dose taking.\n",
    "\n",
    "The task took a total of 33 days and 20 hours, accruing a total of 2.10 mSv (millisievert). 1 mSv (millisievert) is 1000 µSv (microsieverts)."
   ]
  },
  {
   "cell_type": "markdown",
   "id": "78d293c0",
   "metadata": {},
   "source": [
    "# df2, Time and Dose Data Total"
   ]
  },
  {
   "cell_type": "code",
   "execution_count": 51,
   "id": "f6be4fc2",
   "metadata": {},
   "outputs": [
    {
     "data": {
      "text/plain": [
       "Timedelta('33 days 20:51:00')"
      ]
     },
     "execution_count": 51,
     "metadata": {},
     "output_type": "execute_result"
    }
   ],
   "source": [
    "df2['diff'].sum()"
   ]
  },
  {
   "cell_type": "code",
   "execution_count": 52,
   "id": "c53872a3",
   "metadata": {},
   "outputs": [
    {
     "data": {
      "text/plain": [
       "2.104"
      ]
     },
     "execution_count": 52,
     "metadata": {},
     "output_type": "execute_result"
    }
   ],
   "source": [
    "df2['Whole_Body_Dose'].sum()"
   ]
  },
  {
   "cell_type": "code",
   "execution_count": 53,
   "id": "8876adfa",
   "metadata": {},
   "outputs": [
    {
     "data": {
      "text/plain": [
       "Timedelta('0 days 05:31:46.530612244')"
      ]
     },
     "execution_count": 53,
     "metadata": {},
     "output_type": "execute_result"
    }
   ],
   "source": [
    "df2['diff'].mean(axis=0)"
   ]
  },
  {
   "cell_type": "code",
   "execution_count": 54,
   "id": "9fc898ed",
   "metadata": {},
   "outputs": [
    {
     "data": {
      "text/plain": [
       "0.014312925170068007"
      ]
     },
     "execution_count": 54,
     "metadata": {},
     "output_type": "execute_result"
    }
   ],
   "source": [
    "df2['Whole_Body_Dose'].mean(axis=0)"
   ]
  },
  {
   "cell_type": "markdown",
   "id": "fe415fb2",
   "metadata": {},
   "source": [
    "## df2, Time and Dose Data Dayshift"
   ]
  },
  {
   "cell_type": "markdown",
   "id": "0015b579",
   "metadata": {},
   "source": [
    "As we can see day shift has taken a total of 17 days and 8 hours, with the total accrued dose of 1.29 mSv (millisievert) at an average dose of 14 µSv (microsieverts). There was a total of **91** entries to dayshift."
   ]
  },
  {
   "cell_type": "code",
   "execution_count": 55,
   "id": "d250a49b",
   "metadata": {},
   "outputs": [
    {
     "data": {
      "text/plain": [
       "Timedelta('17 days 08:04:00')"
      ]
     },
     "execution_count": 55,
     "metadata": {},
     "output_type": "execute_result"
    }
   ],
   "source": [
    "dayshift_4['diff'].sum()"
   ]
  },
  {
   "cell_type": "code",
   "execution_count": 56,
   "id": "9e9facf9",
   "metadata": {},
   "outputs": [
    {
     "data": {
      "text/plain": [
       "1.2870000000000001"
      ]
     },
     "execution_count": 56,
     "metadata": {},
     "output_type": "execute_result"
    }
   ],
   "source": [
    "dayshift_4['Whole_Body_Dose'].sum()"
   ]
  },
  {
   "cell_type": "code",
   "execution_count": 57,
   "id": "f0fb7a46",
   "metadata": {},
   "outputs": [
    {
     "data": {
      "text/plain": [
       "Timedelta('0 days 04:37:22.666666666')"
      ]
     },
     "execution_count": 57,
     "metadata": {},
     "output_type": "execute_result"
    }
   ],
   "source": [
    "dayshift_4['diff'].mean(axis=0)"
   ]
  },
  {
   "cell_type": "code",
   "execution_count": 58,
   "id": "773977c4",
   "metadata": {},
   "outputs": [
    {
     "data": {
      "text/plain": [
       "0.014299999999999986"
      ]
     },
     "execution_count": 58,
     "metadata": {},
     "output_type": "execute_result"
    }
   ],
   "source": [
    "dayshift_4['Whole_Body_Dose'].mean(axis=0)"
   ]
  },
  {
   "cell_type": "markdown",
   "id": "19985dd7",
   "metadata": {},
   "source": [
    "## df2, Time and Dose Data Nightshift"
   ]
  },
  {
   "cell_type": "markdown",
   "id": "f4377e64",
   "metadata": {},
   "source": [
    "As we can see night shift has taken a total of 16 days and 13 hours, with the total accrued dose of 0.817 mSv (millisievert) at an average dose of 14 µSv (microsieverts). There was a total of **58** entries to  night shift. Night shift is never guaranteed where i work and as you can see the difference of the **58** entries to night shift compared to the **91** entries on the day shift.\n",
    "\n",
    "If you look at the mean of all the [diff] on night shift you will see it is always higher than the total diff and day shift. "
   ]
  },
  {
   "cell_type": "code",
   "execution_count": 59,
   "id": "5dd7b7e8",
   "metadata": {},
   "outputs": [
    {
     "data": {
      "text/plain": [
       "Timedelta('16 days 12:47:00')"
      ]
     },
     "execution_count": 59,
     "metadata": {},
     "output_type": "execute_result"
    }
   ],
   "source": [
    "nightshift_4['diff'].sum()"
   ]
  },
  {
   "cell_type": "code",
   "execution_count": 61,
   "id": "5457d802",
   "metadata": {},
   "outputs": [
    {
     "data": {
      "text/plain": [
       "0.8170000000000001"
      ]
     },
     "execution_count": 61,
     "metadata": {},
     "output_type": "execute_result"
    }
   ],
   "source": [
    "nightshift_4['Whole_Body_Dose'].sum()"
   ]
  },
  {
   "cell_type": "code",
   "execution_count": 62,
   "id": "edcded92",
   "metadata": {},
   "outputs": [
    {
     "data": {
      "text/plain": [
       "Timedelta('0 days 06:57:40')"
      ]
     },
     "execution_count": 62,
     "metadata": {},
     "output_type": "execute_result"
    }
   ],
   "source": [
    "nightshift_4['diff'].mean(axis=0)"
   ]
  },
  {
   "cell_type": "code",
   "execution_count": 64,
   "id": "a637bf3e",
   "metadata": {},
   "outputs": [
    {
     "data": {
      "text/plain": [
       "0.014333333333333342"
      ]
     },
     "execution_count": 64,
     "metadata": {},
     "output_type": "execute_result"
    }
   ],
   "source": [
    "nightshift_4['Whole_Body_Dose'].mean(axis=0)"
   ]
  },
  {
   "cell_type": "code",
   "execution_count": 83,
   "id": "404f547c",
   "metadata": {
    "scrolled": false
   },
   "outputs": [
    {
     "data": {
      "application/vnd.plotly.v1+json": {
       "config": {
        "linkText": "Export to plot.ly",
        "plotlyServerURL": "https://plot.ly",
        "showLink": true
       },
       "data": [
        {
         "labels": [
          "employee_1",
          "employee_1",
          "employee_1",
          "employee_1",
          "employee_1",
          "employee_1",
          "employee_1",
          "employee_1",
          "employee_1",
          "employee_1",
          "employee_1",
          "employee_1",
          "employee_1",
          "employee_1",
          "employee_1",
          "employee_1",
          "employee_11",
          "employee_11",
          "employee_11",
          "employee_11",
          "employee_11",
          "employee_11",
          "employee_11",
          "employee_13",
          "employee_13",
          "employee_14",
          "employee_15",
          "employee_15",
          "employee_15",
          "employee_16",
          "employee_16",
          "employee_16",
          "employee_16",
          "employee_16",
          "employee_16",
          "employee_16",
          "employee_16",
          "employee_16",
          "employee_16",
          "employee_16",
          "employee_16",
          "employee_17",
          "employee_18",
          "employee_18",
          "employee_18",
          "employee_18",
          "employee_18",
          "employee_18",
          "employee_18",
          "employee_18",
          "employee_19",
          "employee_2",
          "employee_2",
          "employee_2",
          "employee_20",
          "employee_20",
          "employee_20",
          "employee_21",
          "employee_21",
          "employee_21",
          "employee_21",
          "employee_21",
          "employee_21",
          "employee_21",
          "employee_21",
          "employee_21",
          "employee_21",
          "employee_21",
          "employee_21",
          "employee_21",
          "employee_21",
          "employee_21",
          "employee_21",
          "employee_21",
          "employee_21",
          "employee_21",
          "employee_21",
          "employee_21",
          "employee_21",
          "employee_21",
          "employee_22",
          "employee_22",
          "employee_22",
          "employee_23",
          "employee_23",
          "employee_23",
          "employee_23",
          "employee_23",
          "employee_23",
          "employee_24",
          "employee_24",
          "employee_24",
          "employee_24",
          "employee_24",
          "employee_25",
          "employee_25",
          "employee_25",
          "employee_25",
          "employee_25",
          "employee_25",
          "employee_25",
          "employee_25",
          "employee_25",
          "employee_25",
          "employee_25",
          "employee_3",
          "employee_3",
          "employee_3",
          "employee_3",
          "employee_3",
          "employee_3",
          "employee_3",
          "employee_3",
          "employee_3",
          "employee_3",
          "employee_3",
          "employee_3",
          "employee_4",
          "employee_4",
          "employee_4",
          "employee_4",
          "employee_5",
          "employee_5",
          "employee_5",
          "employee_6",
          "employee_6",
          "employee_6",
          "employee_6",
          "employee_6",
          "employee_6",
          "employee_6",
          "employee_6",
          "employee_6",
          "employee_6",
          "employee_6",
          "employee_6",
          "employee_6",
          "employee_7",
          "employee_7",
          "employee_8",
          "employee_8",
          "employee_8",
          "employee_9",
          "employee_9",
          "employee_9",
          "employee_9",
          "employee_9"
         ],
         "marker": {
          "colors": [
           "rgba(255, 153, 51, 1.0)",
           "rgba(55, 128, 191, 1.0)",
           "rgba(50, 171, 96, 1.0)",
           "rgba(128, 0, 128, 1.0)",
           "rgba(219, 64, 82, 1.0)",
           "rgba(0, 128, 128, 1.0)",
           "rgba(255, 255, 51, 1.0)",
           "rgba(128, 128, 0, 1.0)",
           "rgba(251, 128, 114, 1.0)",
           "rgba(128, 177, 211, 1.0)",
           "rgba(128, 177, 211, 0.945578231292517)",
           "rgba(255, 153, 51, 0.945578231292517)",
           "rgba(55, 128, 191, 0.945578231292517)",
           "rgba(50, 171, 96, 0.945578231292517)",
           "rgba(128, 0, 128, 0.945578231292517)",
           "rgba(219, 64, 82, 0.945578231292517)",
           "rgba(0, 128, 128, 0.945578231292517)",
           "rgba(255, 255, 51, 0.945578231292517)",
           "rgba(128, 128, 0, 0.945578231292517)",
           "rgba(251, 128, 114, 0.945578231292517)",
           "rgba(251, 128, 114, 0.8911564625850339)",
           "rgba(128, 177, 211, 0.8911564625850339)",
           "rgba(255, 153, 51, 0.8911564625850339)",
           "rgba(55, 128, 191, 0.8911564625850339)",
           "rgba(50, 171, 96, 0.8911564625850339)",
           "rgba(128, 0, 128, 0.8911564625850339)",
           "rgba(219, 64, 82, 0.8911564625850339)",
           "rgba(0, 128, 128, 0.8911564625850339)",
           "rgba(255, 255, 51, 0.8911564625850339)",
           "rgba(128, 128, 0, 0.8911564625850339)",
           "rgba(128, 128, 0, 0.8367346938775511)",
           "rgba(251, 128, 114, 0.8367346938775511)",
           "rgba(128, 177, 211, 0.8367346938775511)",
           "rgba(255, 153, 51, 0.8367346938775511)",
           "rgba(55, 128, 191, 0.8367346938775511)",
           "rgba(50, 171, 96, 0.8367346938775511)",
           "rgba(128, 0, 128, 0.8367346938775511)",
           "rgba(219, 64, 82, 0.8367346938775511)",
           "rgba(0, 128, 128, 0.8367346938775511)",
           "rgba(255, 255, 51, 0.8367346938775511)",
           "rgba(255, 255, 51, 0.782312925170068)",
           "rgba(128, 128, 0, 0.782312925170068)",
           "rgba(251, 128, 114, 0.782312925170068)",
           "rgba(128, 177, 211, 0.782312925170068)",
           "rgba(255, 153, 51, 0.782312925170068)",
           "rgba(55, 128, 191, 0.782312925170068)",
           "rgba(50, 171, 96, 0.782312925170068)",
           "rgba(128, 0, 128, 0.782312925170068)",
           "rgba(219, 64, 82, 0.782312925170068)",
           "rgba(0, 128, 128, 0.782312925170068)",
           "rgba(0, 128, 128, 0.727891156462585)",
           "rgba(255, 255, 51, 0.727891156462585)",
           "rgba(128, 128, 0, 0.727891156462585)",
           "rgba(251, 128, 114, 0.727891156462585)",
           "rgba(128, 177, 211, 0.727891156462585)",
           "rgba(255, 153, 51, 0.727891156462585)",
           "rgba(55, 128, 191, 0.727891156462585)",
           "rgba(50, 171, 96, 0.727891156462585)",
           "rgba(128, 0, 128, 0.727891156462585)",
           "rgba(219, 64, 82, 0.727891156462585)",
           "rgba(219, 64, 82, 0.6734693877551019)",
           "rgba(0, 128, 128, 0.6734693877551019)",
           "rgba(255, 255, 51, 0.6734693877551019)",
           "rgba(128, 128, 0, 0.6734693877551019)",
           "rgba(251, 128, 114, 0.6734693877551019)",
           "rgba(128, 177, 211, 0.6734693877551019)",
           "rgba(255, 153, 51, 0.6734693877551019)",
           "rgba(55, 128, 191, 0.6734693877551019)",
           "rgba(50, 171, 96, 0.6734693877551019)",
           "rgba(128, 0, 128, 0.6734693877551019)",
           "rgba(128, 0, 128, 0.6190476190476191)",
           "rgba(219, 64, 82, 0.6190476190476191)",
           "rgba(0, 128, 128, 0.6190476190476191)",
           "rgba(255, 255, 51, 0.6190476190476191)",
           "rgba(128, 128, 0, 0.6190476190476191)",
           "rgba(251, 128, 114, 0.6190476190476191)",
           "rgba(128, 177, 211, 0.6190476190476191)",
           "rgba(255, 153, 51, 0.6190476190476191)",
           "rgba(55, 128, 191, 0.6190476190476191)",
           "rgba(50, 171, 96, 0.6190476190476191)",
           "rgba(50, 171, 96, 0.564625850340136)",
           "rgba(128, 0, 128, 0.564625850340136)",
           "rgba(219, 64, 82, 0.564625850340136)",
           "rgba(0, 128, 128, 0.564625850340136)",
           "rgba(255, 255, 51, 0.564625850340136)",
           "rgba(128, 128, 0, 0.564625850340136)",
           "rgba(251, 128, 114, 0.564625850340136)",
           "rgba(128, 177, 211, 0.564625850340136)",
           "rgba(255, 153, 51, 0.564625850340136)",
           "rgba(55, 128, 191, 0.564625850340136)",
           "rgba(55, 128, 191, 0.510204081632653)",
           "rgba(50, 171, 96, 0.510204081632653)",
           "rgba(128, 0, 128, 0.510204081632653)",
           "rgba(219, 64, 82, 0.510204081632653)",
           "rgba(0, 128, 128, 0.510204081632653)",
           "rgba(255, 255, 51, 0.510204081632653)",
           "rgba(128, 128, 0, 0.510204081632653)",
           "rgba(251, 128, 114, 0.510204081632653)",
           "rgba(128, 177, 211, 0.510204081632653)",
           "rgba(255, 153, 51, 0.510204081632653)",
           "rgba(255, 153, 51, 0.45578231292516996)",
           "rgba(55, 128, 191, 0.45578231292516996)",
           "rgba(50, 171, 96, 0.45578231292516996)",
           "rgba(128, 0, 128, 0.45578231292516996)",
           "rgba(219, 64, 82, 0.45578231292516996)",
           "rgba(0, 128, 128, 0.45578231292516996)",
           "rgba(255, 255, 51, 0.45578231292516996)",
           "rgba(128, 128, 0, 0.45578231292516996)",
           "rgba(251, 128, 114, 0.45578231292516996)",
           "rgba(128, 177, 211, 0.45578231292516996)",
           "rgba(128, 177, 211, 0.40136054421768713)",
           "rgba(255, 153, 51, 0.40136054421768713)",
           "rgba(55, 128, 191, 0.40136054421768713)",
           "rgba(50, 171, 96, 0.40136054421768713)",
           "rgba(128, 0, 128, 0.40136054421768713)",
           "rgba(219, 64, 82, 0.40136054421768713)",
           "rgba(0, 128, 128, 0.40136054421768713)",
           "rgba(255, 255, 51, 0.40136054421768713)",
           "rgba(128, 128, 0, 0.40136054421768713)",
           "rgba(251, 128, 114, 0.40136054421768713)",
           "rgba(251, 128, 114, 0.3469387755102041)",
           "rgba(128, 177, 211, 0.3469387755102041)",
           "rgba(255, 153, 51, 0.3469387755102041)",
           "rgba(55, 128, 191, 0.3469387755102041)",
           "rgba(50, 171, 96, 0.3469387755102041)",
           "rgba(128, 0, 128, 0.3469387755102041)",
           "rgba(219, 64, 82, 0.3469387755102041)",
           "rgba(0, 128, 128, 0.3469387755102041)",
           "rgba(255, 255, 51, 0.3469387755102041)",
           "rgba(128, 128, 0, 0.3469387755102041)",
           "rgba(128, 128, 0, 0.292517006802721)",
           "rgba(251, 128, 114, 0.292517006802721)",
           "rgba(128, 177, 211, 0.292517006802721)",
           "rgba(255, 153, 51, 0.292517006802721)",
           "rgba(55, 128, 191, 0.292517006802721)",
           "rgba(50, 171, 96, 0.292517006802721)",
           "rgba(128, 0, 128, 0.292517006802721)",
           "rgba(219, 64, 82, 0.292517006802721)",
           "rgba(0, 128, 128, 0.292517006802721)",
           "rgba(255, 255, 51, 0.292517006802721)",
           "rgba(255, 255, 51, 0.23809523809523797)",
           "rgba(128, 128, 0, 0.23809523809523797)",
           "rgba(251, 128, 114, 0.23809523809523797)",
           "rgba(128, 177, 211, 0.23809523809523797)",
           "rgba(255, 153, 51, 0.23809523809523797)",
           "rgba(55, 128, 191, 0.23809523809523797)",
           "rgba(50, 171, 96, 0.23809523809523797)"
          ]
         },
         "name": "",
         "pull": [
          0,
          0,
          0.1
         ],
         "textinfo": "label",
         "type": "pie",
         "values": [
          0.008,
          0.009,
          0.02,
          0.012,
          0.021,
          0,
          0.04,
          0.032,
          0.035,
          0.031,
          0.025,
          0.002,
          0.02,
          0.019,
          0.003,
          0.002,
          0.001,
          0.009,
          0.013,
          0.019,
          0.021,
          0.009,
          0.01,
          0.017,
          0.018,
          0.011,
          0.03,
          0.001,
          0.027,
          0.028,
          0.024,
          0.027,
          0.033,
          0.02,
          0.007,
          0.018,
          0.008,
          0.027,
          0.018,
          0.019,
          0.005,
          0.005,
          0.023,
          0.02,
          0.016,
          0.01,
          0.031,
          0.045,
          0.027,
          0.024,
          0.02,
          0.004,
          0.011,
          0.018,
          0.014,
          0.003,
          0.002,
          0.003,
          0.008,
          0.014,
          0.046,
          0.037,
          0.016,
          0.026,
          0.02,
          0.013,
          0.008,
          0.013,
          0.027,
          0.015,
          0,
          0.036,
          0.025,
          0.021,
          0.045,
          0.033,
          0,
          0.035,
          0.001,
          0.002,
          0,
          0.019,
          0.003,
          0.013,
          0.017,
          0.042,
          0.047,
          0.012,
          0.03,
          0.005,
          0.012,
          0,
          0.016,
          0.006,
          0.006,
          0.004,
          0.003,
          0.004,
          0.018,
          0.01,
          0.014,
          0.004,
          0.017,
          0.022,
          0.006,
          0.009,
          0.009,
          0.011,
          0.049,
          0.009,
          0.025,
          0.012,
          0.007,
          0.011,
          0.014,
          0.007,
          0.019,
          0.006,
          0.007,
          0.009,
          0.006,
          0.001,
          0.018,
          0.003,
          0.009,
          0.001,
          0.003,
          0.002,
          0.004,
          0.004,
          0,
          0.007,
          0.001,
          0.002,
          0.008,
          0.004,
          0.004,
          0.005,
          0.004,
          0.004,
          0.015,
          0.015,
          0.009,
          0.008,
          0.009,
          0,
          0.008
         ]
        }
       ],
       "layout": {
        "legend": {
         "bgcolor": "#F5F6F9",
         "font": {
          "color": "#4D5663"
         }
        },
        "paper_bgcolor": "#F5F6F9",
        "plot_bgcolor": "#F5F6F9",
        "title": "Total Body Dose Taken Per Person",
        "titlefont": {
         "color": "#4D5663"
        }
       }
      },
      "text/html": [
       "<div>                            <div id=\"9ac30472-ae1d-4d63-92d8-f843c022d2fc\" class=\"plotly-graph-div\" style=\"height:525px; width:100%;\"></div>            <script type=\"text/javascript\">                require([\"plotly\"], function(Plotly) {                    window.PLOTLYENV=window.PLOTLYENV || {};\n",
       "                    window.PLOTLYENV.BASE_URL='https://plot.ly';                                    if (document.getElementById(\"9ac30472-ae1d-4d63-92d8-f843c022d2fc\")) {                    Plotly.newPlot(                        \"9ac30472-ae1d-4d63-92d8-f843c022d2fc\",                        [{\"labels\":[\"employee_1\",\"employee_1\",\"employee_1\",\"employee_1\",\"employee_1\",\"employee_1\",\"employee_1\",\"employee_1\",\"employee_1\",\"employee_1\",\"employee_1\",\"employee_1\",\"employee_1\",\"employee_1\",\"employee_1\",\"employee_1\",\"employee_11\",\"employee_11\",\"employee_11\",\"employee_11\",\"employee_11\",\"employee_11\",\"employee_11\",\"employee_13\",\"employee_13\",\"employee_14\",\"employee_15\",\"employee_15\",\"employee_15\",\"employee_16\",\"employee_16\",\"employee_16\",\"employee_16\",\"employee_16\",\"employee_16\",\"employee_16\",\"employee_16\",\"employee_16\",\"employee_16\",\"employee_16\",\"employee_16\",\"employee_17\",\"employee_18\",\"employee_18\",\"employee_18\",\"employee_18\",\"employee_18\",\"employee_18\",\"employee_18\",\"employee_18\",\"employee_19\",\"employee_2\",\"employee_2\",\"employee_2\",\"employee_20\",\"employee_20\",\"employee_20\",\"employee_21\",\"employee_21\",\"employee_21\",\"employee_21\",\"employee_21\",\"employee_21\",\"employee_21\",\"employee_21\",\"employee_21\",\"employee_21\",\"employee_21\",\"employee_21\",\"employee_21\",\"employee_21\",\"employee_21\",\"employee_21\",\"employee_21\",\"employee_21\",\"employee_21\",\"employee_21\",\"employee_21\",\"employee_21\",\"employee_21\",\"employee_22\",\"employee_22\",\"employee_22\",\"employee_23\",\"employee_23\",\"employee_23\",\"employee_23\",\"employee_23\",\"employee_23\",\"employee_24\",\"employee_24\",\"employee_24\",\"employee_24\",\"employee_24\",\"employee_25\",\"employee_25\",\"employee_25\",\"employee_25\",\"employee_25\",\"employee_25\",\"employee_25\",\"employee_25\",\"employee_25\",\"employee_25\",\"employee_25\",\"employee_3\",\"employee_3\",\"employee_3\",\"employee_3\",\"employee_3\",\"employee_3\",\"employee_3\",\"employee_3\",\"employee_3\",\"employee_3\",\"employee_3\",\"employee_3\",\"employee_4\",\"employee_4\",\"employee_4\",\"employee_4\",\"employee_5\",\"employee_5\",\"employee_5\",\"employee_6\",\"employee_6\",\"employee_6\",\"employee_6\",\"employee_6\",\"employee_6\",\"employee_6\",\"employee_6\",\"employee_6\",\"employee_6\",\"employee_6\",\"employee_6\",\"employee_6\",\"employee_7\",\"employee_7\",\"employee_8\",\"employee_8\",\"employee_8\",\"employee_9\",\"employee_9\",\"employee_9\",\"employee_9\",\"employee_9\"],\"marker\":{\"colors\":[\"rgba(255, 153, 51, 1.0)\",\"rgba(55, 128, 191, 1.0)\",\"rgba(50, 171, 96, 1.0)\",\"rgba(128, 0, 128, 1.0)\",\"rgba(219, 64, 82, 1.0)\",\"rgba(0, 128, 128, 1.0)\",\"rgba(255, 255, 51, 1.0)\",\"rgba(128, 128, 0, 1.0)\",\"rgba(251, 128, 114, 1.0)\",\"rgba(128, 177, 211, 1.0)\",\"rgba(128, 177, 211, 0.945578231292517)\",\"rgba(255, 153, 51, 0.945578231292517)\",\"rgba(55, 128, 191, 0.945578231292517)\",\"rgba(50, 171, 96, 0.945578231292517)\",\"rgba(128, 0, 128, 0.945578231292517)\",\"rgba(219, 64, 82, 0.945578231292517)\",\"rgba(0, 128, 128, 0.945578231292517)\",\"rgba(255, 255, 51, 0.945578231292517)\",\"rgba(128, 128, 0, 0.945578231292517)\",\"rgba(251, 128, 114, 0.945578231292517)\",\"rgba(251, 128, 114, 0.8911564625850339)\",\"rgba(128, 177, 211, 0.8911564625850339)\",\"rgba(255, 153, 51, 0.8911564625850339)\",\"rgba(55, 128, 191, 0.8911564625850339)\",\"rgba(50, 171, 96, 0.8911564625850339)\",\"rgba(128, 0, 128, 0.8911564625850339)\",\"rgba(219, 64, 82, 0.8911564625850339)\",\"rgba(0, 128, 128, 0.8911564625850339)\",\"rgba(255, 255, 51, 0.8911564625850339)\",\"rgba(128, 128, 0, 0.8911564625850339)\",\"rgba(128, 128, 0, 0.8367346938775511)\",\"rgba(251, 128, 114, 0.8367346938775511)\",\"rgba(128, 177, 211, 0.8367346938775511)\",\"rgba(255, 153, 51, 0.8367346938775511)\",\"rgba(55, 128, 191, 0.8367346938775511)\",\"rgba(50, 171, 96, 0.8367346938775511)\",\"rgba(128, 0, 128, 0.8367346938775511)\",\"rgba(219, 64, 82, 0.8367346938775511)\",\"rgba(0, 128, 128, 0.8367346938775511)\",\"rgba(255, 255, 51, 0.8367346938775511)\",\"rgba(255, 255, 51, 0.782312925170068)\",\"rgba(128, 128, 0, 0.782312925170068)\",\"rgba(251, 128, 114, 0.782312925170068)\",\"rgba(128, 177, 211, 0.782312925170068)\",\"rgba(255, 153, 51, 0.782312925170068)\",\"rgba(55, 128, 191, 0.782312925170068)\",\"rgba(50, 171, 96, 0.782312925170068)\",\"rgba(128, 0, 128, 0.782312925170068)\",\"rgba(219, 64, 82, 0.782312925170068)\",\"rgba(0, 128, 128, 0.782312925170068)\",\"rgba(0, 128, 128, 0.727891156462585)\",\"rgba(255, 255, 51, 0.727891156462585)\",\"rgba(128, 128, 0, 0.727891156462585)\",\"rgba(251, 128, 114, 0.727891156462585)\",\"rgba(128, 177, 211, 0.727891156462585)\",\"rgba(255, 153, 51, 0.727891156462585)\",\"rgba(55, 128, 191, 0.727891156462585)\",\"rgba(50, 171, 96, 0.727891156462585)\",\"rgba(128, 0, 128, 0.727891156462585)\",\"rgba(219, 64, 82, 0.727891156462585)\",\"rgba(219, 64, 82, 0.6734693877551019)\",\"rgba(0, 128, 128, 0.6734693877551019)\",\"rgba(255, 255, 51, 0.6734693877551019)\",\"rgba(128, 128, 0, 0.6734693877551019)\",\"rgba(251, 128, 114, 0.6734693877551019)\",\"rgba(128, 177, 211, 0.6734693877551019)\",\"rgba(255, 153, 51, 0.6734693877551019)\",\"rgba(55, 128, 191, 0.6734693877551019)\",\"rgba(50, 171, 96, 0.6734693877551019)\",\"rgba(128, 0, 128, 0.6734693877551019)\",\"rgba(128, 0, 128, 0.6190476190476191)\",\"rgba(219, 64, 82, 0.6190476190476191)\",\"rgba(0, 128, 128, 0.6190476190476191)\",\"rgba(255, 255, 51, 0.6190476190476191)\",\"rgba(128, 128, 0, 0.6190476190476191)\",\"rgba(251, 128, 114, 0.6190476190476191)\",\"rgba(128, 177, 211, 0.6190476190476191)\",\"rgba(255, 153, 51, 0.6190476190476191)\",\"rgba(55, 128, 191, 0.6190476190476191)\",\"rgba(50, 171, 96, 0.6190476190476191)\",\"rgba(50, 171, 96, 0.564625850340136)\",\"rgba(128, 0, 128, 0.564625850340136)\",\"rgba(219, 64, 82, 0.564625850340136)\",\"rgba(0, 128, 128, 0.564625850340136)\",\"rgba(255, 255, 51, 0.564625850340136)\",\"rgba(128, 128, 0, 0.564625850340136)\",\"rgba(251, 128, 114, 0.564625850340136)\",\"rgba(128, 177, 211, 0.564625850340136)\",\"rgba(255, 153, 51, 0.564625850340136)\",\"rgba(55, 128, 191, 0.564625850340136)\",\"rgba(55, 128, 191, 0.510204081632653)\",\"rgba(50, 171, 96, 0.510204081632653)\",\"rgba(128, 0, 128, 0.510204081632653)\",\"rgba(219, 64, 82, 0.510204081632653)\",\"rgba(0, 128, 128, 0.510204081632653)\",\"rgba(255, 255, 51, 0.510204081632653)\",\"rgba(128, 128, 0, 0.510204081632653)\",\"rgba(251, 128, 114, 0.510204081632653)\",\"rgba(128, 177, 211, 0.510204081632653)\",\"rgba(255, 153, 51, 0.510204081632653)\",\"rgba(255, 153, 51, 0.45578231292516996)\",\"rgba(55, 128, 191, 0.45578231292516996)\",\"rgba(50, 171, 96, 0.45578231292516996)\",\"rgba(128, 0, 128, 0.45578231292516996)\",\"rgba(219, 64, 82, 0.45578231292516996)\",\"rgba(0, 128, 128, 0.45578231292516996)\",\"rgba(255, 255, 51, 0.45578231292516996)\",\"rgba(128, 128, 0, 0.45578231292516996)\",\"rgba(251, 128, 114, 0.45578231292516996)\",\"rgba(128, 177, 211, 0.45578231292516996)\",\"rgba(128, 177, 211, 0.40136054421768713)\",\"rgba(255, 153, 51, 0.40136054421768713)\",\"rgba(55, 128, 191, 0.40136054421768713)\",\"rgba(50, 171, 96, 0.40136054421768713)\",\"rgba(128, 0, 128, 0.40136054421768713)\",\"rgba(219, 64, 82, 0.40136054421768713)\",\"rgba(0, 128, 128, 0.40136054421768713)\",\"rgba(255, 255, 51, 0.40136054421768713)\",\"rgba(128, 128, 0, 0.40136054421768713)\",\"rgba(251, 128, 114, 0.40136054421768713)\",\"rgba(251, 128, 114, 0.3469387755102041)\",\"rgba(128, 177, 211, 0.3469387755102041)\",\"rgba(255, 153, 51, 0.3469387755102041)\",\"rgba(55, 128, 191, 0.3469387755102041)\",\"rgba(50, 171, 96, 0.3469387755102041)\",\"rgba(128, 0, 128, 0.3469387755102041)\",\"rgba(219, 64, 82, 0.3469387755102041)\",\"rgba(0, 128, 128, 0.3469387755102041)\",\"rgba(255, 255, 51, 0.3469387755102041)\",\"rgba(128, 128, 0, 0.3469387755102041)\",\"rgba(128, 128, 0, 0.292517006802721)\",\"rgba(251, 128, 114, 0.292517006802721)\",\"rgba(128, 177, 211, 0.292517006802721)\",\"rgba(255, 153, 51, 0.292517006802721)\",\"rgba(55, 128, 191, 0.292517006802721)\",\"rgba(50, 171, 96, 0.292517006802721)\",\"rgba(128, 0, 128, 0.292517006802721)\",\"rgba(219, 64, 82, 0.292517006802721)\",\"rgba(0, 128, 128, 0.292517006802721)\",\"rgba(255, 255, 51, 0.292517006802721)\",\"rgba(255, 255, 51, 0.23809523809523797)\",\"rgba(128, 128, 0, 0.23809523809523797)\",\"rgba(251, 128, 114, 0.23809523809523797)\",\"rgba(128, 177, 211, 0.23809523809523797)\",\"rgba(255, 153, 51, 0.23809523809523797)\",\"rgba(55, 128, 191, 0.23809523809523797)\",\"rgba(50, 171, 96, 0.23809523809523797)\"]},\"name\":\"\",\"pull\":[0,0,0.1],\"textinfo\":\"label\",\"values\":[0.008,0.009,0.02,0.012,0.021,0.0,0.04,0.032,0.035,0.031,0.025,0.002,0.02,0.019,0.003,0.002,0.001,0.009,0.013,0.019,0.021,0.009,0.01,0.017,0.018,0.011,0.03,0.001,0.027,0.028,0.024,0.027,0.033,0.02,0.007,0.018,0.008,0.027,0.018,0.019,0.005,0.005,0.023,0.02,0.016,0.01,0.031,0.045,0.027,0.024,0.02,0.004,0.011,0.018,0.014,0.003,0.002,0.003,0.008,0.014,0.046,0.037,0.016,0.026,0.02,0.013,0.008,0.013,0.027,0.015,0.0,0.036,0.025,0.021,0.045,0.033,0.0,0.035,0.001,0.002,0.0,0.019,0.003,0.013,0.017,0.042,0.047,0.012,0.03,0.005,0.012,0.0,0.016,0.006,0.006,0.004,0.003,0.004,0.018,0.01,0.014,0.004,0.017,0.022,0.006,0.009,0.009,0.011,0.049,0.009,0.025,0.012,0.007,0.011,0.014,0.007,0.019,0.006,0.007,0.009,0.006,0.001,0.018,0.003,0.009,0.001,0.003,0.002,0.004,0.004,0.0,0.007,0.001,0.002,0.008,0.004,0.004,0.005,0.004,0.004,0.015,0.015,0.009,0.008,0.009,0.0,0.008],\"type\":\"pie\"}],                        {\"legend\":{\"bgcolor\":\"#F5F6F9\",\"font\":{\"color\":\"#4D5663\"}},\"paper_bgcolor\":\"#F5F6F9\",\"plot_bgcolor\":\"#F5F6F9\",\"titlefont\":{\"color\":\"#4D5663\"},\"title\":\"Total Body Dose Taken Per Person\"},                        {\"showLink\": true, \"linkText\": \"Export to plot.ly\", \"plotlyServerURL\": \"https://plot.ly\", \"responsive\": true}                    ).then(function(){\n",
       "                            \n",
       "var gd = document.getElementById('9ac30472-ae1d-4d63-92d8-f843c022d2fc');\n",
       "var x = new MutationObserver(function (mutations, observer) {{\n",
       "        var display = window.getComputedStyle(gd).display;\n",
       "        if (!display || display === 'none') {{\n",
       "            console.log([gd, 'removed!']);\n",
       "            Plotly.purge(gd);\n",
       "            observer.disconnect();\n",
       "        }}\n",
       "}});\n",
       "\n",
       "// Listen for the removal of the full notebook cells\n",
       "var notebookContainer = gd.closest('#notebook-container');\n",
       "if (notebookContainer) {{\n",
       "    x.observe(notebookContainer, {childList: true});\n",
       "}}\n",
       "\n",
       "// Listen for the clearing of the current output cell\n",
       "var outputEl = gd.closest('.output');\n",
       "if (outputEl) {{\n",
       "    x.observe(outputEl, {childList: true});\n",
       "}}\n",
       "\n",
       "                        })                };                });            </script>        </div>"
      ]
     },
     "metadata": {},
     "output_type": "display_data"
    },
    {
     "data": {
      "application/vnd.plotly.v1+json": {
       "config": {
        "linkText": "Export to plot.ly",
        "plotlyServerURL": "https://plot.ly",
        "showLink": true
       },
       "data": [
        {
         "labels": [
          "employee_1",
          "employee_1",
          "employee_1",
          "employee_1",
          "employee_1",
          "employee_1",
          "employee_1",
          "employee_1",
          "employee_1",
          "employee_1",
          "employee_11",
          "employee_11",
          "employee_11",
          "employee_13",
          "employee_13",
          "employee_15",
          "employee_16",
          "employee_18",
          "employee_18",
          "employee_18",
          "employee_18",
          "employee_18",
          "employee_18",
          "employee_18",
          "employee_18",
          "employee_19",
          "employee_2",
          "employee_20",
          "employee_21",
          "employee_21",
          "employee_21",
          "employee_21",
          "employee_21",
          "employee_21",
          "employee_21",
          "employee_21",
          "employee_21",
          "employee_21",
          "employee_21",
          "employee_21",
          "employee_21",
          "employee_21",
          "employee_21",
          "employee_21",
          "employee_21",
          "employee_21",
          "employee_21",
          "employee_21",
          "employee_22",
          "employee_22",
          "employee_22",
          "employee_23",
          "employee_23",
          "employee_23",
          "employee_23",
          "employee_23",
          "employee_23",
          "employee_24",
          "employee_25",
          "employee_25",
          "employee_25",
          "employee_25",
          "employee_3",
          "employee_3",
          "employee_3",
          "employee_3",
          "employee_3",
          "employee_3",
          "employee_3",
          "employee_3",
          "employee_3",
          "employee_3",
          "employee_3",
          "employee_3",
          "employee_5",
          "employee_5",
          "employee_5",
          "employee_6",
          "employee_6",
          "employee_6",
          "employee_6",
          "employee_6",
          "employee_6",
          "employee_6",
          "employee_6",
          "employee_6",
          "employee_6",
          "employee_6",
          "employee_8",
          "employee_9"
         ],
         "marker": {
          "colors": [
           "rgba(255, 153, 51, 1.0)",
           "rgba(55, 128, 191, 1.0)",
           "rgba(50, 171, 96, 1.0)",
           "rgba(128, 0, 128, 1.0)",
           "rgba(219, 64, 82, 1.0)",
           "rgba(0, 128, 128, 1.0)",
           "rgba(255, 255, 51, 1.0)",
           "rgba(128, 128, 0, 1.0)",
           "rgba(251, 128, 114, 1.0)",
           "rgba(128, 177, 211, 1.0)",
           "rgba(128, 177, 211, 0.911111111111111)",
           "rgba(255, 153, 51, 0.911111111111111)",
           "rgba(55, 128, 191, 0.911111111111111)",
           "rgba(50, 171, 96, 0.911111111111111)",
           "rgba(128, 0, 128, 0.911111111111111)",
           "rgba(219, 64, 82, 0.911111111111111)",
           "rgba(0, 128, 128, 0.911111111111111)",
           "rgba(255, 255, 51, 0.911111111111111)",
           "rgba(128, 128, 0, 0.911111111111111)",
           "rgba(251, 128, 114, 0.911111111111111)",
           "rgba(251, 128, 114, 0.8222222222222222)",
           "rgba(128, 177, 211, 0.8222222222222222)",
           "rgba(255, 153, 51, 0.8222222222222222)",
           "rgba(55, 128, 191, 0.8222222222222222)",
           "rgba(50, 171, 96, 0.8222222222222222)",
           "rgba(128, 0, 128, 0.8222222222222222)",
           "rgba(219, 64, 82, 0.8222222222222222)",
           "rgba(0, 128, 128, 0.8222222222222222)",
           "rgba(255, 255, 51, 0.8222222222222222)",
           "rgba(128, 128, 0, 0.8222222222222222)",
           "rgba(128, 128, 0, 0.7333333333333332)",
           "rgba(251, 128, 114, 0.7333333333333332)",
           "rgba(128, 177, 211, 0.7333333333333332)",
           "rgba(255, 153, 51, 0.7333333333333332)",
           "rgba(55, 128, 191, 0.7333333333333332)",
           "rgba(50, 171, 96, 0.7333333333333332)",
           "rgba(128, 0, 128, 0.7333333333333332)",
           "rgba(219, 64, 82, 0.7333333333333332)",
           "rgba(0, 128, 128, 0.7333333333333332)",
           "rgba(255, 255, 51, 0.7333333333333332)",
           "rgba(255, 255, 51, 0.6444444444444444)",
           "rgba(128, 128, 0, 0.6444444444444444)",
           "rgba(251, 128, 114, 0.6444444444444444)",
           "rgba(128, 177, 211, 0.6444444444444444)",
           "rgba(255, 153, 51, 0.6444444444444444)",
           "rgba(55, 128, 191, 0.6444444444444444)",
           "rgba(50, 171, 96, 0.6444444444444444)",
           "rgba(128, 0, 128, 0.6444444444444444)",
           "rgba(219, 64, 82, 0.6444444444444444)",
           "rgba(0, 128, 128, 0.6444444444444444)",
           "rgba(0, 128, 128, 0.5555555555555554)",
           "rgba(255, 255, 51, 0.5555555555555554)",
           "rgba(128, 128, 0, 0.5555555555555554)",
           "rgba(251, 128, 114, 0.5555555555555554)",
           "rgba(128, 177, 211, 0.5555555555555554)",
           "rgba(255, 153, 51, 0.5555555555555554)",
           "rgba(55, 128, 191, 0.5555555555555554)",
           "rgba(50, 171, 96, 0.5555555555555554)",
           "rgba(128, 0, 128, 0.5555555555555554)",
           "rgba(219, 64, 82, 0.5555555555555554)",
           "rgba(219, 64, 82, 0.4666666666666666)",
           "rgba(0, 128, 128, 0.4666666666666666)",
           "rgba(255, 255, 51, 0.4666666666666666)",
           "rgba(128, 128, 0, 0.4666666666666666)",
           "rgba(251, 128, 114, 0.4666666666666666)",
           "rgba(128, 177, 211, 0.4666666666666666)",
           "rgba(255, 153, 51, 0.4666666666666666)",
           "rgba(55, 128, 191, 0.4666666666666666)",
           "rgba(50, 171, 96, 0.4666666666666666)",
           "rgba(128, 0, 128, 0.4666666666666666)",
           "rgba(128, 0, 128, 0.3777777777777776)",
           "rgba(219, 64, 82, 0.3777777777777776)",
           "rgba(0, 128, 128, 0.3777777777777776)",
           "rgba(255, 255, 51, 0.3777777777777776)",
           "rgba(128, 128, 0, 0.3777777777777776)",
           "rgba(251, 128, 114, 0.3777777777777776)",
           "rgba(128, 177, 211, 0.3777777777777776)",
           "rgba(255, 153, 51, 0.3777777777777776)",
           "rgba(55, 128, 191, 0.3777777777777776)",
           "rgba(50, 171, 96, 0.3777777777777776)",
           "rgba(50, 171, 96, 0.2888888888888888)",
           "rgba(128, 0, 128, 0.2888888888888888)",
           "rgba(219, 64, 82, 0.2888888888888888)",
           "rgba(0, 128, 128, 0.2888888888888888)",
           "rgba(255, 255, 51, 0.2888888888888888)",
           "rgba(128, 128, 0, 0.2888888888888888)",
           "rgba(251, 128, 114, 0.2888888888888888)",
           "rgba(128, 177, 211, 0.2888888888888888)",
           "rgba(255, 153, 51, 0.2888888888888888)",
           "rgba(55, 128, 191, 0.2888888888888888)"
          ]
         },
         "name": "",
         "pull": [
          0,
          0,
          0.1
         ],
         "textinfo": "label",
         "type": "pie",
         "values": [
          0.008,
          0.009,
          0.02,
          0.012,
          0.021,
          0.025,
          0.002,
          0.02,
          0.003,
          0.002,
          0.001,
          0.013,
          0.009,
          0.017,
          0.018,
          0.001,
          0.005,
          0.023,
          0.02,
          0.016,
          0.01,
          0.031,
          0.045,
          0.027,
          0.024,
          0.02,
          0.004,
          0.003,
          0.003,
          0.008,
          0.014,
          0.046,
          0.037,
          0.016,
          0.026,
          0.02,
          0.013,
          0.008,
          0.013,
          0.027,
          0.015,
          0,
          0.036,
          0.025,
          0.021,
          0.045,
          0.033,
          0.002,
          0,
          0.019,
          0.003,
          0.013,
          0.017,
          0.042,
          0.047,
          0.012,
          0.03,
          0.016,
          0.006,
          0.004,
          0.003,
          0.004,
          0.009,
          0.009,
          0.011,
          0.049,
          0.009,
          0.025,
          0.012,
          0.007,
          0.011,
          0.014,
          0.007,
          0.019,
          0.001,
          0.018,
          0.003,
          0.009,
          0.001,
          0.003,
          0.002,
          0.004,
          0.004,
          0,
          0.001,
          0.002,
          0.008,
          0.004,
          0.004,
          0.008
         ]
        }
       ],
       "layout": {
        "legend": {
         "bgcolor": "#F5F6F9",
         "font": {
          "color": "#4D5663"
         }
        },
        "paper_bgcolor": "#F5F6F9",
        "plot_bgcolor": "#F5F6F9",
        "title": "Total Body Dose Taken Per Person Dayshift",
        "titlefont": {
         "color": "#4D5663"
        }
       }
      },
      "text/html": [
       "<div>                            <div id=\"ee95ee3b-d6e7-4feb-97a4-3c0270ec63c3\" class=\"plotly-graph-div\" style=\"height:525px; width:100%;\"></div>            <script type=\"text/javascript\">                require([\"plotly\"], function(Plotly) {                    window.PLOTLYENV=window.PLOTLYENV || {};\n",
       "                    window.PLOTLYENV.BASE_URL='https://plot.ly';                                    if (document.getElementById(\"ee95ee3b-d6e7-4feb-97a4-3c0270ec63c3\")) {                    Plotly.newPlot(                        \"ee95ee3b-d6e7-4feb-97a4-3c0270ec63c3\",                        [{\"labels\":[\"employee_1\",\"employee_1\",\"employee_1\",\"employee_1\",\"employee_1\",\"employee_1\",\"employee_1\",\"employee_1\",\"employee_1\",\"employee_1\",\"employee_11\",\"employee_11\",\"employee_11\",\"employee_13\",\"employee_13\",\"employee_15\",\"employee_16\",\"employee_18\",\"employee_18\",\"employee_18\",\"employee_18\",\"employee_18\",\"employee_18\",\"employee_18\",\"employee_18\",\"employee_19\",\"employee_2\",\"employee_20\",\"employee_21\",\"employee_21\",\"employee_21\",\"employee_21\",\"employee_21\",\"employee_21\",\"employee_21\",\"employee_21\",\"employee_21\",\"employee_21\",\"employee_21\",\"employee_21\",\"employee_21\",\"employee_21\",\"employee_21\",\"employee_21\",\"employee_21\",\"employee_21\",\"employee_21\",\"employee_21\",\"employee_22\",\"employee_22\",\"employee_22\",\"employee_23\",\"employee_23\",\"employee_23\",\"employee_23\",\"employee_23\",\"employee_23\",\"employee_24\",\"employee_25\",\"employee_25\",\"employee_25\",\"employee_25\",\"employee_3\",\"employee_3\",\"employee_3\",\"employee_3\",\"employee_3\",\"employee_3\",\"employee_3\",\"employee_3\",\"employee_3\",\"employee_3\",\"employee_3\",\"employee_3\",\"employee_5\",\"employee_5\",\"employee_5\",\"employee_6\",\"employee_6\",\"employee_6\",\"employee_6\",\"employee_6\",\"employee_6\",\"employee_6\",\"employee_6\",\"employee_6\",\"employee_6\",\"employee_6\",\"employee_8\",\"employee_9\"],\"marker\":{\"colors\":[\"rgba(255, 153, 51, 1.0)\",\"rgba(55, 128, 191, 1.0)\",\"rgba(50, 171, 96, 1.0)\",\"rgba(128, 0, 128, 1.0)\",\"rgba(219, 64, 82, 1.0)\",\"rgba(0, 128, 128, 1.0)\",\"rgba(255, 255, 51, 1.0)\",\"rgba(128, 128, 0, 1.0)\",\"rgba(251, 128, 114, 1.0)\",\"rgba(128, 177, 211, 1.0)\",\"rgba(128, 177, 211, 0.911111111111111)\",\"rgba(255, 153, 51, 0.911111111111111)\",\"rgba(55, 128, 191, 0.911111111111111)\",\"rgba(50, 171, 96, 0.911111111111111)\",\"rgba(128, 0, 128, 0.911111111111111)\",\"rgba(219, 64, 82, 0.911111111111111)\",\"rgba(0, 128, 128, 0.911111111111111)\",\"rgba(255, 255, 51, 0.911111111111111)\",\"rgba(128, 128, 0, 0.911111111111111)\",\"rgba(251, 128, 114, 0.911111111111111)\",\"rgba(251, 128, 114, 0.8222222222222222)\",\"rgba(128, 177, 211, 0.8222222222222222)\",\"rgba(255, 153, 51, 0.8222222222222222)\",\"rgba(55, 128, 191, 0.8222222222222222)\",\"rgba(50, 171, 96, 0.8222222222222222)\",\"rgba(128, 0, 128, 0.8222222222222222)\",\"rgba(219, 64, 82, 0.8222222222222222)\",\"rgba(0, 128, 128, 0.8222222222222222)\",\"rgba(255, 255, 51, 0.8222222222222222)\",\"rgba(128, 128, 0, 0.8222222222222222)\",\"rgba(128, 128, 0, 0.7333333333333332)\",\"rgba(251, 128, 114, 0.7333333333333332)\",\"rgba(128, 177, 211, 0.7333333333333332)\",\"rgba(255, 153, 51, 0.7333333333333332)\",\"rgba(55, 128, 191, 0.7333333333333332)\",\"rgba(50, 171, 96, 0.7333333333333332)\",\"rgba(128, 0, 128, 0.7333333333333332)\",\"rgba(219, 64, 82, 0.7333333333333332)\",\"rgba(0, 128, 128, 0.7333333333333332)\",\"rgba(255, 255, 51, 0.7333333333333332)\",\"rgba(255, 255, 51, 0.6444444444444444)\",\"rgba(128, 128, 0, 0.6444444444444444)\",\"rgba(251, 128, 114, 0.6444444444444444)\",\"rgba(128, 177, 211, 0.6444444444444444)\",\"rgba(255, 153, 51, 0.6444444444444444)\",\"rgba(55, 128, 191, 0.6444444444444444)\",\"rgba(50, 171, 96, 0.6444444444444444)\",\"rgba(128, 0, 128, 0.6444444444444444)\",\"rgba(219, 64, 82, 0.6444444444444444)\",\"rgba(0, 128, 128, 0.6444444444444444)\",\"rgba(0, 128, 128, 0.5555555555555554)\",\"rgba(255, 255, 51, 0.5555555555555554)\",\"rgba(128, 128, 0, 0.5555555555555554)\",\"rgba(251, 128, 114, 0.5555555555555554)\",\"rgba(128, 177, 211, 0.5555555555555554)\",\"rgba(255, 153, 51, 0.5555555555555554)\",\"rgba(55, 128, 191, 0.5555555555555554)\",\"rgba(50, 171, 96, 0.5555555555555554)\",\"rgba(128, 0, 128, 0.5555555555555554)\",\"rgba(219, 64, 82, 0.5555555555555554)\",\"rgba(219, 64, 82, 0.4666666666666666)\",\"rgba(0, 128, 128, 0.4666666666666666)\",\"rgba(255, 255, 51, 0.4666666666666666)\",\"rgba(128, 128, 0, 0.4666666666666666)\",\"rgba(251, 128, 114, 0.4666666666666666)\",\"rgba(128, 177, 211, 0.4666666666666666)\",\"rgba(255, 153, 51, 0.4666666666666666)\",\"rgba(55, 128, 191, 0.4666666666666666)\",\"rgba(50, 171, 96, 0.4666666666666666)\",\"rgba(128, 0, 128, 0.4666666666666666)\",\"rgba(128, 0, 128, 0.3777777777777776)\",\"rgba(219, 64, 82, 0.3777777777777776)\",\"rgba(0, 128, 128, 0.3777777777777776)\",\"rgba(255, 255, 51, 0.3777777777777776)\",\"rgba(128, 128, 0, 0.3777777777777776)\",\"rgba(251, 128, 114, 0.3777777777777776)\",\"rgba(128, 177, 211, 0.3777777777777776)\",\"rgba(255, 153, 51, 0.3777777777777776)\",\"rgba(55, 128, 191, 0.3777777777777776)\",\"rgba(50, 171, 96, 0.3777777777777776)\",\"rgba(50, 171, 96, 0.2888888888888888)\",\"rgba(128, 0, 128, 0.2888888888888888)\",\"rgba(219, 64, 82, 0.2888888888888888)\",\"rgba(0, 128, 128, 0.2888888888888888)\",\"rgba(255, 255, 51, 0.2888888888888888)\",\"rgba(128, 128, 0, 0.2888888888888888)\",\"rgba(251, 128, 114, 0.2888888888888888)\",\"rgba(128, 177, 211, 0.2888888888888888)\",\"rgba(255, 153, 51, 0.2888888888888888)\",\"rgba(55, 128, 191, 0.2888888888888888)\"]},\"name\":\"\",\"pull\":[0,0,0.1],\"textinfo\":\"label\",\"values\":[0.008,0.009,0.02,0.012,0.021,0.025,0.002,0.02,0.003,0.002,0.001,0.013,0.009,0.017,0.018,0.001,0.005,0.023,0.02,0.016,0.01,0.031,0.045,0.027,0.024,0.02,0.004,0.003,0.003,0.008,0.014,0.046,0.037,0.016,0.026,0.02,0.013,0.008,0.013,0.027,0.015,0.0,0.036,0.025,0.021,0.045,0.033,0.002,0.0,0.019,0.003,0.013,0.017,0.042,0.047,0.012,0.03,0.016,0.006,0.004,0.003,0.004,0.009,0.009,0.011,0.049,0.009,0.025,0.012,0.007,0.011,0.014,0.007,0.019,0.001,0.018,0.003,0.009,0.001,0.003,0.002,0.004,0.004,0.0,0.001,0.002,0.008,0.004,0.004,0.008],\"type\":\"pie\"}],                        {\"legend\":{\"bgcolor\":\"#F5F6F9\",\"font\":{\"color\":\"#4D5663\"}},\"paper_bgcolor\":\"#F5F6F9\",\"plot_bgcolor\":\"#F5F6F9\",\"titlefont\":{\"color\":\"#4D5663\"},\"title\":\"Total Body Dose Taken Per Person Dayshift\"},                        {\"showLink\": true, \"linkText\": \"Export to plot.ly\", \"plotlyServerURL\": \"https://plot.ly\", \"responsive\": true}                    ).then(function(){\n",
       "                            \n",
       "var gd = document.getElementById('ee95ee3b-d6e7-4feb-97a4-3c0270ec63c3');\n",
       "var x = new MutationObserver(function (mutations, observer) {{\n",
       "        var display = window.getComputedStyle(gd).display;\n",
       "        if (!display || display === 'none') {{\n",
       "            console.log([gd, 'removed!']);\n",
       "            Plotly.purge(gd);\n",
       "            observer.disconnect();\n",
       "        }}\n",
       "}});\n",
       "\n",
       "// Listen for the removal of the full notebook cells\n",
       "var notebookContainer = gd.closest('#notebook-container');\n",
       "if (notebookContainer) {{\n",
       "    x.observe(notebookContainer, {childList: true});\n",
       "}}\n",
       "\n",
       "// Listen for the clearing of the current output cell\n",
       "var outputEl = gd.closest('.output');\n",
       "if (outputEl) {{\n",
       "    x.observe(outputEl, {childList: true});\n",
       "}}\n",
       "\n",
       "                        })                };                });            </script>        </div>"
      ]
     },
     "metadata": {},
     "output_type": "display_data"
    },
    {
     "data": {
      "application/vnd.plotly.v1+json": {
       "config": {
        "linkText": "Export to plot.ly",
        "plotlyServerURL": "https://plot.ly",
        "showLink": true
       },
       "data": [
        {
         "labels": [
          "employee_1",
          "employee_1",
          "employee_1",
          "employee_1",
          "employee_1",
          "employee_1",
          "employee_11",
          "employee_11",
          "employee_11",
          "employee_11",
          "employee_14",
          "employee_15",
          "employee_15",
          "employee_16",
          "employee_16",
          "employee_16",
          "employee_16",
          "employee_16",
          "employee_16",
          "employee_16",
          "employee_16",
          "employee_16",
          "employee_16",
          "employee_16",
          "employee_17",
          "employee_2",
          "employee_2",
          "employee_20",
          "employee_20",
          "employee_21",
          "employee_21",
          "employee_21",
          "employee_24",
          "employee_24",
          "employee_24",
          "employee_24",
          "employee_25",
          "employee_25",
          "employee_25",
          "employee_25",
          "employee_25",
          "employee_25",
          "employee_25",
          "employee_4",
          "employee_4",
          "employee_4",
          "employee_4",
          "employee_6",
          "employee_6",
          "employee_7",
          "employee_7",
          "employee_8",
          "employee_8",
          "employee_9",
          "employee_9",
          "employee_9",
          "employee_9"
         ],
         "marker": {
          "colors": [
           "rgba(255, 153, 51, 1.0)",
           "rgba(55, 128, 191, 1.0)",
           "rgba(50, 171, 96, 1.0)",
           "rgba(128, 0, 128, 1.0)",
           "rgba(219, 64, 82, 1.0)",
           "rgba(0, 128, 128, 1.0)",
           "rgba(255, 255, 51, 1.0)",
           "rgba(128, 128, 0, 1.0)",
           "rgba(251, 128, 114, 1.0)",
           "rgba(128, 177, 211, 1.0)",
           "rgba(128, 177, 211, 0.8999999999999999)",
           "rgba(255, 153, 51, 0.8999999999999999)",
           "rgba(55, 128, 191, 0.8999999999999999)",
           "rgba(50, 171, 96, 0.8999999999999999)",
           "rgba(128, 0, 128, 0.8999999999999999)",
           "rgba(219, 64, 82, 0.8999999999999999)",
           "rgba(0, 128, 128, 0.8999999999999999)",
           "rgba(255, 255, 51, 0.8999999999999999)",
           "rgba(128, 128, 0, 0.8999999999999999)",
           "rgba(251, 128, 114, 0.8999999999999999)",
           "rgba(251, 128, 114, 0.7999999999999998)",
           "rgba(128, 177, 211, 0.7999999999999998)",
           "rgba(255, 153, 51, 0.7999999999999998)",
           "rgba(55, 128, 191, 0.7999999999999998)",
           "rgba(50, 171, 96, 0.7999999999999998)",
           "rgba(128, 0, 128, 0.7999999999999998)",
           "rgba(219, 64, 82, 0.7999999999999998)",
           "rgba(0, 128, 128, 0.7999999999999998)",
           "rgba(255, 255, 51, 0.7999999999999998)",
           "rgba(128, 128, 0, 0.7999999999999998)",
           "rgba(128, 128, 0, 0.7)",
           "rgba(251, 128, 114, 0.7)",
           "rgba(128, 177, 211, 0.7)",
           "rgba(255, 153, 51, 0.7)",
           "rgba(55, 128, 191, 0.7)",
           "rgba(50, 171, 96, 0.7)",
           "rgba(128, 0, 128, 0.7)",
           "rgba(219, 64, 82, 0.7)",
           "rgba(0, 128, 128, 0.7)",
           "rgba(255, 255, 51, 0.7)",
           "rgba(255, 255, 51, 0.5999999999999999)",
           "rgba(128, 128, 0, 0.5999999999999999)",
           "rgba(251, 128, 114, 0.5999999999999999)",
           "rgba(128, 177, 211, 0.5999999999999999)",
           "rgba(255, 153, 51, 0.5999999999999999)",
           "rgba(55, 128, 191, 0.5999999999999999)",
           "rgba(50, 171, 96, 0.5999999999999999)",
           "rgba(128, 0, 128, 0.5999999999999999)",
           "rgba(219, 64, 82, 0.5999999999999999)",
           "rgba(0, 128, 128, 0.5999999999999999)",
           "rgba(0, 128, 128, 0.49999999999999983)",
           "rgba(255, 255, 51, 0.49999999999999983)",
           "rgba(128, 128, 0, 0.49999999999999983)",
           "rgba(251, 128, 114, 0.49999999999999983)",
           "rgba(128, 177, 211, 0.49999999999999983)",
           "rgba(255, 153, 51, 0.49999999999999983)",
           "rgba(55, 128, 191, 0.49999999999999983)"
          ]
         },
         "name": "",
         "pull": [
          0,
          0,
          0.1
         ],
         "textinfo": "label",
         "type": "pie",
         "values": [
          0,
          0.04,
          0.032,
          0.035,
          0.031,
          0.019,
          0.009,
          0.019,
          0.021,
          0.01,
          0.011,
          0.03,
          0.027,
          0.028,
          0.024,
          0.027,
          0.033,
          0.02,
          0.007,
          0.018,
          0.008,
          0.027,
          0.018,
          0.019,
          0.005,
          0.011,
          0.018,
          0.014,
          0.002,
          0,
          0.035,
          0.001,
          0.005,
          0.012,
          0,
          0.006,
          0.018,
          0.01,
          0.014,
          0.004,
          0.017,
          0.022,
          0.006,
          0.006,
          0.007,
          0.009,
          0.006,
          0.007,
          0.004,
          0.005,
          0.004,
          0.015,
          0.015,
          0.009,
          0.009,
          0,
          0.008
         ]
        }
       ],
       "layout": {
        "legend": {
         "bgcolor": "#F5F6F9",
         "font": {
          "color": "#4D5663"
         }
        },
        "paper_bgcolor": "#F5F6F9",
        "plot_bgcolor": "#F5F6F9",
        "title": "Total Body Dose Taken Per Person Nightshift",
        "titlefont": {
         "color": "#4D5663"
        }
       }
      },
      "text/html": [
       "<div>                            <div id=\"7288f41a-e76b-4c9b-a26a-63b50daf0ef6\" class=\"plotly-graph-div\" style=\"height:525px; width:100%;\"></div>            <script type=\"text/javascript\">                require([\"plotly\"], function(Plotly) {                    window.PLOTLYENV=window.PLOTLYENV || {};\n",
       "                    window.PLOTLYENV.BASE_URL='https://plot.ly';                                    if (document.getElementById(\"7288f41a-e76b-4c9b-a26a-63b50daf0ef6\")) {                    Plotly.newPlot(                        \"7288f41a-e76b-4c9b-a26a-63b50daf0ef6\",                        [{\"labels\":[\"employee_1\",\"employee_1\",\"employee_1\",\"employee_1\",\"employee_1\",\"employee_1\",\"employee_11\",\"employee_11\",\"employee_11\",\"employee_11\",\"employee_14\",\"employee_15\",\"employee_15\",\"employee_16\",\"employee_16\",\"employee_16\",\"employee_16\",\"employee_16\",\"employee_16\",\"employee_16\",\"employee_16\",\"employee_16\",\"employee_16\",\"employee_16\",\"employee_17\",\"employee_2\",\"employee_2\",\"employee_20\",\"employee_20\",\"employee_21\",\"employee_21\",\"employee_21\",\"employee_24\",\"employee_24\",\"employee_24\",\"employee_24\",\"employee_25\",\"employee_25\",\"employee_25\",\"employee_25\",\"employee_25\",\"employee_25\",\"employee_25\",\"employee_4\",\"employee_4\",\"employee_4\",\"employee_4\",\"employee_6\",\"employee_6\",\"employee_7\",\"employee_7\",\"employee_8\",\"employee_8\",\"employee_9\",\"employee_9\",\"employee_9\",\"employee_9\"],\"marker\":{\"colors\":[\"rgba(255, 153, 51, 1.0)\",\"rgba(55, 128, 191, 1.0)\",\"rgba(50, 171, 96, 1.0)\",\"rgba(128, 0, 128, 1.0)\",\"rgba(219, 64, 82, 1.0)\",\"rgba(0, 128, 128, 1.0)\",\"rgba(255, 255, 51, 1.0)\",\"rgba(128, 128, 0, 1.0)\",\"rgba(251, 128, 114, 1.0)\",\"rgba(128, 177, 211, 1.0)\",\"rgba(128, 177, 211, 0.8999999999999999)\",\"rgba(255, 153, 51, 0.8999999999999999)\",\"rgba(55, 128, 191, 0.8999999999999999)\",\"rgba(50, 171, 96, 0.8999999999999999)\",\"rgba(128, 0, 128, 0.8999999999999999)\",\"rgba(219, 64, 82, 0.8999999999999999)\",\"rgba(0, 128, 128, 0.8999999999999999)\",\"rgba(255, 255, 51, 0.8999999999999999)\",\"rgba(128, 128, 0, 0.8999999999999999)\",\"rgba(251, 128, 114, 0.8999999999999999)\",\"rgba(251, 128, 114, 0.7999999999999998)\",\"rgba(128, 177, 211, 0.7999999999999998)\",\"rgba(255, 153, 51, 0.7999999999999998)\",\"rgba(55, 128, 191, 0.7999999999999998)\",\"rgba(50, 171, 96, 0.7999999999999998)\",\"rgba(128, 0, 128, 0.7999999999999998)\",\"rgba(219, 64, 82, 0.7999999999999998)\",\"rgba(0, 128, 128, 0.7999999999999998)\",\"rgba(255, 255, 51, 0.7999999999999998)\",\"rgba(128, 128, 0, 0.7999999999999998)\",\"rgba(128, 128, 0, 0.7)\",\"rgba(251, 128, 114, 0.7)\",\"rgba(128, 177, 211, 0.7)\",\"rgba(255, 153, 51, 0.7)\",\"rgba(55, 128, 191, 0.7)\",\"rgba(50, 171, 96, 0.7)\",\"rgba(128, 0, 128, 0.7)\",\"rgba(219, 64, 82, 0.7)\",\"rgba(0, 128, 128, 0.7)\",\"rgba(255, 255, 51, 0.7)\",\"rgba(255, 255, 51, 0.5999999999999999)\",\"rgba(128, 128, 0, 0.5999999999999999)\",\"rgba(251, 128, 114, 0.5999999999999999)\",\"rgba(128, 177, 211, 0.5999999999999999)\",\"rgba(255, 153, 51, 0.5999999999999999)\",\"rgba(55, 128, 191, 0.5999999999999999)\",\"rgba(50, 171, 96, 0.5999999999999999)\",\"rgba(128, 0, 128, 0.5999999999999999)\",\"rgba(219, 64, 82, 0.5999999999999999)\",\"rgba(0, 128, 128, 0.5999999999999999)\",\"rgba(0, 128, 128, 0.49999999999999983)\",\"rgba(255, 255, 51, 0.49999999999999983)\",\"rgba(128, 128, 0, 0.49999999999999983)\",\"rgba(251, 128, 114, 0.49999999999999983)\",\"rgba(128, 177, 211, 0.49999999999999983)\",\"rgba(255, 153, 51, 0.49999999999999983)\",\"rgba(55, 128, 191, 0.49999999999999983)\"]},\"name\":\"\",\"pull\":[0,0,0.1],\"textinfo\":\"label\",\"values\":[0.0,0.04,0.032,0.035,0.031,0.019,0.009,0.019,0.021,0.01,0.011,0.03,0.027,0.028,0.024,0.027,0.033,0.02,0.007,0.018,0.008,0.027,0.018,0.019,0.005,0.011,0.018,0.014,0.002,0.0,0.035,0.001,0.005,0.012,0.0,0.006,0.018,0.01,0.014,0.004,0.017,0.022,0.006,0.006,0.007,0.009,0.006,0.007,0.004,0.005,0.004,0.015,0.015,0.009,0.009,0.0,0.008],\"type\":\"pie\"}],                        {\"legend\":{\"bgcolor\":\"#F5F6F9\",\"font\":{\"color\":\"#4D5663\"}},\"paper_bgcolor\":\"#F5F6F9\",\"plot_bgcolor\":\"#F5F6F9\",\"titlefont\":{\"color\":\"#4D5663\"},\"title\":\"Total Body Dose Taken Per Person Nightshift\"},                        {\"showLink\": true, \"linkText\": \"Export to plot.ly\", \"plotlyServerURL\": \"https://plot.ly\", \"responsive\": true}                    ).then(function(){\n",
       "                            \n",
       "var gd = document.getElementById('7288f41a-e76b-4c9b-a26a-63b50daf0ef6');\n",
       "var x = new MutationObserver(function (mutations, observer) {{\n",
       "        var display = window.getComputedStyle(gd).display;\n",
       "        if (!display || display === 'none') {{\n",
       "            console.log([gd, 'removed!']);\n",
       "            Plotly.purge(gd);\n",
       "            observer.disconnect();\n",
       "        }}\n",
       "}});\n",
       "\n",
       "// Listen for the removal of the full notebook cells\n",
       "var notebookContainer = gd.closest('#notebook-container');\n",
       "if (notebookContainer) {{\n",
       "    x.observe(notebookContainer, {childList: true});\n",
       "}}\n",
       "\n",
       "// Listen for the clearing of the current output cell\n",
       "var outputEl = gd.closest('.output');\n",
       "if (outputEl) {{\n",
       "    x.observe(outputEl, {childList: true});\n",
       "}}\n",
       "\n",
       "                        })                };                });            </script>        </div>"
      ]
     },
     "metadata": {},
     "output_type": "display_data"
    }
   ],
   "source": [
    "df2.reset_index().iplot(kind=\"pie\",\n",
    "                             labels='Name',\n",
    "                             values= 'Whole_Body_Dose',\n",
    "                             textinfo='label',\n",
    "                             pull=[0, 0, 0.1],\n",
    "                        title=\"Total Body Dose Taken Per Person\")\n",
    "                             \n",
    "\n",
    "dayshift_4.reset_index().iplot(kind=\"pie\",\n",
    "                             labels='Name',\n",
    "                             values= 'Whole_Body_Dose',\n",
    "                             textinfo='label',\n",
    "                             pull=[0, 0, 0.1],\n",
    "                               title=\"Total Body Dose Taken Per Person Dayshift\")\n",
    "                             \n",
    "\n",
    "nightshift_4.reset_index().iplot(kind=\"pie\",\n",
    "                             labels='Name',\n",
    "                             values= 'Whole_Body_Dose',\n",
    "                             textinfo='label',\n",
    "                             pull=[0, 0, 0.1],\n",
    "                                 title=\"Total Body Dose Taken Per Person Nightshift\")"
   ]
  },
  {
   "cell_type": "markdown",
   "id": "01d91ee0",
   "metadata": {},
   "source": [
    "# Getting the total Dose and Time per person on both Data Frames"
   ]
  },
  {
   "cell_type": "markdown",
   "id": "34d906bb",
   "metadata": {},
   "source": [
    "The below code shows the total time and the accrued dose taken, as you can see on this boat the dose is spread out better than the other boat, this is because we were told to rotate the people so that not one individual takes the most dose."
   ]
  },
  {
   "cell_type": "code",
   "execution_count": 67,
   "id": "54d43255",
   "metadata": {},
   "outputs": [
    {
     "data": {
      "text/html": [
       "<div>\n",
       "<style scoped>\n",
       "    .dataframe tbody tr th:only-of-type {\n",
       "        vertical-align: middle;\n",
       "    }\n",
       "\n",
       "    .dataframe tbody tr th {\n",
       "        vertical-align: top;\n",
       "    }\n",
       "\n",
       "    .dataframe thead th {\n",
       "        text-align: right;\n",
       "    }\n",
       "</style>\n",
       "<table border=\"1\" class=\"dataframe\">\n",
       "  <thead>\n",
       "    <tr style=\"text-align: right;\">\n",
       "      <th></th>\n",
       "      <th>Name</th>\n",
       "      <th>Whole_Body_Dose</th>\n",
       "      <th>Time_Decimal</th>\n",
       "    </tr>\n",
       "  </thead>\n",
       "  <tbody>\n",
       "    <tr>\n",
       "      <th>0</th>\n",
       "      <td>employee_11</td>\n",
       "      <td>0.254</td>\n",
       "      <td>84.833333</td>\n",
       "    </tr>\n",
       "    <tr>\n",
       "      <th>1</th>\n",
       "      <td>employee_14</td>\n",
       "      <td>0.149</td>\n",
       "      <td>61.700000</td>\n",
       "    </tr>\n",
       "    <tr>\n",
       "      <th>2</th>\n",
       "      <td>employee_16</td>\n",
       "      <td>0.099</td>\n",
       "      <td>61.633333</td>\n",
       "    </tr>\n",
       "    <tr>\n",
       "      <th>3</th>\n",
       "      <td>employee_21</td>\n",
       "      <td>0.160</td>\n",
       "      <td>61.450000</td>\n",
       "    </tr>\n",
       "    <tr>\n",
       "      <th>4</th>\n",
       "      <td>employee_18</td>\n",
       "      <td>0.187</td>\n",
       "      <td>54.300000</td>\n",
       "    </tr>\n",
       "    <tr>\n",
       "      <th>5</th>\n",
       "      <td>employee_8</td>\n",
       "      <td>0.091</td>\n",
       "      <td>54.100000</td>\n",
       "    </tr>\n",
       "    <tr>\n",
       "      <th>6</th>\n",
       "      <td>employee_9</td>\n",
       "      <td>0.174</td>\n",
       "      <td>53.783333</td>\n",
       "    </tr>\n",
       "    <tr>\n",
       "      <th>7</th>\n",
       "      <td>employee_26</td>\n",
       "      <td>0.133</td>\n",
       "      <td>47.533333</td>\n",
       "    </tr>\n",
       "    <tr>\n",
       "      <th>8</th>\n",
       "      <td>employee_2</td>\n",
       "      <td>0.139</td>\n",
       "      <td>46.533333</td>\n",
       "    </tr>\n",
       "    <tr>\n",
       "      <th>9</th>\n",
       "      <td>employee_10</td>\n",
       "      <td>0.036</td>\n",
       "      <td>31.716667</td>\n",
       "    </tr>\n",
       "  </tbody>\n",
       "</table>\n",
       "</div>"
      ],
      "text/plain": [
       "          Name  Whole_Body_Dose  Time_Decimal\n",
       "0  employee_11            0.254     84.833333\n",
       "1  employee_14            0.149     61.700000\n",
       "2  employee_16            0.099     61.633333\n",
       "3  employee_21            0.160     61.450000\n",
       "4  employee_18            0.187     54.300000\n",
       "5   employee_8            0.091     54.100000\n",
       "6   employee_9            0.174     53.783333\n",
       "7  employee_26            0.133     47.533333\n",
       "8   employee_2            0.139     46.533333\n",
       "9  employee_10            0.036     31.716667"
      ]
     },
     "execution_count": 67,
     "metadata": {},
     "output_type": "execute_result"
    }
   ],
   "source": [
    "df = df1.groupby(df1.index).sum().sort_values(by='Time_Decimal', ascending=False)\n",
    "df = df.reset_index()\n",
    "df.head(10)"
   ]
  },
  {
   "cell_type": "code",
   "execution_count": 68,
   "id": "2e95ab58",
   "metadata": {},
   "outputs": [
    {
     "data": {
      "application/vnd.plotly.v1+json": {
       "config": {
        "plotlyServerURL": "https://plot.ly"
       },
       "data": [
        {
         "alignmentgroup": "True",
         "hovertemplate": "Name=%{x}<br>Time_Decimal=%{y}<br>Whole_Body_Dose=%{marker.color}<extra></extra>",
         "legendgroup": "",
         "marker": {
          "color": [
           0.254,
           0.149,
           0.099,
           0.16,
           0.187,
           0.091,
           0.174,
           0.133,
           0.139,
           0.036000000000000004,
           0.077,
           0.106,
           0.085,
           0.017,
           0.064,
           0.038,
           0.048,
           0.035,
           0.03,
           0.017,
           0.009000000000000001,
           0.011,
           0.015,
           0.044000000000000004,
           0.011,
           0.021
          ],
          "coloraxis": "coloraxis",
          "pattern": {
           "shape": ""
          }
         },
         "name": "",
         "offsetgroup": "",
         "orientation": "v",
         "showlegend": false,
         "textposition": "auto",
         "texttemplate": "%{y}",
         "type": "bar",
         "x": [
          "employee_11",
          "employee_14",
          "employee_16",
          "employee_21",
          "employee_18",
          "employee_8",
          "employee_9",
          "employee_26",
          "employee_2",
          "employee_10",
          "employee_1",
          "employee_3",
          "employee_15",
          "employee_19",
          "employee_24",
          "employee_6",
          "employee_13",
          "employee_20",
          "employee_4",
          "employee_23",
          "employee_17",
          "employee_12",
          "employee_7",
          "employee_5",
          "employee_25",
          "employee_22"
         ],
         "xaxis": "x",
         "y": [
          84.83333333333333,
          61.7,
          61.63333333333333,
          61.45,
          54.3,
          54.1,
          53.78333333333333,
          47.53333333333333,
          46.53333333333333,
          31.71666666666667,
          31.383333333333333,
          28.733333333333334,
          25.6,
          22.78333333333333,
          17.75,
          17.633333333333333,
          16.53333333333333,
          14.916666666666668,
          14.75,
          12.783333333333333,
          8.466666666666667,
          8.266666666666667,
          8.083333333333334,
          7.883333333333334,
          5.233333333333333,
          4.716666666666667
         ],
         "yaxis": "y"
        }
       ],
       "layout": {
        "barmode": "relative",
        "coloraxis": {
         "colorbar": {
          "title": {
           "text": "Whole_Body_Dose"
          }
         },
         "colorscale": [
          [
           0,
           "#0d0887"
          ],
          [
           0.1111111111111111,
           "#46039f"
          ],
          [
           0.2222222222222222,
           "#7201a8"
          ],
          [
           0.3333333333333333,
           "#9c179e"
          ],
          [
           0.4444444444444444,
           "#bd3786"
          ],
          [
           0.5555555555555556,
           "#d8576b"
          ],
          [
           0.6666666666666666,
           "#ed7953"
          ],
          [
           0.7777777777777778,
           "#fb9f3a"
          ],
          [
           0.8888888888888888,
           "#fdca26"
          ],
          [
           1,
           "#f0f921"
          ]
         ]
        },
        "legend": {
         "tracegroupgap": 0
        },
        "template": {
         "data": {
          "bar": [
           {
            "error_x": {
             "color": "#2a3f5f"
            },
            "error_y": {
             "color": "#2a3f5f"
            },
            "marker": {
             "line": {
              "color": "#E5ECF6",
              "width": 0.5
             },
             "pattern": {
              "fillmode": "overlay",
              "size": 10,
              "solidity": 0.2
             }
            },
            "type": "bar"
           }
          ],
          "barpolar": [
           {
            "marker": {
             "line": {
              "color": "#E5ECF6",
              "width": 0.5
             },
             "pattern": {
              "fillmode": "overlay",
              "size": 10,
              "solidity": 0.2
             }
            },
            "type": "barpolar"
           }
          ],
          "carpet": [
           {
            "aaxis": {
             "endlinecolor": "#2a3f5f",
             "gridcolor": "white",
             "linecolor": "white",
             "minorgridcolor": "white",
             "startlinecolor": "#2a3f5f"
            },
            "baxis": {
             "endlinecolor": "#2a3f5f",
             "gridcolor": "white",
             "linecolor": "white",
             "minorgridcolor": "white",
             "startlinecolor": "#2a3f5f"
            },
            "type": "carpet"
           }
          ],
          "choropleth": [
           {
            "colorbar": {
             "outlinewidth": 0,
             "ticks": ""
            },
            "type": "choropleth"
           }
          ],
          "contour": [
           {
            "colorbar": {
             "outlinewidth": 0,
             "ticks": ""
            },
            "colorscale": [
             [
              0,
              "#0d0887"
             ],
             [
              0.1111111111111111,
              "#46039f"
             ],
             [
              0.2222222222222222,
              "#7201a8"
             ],
             [
              0.3333333333333333,
              "#9c179e"
             ],
             [
              0.4444444444444444,
              "#bd3786"
             ],
             [
              0.5555555555555556,
              "#d8576b"
             ],
             [
              0.6666666666666666,
              "#ed7953"
             ],
             [
              0.7777777777777778,
              "#fb9f3a"
             ],
             [
              0.8888888888888888,
              "#fdca26"
             ],
             [
              1,
              "#f0f921"
             ]
            ],
            "type": "contour"
           }
          ],
          "contourcarpet": [
           {
            "colorbar": {
             "outlinewidth": 0,
             "ticks": ""
            },
            "type": "contourcarpet"
           }
          ],
          "heatmap": [
           {
            "colorbar": {
             "outlinewidth": 0,
             "ticks": ""
            },
            "colorscale": [
             [
              0,
              "#0d0887"
             ],
             [
              0.1111111111111111,
              "#46039f"
             ],
             [
              0.2222222222222222,
              "#7201a8"
             ],
             [
              0.3333333333333333,
              "#9c179e"
             ],
             [
              0.4444444444444444,
              "#bd3786"
             ],
             [
              0.5555555555555556,
              "#d8576b"
             ],
             [
              0.6666666666666666,
              "#ed7953"
             ],
             [
              0.7777777777777778,
              "#fb9f3a"
             ],
             [
              0.8888888888888888,
              "#fdca26"
             ],
             [
              1,
              "#f0f921"
             ]
            ],
            "type": "heatmap"
           }
          ],
          "heatmapgl": [
           {
            "colorbar": {
             "outlinewidth": 0,
             "ticks": ""
            },
            "colorscale": [
             [
              0,
              "#0d0887"
             ],
             [
              0.1111111111111111,
              "#46039f"
             ],
             [
              0.2222222222222222,
              "#7201a8"
             ],
             [
              0.3333333333333333,
              "#9c179e"
             ],
             [
              0.4444444444444444,
              "#bd3786"
             ],
             [
              0.5555555555555556,
              "#d8576b"
             ],
             [
              0.6666666666666666,
              "#ed7953"
             ],
             [
              0.7777777777777778,
              "#fb9f3a"
             ],
             [
              0.8888888888888888,
              "#fdca26"
             ],
             [
              1,
              "#f0f921"
             ]
            ],
            "type": "heatmapgl"
           }
          ],
          "histogram": [
           {
            "marker": {
             "pattern": {
              "fillmode": "overlay",
              "size": 10,
              "solidity": 0.2
             }
            },
            "type": "histogram"
           }
          ],
          "histogram2d": [
           {
            "colorbar": {
             "outlinewidth": 0,
             "ticks": ""
            },
            "colorscale": [
             [
              0,
              "#0d0887"
             ],
             [
              0.1111111111111111,
              "#46039f"
             ],
             [
              0.2222222222222222,
              "#7201a8"
             ],
             [
              0.3333333333333333,
              "#9c179e"
             ],
             [
              0.4444444444444444,
              "#bd3786"
             ],
             [
              0.5555555555555556,
              "#d8576b"
             ],
             [
              0.6666666666666666,
              "#ed7953"
             ],
             [
              0.7777777777777778,
              "#fb9f3a"
             ],
             [
              0.8888888888888888,
              "#fdca26"
             ],
             [
              1,
              "#f0f921"
             ]
            ],
            "type": "histogram2d"
           }
          ],
          "histogram2dcontour": [
           {
            "colorbar": {
             "outlinewidth": 0,
             "ticks": ""
            },
            "colorscale": [
             [
              0,
              "#0d0887"
             ],
             [
              0.1111111111111111,
              "#46039f"
             ],
             [
              0.2222222222222222,
              "#7201a8"
             ],
             [
              0.3333333333333333,
              "#9c179e"
             ],
             [
              0.4444444444444444,
              "#bd3786"
             ],
             [
              0.5555555555555556,
              "#d8576b"
             ],
             [
              0.6666666666666666,
              "#ed7953"
             ],
             [
              0.7777777777777778,
              "#fb9f3a"
             ],
             [
              0.8888888888888888,
              "#fdca26"
             ],
             [
              1,
              "#f0f921"
             ]
            ],
            "type": "histogram2dcontour"
           }
          ],
          "mesh3d": [
           {
            "colorbar": {
             "outlinewidth": 0,
             "ticks": ""
            },
            "type": "mesh3d"
           }
          ],
          "parcoords": [
           {
            "line": {
             "colorbar": {
              "outlinewidth": 0,
              "ticks": ""
             }
            },
            "type": "parcoords"
           }
          ],
          "pie": [
           {
            "automargin": true,
            "type": "pie"
           }
          ],
          "scatter": [
           {
            "fillpattern": {
             "fillmode": "overlay",
             "size": 10,
             "solidity": 0.2
            },
            "type": "scatter"
           }
          ],
          "scatter3d": [
           {
            "line": {
             "colorbar": {
              "outlinewidth": 0,
              "ticks": ""
             }
            },
            "marker": {
             "colorbar": {
              "outlinewidth": 0,
              "ticks": ""
             }
            },
            "type": "scatter3d"
           }
          ],
          "scattercarpet": [
           {
            "marker": {
             "colorbar": {
              "outlinewidth": 0,
              "ticks": ""
             }
            },
            "type": "scattercarpet"
           }
          ],
          "scattergeo": [
           {
            "marker": {
             "colorbar": {
              "outlinewidth": 0,
              "ticks": ""
             }
            },
            "type": "scattergeo"
           }
          ],
          "scattergl": [
           {
            "marker": {
             "colorbar": {
              "outlinewidth": 0,
              "ticks": ""
             }
            },
            "type": "scattergl"
           }
          ],
          "scattermapbox": [
           {
            "marker": {
             "colorbar": {
              "outlinewidth": 0,
              "ticks": ""
             }
            },
            "type": "scattermapbox"
           }
          ],
          "scatterpolar": [
           {
            "marker": {
             "colorbar": {
              "outlinewidth": 0,
              "ticks": ""
             }
            },
            "type": "scatterpolar"
           }
          ],
          "scatterpolargl": [
           {
            "marker": {
             "colorbar": {
              "outlinewidth": 0,
              "ticks": ""
             }
            },
            "type": "scatterpolargl"
           }
          ],
          "scatterternary": [
           {
            "marker": {
             "colorbar": {
              "outlinewidth": 0,
              "ticks": ""
             }
            },
            "type": "scatterternary"
           }
          ],
          "surface": [
           {
            "colorbar": {
             "outlinewidth": 0,
             "ticks": ""
            },
            "colorscale": [
             [
              0,
              "#0d0887"
             ],
             [
              0.1111111111111111,
              "#46039f"
             ],
             [
              0.2222222222222222,
              "#7201a8"
             ],
             [
              0.3333333333333333,
              "#9c179e"
             ],
             [
              0.4444444444444444,
              "#bd3786"
             ],
             [
              0.5555555555555556,
              "#d8576b"
             ],
             [
              0.6666666666666666,
              "#ed7953"
             ],
             [
              0.7777777777777778,
              "#fb9f3a"
             ],
             [
              0.8888888888888888,
              "#fdca26"
             ],
             [
              1,
              "#f0f921"
             ]
            ],
            "type": "surface"
           }
          ],
          "table": [
           {
            "cells": {
             "fill": {
              "color": "#EBF0F8"
             },
             "line": {
              "color": "white"
             }
            },
            "header": {
             "fill": {
              "color": "#C8D4E3"
             },
             "line": {
              "color": "white"
             }
            },
            "type": "table"
           }
          ]
         },
         "layout": {
          "annotationdefaults": {
           "arrowcolor": "#2a3f5f",
           "arrowhead": 0,
           "arrowwidth": 1
          },
          "autotypenumbers": "strict",
          "coloraxis": {
           "colorbar": {
            "outlinewidth": 0,
            "ticks": ""
           }
          },
          "colorscale": {
           "diverging": [
            [
             0,
             "#8e0152"
            ],
            [
             0.1,
             "#c51b7d"
            ],
            [
             0.2,
             "#de77ae"
            ],
            [
             0.3,
             "#f1b6da"
            ],
            [
             0.4,
             "#fde0ef"
            ],
            [
             0.5,
             "#f7f7f7"
            ],
            [
             0.6,
             "#e6f5d0"
            ],
            [
             0.7,
             "#b8e186"
            ],
            [
             0.8,
             "#7fbc41"
            ],
            [
             0.9,
             "#4d9221"
            ],
            [
             1,
             "#276419"
            ]
           ],
           "sequential": [
            [
             0,
             "#0d0887"
            ],
            [
             0.1111111111111111,
             "#46039f"
            ],
            [
             0.2222222222222222,
             "#7201a8"
            ],
            [
             0.3333333333333333,
             "#9c179e"
            ],
            [
             0.4444444444444444,
             "#bd3786"
            ],
            [
             0.5555555555555556,
             "#d8576b"
            ],
            [
             0.6666666666666666,
             "#ed7953"
            ],
            [
             0.7777777777777778,
             "#fb9f3a"
            ],
            [
             0.8888888888888888,
             "#fdca26"
            ],
            [
             1,
             "#f0f921"
            ]
           ],
           "sequentialminus": [
            [
             0,
             "#0d0887"
            ],
            [
             0.1111111111111111,
             "#46039f"
            ],
            [
             0.2222222222222222,
             "#7201a8"
            ],
            [
             0.3333333333333333,
             "#9c179e"
            ],
            [
             0.4444444444444444,
             "#bd3786"
            ],
            [
             0.5555555555555556,
             "#d8576b"
            ],
            [
             0.6666666666666666,
             "#ed7953"
            ],
            [
             0.7777777777777778,
             "#fb9f3a"
            ],
            [
             0.8888888888888888,
             "#fdca26"
            ],
            [
             1,
             "#f0f921"
            ]
           ]
          },
          "colorway": [
           "#636efa",
           "#EF553B",
           "#00cc96",
           "#ab63fa",
           "#FFA15A",
           "#19d3f3",
           "#FF6692",
           "#B6E880",
           "#FF97FF",
           "#FECB52"
          ],
          "font": {
           "color": "#2a3f5f"
          },
          "geo": {
           "bgcolor": "white",
           "lakecolor": "white",
           "landcolor": "#E5ECF6",
           "showlakes": true,
           "showland": true,
           "subunitcolor": "white"
          },
          "hoverlabel": {
           "align": "left"
          },
          "hovermode": "closest",
          "mapbox": {
           "style": "light"
          },
          "paper_bgcolor": "white",
          "plot_bgcolor": "#E5ECF6",
          "polar": {
           "angularaxis": {
            "gridcolor": "white",
            "linecolor": "white",
            "ticks": ""
           },
           "bgcolor": "#E5ECF6",
           "radialaxis": {
            "gridcolor": "white",
            "linecolor": "white",
            "ticks": ""
           }
          },
          "scene": {
           "xaxis": {
            "backgroundcolor": "#E5ECF6",
            "gridcolor": "white",
            "gridwidth": 2,
            "linecolor": "white",
            "showbackground": true,
            "ticks": "",
            "zerolinecolor": "white"
           },
           "yaxis": {
            "backgroundcolor": "#E5ECF6",
            "gridcolor": "white",
            "gridwidth": 2,
            "linecolor": "white",
            "showbackground": true,
            "ticks": "",
            "zerolinecolor": "white"
           },
           "zaxis": {
            "backgroundcolor": "#E5ECF6",
            "gridcolor": "white",
            "gridwidth": 2,
            "linecolor": "white",
            "showbackground": true,
            "ticks": "",
            "zerolinecolor": "white"
           }
          },
          "shapedefaults": {
           "line": {
            "color": "#2a3f5f"
           }
          },
          "ternary": {
           "aaxis": {
            "gridcolor": "white",
            "linecolor": "white",
            "ticks": ""
           },
           "baxis": {
            "gridcolor": "white",
            "linecolor": "white",
            "ticks": ""
           },
           "bgcolor": "#E5ECF6",
           "caxis": {
            "gridcolor": "white",
            "linecolor": "white",
            "ticks": ""
           }
          },
          "title": {
           "x": 0.05
          },
          "xaxis": {
           "automargin": true,
           "gridcolor": "white",
           "linecolor": "white",
           "ticks": "",
           "title": {
            "standoff": 15
           },
           "zerolinecolor": "white",
           "zerolinewidth": 2
          },
          "yaxis": {
           "automargin": true,
           "gridcolor": "white",
           "linecolor": "white",
           "ticks": "",
           "title": {
            "standoff": 15
           },
           "zerolinecolor": "white",
           "zerolinewidth": 2
          }
         }
        },
        "title": {
         "text": "Total Dose and Time df1"
        },
        "xaxis": {
         "anchor": "y",
         "domain": [
          0,
          1
         ],
         "title": {
          "text": "Name"
         }
        },
        "yaxis": {
         "anchor": "x",
         "domain": [
          0,
          1
         ],
         "title": {
          "text": "Time_Decimal"
         }
        }
       }
      },
      "text/html": [
       "<div>                            <div id=\"81dbb418-e7eb-4253-a28b-7cdc53ed3972\" class=\"plotly-graph-div\" style=\"height:525px; width:100%;\"></div>            <script type=\"text/javascript\">                require([\"plotly\"], function(Plotly) {                    window.PLOTLYENV=window.PLOTLYENV || {};                                    if (document.getElementById(\"81dbb418-e7eb-4253-a28b-7cdc53ed3972\")) {                    Plotly.newPlot(                        \"81dbb418-e7eb-4253-a28b-7cdc53ed3972\",                        [{\"alignmentgroup\":\"True\",\"hovertemplate\":\"Name=%{x}<br>Time_Decimal=%{y}<br>Whole_Body_Dose=%{marker.color}<extra></extra>\",\"legendgroup\":\"\",\"marker\":{\"color\":[0.254,0.149,0.099,0.16,0.187,0.091,0.174,0.133,0.139,0.036000000000000004,0.077,0.106,0.085,0.017,0.064,0.038,0.048,0.035,0.03,0.017,0.009000000000000001,0.011,0.015,0.044000000000000004,0.011,0.021],\"coloraxis\":\"coloraxis\",\"pattern\":{\"shape\":\"\"}},\"name\":\"\",\"offsetgroup\":\"\",\"orientation\":\"v\",\"showlegend\":false,\"textposition\":\"auto\",\"texttemplate\":\"%{y}\",\"x\":[\"employee_11\",\"employee_14\",\"employee_16\",\"employee_21\",\"employee_18\",\"employee_8\",\"employee_9\",\"employee_26\",\"employee_2\",\"employee_10\",\"employee_1\",\"employee_3\",\"employee_15\",\"employee_19\",\"employee_24\",\"employee_6\",\"employee_13\",\"employee_20\",\"employee_4\",\"employee_23\",\"employee_17\",\"employee_12\",\"employee_7\",\"employee_5\",\"employee_25\",\"employee_22\"],\"xaxis\":\"x\",\"y\":[84.83333333333333,61.7,61.63333333333333,61.45,54.3,54.1,53.78333333333333,47.53333333333333,46.53333333333333,31.71666666666667,31.383333333333333,28.733333333333334,25.6,22.78333333333333,17.75,17.633333333333333,16.53333333333333,14.916666666666668,14.75,12.783333333333333,8.466666666666667,8.266666666666667,8.083333333333334,7.883333333333334,5.233333333333333,4.716666666666667],\"yaxis\":\"y\",\"type\":\"bar\"}],                        {\"template\":{\"data\":{\"histogram2dcontour\":[{\"type\":\"histogram2dcontour\",\"colorbar\":{\"outlinewidth\":0,\"ticks\":\"\"},\"colorscale\":[[0.0,\"#0d0887\"],[0.1111111111111111,\"#46039f\"],[0.2222222222222222,\"#7201a8\"],[0.3333333333333333,\"#9c179e\"],[0.4444444444444444,\"#bd3786\"],[0.5555555555555556,\"#d8576b\"],[0.6666666666666666,\"#ed7953\"],[0.7777777777777778,\"#fb9f3a\"],[0.8888888888888888,\"#fdca26\"],[1.0,\"#f0f921\"]]}],\"choropleth\":[{\"type\":\"choropleth\",\"colorbar\":{\"outlinewidth\":0,\"ticks\":\"\"}}],\"histogram2d\":[{\"type\":\"histogram2d\",\"colorbar\":{\"outlinewidth\":0,\"ticks\":\"\"},\"colorscale\":[[0.0,\"#0d0887\"],[0.1111111111111111,\"#46039f\"],[0.2222222222222222,\"#7201a8\"],[0.3333333333333333,\"#9c179e\"],[0.4444444444444444,\"#bd3786\"],[0.5555555555555556,\"#d8576b\"],[0.6666666666666666,\"#ed7953\"],[0.7777777777777778,\"#fb9f3a\"],[0.8888888888888888,\"#fdca26\"],[1.0,\"#f0f921\"]]}],\"heatmap\":[{\"type\":\"heatmap\",\"colorbar\":{\"outlinewidth\":0,\"ticks\":\"\"},\"colorscale\":[[0.0,\"#0d0887\"],[0.1111111111111111,\"#46039f\"],[0.2222222222222222,\"#7201a8\"],[0.3333333333333333,\"#9c179e\"],[0.4444444444444444,\"#bd3786\"],[0.5555555555555556,\"#d8576b\"],[0.6666666666666666,\"#ed7953\"],[0.7777777777777778,\"#fb9f3a\"],[0.8888888888888888,\"#fdca26\"],[1.0,\"#f0f921\"]]}],\"heatmapgl\":[{\"type\":\"heatmapgl\",\"colorbar\":{\"outlinewidth\":0,\"ticks\":\"\"},\"colorscale\":[[0.0,\"#0d0887\"],[0.1111111111111111,\"#46039f\"],[0.2222222222222222,\"#7201a8\"],[0.3333333333333333,\"#9c179e\"],[0.4444444444444444,\"#bd3786\"],[0.5555555555555556,\"#d8576b\"],[0.6666666666666666,\"#ed7953\"],[0.7777777777777778,\"#fb9f3a\"],[0.8888888888888888,\"#fdca26\"],[1.0,\"#f0f921\"]]}],\"contourcarpet\":[{\"type\":\"contourcarpet\",\"colorbar\":{\"outlinewidth\":0,\"ticks\":\"\"}}],\"contour\":[{\"type\":\"contour\",\"colorbar\":{\"outlinewidth\":0,\"ticks\":\"\"},\"colorscale\":[[0.0,\"#0d0887\"],[0.1111111111111111,\"#46039f\"],[0.2222222222222222,\"#7201a8\"],[0.3333333333333333,\"#9c179e\"],[0.4444444444444444,\"#bd3786\"],[0.5555555555555556,\"#d8576b\"],[0.6666666666666666,\"#ed7953\"],[0.7777777777777778,\"#fb9f3a\"],[0.8888888888888888,\"#fdca26\"],[1.0,\"#f0f921\"]]}],\"surface\":[{\"type\":\"surface\",\"colorbar\":{\"outlinewidth\":0,\"ticks\":\"\"},\"colorscale\":[[0.0,\"#0d0887\"],[0.1111111111111111,\"#46039f\"],[0.2222222222222222,\"#7201a8\"],[0.3333333333333333,\"#9c179e\"],[0.4444444444444444,\"#bd3786\"],[0.5555555555555556,\"#d8576b\"],[0.6666666666666666,\"#ed7953\"],[0.7777777777777778,\"#fb9f3a\"],[0.8888888888888888,\"#fdca26\"],[1.0,\"#f0f921\"]]}],\"mesh3d\":[{\"type\":\"mesh3d\",\"colorbar\":{\"outlinewidth\":0,\"ticks\":\"\"}}],\"scatter\":[{\"fillpattern\":{\"fillmode\":\"overlay\",\"size\":10,\"solidity\":0.2},\"type\":\"scatter\"}],\"parcoords\":[{\"type\":\"parcoords\",\"line\":{\"colorbar\":{\"outlinewidth\":0,\"ticks\":\"\"}}}],\"scatterpolargl\":[{\"type\":\"scatterpolargl\",\"marker\":{\"colorbar\":{\"outlinewidth\":0,\"ticks\":\"\"}}}],\"bar\":[{\"error_x\":{\"color\":\"#2a3f5f\"},\"error_y\":{\"color\":\"#2a3f5f\"},\"marker\":{\"line\":{\"color\":\"#E5ECF6\",\"width\":0.5},\"pattern\":{\"fillmode\":\"overlay\",\"size\":10,\"solidity\":0.2}},\"type\":\"bar\"}],\"scattergeo\":[{\"type\":\"scattergeo\",\"marker\":{\"colorbar\":{\"outlinewidth\":0,\"ticks\":\"\"}}}],\"scatterpolar\":[{\"type\":\"scatterpolar\",\"marker\":{\"colorbar\":{\"outlinewidth\":0,\"ticks\":\"\"}}}],\"histogram\":[{\"marker\":{\"pattern\":{\"fillmode\":\"overlay\",\"size\":10,\"solidity\":0.2}},\"type\":\"histogram\"}],\"scattergl\":[{\"type\":\"scattergl\",\"marker\":{\"colorbar\":{\"outlinewidth\":0,\"ticks\":\"\"}}}],\"scatter3d\":[{\"type\":\"scatter3d\",\"line\":{\"colorbar\":{\"outlinewidth\":0,\"ticks\":\"\"}},\"marker\":{\"colorbar\":{\"outlinewidth\":0,\"ticks\":\"\"}}}],\"scattermapbox\":[{\"type\":\"scattermapbox\",\"marker\":{\"colorbar\":{\"outlinewidth\":0,\"ticks\":\"\"}}}],\"scatterternary\":[{\"type\":\"scatterternary\",\"marker\":{\"colorbar\":{\"outlinewidth\":0,\"ticks\":\"\"}}}],\"scattercarpet\":[{\"type\":\"scattercarpet\",\"marker\":{\"colorbar\":{\"outlinewidth\":0,\"ticks\":\"\"}}}],\"carpet\":[{\"aaxis\":{\"endlinecolor\":\"#2a3f5f\",\"gridcolor\":\"white\",\"linecolor\":\"white\",\"minorgridcolor\":\"white\",\"startlinecolor\":\"#2a3f5f\"},\"baxis\":{\"endlinecolor\":\"#2a3f5f\",\"gridcolor\":\"white\",\"linecolor\":\"white\",\"minorgridcolor\":\"white\",\"startlinecolor\":\"#2a3f5f\"},\"type\":\"carpet\"}],\"table\":[{\"cells\":{\"fill\":{\"color\":\"#EBF0F8\"},\"line\":{\"color\":\"white\"}},\"header\":{\"fill\":{\"color\":\"#C8D4E3\"},\"line\":{\"color\":\"white\"}},\"type\":\"table\"}],\"barpolar\":[{\"marker\":{\"line\":{\"color\":\"#E5ECF6\",\"width\":0.5},\"pattern\":{\"fillmode\":\"overlay\",\"size\":10,\"solidity\":0.2}},\"type\":\"barpolar\"}],\"pie\":[{\"automargin\":true,\"type\":\"pie\"}]},\"layout\":{\"autotypenumbers\":\"strict\",\"colorway\":[\"#636efa\",\"#EF553B\",\"#00cc96\",\"#ab63fa\",\"#FFA15A\",\"#19d3f3\",\"#FF6692\",\"#B6E880\",\"#FF97FF\",\"#FECB52\"],\"font\":{\"color\":\"#2a3f5f\"},\"hovermode\":\"closest\",\"hoverlabel\":{\"align\":\"left\"},\"paper_bgcolor\":\"white\",\"plot_bgcolor\":\"#E5ECF6\",\"polar\":{\"bgcolor\":\"#E5ECF6\",\"angularaxis\":{\"gridcolor\":\"white\",\"linecolor\":\"white\",\"ticks\":\"\"},\"radialaxis\":{\"gridcolor\":\"white\",\"linecolor\":\"white\",\"ticks\":\"\"}},\"ternary\":{\"bgcolor\":\"#E5ECF6\",\"aaxis\":{\"gridcolor\":\"white\",\"linecolor\":\"white\",\"ticks\":\"\"},\"baxis\":{\"gridcolor\":\"white\",\"linecolor\":\"white\",\"ticks\":\"\"},\"caxis\":{\"gridcolor\":\"white\",\"linecolor\":\"white\",\"ticks\":\"\"}},\"coloraxis\":{\"colorbar\":{\"outlinewidth\":0,\"ticks\":\"\"}},\"colorscale\":{\"sequential\":[[0.0,\"#0d0887\"],[0.1111111111111111,\"#46039f\"],[0.2222222222222222,\"#7201a8\"],[0.3333333333333333,\"#9c179e\"],[0.4444444444444444,\"#bd3786\"],[0.5555555555555556,\"#d8576b\"],[0.6666666666666666,\"#ed7953\"],[0.7777777777777778,\"#fb9f3a\"],[0.8888888888888888,\"#fdca26\"],[1.0,\"#f0f921\"]],\"sequentialminus\":[[0.0,\"#0d0887\"],[0.1111111111111111,\"#46039f\"],[0.2222222222222222,\"#7201a8\"],[0.3333333333333333,\"#9c179e\"],[0.4444444444444444,\"#bd3786\"],[0.5555555555555556,\"#d8576b\"],[0.6666666666666666,\"#ed7953\"],[0.7777777777777778,\"#fb9f3a\"],[0.8888888888888888,\"#fdca26\"],[1.0,\"#f0f921\"]],\"diverging\":[[0,\"#8e0152\"],[0.1,\"#c51b7d\"],[0.2,\"#de77ae\"],[0.3,\"#f1b6da\"],[0.4,\"#fde0ef\"],[0.5,\"#f7f7f7\"],[0.6,\"#e6f5d0\"],[0.7,\"#b8e186\"],[0.8,\"#7fbc41\"],[0.9,\"#4d9221\"],[1,\"#276419\"]]},\"xaxis\":{\"gridcolor\":\"white\",\"linecolor\":\"white\",\"ticks\":\"\",\"title\":{\"standoff\":15},\"zerolinecolor\":\"white\",\"automargin\":true,\"zerolinewidth\":2},\"yaxis\":{\"gridcolor\":\"white\",\"linecolor\":\"white\",\"ticks\":\"\",\"title\":{\"standoff\":15},\"zerolinecolor\":\"white\",\"automargin\":true,\"zerolinewidth\":2},\"scene\":{\"xaxis\":{\"backgroundcolor\":\"#E5ECF6\",\"gridcolor\":\"white\",\"linecolor\":\"white\",\"showbackground\":true,\"ticks\":\"\",\"zerolinecolor\":\"white\",\"gridwidth\":2},\"yaxis\":{\"backgroundcolor\":\"#E5ECF6\",\"gridcolor\":\"white\",\"linecolor\":\"white\",\"showbackground\":true,\"ticks\":\"\",\"zerolinecolor\":\"white\",\"gridwidth\":2},\"zaxis\":{\"backgroundcolor\":\"#E5ECF6\",\"gridcolor\":\"white\",\"linecolor\":\"white\",\"showbackground\":true,\"ticks\":\"\",\"zerolinecolor\":\"white\",\"gridwidth\":2}},\"shapedefaults\":{\"line\":{\"color\":\"#2a3f5f\"}},\"annotationdefaults\":{\"arrowcolor\":\"#2a3f5f\",\"arrowhead\":0,\"arrowwidth\":1},\"geo\":{\"bgcolor\":\"white\",\"landcolor\":\"#E5ECF6\",\"subunitcolor\":\"white\",\"showland\":true,\"showlakes\":true,\"lakecolor\":\"white\"},\"title\":{\"x\":0.05},\"mapbox\":{\"style\":\"light\"}}},\"xaxis\":{\"anchor\":\"y\",\"domain\":[0.0,1.0],\"title\":{\"text\":\"Name\"}},\"yaxis\":{\"anchor\":\"x\",\"domain\":[0.0,1.0],\"title\":{\"text\":\"Time_Decimal\"}},\"coloraxis\":{\"colorbar\":{\"title\":{\"text\":\"Whole_Body_Dose\"}},\"colorscale\":[[0.0,\"#0d0887\"],[0.1111111111111111,\"#46039f\"],[0.2222222222222222,\"#7201a8\"],[0.3333333333333333,\"#9c179e\"],[0.4444444444444444,\"#bd3786\"],[0.5555555555555556,\"#d8576b\"],[0.6666666666666666,\"#ed7953\"],[0.7777777777777778,\"#fb9f3a\"],[0.8888888888888888,\"#fdca26\"],[1.0,\"#f0f921\"]]},\"legend\":{\"tracegroupgap\":0},\"title\":{\"text\":\"Total Dose and Time df1\"},\"barmode\":\"relative\"},                        {\"responsive\": true}                    ).then(function(){\n",
       "                            \n",
       "var gd = document.getElementById('81dbb418-e7eb-4253-a28b-7cdc53ed3972');\n",
       "var x = new MutationObserver(function (mutations, observer) {{\n",
       "        var display = window.getComputedStyle(gd).display;\n",
       "        if (!display || display === 'none') {{\n",
       "            console.log([gd, 'removed!']);\n",
       "            Plotly.purge(gd);\n",
       "            observer.disconnect();\n",
       "        }}\n",
       "}});\n",
       "\n",
       "// Listen for the removal of the full notebook cells\n",
       "var notebookContainer = gd.closest('#notebook-container');\n",
       "if (notebookContainer) {{\n",
       "    x.observe(notebookContainer, {childList: true});\n",
       "}}\n",
       "\n",
       "// Listen for the clearing of the current output cell\n",
       "var outputEl = gd.closest('.output');\n",
       "if (outputEl) {{\n",
       "    x.observe(outputEl, {childList: true});\n",
       "}}\n",
       "\n",
       "                        })                };                });            </script>        </div>"
      ]
     },
     "metadata": {},
     "output_type": "display_data"
    }
   ],
   "source": [
    "fig1 = px.bar(df, x='Name', y='Time_Decimal', color='Whole_Body_Dose',text_auto=True, title='Total Dose and Time df1')\n",
    "fig1.show()"
   ]
  },
  {
   "cell_type": "markdown",
   "id": "020245cf",
   "metadata": {},
   "source": [
    "It seems on this boat that employee 21 has taken nearly quarter of the total dose taking through out the entire task, this has to be managed better and as you see above it has been."
   ]
  },
  {
   "cell_type": "code",
   "execution_count": 69,
   "id": "b7f4b7b6",
   "metadata": {},
   "outputs": [
    {
     "data": {
      "text/html": [
       "<div>\n",
       "<style scoped>\n",
       "    .dataframe tbody tr th:only-of-type {\n",
       "        vertical-align: middle;\n",
       "    }\n",
       "\n",
       "    .dataframe tbody tr th {\n",
       "        vertical-align: top;\n",
       "    }\n",
       "\n",
       "    .dataframe thead th {\n",
       "        text-align: right;\n",
       "    }\n",
       "</style>\n",
       "<table border=\"1\" class=\"dataframe\">\n",
       "  <thead>\n",
       "    <tr style=\"text-align: right;\">\n",
       "      <th></th>\n",
       "      <th>Name</th>\n",
       "      <th>Whole_Body_Dose</th>\n",
       "      <th>Time_Decimal</th>\n",
       "    </tr>\n",
       "  </thead>\n",
       "  <tbody>\n",
       "    <tr>\n",
       "      <th>0</th>\n",
       "      <td>employee_21</td>\n",
       "      <td>0.444</td>\n",
       "      <td>124.433333</td>\n",
       "    </tr>\n",
       "    <tr>\n",
       "      <th>1</th>\n",
       "      <td>employee_1</td>\n",
       "      <td>0.279</td>\n",
       "      <td>95.583333</td>\n",
       "    </tr>\n",
       "    <tr>\n",
       "      <th>2</th>\n",
       "      <td>employee_16</td>\n",
       "      <td>0.234</td>\n",
       "      <td>89.800000</td>\n",
       "    </tr>\n",
       "    <tr>\n",
       "      <th>3</th>\n",
       "      <td>employee_25</td>\n",
       "      <td>0.108</td>\n",
       "      <td>64.616667</td>\n",
       "    </tr>\n",
       "    <tr>\n",
       "      <th>4</th>\n",
       "      <td>employee_3</td>\n",
       "      <td>0.182</td>\n",
       "      <td>58.933333</td>\n",
       "    </tr>\n",
       "    <tr>\n",
       "      <th>5</th>\n",
       "      <td>employee_6</td>\n",
       "      <td>0.049</td>\n",
       "      <td>41.783333</td>\n",
       "    </tr>\n",
       "    <tr>\n",
       "      <th>6</th>\n",
       "      <td>employee_11</td>\n",
       "      <td>0.082</td>\n",
       "      <td>41.433333</td>\n",
       "    </tr>\n",
       "    <tr>\n",
       "      <th>7</th>\n",
       "      <td>employee_18</td>\n",
       "      <td>0.196</td>\n",
       "      <td>39.283333</td>\n",
       "    </tr>\n",
       "    <tr>\n",
       "      <th>8</th>\n",
       "      <td>employee_23</td>\n",
       "      <td>0.161</td>\n",
       "      <td>36.666667</td>\n",
       "    </tr>\n",
       "    <tr>\n",
       "      <th>9</th>\n",
       "      <td>employee_24</td>\n",
       "      <td>0.039</td>\n",
       "      <td>34.416667</td>\n",
       "    </tr>\n",
       "  </tbody>\n",
       "</table>\n",
       "</div>"
      ],
      "text/plain": [
       "          Name  Whole_Body_Dose  Time_Decimal\n",
       "0  employee_21            0.444    124.433333\n",
       "1   employee_1            0.279     95.583333\n",
       "2  employee_16            0.234     89.800000\n",
       "3  employee_25            0.108     64.616667\n",
       "4   employee_3            0.182     58.933333\n",
       "5   employee_6            0.049     41.783333\n",
       "6  employee_11            0.082     41.433333\n",
       "7  employee_18            0.196     39.283333\n",
       "8  employee_23            0.161     36.666667\n",
       "9  employee_24            0.039     34.416667"
      ]
     },
     "execution_count": 69,
     "metadata": {},
     "output_type": "execute_result"
    }
   ],
   "source": [
    "df1 = df2.groupby(df2.index).sum().sort_values(by='Time_Decimal', ascending=False)\n",
    "df1 = df1.reset_index()\n",
    "df1.head(10)"
   ]
  },
  {
   "cell_type": "code",
   "execution_count": 70,
   "id": "a8cf4f17",
   "metadata": {},
   "outputs": [
    {
     "data": {
      "application/vnd.plotly.v1+json": {
       "config": {
        "plotlyServerURL": "https://plot.ly"
       },
       "data": [
        {
         "alignmentgroup": "True",
         "hovertemplate": "Name=%{x}<br>Time_Decimal=%{y}<br>Whole_Body_Dose=%{marker.color}<extra></extra>",
         "legendgroup": "",
         "marker": {
          "color": [
           0.444,
           0.279,
           0.23399999999999999,
           0.108,
           0.182,
           0.049,
           0.082,
           0.196,
           0.161,
           0.039,
           0.034,
           0.027999999999999997,
           0.019,
           0.057999999999999996,
           0.033,
           0.034,
           0.022,
           0.035,
           0.022,
           0.009000000000000001,
           0.011,
           0.02,
           0.005
          ],
          "coloraxis": "coloraxis",
          "pattern": {
           "shape": ""
          }
         },
         "name": "",
         "offsetgroup": "",
         "orientation": "v",
         "showlegend": false,
         "textposition": "auto",
         "texttemplate": "%{y}",
         "type": "bar",
         "x": [
          "employee_21",
          "employee_1",
          "employee_16",
          "employee_25",
          "employee_3",
          "employee_6",
          "employee_11",
          "employee_18",
          "employee_23",
          "employee_24",
          "employee_9",
          "employee_4",
          "employee_20",
          "employee_15",
          "employee_2",
          "employee_8",
          "employee_5",
          "employee_13",
          "employee_22",
          "employee_7",
          "employee_14",
          "employee_19",
          "employee_17"
         ],
         "xaxis": "x",
         "y": [
          124.43333333333334,
          95.58333333333333,
          89.8,
          64.61666666666667,
          58.93333333333334,
          41.78333333333333,
          41.43333333333334,
          39.28333333333333,
          36.666666666666664,
          34.41666666666667,
          30.533333333333335,
          29.96666666666667,
          23.283333333333335,
          16.916666666666664,
          16.266666666666666,
          16.21666666666667,
          12.533333333333335,
          8.933333333333334,
          8.933333333333334,
          7.95,
          7.8,
          5.433333333333334,
          1.1333333333333333
         ],
         "yaxis": "y"
        }
       ],
       "layout": {
        "barmode": "relative",
        "coloraxis": {
         "colorbar": {
          "title": {
           "text": "Whole_Body_Dose"
          }
         },
         "colorscale": [
          [
           0,
           "#0d0887"
          ],
          [
           0.1111111111111111,
           "#46039f"
          ],
          [
           0.2222222222222222,
           "#7201a8"
          ],
          [
           0.3333333333333333,
           "#9c179e"
          ],
          [
           0.4444444444444444,
           "#bd3786"
          ],
          [
           0.5555555555555556,
           "#d8576b"
          ],
          [
           0.6666666666666666,
           "#ed7953"
          ],
          [
           0.7777777777777778,
           "#fb9f3a"
          ],
          [
           0.8888888888888888,
           "#fdca26"
          ],
          [
           1,
           "#f0f921"
          ]
         ]
        },
        "legend": {
         "tracegroupgap": 0
        },
        "template": {
         "data": {
          "bar": [
           {
            "error_x": {
             "color": "#2a3f5f"
            },
            "error_y": {
             "color": "#2a3f5f"
            },
            "marker": {
             "line": {
              "color": "#E5ECF6",
              "width": 0.5
             },
             "pattern": {
              "fillmode": "overlay",
              "size": 10,
              "solidity": 0.2
             }
            },
            "type": "bar"
           }
          ],
          "barpolar": [
           {
            "marker": {
             "line": {
              "color": "#E5ECF6",
              "width": 0.5
             },
             "pattern": {
              "fillmode": "overlay",
              "size": 10,
              "solidity": 0.2
             }
            },
            "type": "barpolar"
           }
          ],
          "carpet": [
           {
            "aaxis": {
             "endlinecolor": "#2a3f5f",
             "gridcolor": "white",
             "linecolor": "white",
             "minorgridcolor": "white",
             "startlinecolor": "#2a3f5f"
            },
            "baxis": {
             "endlinecolor": "#2a3f5f",
             "gridcolor": "white",
             "linecolor": "white",
             "minorgridcolor": "white",
             "startlinecolor": "#2a3f5f"
            },
            "type": "carpet"
           }
          ],
          "choropleth": [
           {
            "colorbar": {
             "outlinewidth": 0,
             "ticks": ""
            },
            "type": "choropleth"
           }
          ],
          "contour": [
           {
            "colorbar": {
             "outlinewidth": 0,
             "ticks": ""
            },
            "colorscale": [
             [
              0,
              "#0d0887"
             ],
             [
              0.1111111111111111,
              "#46039f"
             ],
             [
              0.2222222222222222,
              "#7201a8"
             ],
             [
              0.3333333333333333,
              "#9c179e"
             ],
             [
              0.4444444444444444,
              "#bd3786"
             ],
             [
              0.5555555555555556,
              "#d8576b"
             ],
             [
              0.6666666666666666,
              "#ed7953"
             ],
             [
              0.7777777777777778,
              "#fb9f3a"
             ],
             [
              0.8888888888888888,
              "#fdca26"
             ],
             [
              1,
              "#f0f921"
             ]
            ],
            "type": "contour"
           }
          ],
          "contourcarpet": [
           {
            "colorbar": {
             "outlinewidth": 0,
             "ticks": ""
            },
            "type": "contourcarpet"
           }
          ],
          "heatmap": [
           {
            "colorbar": {
             "outlinewidth": 0,
             "ticks": ""
            },
            "colorscale": [
             [
              0,
              "#0d0887"
             ],
             [
              0.1111111111111111,
              "#46039f"
             ],
             [
              0.2222222222222222,
              "#7201a8"
             ],
             [
              0.3333333333333333,
              "#9c179e"
             ],
             [
              0.4444444444444444,
              "#bd3786"
             ],
             [
              0.5555555555555556,
              "#d8576b"
             ],
             [
              0.6666666666666666,
              "#ed7953"
             ],
             [
              0.7777777777777778,
              "#fb9f3a"
             ],
             [
              0.8888888888888888,
              "#fdca26"
             ],
             [
              1,
              "#f0f921"
             ]
            ],
            "type": "heatmap"
           }
          ],
          "heatmapgl": [
           {
            "colorbar": {
             "outlinewidth": 0,
             "ticks": ""
            },
            "colorscale": [
             [
              0,
              "#0d0887"
             ],
             [
              0.1111111111111111,
              "#46039f"
             ],
             [
              0.2222222222222222,
              "#7201a8"
             ],
             [
              0.3333333333333333,
              "#9c179e"
             ],
             [
              0.4444444444444444,
              "#bd3786"
             ],
             [
              0.5555555555555556,
              "#d8576b"
             ],
             [
              0.6666666666666666,
              "#ed7953"
             ],
             [
              0.7777777777777778,
              "#fb9f3a"
             ],
             [
              0.8888888888888888,
              "#fdca26"
             ],
             [
              1,
              "#f0f921"
             ]
            ],
            "type": "heatmapgl"
           }
          ],
          "histogram": [
           {
            "marker": {
             "pattern": {
              "fillmode": "overlay",
              "size": 10,
              "solidity": 0.2
             }
            },
            "type": "histogram"
           }
          ],
          "histogram2d": [
           {
            "colorbar": {
             "outlinewidth": 0,
             "ticks": ""
            },
            "colorscale": [
             [
              0,
              "#0d0887"
             ],
             [
              0.1111111111111111,
              "#46039f"
             ],
             [
              0.2222222222222222,
              "#7201a8"
             ],
             [
              0.3333333333333333,
              "#9c179e"
             ],
             [
              0.4444444444444444,
              "#bd3786"
             ],
             [
              0.5555555555555556,
              "#d8576b"
             ],
             [
              0.6666666666666666,
              "#ed7953"
             ],
             [
              0.7777777777777778,
              "#fb9f3a"
             ],
             [
              0.8888888888888888,
              "#fdca26"
             ],
             [
              1,
              "#f0f921"
             ]
            ],
            "type": "histogram2d"
           }
          ],
          "histogram2dcontour": [
           {
            "colorbar": {
             "outlinewidth": 0,
             "ticks": ""
            },
            "colorscale": [
             [
              0,
              "#0d0887"
             ],
             [
              0.1111111111111111,
              "#46039f"
             ],
             [
              0.2222222222222222,
              "#7201a8"
             ],
             [
              0.3333333333333333,
              "#9c179e"
             ],
             [
              0.4444444444444444,
              "#bd3786"
             ],
             [
              0.5555555555555556,
              "#d8576b"
             ],
             [
              0.6666666666666666,
              "#ed7953"
             ],
             [
              0.7777777777777778,
              "#fb9f3a"
             ],
             [
              0.8888888888888888,
              "#fdca26"
             ],
             [
              1,
              "#f0f921"
             ]
            ],
            "type": "histogram2dcontour"
           }
          ],
          "mesh3d": [
           {
            "colorbar": {
             "outlinewidth": 0,
             "ticks": ""
            },
            "type": "mesh3d"
           }
          ],
          "parcoords": [
           {
            "line": {
             "colorbar": {
              "outlinewidth": 0,
              "ticks": ""
             }
            },
            "type": "parcoords"
           }
          ],
          "pie": [
           {
            "automargin": true,
            "type": "pie"
           }
          ],
          "scatter": [
           {
            "fillpattern": {
             "fillmode": "overlay",
             "size": 10,
             "solidity": 0.2
            },
            "type": "scatter"
           }
          ],
          "scatter3d": [
           {
            "line": {
             "colorbar": {
              "outlinewidth": 0,
              "ticks": ""
             }
            },
            "marker": {
             "colorbar": {
              "outlinewidth": 0,
              "ticks": ""
             }
            },
            "type": "scatter3d"
           }
          ],
          "scattercarpet": [
           {
            "marker": {
             "colorbar": {
              "outlinewidth": 0,
              "ticks": ""
             }
            },
            "type": "scattercarpet"
           }
          ],
          "scattergeo": [
           {
            "marker": {
             "colorbar": {
              "outlinewidth": 0,
              "ticks": ""
             }
            },
            "type": "scattergeo"
           }
          ],
          "scattergl": [
           {
            "marker": {
             "colorbar": {
              "outlinewidth": 0,
              "ticks": ""
             }
            },
            "type": "scattergl"
           }
          ],
          "scattermapbox": [
           {
            "marker": {
             "colorbar": {
              "outlinewidth": 0,
              "ticks": ""
             }
            },
            "type": "scattermapbox"
           }
          ],
          "scatterpolar": [
           {
            "marker": {
             "colorbar": {
              "outlinewidth": 0,
              "ticks": ""
             }
            },
            "type": "scatterpolar"
           }
          ],
          "scatterpolargl": [
           {
            "marker": {
             "colorbar": {
              "outlinewidth": 0,
              "ticks": ""
             }
            },
            "type": "scatterpolargl"
           }
          ],
          "scatterternary": [
           {
            "marker": {
             "colorbar": {
              "outlinewidth": 0,
              "ticks": ""
             }
            },
            "type": "scatterternary"
           }
          ],
          "surface": [
           {
            "colorbar": {
             "outlinewidth": 0,
             "ticks": ""
            },
            "colorscale": [
             [
              0,
              "#0d0887"
             ],
             [
              0.1111111111111111,
              "#46039f"
             ],
             [
              0.2222222222222222,
              "#7201a8"
             ],
             [
              0.3333333333333333,
              "#9c179e"
             ],
             [
              0.4444444444444444,
              "#bd3786"
             ],
             [
              0.5555555555555556,
              "#d8576b"
             ],
             [
              0.6666666666666666,
              "#ed7953"
             ],
             [
              0.7777777777777778,
              "#fb9f3a"
             ],
             [
              0.8888888888888888,
              "#fdca26"
             ],
             [
              1,
              "#f0f921"
             ]
            ],
            "type": "surface"
           }
          ],
          "table": [
           {
            "cells": {
             "fill": {
              "color": "#EBF0F8"
             },
             "line": {
              "color": "white"
             }
            },
            "header": {
             "fill": {
              "color": "#C8D4E3"
             },
             "line": {
              "color": "white"
             }
            },
            "type": "table"
           }
          ]
         },
         "layout": {
          "annotationdefaults": {
           "arrowcolor": "#2a3f5f",
           "arrowhead": 0,
           "arrowwidth": 1
          },
          "autotypenumbers": "strict",
          "coloraxis": {
           "colorbar": {
            "outlinewidth": 0,
            "ticks": ""
           }
          },
          "colorscale": {
           "diverging": [
            [
             0,
             "#8e0152"
            ],
            [
             0.1,
             "#c51b7d"
            ],
            [
             0.2,
             "#de77ae"
            ],
            [
             0.3,
             "#f1b6da"
            ],
            [
             0.4,
             "#fde0ef"
            ],
            [
             0.5,
             "#f7f7f7"
            ],
            [
             0.6,
             "#e6f5d0"
            ],
            [
             0.7,
             "#b8e186"
            ],
            [
             0.8,
             "#7fbc41"
            ],
            [
             0.9,
             "#4d9221"
            ],
            [
             1,
             "#276419"
            ]
           ],
           "sequential": [
            [
             0,
             "#0d0887"
            ],
            [
             0.1111111111111111,
             "#46039f"
            ],
            [
             0.2222222222222222,
             "#7201a8"
            ],
            [
             0.3333333333333333,
             "#9c179e"
            ],
            [
             0.4444444444444444,
             "#bd3786"
            ],
            [
             0.5555555555555556,
             "#d8576b"
            ],
            [
             0.6666666666666666,
             "#ed7953"
            ],
            [
             0.7777777777777778,
             "#fb9f3a"
            ],
            [
             0.8888888888888888,
             "#fdca26"
            ],
            [
             1,
             "#f0f921"
            ]
           ],
           "sequentialminus": [
            [
             0,
             "#0d0887"
            ],
            [
             0.1111111111111111,
             "#46039f"
            ],
            [
             0.2222222222222222,
             "#7201a8"
            ],
            [
             0.3333333333333333,
             "#9c179e"
            ],
            [
             0.4444444444444444,
             "#bd3786"
            ],
            [
             0.5555555555555556,
             "#d8576b"
            ],
            [
             0.6666666666666666,
             "#ed7953"
            ],
            [
             0.7777777777777778,
             "#fb9f3a"
            ],
            [
             0.8888888888888888,
             "#fdca26"
            ],
            [
             1,
             "#f0f921"
            ]
           ]
          },
          "colorway": [
           "#636efa",
           "#EF553B",
           "#00cc96",
           "#ab63fa",
           "#FFA15A",
           "#19d3f3",
           "#FF6692",
           "#B6E880",
           "#FF97FF",
           "#FECB52"
          ],
          "font": {
           "color": "#2a3f5f"
          },
          "geo": {
           "bgcolor": "white",
           "lakecolor": "white",
           "landcolor": "#E5ECF6",
           "showlakes": true,
           "showland": true,
           "subunitcolor": "white"
          },
          "hoverlabel": {
           "align": "left"
          },
          "hovermode": "closest",
          "mapbox": {
           "style": "light"
          },
          "paper_bgcolor": "white",
          "plot_bgcolor": "#E5ECF6",
          "polar": {
           "angularaxis": {
            "gridcolor": "white",
            "linecolor": "white",
            "ticks": ""
           },
           "bgcolor": "#E5ECF6",
           "radialaxis": {
            "gridcolor": "white",
            "linecolor": "white",
            "ticks": ""
           }
          },
          "scene": {
           "xaxis": {
            "backgroundcolor": "#E5ECF6",
            "gridcolor": "white",
            "gridwidth": 2,
            "linecolor": "white",
            "showbackground": true,
            "ticks": "",
            "zerolinecolor": "white"
           },
           "yaxis": {
            "backgroundcolor": "#E5ECF6",
            "gridcolor": "white",
            "gridwidth": 2,
            "linecolor": "white",
            "showbackground": true,
            "ticks": "",
            "zerolinecolor": "white"
           },
           "zaxis": {
            "backgroundcolor": "#E5ECF6",
            "gridcolor": "white",
            "gridwidth": 2,
            "linecolor": "white",
            "showbackground": true,
            "ticks": "",
            "zerolinecolor": "white"
           }
          },
          "shapedefaults": {
           "line": {
            "color": "#2a3f5f"
           }
          },
          "ternary": {
           "aaxis": {
            "gridcolor": "white",
            "linecolor": "white",
            "ticks": ""
           },
           "baxis": {
            "gridcolor": "white",
            "linecolor": "white",
            "ticks": ""
           },
           "bgcolor": "#E5ECF6",
           "caxis": {
            "gridcolor": "white",
            "linecolor": "white",
            "ticks": ""
           }
          },
          "title": {
           "x": 0.05
          },
          "xaxis": {
           "automargin": true,
           "gridcolor": "white",
           "linecolor": "white",
           "ticks": "",
           "title": {
            "standoff": 15
           },
           "zerolinecolor": "white",
           "zerolinewidth": 2
          },
          "yaxis": {
           "automargin": true,
           "gridcolor": "white",
           "linecolor": "white",
           "ticks": "",
           "title": {
            "standoff": 15
           },
           "zerolinecolor": "white",
           "zerolinewidth": 2
          }
         }
        },
        "title": {
         "text": "Total Dose and Time df2"
        },
        "xaxis": {
         "anchor": "y",
         "domain": [
          0,
          1
         ],
         "title": {
          "text": "Name"
         }
        },
        "yaxis": {
         "anchor": "x",
         "domain": [
          0,
          1
         ],
         "title": {
          "text": "Time_Decimal"
         }
        }
       }
      },
      "text/html": [
       "<div>                            <div id=\"24aebe36-2bd2-48f3-9572-b15d1d2000d7\" class=\"plotly-graph-div\" style=\"height:525px; width:100%;\"></div>            <script type=\"text/javascript\">                require([\"plotly\"], function(Plotly) {                    window.PLOTLYENV=window.PLOTLYENV || {};                                    if (document.getElementById(\"24aebe36-2bd2-48f3-9572-b15d1d2000d7\")) {                    Plotly.newPlot(                        \"24aebe36-2bd2-48f3-9572-b15d1d2000d7\",                        [{\"alignmentgroup\":\"True\",\"hovertemplate\":\"Name=%{x}<br>Time_Decimal=%{y}<br>Whole_Body_Dose=%{marker.color}<extra></extra>\",\"legendgroup\":\"\",\"marker\":{\"color\":[0.444,0.279,0.23399999999999999,0.108,0.182,0.049,0.082,0.196,0.161,0.039,0.034,0.027999999999999997,0.019,0.057999999999999996,0.033,0.034,0.022,0.035,0.022,0.009000000000000001,0.011,0.02,0.005],\"coloraxis\":\"coloraxis\",\"pattern\":{\"shape\":\"\"}},\"name\":\"\",\"offsetgroup\":\"\",\"orientation\":\"v\",\"showlegend\":false,\"textposition\":\"auto\",\"texttemplate\":\"%{y}\",\"x\":[\"employee_21\",\"employee_1\",\"employee_16\",\"employee_25\",\"employee_3\",\"employee_6\",\"employee_11\",\"employee_18\",\"employee_23\",\"employee_24\",\"employee_9\",\"employee_4\",\"employee_20\",\"employee_15\",\"employee_2\",\"employee_8\",\"employee_5\",\"employee_13\",\"employee_22\",\"employee_7\",\"employee_14\",\"employee_19\",\"employee_17\"],\"xaxis\":\"x\",\"y\":[124.43333333333334,95.58333333333333,89.8,64.61666666666667,58.93333333333334,41.78333333333333,41.43333333333334,39.28333333333333,36.666666666666664,34.41666666666667,30.533333333333335,29.96666666666667,23.283333333333335,16.916666666666664,16.266666666666666,16.21666666666667,12.533333333333335,8.933333333333334,8.933333333333334,7.95,7.8,5.433333333333334,1.1333333333333333],\"yaxis\":\"y\",\"type\":\"bar\"}],                        {\"template\":{\"data\":{\"histogram2dcontour\":[{\"type\":\"histogram2dcontour\",\"colorbar\":{\"outlinewidth\":0,\"ticks\":\"\"},\"colorscale\":[[0.0,\"#0d0887\"],[0.1111111111111111,\"#46039f\"],[0.2222222222222222,\"#7201a8\"],[0.3333333333333333,\"#9c179e\"],[0.4444444444444444,\"#bd3786\"],[0.5555555555555556,\"#d8576b\"],[0.6666666666666666,\"#ed7953\"],[0.7777777777777778,\"#fb9f3a\"],[0.8888888888888888,\"#fdca26\"],[1.0,\"#f0f921\"]]}],\"choropleth\":[{\"type\":\"choropleth\",\"colorbar\":{\"outlinewidth\":0,\"ticks\":\"\"}}],\"histogram2d\":[{\"type\":\"histogram2d\",\"colorbar\":{\"outlinewidth\":0,\"ticks\":\"\"},\"colorscale\":[[0.0,\"#0d0887\"],[0.1111111111111111,\"#46039f\"],[0.2222222222222222,\"#7201a8\"],[0.3333333333333333,\"#9c179e\"],[0.4444444444444444,\"#bd3786\"],[0.5555555555555556,\"#d8576b\"],[0.6666666666666666,\"#ed7953\"],[0.7777777777777778,\"#fb9f3a\"],[0.8888888888888888,\"#fdca26\"],[1.0,\"#f0f921\"]]}],\"heatmap\":[{\"type\":\"heatmap\",\"colorbar\":{\"outlinewidth\":0,\"ticks\":\"\"},\"colorscale\":[[0.0,\"#0d0887\"],[0.1111111111111111,\"#46039f\"],[0.2222222222222222,\"#7201a8\"],[0.3333333333333333,\"#9c179e\"],[0.4444444444444444,\"#bd3786\"],[0.5555555555555556,\"#d8576b\"],[0.6666666666666666,\"#ed7953\"],[0.7777777777777778,\"#fb9f3a\"],[0.8888888888888888,\"#fdca26\"],[1.0,\"#f0f921\"]]}],\"heatmapgl\":[{\"type\":\"heatmapgl\",\"colorbar\":{\"outlinewidth\":0,\"ticks\":\"\"},\"colorscale\":[[0.0,\"#0d0887\"],[0.1111111111111111,\"#46039f\"],[0.2222222222222222,\"#7201a8\"],[0.3333333333333333,\"#9c179e\"],[0.4444444444444444,\"#bd3786\"],[0.5555555555555556,\"#d8576b\"],[0.6666666666666666,\"#ed7953\"],[0.7777777777777778,\"#fb9f3a\"],[0.8888888888888888,\"#fdca26\"],[1.0,\"#f0f921\"]]}],\"contourcarpet\":[{\"type\":\"contourcarpet\",\"colorbar\":{\"outlinewidth\":0,\"ticks\":\"\"}}],\"contour\":[{\"type\":\"contour\",\"colorbar\":{\"outlinewidth\":0,\"ticks\":\"\"},\"colorscale\":[[0.0,\"#0d0887\"],[0.1111111111111111,\"#46039f\"],[0.2222222222222222,\"#7201a8\"],[0.3333333333333333,\"#9c179e\"],[0.4444444444444444,\"#bd3786\"],[0.5555555555555556,\"#d8576b\"],[0.6666666666666666,\"#ed7953\"],[0.7777777777777778,\"#fb9f3a\"],[0.8888888888888888,\"#fdca26\"],[1.0,\"#f0f921\"]]}],\"surface\":[{\"type\":\"surface\",\"colorbar\":{\"outlinewidth\":0,\"ticks\":\"\"},\"colorscale\":[[0.0,\"#0d0887\"],[0.1111111111111111,\"#46039f\"],[0.2222222222222222,\"#7201a8\"],[0.3333333333333333,\"#9c179e\"],[0.4444444444444444,\"#bd3786\"],[0.5555555555555556,\"#d8576b\"],[0.6666666666666666,\"#ed7953\"],[0.7777777777777778,\"#fb9f3a\"],[0.8888888888888888,\"#fdca26\"],[1.0,\"#f0f921\"]]}],\"mesh3d\":[{\"type\":\"mesh3d\",\"colorbar\":{\"outlinewidth\":0,\"ticks\":\"\"}}],\"scatter\":[{\"fillpattern\":{\"fillmode\":\"overlay\",\"size\":10,\"solidity\":0.2},\"type\":\"scatter\"}],\"parcoords\":[{\"type\":\"parcoords\",\"line\":{\"colorbar\":{\"outlinewidth\":0,\"ticks\":\"\"}}}],\"scatterpolargl\":[{\"type\":\"scatterpolargl\",\"marker\":{\"colorbar\":{\"outlinewidth\":0,\"ticks\":\"\"}}}],\"bar\":[{\"error_x\":{\"color\":\"#2a3f5f\"},\"error_y\":{\"color\":\"#2a3f5f\"},\"marker\":{\"line\":{\"color\":\"#E5ECF6\",\"width\":0.5},\"pattern\":{\"fillmode\":\"overlay\",\"size\":10,\"solidity\":0.2}},\"type\":\"bar\"}],\"scattergeo\":[{\"type\":\"scattergeo\",\"marker\":{\"colorbar\":{\"outlinewidth\":0,\"ticks\":\"\"}}}],\"scatterpolar\":[{\"type\":\"scatterpolar\",\"marker\":{\"colorbar\":{\"outlinewidth\":0,\"ticks\":\"\"}}}],\"histogram\":[{\"marker\":{\"pattern\":{\"fillmode\":\"overlay\",\"size\":10,\"solidity\":0.2}},\"type\":\"histogram\"}],\"scattergl\":[{\"type\":\"scattergl\",\"marker\":{\"colorbar\":{\"outlinewidth\":0,\"ticks\":\"\"}}}],\"scatter3d\":[{\"type\":\"scatter3d\",\"line\":{\"colorbar\":{\"outlinewidth\":0,\"ticks\":\"\"}},\"marker\":{\"colorbar\":{\"outlinewidth\":0,\"ticks\":\"\"}}}],\"scattermapbox\":[{\"type\":\"scattermapbox\",\"marker\":{\"colorbar\":{\"outlinewidth\":0,\"ticks\":\"\"}}}],\"scatterternary\":[{\"type\":\"scatterternary\",\"marker\":{\"colorbar\":{\"outlinewidth\":0,\"ticks\":\"\"}}}],\"scattercarpet\":[{\"type\":\"scattercarpet\",\"marker\":{\"colorbar\":{\"outlinewidth\":0,\"ticks\":\"\"}}}],\"carpet\":[{\"aaxis\":{\"endlinecolor\":\"#2a3f5f\",\"gridcolor\":\"white\",\"linecolor\":\"white\",\"minorgridcolor\":\"white\",\"startlinecolor\":\"#2a3f5f\"},\"baxis\":{\"endlinecolor\":\"#2a3f5f\",\"gridcolor\":\"white\",\"linecolor\":\"white\",\"minorgridcolor\":\"white\",\"startlinecolor\":\"#2a3f5f\"},\"type\":\"carpet\"}],\"table\":[{\"cells\":{\"fill\":{\"color\":\"#EBF0F8\"},\"line\":{\"color\":\"white\"}},\"header\":{\"fill\":{\"color\":\"#C8D4E3\"},\"line\":{\"color\":\"white\"}},\"type\":\"table\"}],\"barpolar\":[{\"marker\":{\"line\":{\"color\":\"#E5ECF6\",\"width\":0.5},\"pattern\":{\"fillmode\":\"overlay\",\"size\":10,\"solidity\":0.2}},\"type\":\"barpolar\"}],\"pie\":[{\"automargin\":true,\"type\":\"pie\"}]},\"layout\":{\"autotypenumbers\":\"strict\",\"colorway\":[\"#636efa\",\"#EF553B\",\"#00cc96\",\"#ab63fa\",\"#FFA15A\",\"#19d3f3\",\"#FF6692\",\"#B6E880\",\"#FF97FF\",\"#FECB52\"],\"font\":{\"color\":\"#2a3f5f\"},\"hovermode\":\"closest\",\"hoverlabel\":{\"align\":\"left\"},\"paper_bgcolor\":\"white\",\"plot_bgcolor\":\"#E5ECF6\",\"polar\":{\"bgcolor\":\"#E5ECF6\",\"angularaxis\":{\"gridcolor\":\"white\",\"linecolor\":\"white\",\"ticks\":\"\"},\"radialaxis\":{\"gridcolor\":\"white\",\"linecolor\":\"white\",\"ticks\":\"\"}},\"ternary\":{\"bgcolor\":\"#E5ECF6\",\"aaxis\":{\"gridcolor\":\"white\",\"linecolor\":\"white\",\"ticks\":\"\"},\"baxis\":{\"gridcolor\":\"white\",\"linecolor\":\"white\",\"ticks\":\"\"},\"caxis\":{\"gridcolor\":\"white\",\"linecolor\":\"white\",\"ticks\":\"\"}},\"coloraxis\":{\"colorbar\":{\"outlinewidth\":0,\"ticks\":\"\"}},\"colorscale\":{\"sequential\":[[0.0,\"#0d0887\"],[0.1111111111111111,\"#46039f\"],[0.2222222222222222,\"#7201a8\"],[0.3333333333333333,\"#9c179e\"],[0.4444444444444444,\"#bd3786\"],[0.5555555555555556,\"#d8576b\"],[0.6666666666666666,\"#ed7953\"],[0.7777777777777778,\"#fb9f3a\"],[0.8888888888888888,\"#fdca26\"],[1.0,\"#f0f921\"]],\"sequentialminus\":[[0.0,\"#0d0887\"],[0.1111111111111111,\"#46039f\"],[0.2222222222222222,\"#7201a8\"],[0.3333333333333333,\"#9c179e\"],[0.4444444444444444,\"#bd3786\"],[0.5555555555555556,\"#d8576b\"],[0.6666666666666666,\"#ed7953\"],[0.7777777777777778,\"#fb9f3a\"],[0.8888888888888888,\"#fdca26\"],[1.0,\"#f0f921\"]],\"diverging\":[[0,\"#8e0152\"],[0.1,\"#c51b7d\"],[0.2,\"#de77ae\"],[0.3,\"#f1b6da\"],[0.4,\"#fde0ef\"],[0.5,\"#f7f7f7\"],[0.6,\"#e6f5d0\"],[0.7,\"#b8e186\"],[0.8,\"#7fbc41\"],[0.9,\"#4d9221\"],[1,\"#276419\"]]},\"xaxis\":{\"gridcolor\":\"white\",\"linecolor\":\"white\",\"ticks\":\"\",\"title\":{\"standoff\":15},\"zerolinecolor\":\"white\",\"automargin\":true,\"zerolinewidth\":2},\"yaxis\":{\"gridcolor\":\"white\",\"linecolor\":\"white\",\"ticks\":\"\",\"title\":{\"standoff\":15},\"zerolinecolor\":\"white\",\"automargin\":true,\"zerolinewidth\":2},\"scene\":{\"xaxis\":{\"backgroundcolor\":\"#E5ECF6\",\"gridcolor\":\"white\",\"linecolor\":\"white\",\"showbackground\":true,\"ticks\":\"\",\"zerolinecolor\":\"white\",\"gridwidth\":2},\"yaxis\":{\"backgroundcolor\":\"#E5ECF6\",\"gridcolor\":\"white\",\"linecolor\":\"white\",\"showbackground\":true,\"ticks\":\"\",\"zerolinecolor\":\"white\",\"gridwidth\":2},\"zaxis\":{\"backgroundcolor\":\"#E5ECF6\",\"gridcolor\":\"white\",\"linecolor\":\"white\",\"showbackground\":true,\"ticks\":\"\",\"zerolinecolor\":\"white\",\"gridwidth\":2}},\"shapedefaults\":{\"line\":{\"color\":\"#2a3f5f\"}},\"annotationdefaults\":{\"arrowcolor\":\"#2a3f5f\",\"arrowhead\":0,\"arrowwidth\":1},\"geo\":{\"bgcolor\":\"white\",\"landcolor\":\"#E5ECF6\",\"subunitcolor\":\"white\",\"showland\":true,\"showlakes\":true,\"lakecolor\":\"white\"},\"title\":{\"x\":0.05},\"mapbox\":{\"style\":\"light\"}}},\"xaxis\":{\"anchor\":\"y\",\"domain\":[0.0,1.0],\"title\":{\"text\":\"Name\"}},\"yaxis\":{\"anchor\":\"x\",\"domain\":[0.0,1.0],\"title\":{\"text\":\"Time_Decimal\"}},\"coloraxis\":{\"colorbar\":{\"title\":{\"text\":\"Whole_Body_Dose\"}},\"colorscale\":[[0.0,\"#0d0887\"],[0.1111111111111111,\"#46039f\"],[0.2222222222222222,\"#7201a8\"],[0.3333333333333333,\"#9c179e\"],[0.4444444444444444,\"#bd3786\"],[0.5555555555555556,\"#d8576b\"],[0.6666666666666666,\"#ed7953\"],[0.7777777777777778,\"#fb9f3a\"],[0.8888888888888888,\"#fdca26\"],[1.0,\"#f0f921\"]]},\"legend\":{\"tracegroupgap\":0},\"title\":{\"text\":\"Total Dose and Time df2\"},\"barmode\":\"relative\"},                        {\"responsive\": true}                    ).then(function(){\n",
       "                            \n",
       "var gd = document.getElementById('24aebe36-2bd2-48f3-9572-b15d1d2000d7');\n",
       "var x = new MutationObserver(function (mutations, observer) {{\n",
       "        var display = window.getComputedStyle(gd).display;\n",
       "        if (!display || display === 'none') {{\n",
       "            console.log([gd, 'removed!']);\n",
       "            Plotly.purge(gd);\n",
       "            observer.disconnect();\n",
       "        }}\n",
       "}});\n",
       "\n",
       "// Listen for the removal of the full notebook cells\n",
       "var notebookContainer = gd.closest('#notebook-container');\n",
       "if (notebookContainer) {{\n",
       "    x.observe(notebookContainer, {childList: true});\n",
       "}}\n",
       "\n",
       "// Listen for the clearing of the current output cell\n",
       "var outputEl = gd.closest('.output');\n",
       "if (outputEl) {{\n",
       "    x.observe(outputEl, {childList: true});\n",
       "}}\n",
       "\n",
       "                        })                };                });            </script>        </div>"
      ]
     },
     "metadata": {},
     "output_type": "display_data"
    }
   ],
   "source": [
    "fig2 = px.bar(df1, x='Name', y='Time_Decimal', color='Whole_Body_Dose',text_auto=True, title='Total Dose and Time df2')\n",
    "fig2.show()"
   ]
  },
  {
   "cell_type": "markdown",
   "id": "953ef44e",
   "metadata": {},
   "source": [
    "# An interactive scatter plot and bar chart"
   ]
  },
  {
   "cell_type": "markdown",
   "id": "15fb11a0",
   "metadata": {},
   "source": [
    "The graphs below show the difference in all individuals on the specific task on each boat, I used a scatter plot and an interactive bar chart to show my findings."
   ]
  },
  {
   "cell_type": "code",
   "execution_count": 72,
   "id": "b973de4f",
   "metadata": {},
   "outputs": [
    {
     "data": {
      "application/vnd.plotly.v1+json": {
       "config": {
        "plotlyServerURL": "https://plot.ly"
       },
       "data": [
        {
         "hovertemplate": "Whole_Body_Dose=%{x}<br>Time_Decimal=%{y}<br>Name=%{text}<extra></extra>",
         "legendgroup": "",
         "marker": {
          "color": "#636efa",
          "symbol": "circle"
         },
         "mode": "markers+text",
         "name": "",
         "orientation": "v",
         "showlegend": false,
         "text": [
          "employee_21",
          "employee_1",
          "employee_16",
          "employee_25",
          "employee_3",
          "employee_6",
          "employee_11",
          "employee_18",
          "employee_23",
          "employee_24",
          "employee_9",
          "employee_4",
          "employee_20",
          "employee_15",
          "employee_2",
          "employee_8",
          "employee_5",
          "employee_13",
          "employee_22",
          "employee_7",
          "employee_14",
          "employee_19",
          "employee_17"
         ],
         "textposition": "top center",
         "type": "scatter",
         "x": [
          0.444,
          0.279,
          0.23399999999999999,
          0.108,
          0.182,
          0.049,
          0.082,
          0.196,
          0.161,
          0.039,
          0.034,
          0.027999999999999997,
          0.019,
          0.057999999999999996,
          0.033,
          0.034,
          0.022,
          0.035,
          0.022,
          0.009000000000000001,
          0.011,
          0.02,
          0.005
         ],
         "xaxis": "x",
         "y": [
          124.43333333333334,
          95.58333333333333,
          89.8,
          64.61666666666667,
          58.93333333333334,
          41.78333333333333,
          41.43333333333334,
          39.28333333333333,
          36.666666666666664,
          34.41666666666667,
          30.533333333333335,
          29.96666666666667,
          23.283333333333335,
          16.916666666666664,
          16.266666666666666,
          16.21666666666667,
          12.533333333333335,
          8.933333333333334,
          8.933333333333334,
          7.95,
          7.8,
          5.433333333333334,
          1.1333333333333333
         ],
         "yaxis": "y"
        }
       ],
       "layout": {
        "height": 800,
        "legend": {
         "tracegroupgap": 0
        },
        "margin": {
         "t": 60
        },
        "template": {
         "data": {
          "bar": [
           {
            "error_x": {
             "color": "#2a3f5f"
            },
            "error_y": {
             "color": "#2a3f5f"
            },
            "marker": {
             "line": {
              "color": "#E5ECF6",
              "width": 0.5
             },
             "pattern": {
              "fillmode": "overlay",
              "size": 10,
              "solidity": 0.2
             }
            },
            "type": "bar"
           }
          ],
          "barpolar": [
           {
            "marker": {
             "line": {
              "color": "#E5ECF6",
              "width": 0.5
             },
             "pattern": {
              "fillmode": "overlay",
              "size": 10,
              "solidity": 0.2
             }
            },
            "type": "barpolar"
           }
          ],
          "carpet": [
           {
            "aaxis": {
             "endlinecolor": "#2a3f5f",
             "gridcolor": "white",
             "linecolor": "white",
             "minorgridcolor": "white",
             "startlinecolor": "#2a3f5f"
            },
            "baxis": {
             "endlinecolor": "#2a3f5f",
             "gridcolor": "white",
             "linecolor": "white",
             "minorgridcolor": "white",
             "startlinecolor": "#2a3f5f"
            },
            "type": "carpet"
           }
          ],
          "choropleth": [
           {
            "colorbar": {
             "outlinewidth": 0,
             "ticks": ""
            },
            "type": "choropleth"
           }
          ],
          "contour": [
           {
            "colorbar": {
             "outlinewidth": 0,
             "ticks": ""
            },
            "colorscale": [
             [
              0,
              "#0d0887"
             ],
             [
              0.1111111111111111,
              "#46039f"
             ],
             [
              0.2222222222222222,
              "#7201a8"
             ],
             [
              0.3333333333333333,
              "#9c179e"
             ],
             [
              0.4444444444444444,
              "#bd3786"
             ],
             [
              0.5555555555555556,
              "#d8576b"
             ],
             [
              0.6666666666666666,
              "#ed7953"
             ],
             [
              0.7777777777777778,
              "#fb9f3a"
             ],
             [
              0.8888888888888888,
              "#fdca26"
             ],
             [
              1,
              "#f0f921"
             ]
            ],
            "type": "contour"
           }
          ],
          "contourcarpet": [
           {
            "colorbar": {
             "outlinewidth": 0,
             "ticks": ""
            },
            "type": "contourcarpet"
           }
          ],
          "heatmap": [
           {
            "colorbar": {
             "outlinewidth": 0,
             "ticks": ""
            },
            "colorscale": [
             [
              0,
              "#0d0887"
             ],
             [
              0.1111111111111111,
              "#46039f"
             ],
             [
              0.2222222222222222,
              "#7201a8"
             ],
             [
              0.3333333333333333,
              "#9c179e"
             ],
             [
              0.4444444444444444,
              "#bd3786"
             ],
             [
              0.5555555555555556,
              "#d8576b"
             ],
             [
              0.6666666666666666,
              "#ed7953"
             ],
             [
              0.7777777777777778,
              "#fb9f3a"
             ],
             [
              0.8888888888888888,
              "#fdca26"
             ],
             [
              1,
              "#f0f921"
             ]
            ],
            "type": "heatmap"
           }
          ],
          "heatmapgl": [
           {
            "colorbar": {
             "outlinewidth": 0,
             "ticks": ""
            },
            "colorscale": [
             [
              0,
              "#0d0887"
             ],
             [
              0.1111111111111111,
              "#46039f"
             ],
             [
              0.2222222222222222,
              "#7201a8"
             ],
             [
              0.3333333333333333,
              "#9c179e"
             ],
             [
              0.4444444444444444,
              "#bd3786"
             ],
             [
              0.5555555555555556,
              "#d8576b"
             ],
             [
              0.6666666666666666,
              "#ed7953"
             ],
             [
              0.7777777777777778,
              "#fb9f3a"
             ],
             [
              0.8888888888888888,
              "#fdca26"
             ],
             [
              1,
              "#f0f921"
             ]
            ],
            "type": "heatmapgl"
           }
          ],
          "histogram": [
           {
            "marker": {
             "pattern": {
              "fillmode": "overlay",
              "size": 10,
              "solidity": 0.2
             }
            },
            "type": "histogram"
           }
          ],
          "histogram2d": [
           {
            "colorbar": {
             "outlinewidth": 0,
             "ticks": ""
            },
            "colorscale": [
             [
              0,
              "#0d0887"
             ],
             [
              0.1111111111111111,
              "#46039f"
             ],
             [
              0.2222222222222222,
              "#7201a8"
             ],
             [
              0.3333333333333333,
              "#9c179e"
             ],
             [
              0.4444444444444444,
              "#bd3786"
             ],
             [
              0.5555555555555556,
              "#d8576b"
             ],
             [
              0.6666666666666666,
              "#ed7953"
             ],
             [
              0.7777777777777778,
              "#fb9f3a"
             ],
             [
              0.8888888888888888,
              "#fdca26"
             ],
             [
              1,
              "#f0f921"
             ]
            ],
            "type": "histogram2d"
           }
          ],
          "histogram2dcontour": [
           {
            "colorbar": {
             "outlinewidth": 0,
             "ticks": ""
            },
            "colorscale": [
             [
              0,
              "#0d0887"
             ],
             [
              0.1111111111111111,
              "#46039f"
             ],
             [
              0.2222222222222222,
              "#7201a8"
             ],
             [
              0.3333333333333333,
              "#9c179e"
             ],
             [
              0.4444444444444444,
              "#bd3786"
             ],
             [
              0.5555555555555556,
              "#d8576b"
             ],
             [
              0.6666666666666666,
              "#ed7953"
             ],
             [
              0.7777777777777778,
              "#fb9f3a"
             ],
             [
              0.8888888888888888,
              "#fdca26"
             ],
             [
              1,
              "#f0f921"
             ]
            ],
            "type": "histogram2dcontour"
           }
          ],
          "mesh3d": [
           {
            "colorbar": {
             "outlinewidth": 0,
             "ticks": ""
            },
            "type": "mesh3d"
           }
          ],
          "parcoords": [
           {
            "line": {
             "colorbar": {
              "outlinewidth": 0,
              "ticks": ""
             }
            },
            "type": "parcoords"
           }
          ],
          "pie": [
           {
            "automargin": true,
            "type": "pie"
           }
          ],
          "scatter": [
           {
            "fillpattern": {
             "fillmode": "overlay",
             "size": 10,
             "solidity": 0.2
            },
            "type": "scatter"
           }
          ],
          "scatter3d": [
           {
            "line": {
             "colorbar": {
              "outlinewidth": 0,
              "ticks": ""
             }
            },
            "marker": {
             "colorbar": {
              "outlinewidth": 0,
              "ticks": ""
             }
            },
            "type": "scatter3d"
           }
          ],
          "scattercarpet": [
           {
            "marker": {
             "colorbar": {
              "outlinewidth": 0,
              "ticks": ""
             }
            },
            "type": "scattercarpet"
           }
          ],
          "scattergeo": [
           {
            "marker": {
             "colorbar": {
              "outlinewidth": 0,
              "ticks": ""
             }
            },
            "type": "scattergeo"
           }
          ],
          "scattergl": [
           {
            "marker": {
             "colorbar": {
              "outlinewidth": 0,
              "ticks": ""
             }
            },
            "type": "scattergl"
           }
          ],
          "scattermapbox": [
           {
            "marker": {
             "colorbar": {
              "outlinewidth": 0,
              "ticks": ""
             }
            },
            "type": "scattermapbox"
           }
          ],
          "scatterpolar": [
           {
            "marker": {
             "colorbar": {
              "outlinewidth": 0,
              "ticks": ""
             }
            },
            "type": "scatterpolar"
           }
          ],
          "scatterpolargl": [
           {
            "marker": {
             "colorbar": {
              "outlinewidth": 0,
              "ticks": ""
             }
            },
            "type": "scatterpolargl"
           }
          ],
          "scatterternary": [
           {
            "marker": {
             "colorbar": {
              "outlinewidth": 0,
              "ticks": ""
             }
            },
            "type": "scatterternary"
           }
          ],
          "surface": [
           {
            "colorbar": {
             "outlinewidth": 0,
             "ticks": ""
            },
            "colorscale": [
             [
              0,
              "#0d0887"
             ],
             [
              0.1111111111111111,
              "#46039f"
             ],
             [
              0.2222222222222222,
              "#7201a8"
             ],
             [
              0.3333333333333333,
              "#9c179e"
             ],
             [
              0.4444444444444444,
              "#bd3786"
             ],
             [
              0.5555555555555556,
              "#d8576b"
             ],
             [
              0.6666666666666666,
              "#ed7953"
             ],
             [
              0.7777777777777778,
              "#fb9f3a"
             ],
             [
              0.8888888888888888,
              "#fdca26"
             ],
             [
              1,
              "#f0f921"
             ]
            ],
            "type": "surface"
           }
          ],
          "table": [
           {
            "cells": {
             "fill": {
              "color": "#EBF0F8"
             },
             "line": {
              "color": "white"
             }
            },
            "header": {
             "fill": {
              "color": "#C8D4E3"
             },
             "line": {
              "color": "white"
             }
            },
            "type": "table"
           }
          ]
         },
         "layout": {
          "annotationdefaults": {
           "arrowcolor": "#2a3f5f",
           "arrowhead": 0,
           "arrowwidth": 1
          },
          "autotypenumbers": "strict",
          "coloraxis": {
           "colorbar": {
            "outlinewidth": 0,
            "ticks": ""
           }
          },
          "colorscale": {
           "diverging": [
            [
             0,
             "#8e0152"
            ],
            [
             0.1,
             "#c51b7d"
            ],
            [
             0.2,
             "#de77ae"
            ],
            [
             0.3,
             "#f1b6da"
            ],
            [
             0.4,
             "#fde0ef"
            ],
            [
             0.5,
             "#f7f7f7"
            ],
            [
             0.6,
             "#e6f5d0"
            ],
            [
             0.7,
             "#b8e186"
            ],
            [
             0.8,
             "#7fbc41"
            ],
            [
             0.9,
             "#4d9221"
            ],
            [
             1,
             "#276419"
            ]
           ],
           "sequential": [
            [
             0,
             "#0d0887"
            ],
            [
             0.1111111111111111,
             "#46039f"
            ],
            [
             0.2222222222222222,
             "#7201a8"
            ],
            [
             0.3333333333333333,
             "#9c179e"
            ],
            [
             0.4444444444444444,
             "#bd3786"
            ],
            [
             0.5555555555555556,
             "#d8576b"
            ],
            [
             0.6666666666666666,
             "#ed7953"
            ],
            [
             0.7777777777777778,
             "#fb9f3a"
            ],
            [
             0.8888888888888888,
             "#fdca26"
            ],
            [
             1,
             "#f0f921"
            ]
           ],
           "sequentialminus": [
            [
             0,
             "#0d0887"
            ],
            [
             0.1111111111111111,
             "#46039f"
            ],
            [
             0.2222222222222222,
             "#7201a8"
            ],
            [
             0.3333333333333333,
             "#9c179e"
            ],
            [
             0.4444444444444444,
             "#bd3786"
            ],
            [
             0.5555555555555556,
             "#d8576b"
            ],
            [
             0.6666666666666666,
             "#ed7953"
            ],
            [
             0.7777777777777778,
             "#fb9f3a"
            ],
            [
             0.8888888888888888,
             "#fdca26"
            ],
            [
             1,
             "#f0f921"
            ]
           ]
          },
          "colorway": [
           "#636efa",
           "#EF553B",
           "#00cc96",
           "#ab63fa",
           "#FFA15A",
           "#19d3f3",
           "#FF6692",
           "#B6E880",
           "#FF97FF",
           "#FECB52"
          ],
          "font": {
           "color": "#2a3f5f"
          },
          "geo": {
           "bgcolor": "white",
           "lakecolor": "white",
           "landcolor": "#E5ECF6",
           "showlakes": true,
           "showland": true,
           "subunitcolor": "white"
          },
          "hoverlabel": {
           "align": "left"
          },
          "hovermode": "closest",
          "mapbox": {
           "style": "light"
          },
          "paper_bgcolor": "white",
          "plot_bgcolor": "#E5ECF6",
          "polar": {
           "angularaxis": {
            "gridcolor": "white",
            "linecolor": "white",
            "ticks": ""
           },
           "bgcolor": "#E5ECF6",
           "radialaxis": {
            "gridcolor": "white",
            "linecolor": "white",
            "ticks": ""
           }
          },
          "scene": {
           "xaxis": {
            "backgroundcolor": "#E5ECF6",
            "gridcolor": "white",
            "gridwidth": 2,
            "linecolor": "white",
            "showbackground": true,
            "ticks": "",
            "zerolinecolor": "white"
           },
           "yaxis": {
            "backgroundcolor": "#E5ECF6",
            "gridcolor": "white",
            "gridwidth": 2,
            "linecolor": "white",
            "showbackground": true,
            "ticks": "",
            "zerolinecolor": "white"
           },
           "zaxis": {
            "backgroundcolor": "#E5ECF6",
            "gridcolor": "white",
            "gridwidth": 2,
            "linecolor": "white",
            "showbackground": true,
            "ticks": "",
            "zerolinecolor": "white"
           }
          },
          "shapedefaults": {
           "line": {
            "color": "#2a3f5f"
           }
          },
          "ternary": {
           "aaxis": {
            "gridcolor": "white",
            "linecolor": "white",
            "ticks": ""
           },
           "baxis": {
            "gridcolor": "white",
            "linecolor": "white",
            "ticks": ""
           },
           "bgcolor": "#E5ECF6",
           "caxis": {
            "gridcolor": "white",
            "linecolor": "white",
            "ticks": ""
           }
          },
          "title": {
           "x": 0.05
          },
          "xaxis": {
           "automargin": true,
           "gridcolor": "white",
           "linecolor": "white",
           "ticks": "",
           "title": {
            "standoff": 15
           },
           "zerolinecolor": "white",
           "zerolinewidth": 2
          },
          "yaxis": {
           "automargin": true,
           "gridcolor": "white",
           "linecolor": "white",
           "ticks": "",
           "title": {
            "standoff": 15
           },
           "zerolinecolor": "white",
           "zerolinewidth": 2
          }
         }
        },
        "title": {
         "text": "Person and Dose df2"
        },
        "xaxis": {
         "anchor": "y",
         "domain": [
          0,
          1
         ],
         "title": {
          "text": "Whole_Body_Dose"
         },
         "type": "log"
        },
        "yaxis": {
         "anchor": "x",
         "domain": [
          0,
          1
         ],
         "title": {
          "text": "Time_Decimal"
         }
        }
       }
      },
      "text/html": [
       "<div>                            <div id=\"3d89209f-8439-485c-b734-eef9fc22b8f4\" class=\"plotly-graph-div\" style=\"height:800px; width:100%;\"></div>            <script type=\"text/javascript\">                require([\"plotly\"], function(Plotly) {                    window.PLOTLYENV=window.PLOTLYENV || {};                                    if (document.getElementById(\"3d89209f-8439-485c-b734-eef9fc22b8f4\")) {                    Plotly.newPlot(                        \"3d89209f-8439-485c-b734-eef9fc22b8f4\",                        [{\"hovertemplate\":\"Whole_Body_Dose=%{x}<br>Time_Decimal=%{y}<br>Name=%{text}<extra></extra>\",\"legendgroup\":\"\",\"marker\":{\"color\":\"#636efa\",\"symbol\":\"circle\"},\"mode\":\"markers+text\",\"name\":\"\",\"orientation\":\"v\",\"showlegend\":false,\"text\":[\"employee_21\",\"employee_1\",\"employee_16\",\"employee_25\",\"employee_3\",\"employee_6\",\"employee_11\",\"employee_18\",\"employee_23\",\"employee_24\",\"employee_9\",\"employee_4\",\"employee_20\",\"employee_15\",\"employee_2\",\"employee_8\",\"employee_5\",\"employee_13\",\"employee_22\",\"employee_7\",\"employee_14\",\"employee_19\",\"employee_17\"],\"x\":[0.444,0.279,0.23399999999999999,0.108,0.182,0.049,0.082,0.196,0.161,0.039,0.034,0.027999999999999997,0.019,0.057999999999999996,0.033,0.034,0.022,0.035,0.022,0.009000000000000001,0.011,0.02,0.005],\"xaxis\":\"x\",\"y\":[124.43333333333334,95.58333333333333,89.8,64.61666666666667,58.93333333333334,41.78333333333333,41.43333333333334,39.28333333333333,36.666666666666664,34.41666666666667,30.533333333333335,29.96666666666667,23.283333333333335,16.916666666666664,16.266666666666666,16.21666666666667,12.533333333333335,8.933333333333334,8.933333333333334,7.95,7.8,5.433333333333334,1.1333333333333333],\"yaxis\":\"y\",\"type\":\"scatter\",\"textposition\":\"top center\"}],                        {\"template\":{\"data\":{\"histogram2dcontour\":[{\"type\":\"histogram2dcontour\",\"colorbar\":{\"outlinewidth\":0,\"ticks\":\"\"},\"colorscale\":[[0.0,\"#0d0887\"],[0.1111111111111111,\"#46039f\"],[0.2222222222222222,\"#7201a8\"],[0.3333333333333333,\"#9c179e\"],[0.4444444444444444,\"#bd3786\"],[0.5555555555555556,\"#d8576b\"],[0.6666666666666666,\"#ed7953\"],[0.7777777777777778,\"#fb9f3a\"],[0.8888888888888888,\"#fdca26\"],[1.0,\"#f0f921\"]]}],\"choropleth\":[{\"type\":\"choropleth\",\"colorbar\":{\"outlinewidth\":0,\"ticks\":\"\"}}],\"histogram2d\":[{\"type\":\"histogram2d\",\"colorbar\":{\"outlinewidth\":0,\"ticks\":\"\"},\"colorscale\":[[0.0,\"#0d0887\"],[0.1111111111111111,\"#46039f\"],[0.2222222222222222,\"#7201a8\"],[0.3333333333333333,\"#9c179e\"],[0.4444444444444444,\"#bd3786\"],[0.5555555555555556,\"#d8576b\"],[0.6666666666666666,\"#ed7953\"],[0.7777777777777778,\"#fb9f3a\"],[0.8888888888888888,\"#fdca26\"],[1.0,\"#f0f921\"]]}],\"heatmap\":[{\"type\":\"heatmap\",\"colorbar\":{\"outlinewidth\":0,\"ticks\":\"\"},\"colorscale\":[[0.0,\"#0d0887\"],[0.1111111111111111,\"#46039f\"],[0.2222222222222222,\"#7201a8\"],[0.3333333333333333,\"#9c179e\"],[0.4444444444444444,\"#bd3786\"],[0.5555555555555556,\"#d8576b\"],[0.6666666666666666,\"#ed7953\"],[0.7777777777777778,\"#fb9f3a\"],[0.8888888888888888,\"#fdca26\"],[1.0,\"#f0f921\"]]}],\"heatmapgl\":[{\"type\":\"heatmapgl\",\"colorbar\":{\"outlinewidth\":0,\"ticks\":\"\"},\"colorscale\":[[0.0,\"#0d0887\"],[0.1111111111111111,\"#46039f\"],[0.2222222222222222,\"#7201a8\"],[0.3333333333333333,\"#9c179e\"],[0.4444444444444444,\"#bd3786\"],[0.5555555555555556,\"#d8576b\"],[0.6666666666666666,\"#ed7953\"],[0.7777777777777778,\"#fb9f3a\"],[0.8888888888888888,\"#fdca26\"],[1.0,\"#f0f921\"]]}],\"contourcarpet\":[{\"type\":\"contourcarpet\",\"colorbar\":{\"outlinewidth\":0,\"ticks\":\"\"}}],\"contour\":[{\"type\":\"contour\",\"colorbar\":{\"outlinewidth\":0,\"ticks\":\"\"},\"colorscale\":[[0.0,\"#0d0887\"],[0.1111111111111111,\"#46039f\"],[0.2222222222222222,\"#7201a8\"],[0.3333333333333333,\"#9c179e\"],[0.4444444444444444,\"#bd3786\"],[0.5555555555555556,\"#d8576b\"],[0.6666666666666666,\"#ed7953\"],[0.7777777777777778,\"#fb9f3a\"],[0.8888888888888888,\"#fdca26\"],[1.0,\"#f0f921\"]]}],\"surface\":[{\"type\":\"surface\",\"colorbar\":{\"outlinewidth\":0,\"ticks\":\"\"},\"colorscale\":[[0.0,\"#0d0887\"],[0.1111111111111111,\"#46039f\"],[0.2222222222222222,\"#7201a8\"],[0.3333333333333333,\"#9c179e\"],[0.4444444444444444,\"#bd3786\"],[0.5555555555555556,\"#d8576b\"],[0.6666666666666666,\"#ed7953\"],[0.7777777777777778,\"#fb9f3a\"],[0.8888888888888888,\"#fdca26\"],[1.0,\"#f0f921\"]]}],\"mesh3d\":[{\"type\":\"mesh3d\",\"colorbar\":{\"outlinewidth\":0,\"ticks\":\"\"}}],\"scatter\":[{\"fillpattern\":{\"fillmode\":\"overlay\",\"size\":10,\"solidity\":0.2},\"type\":\"scatter\"}],\"parcoords\":[{\"type\":\"parcoords\",\"line\":{\"colorbar\":{\"outlinewidth\":0,\"ticks\":\"\"}}}],\"scatterpolargl\":[{\"type\":\"scatterpolargl\",\"marker\":{\"colorbar\":{\"outlinewidth\":0,\"ticks\":\"\"}}}],\"bar\":[{\"error_x\":{\"color\":\"#2a3f5f\"},\"error_y\":{\"color\":\"#2a3f5f\"},\"marker\":{\"line\":{\"color\":\"#E5ECF6\",\"width\":0.5},\"pattern\":{\"fillmode\":\"overlay\",\"size\":10,\"solidity\":0.2}},\"type\":\"bar\"}],\"scattergeo\":[{\"type\":\"scattergeo\",\"marker\":{\"colorbar\":{\"outlinewidth\":0,\"ticks\":\"\"}}}],\"scatterpolar\":[{\"type\":\"scatterpolar\",\"marker\":{\"colorbar\":{\"outlinewidth\":0,\"ticks\":\"\"}}}],\"histogram\":[{\"marker\":{\"pattern\":{\"fillmode\":\"overlay\",\"size\":10,\"solidity\":0.2}},\"type\":\"histogram\"}],\"scattergl\":[{\"type\":\"scattergl\",\"marker\":{\"colorbar\":{\"outlinewidth\":0,\"ticks\":\"\"}}}],\"scatter3d\":[{\"type\":\"scatter3d\",\"line\":{\"colorbar\":{\"outlinewidth\":0,\"ticks\":\"\"}},\"marker\":{\"colorbar\":{\"outlinewidth\":0,\"ticks\":\"\"}}}],\"scattermapbox\":[{\"type\":\"scattermapbox\",\"marker\":{\"colorbar\":{\"outlinewidth\":0,\"ticks\":\"\"}}}],\"scatterternary\":[{\"type\":\"scatterternary\",\"marker\":{\"colorbar\":{\"outlinewidth\":0,\"ticks\":\"\"}}}],\"scattercarpet\":[{\"type\":\"scattercarpet\",\"marker\":{\"colorbar\":{\"outlinewidth\":0,\"ticks\":\"\"}}}],\"carpet\":[{\"aaxis\":{\"endlinecolor\":\"#2a3f5f\",\"gridcolor\":\"white\",\"linecolor\":\"white\",\"minorgridcolor\":\"white\",\"startlinecolor\":\"#2a3f5f\"},\"baxis\":{\"endlinecolor\":\"#2a3f5f\",\"gridcolor\":\"white\",\"linecolor\":\"white\",\"minorgridcolor\":\"white\",\"startlinecolor\":\"#2a3f5f\"},\"type\":\"carpet\"}],\"table\":[{\"cells\":{\"fill\":{\"color\":\"#EBF0F8\"},\"line\":{\"color\":\"white\"}},\"header\":{\"fill\":{\"color\":\"#C8D4E3\"},\"line\":{\"color\":\"white\"}},\"type\":\"table\"}],\"barpolar\":[{\"marker\":{\"line\":{\"color\":\"#E5ECF6\",\"width\":0.5},\"pattern\":{\"fillmode\":\"overlay\",\"size\":10,\"solidity\":0.2}},\"type\":\"barpolar\"}],\"pie\":[{\"automargin\":true,\"type\":\"pie\"}]},\"layout\":{\"autotypenumbers\":\"strict\",\"colorway\":[\"#636efa\",\"#EF553B\",\"#00cc96\",\"#ab63fa\",\"#FFA15A\",\"#19d3f3\",\"#FF6692\",\"#B6E880\",\"#FF97FF\",\"#FECB52\"],\"font\":{\"color\":\"#2a3f5f\"},\"hovermode\":\"closest\",\"hoverlabel\":{\"align\":\"left\"},\"paper_bgcolor\":\"white\",\"plot_bgcolor\":\"#E5ECF6\",\"polar\":{\"bgcolor\":\"#E5ECF6\",\"angularaxis\":{\"gridcolor\":\"white\",\"linecolor\":\"white\",\"ticks\":\"\"},\"radialaxis\":{\"gridcolor\":\"white\",\"linecolor\":\"white\",\"ticks\":\"\"}},\"ternary\":{\"bgcolor\":\"#E5ECF6\",\"aaxis\":{\"gridcolor\":\"white\",\"linecolor\":\"white\",\"ticks\":\"\"},\"baxis\":{\"gridcolor\":\"white\",\"linecolor\":\"white\",\"ticks\":\"\"},\"caxis\":{\"gridcolor\":\"white\",\"linecolor\":\"white\",\"ticks\":\"\"}},\"coloraxis\":{\"colorbar\":{\"outlinewidth\":0,\"ticks\":\"\"}},\"colorscale\":{\"sequential\":[[0.0,\"#0d0887\"],[0.1111111111111111,\"#46039f\"],[0.2222222222222222,\"#7201a8\"],[0.3333333333333333,\"#9c179e\"],[0.4444444444444444,\"#bd3786\"],[0.5555555555555556,\"#d8576b\"],[0.6666666666666666,\"#ed7953\"],[0.7777777777777778,\"#fb9f3a\"],[0.8888888888888888,\"#fdca26\"],[1.0,\"#f0f921\"]],\"sequentialminus\":[[0.0,\"#0d0887\"],[0.1111111111111111,\"#46039f\"],[0.2222222222222222,\"#7201a8\"],[0.3333333333333333,\"#9c179e\"],[0.4444444444444444,\"#bd3786\"],[0.5555555555555556,\"#d8576b\"],[0.6666666666666666,\"#ed7953\"],[0.7777777777777778,\"#fb9f3a\"],[0.8888888888888888,\"#fdca26\"],[1.0,\"#f0f921\"]],\"diverging\":[[0,\"#8e0152\"],[0.1,\"#c51b7d\"],[0.2,\"#de77ae\"],[0.3,\"#f1b6da\"],[0.4,\"#fde0ef\"],[0.5,\"#f7f7f7\"],[0.6,\"#e6f5d0\"],[0.7,\"#b8e186\"],[0.8,\"#7fbc41\"],[0.9,\"#4d9221\"],[1,\"#276419\"]]},\"xaxis\":{\"gridcolor\":\"white\",\"linecolor\":\"white\",\"ticks\":\"\",\"title\":{\"standoff\":15},\"zerolinecolor\":\"white\",\"automargin\":true,\"zerolinewidth\":2},\"yaxis\":{\"gridcolor\":\"white\",\"linecolor\":\"white\",\"ticks\":\"\",\"title\":{\"standoff\":15},\"zerolinecolor\":\"white\",\"automargin\":true,\"zerolinewidth\":2},\"scene\":{\"xaxis\":{\"backgroundcolor\":\"#E5ECF6\",\"gridcolor\":\"white\",\"linecolor\":\"white\",\"showbackground\":true,\"ticks\":\"\",\"zerolinecolor\":\"white\",\"gridwidth\":2},\"yaxis\":{\"backgroundcolor\":\"#E5ECF6\",\"gridcolor\":\"white\",\"linecolor\":\"white\",\"showbackground\":true,\"ticks\":\"\",\"zerolinecolor\":\"white\",\"gridwidth\":2},\"zaxis\":{\"backgroundcolor\":\"#E5ECF6\",\"gridcolor\":\"white\",\"linecolor\":\"white\",\"showbackground\":true,\"ticks\":\"\",\"zerolinecolor\":\"white\",\"gridwidth\":2}},\"shapedefaults\":{\"line\":{\"color\":\"#2a3f5f\"}},\"annotationdefaults\":{\"arrowcolor\":\"#2a3f5f\",\"arrowhead\":0,\"arrowwidth\":1},\"geo\":{\"bgcolor\":\"white\",\"landcolor\":\"#E5ECF6\",\"subunitcolor\":\"white\",\"showland\":true,\"showlakes\":true,\"lakecolor\":\"white\"},\"title\":{\"x\":0.05},\"mapbox\":{\"style\":\"light\"}}},\"xaxis\":{\"anchor\":\"y\",\"domain\":[0.0,1.0],\"title\":{\"text\":\"Whole_Body_Dose\"},\"type\":\"log\"},\"yaxis\":{\"anchor\":\"x\",\"domain\":[0.0,1.0],\"title\":{\"text\":\"Time_Decimal\"}},\"legend\":{\"tracegroupgap\":0},\"margin\":{\"t\":60},\"title\":{\"text\":\"Person and Dose df2\"},\"height\":800},                        {\"responsive\": true}                    ).then(function(){\n",
       "                            \n",
       "var gd = document.getElementById('3d89209f-8439-485c-b734-eef9fc22b8f4');\n",
       "var x = new MutationObserver(function (mutations, observer) {{\n",
       "        var display = window.getComputedStyle(gd).display;\n",
       "        if (!display || display === 'none') {{\n",
       "            console.log([gd, 'removed!']);\n",
       "            Plotly.purge(gd);\n",
       "            observer.disconnect();\n",
       "        }}\n",
       "}});\n",
       "\n",
       "// Listen for the removal of the full notebook cells\n",
       "var notebookContainer = gd.closest('#notebook-container');\n",
       "if (notebookContainer) {{\n",
       "    x.observe(notebookContainer, {childList: true});\n",
       "}}\n",
       "\n",
       "// Listen for the clearing of the current output cell\n",
       "var outputEl = gd.closest('.output');\n",
       "if (outputEl) {{\n",
       "    x.observe(outputEl, {childList: true});\n",
       "}}\n",
       "\n",
       "                        })                };                });            </script>        </div>"
      ]
     },
     "metadata": {},
     "output_type": "display_data"
    },
    {
     "data": {
      "application/vnd.plotly.v1+json": {
       "config": {
        "plotlyServerURL": "https://plot.ly"
       },
       "data": [
        {
         "hovertemplate": "Whole_Body_Dose=%{x}<br>Time_Decimal=%{y}<br>Name=%{text}<extra></extra>",
         "legendgroup": "",
         "marker": {
          "color": "#636efa",
          "symbol": "circle"
         },
         "mode": "markers+text",
         "name": "",
         "orientation": "v",
         "showlegend": false,
         "text": [
          "employee_11",
          "employee_14",
          "employee_16",
          "employee_21",
          "employee_18",
          "employee_8",
          "employee_9",
          "employee_26",
          "employee_2",
          "employee_10",
          "employee_1",
          "employee_3",
          "employee_15",
          "employee_19",
          "employee_24",
          "employee_6",
          "employee_13",
          "employee_20",
          "employee_4",
          "employee_23",
          "employee_17",
          "employee_12",
          "employee_7",
          "employee_5",
          "employee_25",
          "employee_22"
         ],
         "textposition": "top center",
         "type": "scatter",
         "x": [
          0.254,
          0.149,
          0.099,
          0.16,
          0.187,
          0.091,
          0.174,
          0.133,
          0.139,
          0.036000000000000004,
          0.077,
          0.106,
          0.085,
          0.017,
          0.064,
          0.038,
          0.048,
          0.035,
          0.03,
          0.017,
          0.009000000000000001,
          0.011,
          0.015,
          0.044000000000000004,
          0.011,
          0.021
         ],
         "xaxis": "x",
         "y": [
          84.83333333333333,
          61.7,
          61.63333333333333,
          61.45,
          54.3,
          54.1,
          53.78333333333333,
          47.53333333333333,
          46.53333333333333,
          31.71666666666667,
          31.383333333333333,
          28.733333333333334,
          25.6,
          22.78333333333333,
          17.75,
          17.633333333333333,
          16.53333333333333,
          14.916666666666668,
          14.75,
          12.783333333333333,
          8.466666666666667,
          8.266666666666667,
          8.083333333333334,
          7.883333333333334,
          5.233333333333333,
          4.716666666666667
         ],
         "yaxis": "y"
        }
       ],
       "layout": {
        "height": 800,
        "legend": {
         "tracegroupgap": 0
        },
        "margin": {
         "t": 60
        },
        "template": {
         "data": {
          "bar": [
           {
            "error_x": {
             "color": "#2a3f5f"
            },
            "error_y": {
             "color": "#2a3f5f"
            },
            "marker": {
             "line": {
              "color": "#E5ECF6",
              "width": 0.5
             },
             "pattern": {
              "fillmode": "overlay",
              "size": 10,
              "solidity": 0.2
             }
            },
            "type": "bar"
           }
          ],
          "barpolar": [
           {
            "marker": {
             "line": {
              "color": "#E5ECF6",
              "width": 0.5
             },
             "pattern": {
              "fillmode": "overlay",
              "size": 10,
              "solidity": 0.2
             }
            },
            "type": "barpolar"
           }
          ],
          "carpet": [
           {
            "aaxis": {
             "endlinecolor": "#2a3f5f",
             "gridcolor": "white",
             "linecolor": "white",
             "minorgridcolor": "white",
             "startlinecolor": "#2a3f5f"
            },
            "baxis": {
             "endlinecolor": "#2a3f5f",
             "gridcolor": "white",
             "linecolor": "white",
             "minorgridcolor": "white",
             "startlinecolor": "#2a3f5f"
            },
            "type": "carpet"
           }
          ],
          "choropleth": [
           {
            "colorbar": {
             "outlinewidth": 0,
             "ticks": ""
            },
            "type": "choropleth"
           }
          ],
          "contour": [
           {
            "colorbar": {
             "outlinewidth": 0,
             "ticks": ""
            },
            "colorscale": [
             [
              0,
              "#0d0887"
             ],
             [
              0.1111111111111111,
              "#46039f"
             ],
             [
              0.2222222222222222,
              "#7201a8"
             ],
             [
              0.3333333333333333,
              "#9c179e"
             ],
             [
              0.4444444444444444,
              "#bd3786"
             ],
             [
              0.5555555555555556,
              "#d8576b"
             ],
             [
              0.6666666666666666,
              "#ed7953"
             ],
             [
              0.7777777777777778,
              "#fb9f3a"
             ],
             [
              0.8888888888888888,
              "#fdca26"
             ],
             [
              1,
              "#f0f921"
             ]
            ],
            "type": "contour"
           }
          ],
          "contourcarpet": [
           {
            "colorbar": {
             "outlinewidth": 0,
             "ticks": ""
            },
            "type": "contourcarpet"
           }
          ],
          "heatmap": [
           {
            "colorbar": {
             "outlinewidth": 0,
             "ticks": ""
            },
            "colorscale": [
             [
              0,
              "#0d0887"
             ],
             [
              0.1111111111111111,
              "#46039f"
             ],
             [
              0.2222222222222222,
              "#7201a8"
             ],
             [
              0.3333333333333333,
              "#9c179e"
             ],
             [
              0.4444444444444444,
              "#bd3786"
             ],
             [
              0.5555555555555556,
              "#d8576b"
             ],
             [
              0.6666666666666666,
              "#ed7953"
             ],
             [
              0.7777777777777778,
              "#fb9f3a"
             ],
             [
              0.8888888888888888,
              "#fdca26"
             ],
             [
              1,
              "#f0f921"
             ]
            ],
            "type": "heatmap"
           }
          ],
          "heatmapgl": [
           {
            "colorbar": {
             "outlinewidth": 0,
             "ticks": ""
            },
            "colorscale": [
             [
              0,
              "#0d0887"
             ],
             [
              0.1111111111111111,
              "#46039f"
             ],
             [
              0.2222222222222222,
              "#7201a8"
             ],
             [
              0.3333333333333333,
              "#9c179e"
             ],
             [
              0.4444444444444444,
              "#bd3786"
             ],
             [
              0.5555555555555556,
              "#d8576b"
             ],
             [
              0.6666666666666666,
              "#ed7953"
             ],
             [
              0.7777777777777778,
              "#fb9f3a"
             ],
             [
              0.8888888888888888,
              "#fdca26"
             ],
             [
              1,
              "#f0f921"
             ]
            ],
            "type": "heatmapgl"
           }
          ],
          "histogram": [
           {
            "marker": {
             "pattern": {
              "fillmode": "overlay",
              "size": 10,
              "solidity": 0.2
             }
            },
            "type": "histogram"
           }
          ],
          "histogram2d": [
           {
            "colorbar": {
             "outlinewidth": 0,
             "ticks": ""
            },
            "colorscale": [
             [
              0,
              "#0d0887"
             ],
             [
              0.1111111111111111,
              "#46039f"
             ],
             [
              0.2222222222222222,
              "#7201a8"
             ],
             [
              0.3333333333333333,
              "#9c179e"
             ],
             [
              0.4444444444444444,
              "#bd3786"
             ],
             [
              0.5555555555555556,
              "#d8576b"
             ],
             [
              0.6666666666666666,
              "#ed7953"
             ],
             [
              0.7777777777777778,
              "#fb9f3a"
             ],
             [
              0.8888888888888888,
              "#fdca26"
             ],
             [
              1,
              "#f0f921"
             ]
            ],
            "type": "histogram2d"
           }
          ],
          "histogram2dcontour": [
           {
            "colorbar": {
             "outlinewidth": 0,
             "ticks": ""
            },
            "colorscale": [
             [
              0,
              "#0d0887"
             ],
             [
              0.1111111111111111,
              "#46039f"
             ],
             [
              0.2222222222222222,
              "#7201a8"
             ],
             [
              0.3333333333333333,
              "#9c179e"
             ],
             [
              0.4444444444444444,
              "#bd3786"
             ],
             [
              0.5555555555555556,
              "#d8576b"
             ],
             [
              0.6666666666666666,
              "#ed7953"
             ],
             [
              0.7777777777777778,
              "#fb9f3a"
             ],
             [
              0.8888888888888888,
              "#fdca26"
             ],
             [
              1,
              "#f0f921"
             ]
            ],
            "type": "histogram2dcontour"
           }
          ],
          "mesh3d": [
           {
            "colorbar": {
             "outlinewidth": 0,
             "ticks": ""
            },
            "type": "mesh3d"
           }
          ],
          "parcoords": [
           {
            "line": {
             "colorbar": {
              "outlinewidth": 0,
              "ticks": ""
             }
            },
            "type": "parcoords"
           }
          ],
          "pie": [
           {
            "automargin": true,
            "type": "pie"
           }
          ],
          "scatter": [
           {
            "fillpattern": {
             "fillmode": "overlay",
             "size": 10,
             "solidity": 0.2
            },
            "type": "scatter"
           }
          ],
          "scatter3d": [
           {
            "line": {
             "colorbar": {
              "outlinewidth": 0,
              "ticks": ""
             }
            },
            "marker": {
             "colorbar": {
              "outlinewidth": 0,
              "ticks": ""
             }
            },
            "type": "scatter3d"
           }
          ],
          "scattercarpet": [
           {
            "marker": {
             "colorbar": {
              "outlinewidth": 0,
              "ticks": ""
             }
            },
            "type": "scattercarpet"
           }
          ],
          "scattergeo": [
           {
            "marker": {
             "colorbar": {
              "outlinewidth": 0,
              "ticks": ""
             }
            },
            "type": "scattergeo"
           }
          ],
          "scattergl": [
           {
            "marker": {
             "colorbar": {
              "outlinewidth": 0,
              "ticks": ""
             }
            },
            "type": "scattergl"
           }
          ],
          "scattermapbox": [
           {
            "marker": {
             "colorbar": {
              "outlinewidth": 0,
              "ticks": ""
             }
            },
            "type": "scattermapbox"
           }
          ],
          "scatterpolar": [
           {
            "marker": {
             "colorbar": {
              "outlinewidth": 0,
              "ticks": ""
             }
            },
            "type": "scatterpolar"
           }
          ],
          "scatterpolargl": [
           {
            "marker": {
             "colorbar": {
              "outlinewidth": 0,
              "ticks": ""
             }
            },
            "type": "scatterpolargl"
           }
          ],
          "scatterternary": [
           {
            "marker": {
             "colorbar": {
              "outlinewidth": 0,
              "ticks": ""
             }
            },
            "type": "scatterternary"
           }
          ],
          "surface": [
           {
            "colorbar": {
             "outlinewidth": 0,
             "ticks": ""
            },
            "colorscale": [
             [
              0,
              "#0d0887"
             ],
             [
              0.1111111111111111,
              "#46039f"
             ],
             [
              0.2222222222222222,
              "#7201a8"
             ],
             [
              0.3333333333333333,
              "#9c179e"
             ],
             [
              0.4444444444444444,
              "#bd3786"
             ],
             [
              0.5555555555555556,
              "#d8576b"
             ],
             [
              0.6666666666666666,
              "#ed7953"
             ],
             [
              0.7777777777777778,
              "#fb9f3a"
             ],
             [
              0.8888888888888888,
              "#fdca26"
             ],
             [
              1,
              "#f0f921"
             ]
            ],
            "type": "surface"
           }
          ],
          "table": [
           {
            "cells": {
             "fill": {
              "color": "#EBF0F8"
             },
             "line": {
              "color": "white"
             }
            },
            "header": {
             "fill": {
              "color": "#C8D4E3"
             },
             "line": {
              "color": "white"
             }
            },
            "type": "table"
           }
          ]
         },
         "layout": {
          "annotationdefaults": {
           "arrowcolor": "#2a3f5f",
           "arrowhead": 0,
           "arrowwidth": 1
          },
          "autotypenumbers": "strict",
          "coloraxis": {
           "colorbar": {
            "outlinewidth": 0,
            "ticks": ""
           }
          },
          "colorscale": {
           "diverging": [
            [
             0,
             "#8e0152"
            ],
            [
             0.1,
             "#c51b7d"
            ],
            [
             0.2,
             "#de77ae"
            ],
            [
             0.3,
             "#f1b6da"
            ],
            [
             0.4,
             "#fde0ef"
            ],
            [
             0.5,
             "#f7f7f7"
            ],
            [
             0.6,
             "#e6f5d0"
            ],
            [
             0.7,
             "#b8e186"
            ],
            [
             0.8,
             "#7fbc41"
            ],
            [
             0.9,
             "#4d9221"
            ],
            [
             1,
             "#276419"
            ]
           ],
           "sequential": [
            [
             0,
             "#0d0887"
            ],
            [
             0.1111111111111111,
             "#46039f"
            ],
            [
             0.2222222222222222,
             "#7201a8"
            ],
            [
             0.3333333333333333,
             "#9c179e"
            ],
            [
             0.4444444444444444,
             "#bd3786"
            ],
            [
             0.5555555555555556,
             "#d8576b"
            ],
            [
             0.6666666666666666,
             "#ed7953"
            ],
            [
             0.7777777777777778,
             "#fb9f3a"
            ],
            [
             0.8888888888888888,
             "#fdca26"
            ],
            [
             1,
             "#f0f921"
            ]
           ],
           "sequentialminus": [
            [
             0,
             "#0d0887"
            ],
            [
             0.1111111111111111,
             "#46039f"
            ],
            [
             0.2222222222222222,
             "#7201a8"
            ],
            [
             0.3333333333333333,
             "#9c179e"
            ],
            [
             0.4444444444444444,
             "#bd3786"
            ],
            [
             0.5555555555555556,
             "#d8576b"
            ],
            [
             0.6666666666666666,
             "#ed7953"
            ],
            [
             0.7777777777777778,
             "#fb9f3a"
            ],
            [
             0.8888888888888888,
             "#fdca26"
            ],
            [
             1,
             "#f0f921"
            ]
           ]
          },
          "colorway": [
           "#636efa",
           "#EF553B",
           "#00cc96",
           "#ab63fa",
           "#FFA15A",
           "#19d3f3",
           "#FF6692",
           "#B6E880",
           "#FF97FF",
           "#FECB52"
          ],
          "font": {
           "color": "#2a3f5f"
          },
          "geo": {
           "bgcolor": "white",
           "lakecolor": "white",
           "landcolor": "#E5ECF6",
           "showlakes": true,
           "showland": true,
           "subunitcolor": "white"
          },
          "hoverlabel": {
           "align": "left"
          },
          "hovermode": "closest",
          "mapbox": {
           "style": "light"
          },
          "paper_bgcolor": "white",
          "plot_bgcolor": "#E5ECF6",
          "polar": {
           "angularaxis": {
            "gridcolor": "white",
            "linecolor": "white",
            "ticks": ""
           },
           "bgcolor": "#E5ECF6",
           "radialaxis": {
            "gridcolor": "white",
            "linecolor": "white",
            "ticks": ""
           }
          },
          "scene": {
           "xaxis": {
            "backgroundcolor": "#E5ECF6",
            "gridcolor": "white",
            "gridwidth": 2,
            "linecolor": "white",
            "showbackground": true,
            "ticks": "",
            "zerolinecolor": "white"
           },
           "yaxis": {
            "backgroundcolor": "#E5ECF6",
            "gridcolor": "white",
            "gridwidth": 2,
            "linecolor": "white",
            "showbackground": true,
            "ticks": "",
            "zerolinecolor": "white"
           },
           "zaxis": {
            "backgroundcolor": "#E5ECF6",
            "gridcolor": "white",
            "gridwidth": 2,
            "linecolor": "white",
            "showbackground": true,
            "ticks": "",
            "zerolinecolor": "white"
           }
          },
          "shapedefaults": {
           "line": {
            "color": "#2a3f5f"
           }
          },
          "ternary": {
           "aaxis": {
            "gridcolor": "white",
            "linecolor": "white",
            "ticks": ""
           },
           "baxis": {
            "gridcolor": "white",
            "linecolor": "white",
            "ticks": ""
           },
           "bgcolor": "#E5ECF6",
           "caxis": {
            "gridcolor": "white",
            "linecolor": "white",
            "ticks": ""
           }
          },
          "title": {
           "x": 0.05
          },
          "xaxis": {
           "automargin": true,
           "gridcolor": "white",
           "linecolor": "white",
           "ticks": "",
           "title": {
            "standoff": 15
           },
           "zerolinecolor": "white",
           "zerolinewidth": 2
          },
          "yaxis": {
           "automargin": true,
           "gridcolor": "white",
           "linecolor": "white",
           "ticks": "",
           "title": {
            "standoff": 15
           },
           "zerolinecolor": "white",
           "zerolinewidth": 2
          }
         }
        },
        "title": {
         "text": "Employee and Dose df1"
        },
        "xaxis": {
         "anchor": "y",
         "domain": [
          0,
          1
         ],
         "title": {
          "text": "Whole_Body_Dose"
         },
         "type": "log"
        },
        "yaxis": {
         "anchor": "x",
         "domain": [
          0,
          1
         ],
         "title": {
          "text": "Time_Decimal"
         }
        }
       }
      },
      "text/html": [
       "<div>                            <div id=\"cc762a48-e609-4bc5-b01a-c26a7dde0354\" class=\"plotly-graph-div\" style=\"height:800px; width:100%;\"></div>            <script type=\"text/javascript\">                require([\"plotly\"], function(Plotly) {                    window.PLOTLYENV=window.PLOTLYENV || {};                                    if (document.getElementById(\"cc762a48-e609-4bc5-b01a-c26a7dde0354\")) {                    Plotly.newPlot(                        \"cc762a48-e609-4bc5-b01a-c26a7dde0354\",                        [{\"hovertemplate\":\"Whole_Body_Dose=%{x}<br>Time_Decimal=%{y}<br>Name=%{text}<extra></extra>\",\"legendgroup\":\"\",\"marker\":{\"color\":\"#636efa\",\"symbol\":\"circle\"},\"mode\":\"markers+text\",\"name\":\"\",\"orientation\":\"v\",\"showlegend\":false,\"text\":[\"employee_11\",\"employee_14\",\"employee_16\",\"employee_21\",\"employee_18\",\"employee_8\",\"employee_9\",\"employee_26\",\"employee_2\",\"employee_10\",\"employee_1\",\"employee_3\",\"employee_15\",\"employee_19\",\"employee_24\",\"employee_6\",\"employee_13\",\"employee_20\",\"employee_4\",\"employee_23\",\"employee_17\",\"employee_12\",\"employee_7\",\"employee_5\",\"employee_25\",\"employee_22\"],\"x\":[0.254,0.149,0.099,0.16,0.187,0.091,0.174,0.133,0.139,0.036000000000000004,0.077,0.106,0.085,0.017,0.064,0.038,0.048,0.035,0.03,0.017,0.009000000000000001,0.011,0.015,0.044000000000000004,0.011,0.021],\"xaxis\":\"x\",\"y\":[84.83333333333333,61.7,61.63333333333333,61.45,54.3,54.1,53.78333333333333,47.53333333333333,46.53333333333333,31.71666666666667,31.383333333333333,28.733333333333334,25.6,22.78333333333333,17.75,17.633333333333333,16.53333333333333,14.916666666666668,14.75,12.783333333333333,8.466666666666667,8.266666666666667,8.083333333333334,7.883333333333334,5.233333333333333,4.716666666666667],\"yaxis\":\"y\",\"type\":\"scatter\",\"textposition\":\"top center\"}],                        {\"template\":{\"data\":{\"histogram2dcontour\":[{\"type\":\"histogram2dcontour\",\"colorbar\":{\"outlinewidth\":0,\"ticks\":\"\"},\"colorscale\":[[0.0,\"#0d0887\"],[0.1111111111111111,\"#46039f\"],[0.2222222222222222,\"#7201a8\"],[0.3333333333333333,\"#9c179e\"],[0.4444444444444444,\"#bd3786\"],[0.5555555555555556,\"#d8576b\"],[0.6666666666666666,\"#ed7953\"],[0.7777777777777778,\"#fb9f3a\"],[0.8888888888888888,\"#fdca26\"],[1.0,\"#f0f921\"]]}],\"choropleth\":[{\"type\":\"choropleth\",\"colorbar\":{\"outlinewidth\":0,\"ticks\":\"\"}}],\"histogram2d\":[{\"type\":\"histogram2d\",\"colorbar\":{\"outlinewidth\":0,\"ticks\":\"\"},\"colorscale\":[[0.0,\"#0d0887\"],[0.1111111111111111,\"#46039f\"],[0.2222222222222222,\"#7201a8\"],[0.3333333333333333,\"#9c179e\"],[0.4444444444444444,\"#bd3786\"],[0.5555555555555556,\"#d8576b\"],[0.6666666666666666,\"#ed7953\"],[0.7777777777777778,\"#fb9f3a\"],[0.8888888888888888,\"#fdca26\"],[1.0,\"#f0f921\"]]}],\"heatmap\":[{\"type\":\"heatmap\",\"colorbar\":{\"outlinewidth\":0,\"ticks\":\"\"},\"colorscale\":[[0.0,\"#0d0887\"],[0.1111111111111111,\"#46039f\"],[0.2222222222222222,\"#7201a8\"],[0.3333333333333333,\"#9c179e\"],[0.4444444444444444,\"#bd3786\"],[0.5555555555555556,\"#d8576b\"],[0.6666666666666666,\"#ed7953\"],[0.7777777777777778,\"#fb9f3a\"],[0.8888888888888888,\"#fdca26\"],[1.0,\"#f0f921\"]]}],\"heatmapgl\":[{\"type\":\"heatmapgl\",\"colorbar\":{\"outlinewidth\":0,\"ticks\":\"\"},\"colorscale\":[[0.0,\"#0d0887\"],[0.1111111111111111,\"#46039f\"],[0.2222222222222222,\"#7201a8\"],[0.3333333333333333,\"#9c179e\"],[0.4444444444444444,\"#bd3786\"],[0.5555555555555556,\"#d8576b\"],[0.6666666666666666,\"#ed7953\"],[0.7777777777777778,\"#fb9f3a\"],[0.8888888888888888,\"#fdca26\"],[1.0,\"#f0f921\"]]}],\"contourcarpet\":[{\"type\":\"contourcarpet\",\"colorbar\":{\"outlinewidth\":0,\"ticks\":\"\"}}],\"contour\":[{\"type\":\"contour\",\"colorbar\":{\"outlinewidth\":0,\"ticks\":\"\"},\"colorscale\":[[0.0,\"#0d0887\"],[0.1111111111111111,\"#46039f\"],[0.2222222222222222,\"#7201a8\"],[0.3333333333333333,\"#9c179e\"],[0.4444444444444444,\"#bd3786\"],[0.5555555555555556,\"#d8576b\"],[0.6666666666666666,\"#ed7953\"],[0.7777777777777778,\"#fb9f3a\"],[0.8888888888888888,\"#fdca26\"],[1.0,\"#f0f921\"]]}],\"surface\":[{\"type\":\"surface\",\"colorbar\":{\"outlinewidth\":0,\"ticks\":\"\"},\"colorscale\":[[0.0,\"#0d0887\"],[0.1111111111111111,\"#46039f\"],[0.2222222222222222,\"#7201a8\"],[0.3333333333333333,\"#9c179e\"],[0.4444444444444444,\"#bd3786\"],[0.5555555555555556,\"#d8576b\"],[0.6666666666666666,\"#ed7953\"],[0.7777777777777778,\"#fb9f3a\"],[0.8888888888888888,\"#fdca26\"],[1.0,\"#f0f921\"]]}],\"mesh3d\":[{\"type\":\"mesh3d\",\"colorbar\":{\"outlinewidth\":0,\"ticks\":\"\"}}],\"scatter\":[{\"fillpattern\":{\"fillmode\":\"overlay\",\"size\":10,\"solidity\":0.2},\"type\":\"scatter\"}],\"parcoords\":[{\"type\":\"parcoords\",\"line\":{\"colorbar\":{\"outlinewidth\":0,\"ticks\":\"\"}}}],\"scatterpolargl\":[{\"type\":\"scatterpolargl\",\"marker\":{\"colorbar\":{\"outlinewidth\":0,\"ticks\":\"\"}}}],\"bar\":[{\"error_x\":{\"color\":\"#2a3f5f\"},\"error_y\":{\"color\":\"#2a3f5f\"},\"marker\":{\"line\":{\"color\":\"#E5ECF6\",\"width\":0.5},\"pattern\":{\"fillmode\":\"overlay\",\"size\":10,\"solidity\":0.2}},\"type\":\"bar\"}],\"scattergeo\":[{\"type\":\"scattergeo\",\"marker\":{\"colorbar\":{\"outlinewidth\":0,\"ticks\":\"\"}}}],\"scatterpolar\":[{\"type\":\"scatterpolar\",\"marker\":{\"colorbar\":{\"outlinewidth\":0,\"ticks\":\"\"}}}],\"histogram\":[{\"marker\":{\"pattern\":{\"fillmode\":\"overlay\",\"size\":10,\"solidity\":0.2}},\"type\":\"histogram\"}],\"scattergl\":[{\"type\":\"scattergl\",\"marker\":{\"colorbar\":{\"outlinewidth\":0,\"ticks\":\"\"}}}],\"scatter3d\":[{\"type\":\"scatter3d\",\"line\":{\"colorbar\":{\"outlinewidth\":0,\"ticks\":\"\"}},\"marker\":{\"colorbar\":{\"outlinewidth\":0,\"ticks\":\"\"}}}],\"scattermapbox\":[{\"type\":\"scattermapbox\",\"marker\":{\"colorbar\":{\"outlinewidth\":0,\"ticks\":\"\"}}}],\"scatterternary\":[{\"type\":\"scatterternary\",\"marker\":{\"colorbar\":{\"outlinewidth\":0,\"ticks\":\"\"}}}],\"scattercarpet\":[{\"type\":\"scattercarpet\",\"marker\":{\"colorbar\":{\"outlinewidth\":0,\"ticks\":\"\"}}}],\"carpet\":[{\"aaxis\":{\"endlinecolor\":\"#2a3f5f\",\"gridcolor\":\"white\",\"linecolor\":\"white\",\"minorgridcolor\":\"white\",\"startlinecolor\":\"#2a3f5f\"},\"baxis\":{\"endlinecolor\":\"#2a3f5f\",\"gridcolor\":\"white\",\"linecolor\":\"white\",\"minorgridcolor\":\"white\",\"startlinecolor\":\"#2a3f5f\"},\"type\":\"carpet\"}],\"table\":[{\"cells\":{\"fill\":{\"color\":\"#EBF0F8\"},\"line\":{\"color\":\"white\"}},\"header\":{\"fill\":{\"color\":\"#C8D4E3\"},\"line\":{\"color\":\"white\"}},\"type\":\"table\"}],\"barpolar\":[{\"marker\":{\"line\":{\"color\":\"#E5ECF6\",\"width\":0.5},\"pattern\":{\"fillmode\":\"overlay\",\"size\":10,\"solidity\":0.2}},\"type\":\"barpolar\"}],\"pie\":[{\"automargin\":true,\"type\":\"pie\"}]},\"layout\":{\"autotypenumbers\":\"strict\",\"colorway\":[\"#636efa\",\"#EF553B\",\"#00cc96\",\"#ab63fa\",\"#FFA15A\",\"#19d3f3\",\"#FF6692\",\"#B6E880\",\"#FF97FF\",\"#FECB52\"],\"font\":{\"color\":\"#2a3f5f\"},\"hovermode\":\"closest\",\"hoverlabel\":{\"align\":\"left\"},\"paper_bgcolor\":\"white\",\"plot_bgcolor\":\"#E5ECF6\",\"polar\":{\"bgcolor\":\"#E5ECF6\",\"angularaxis\":{\"gridcolor\":\"white\",\"linecolor\":\"white\",\"ticks\":\"\"},\"radialaxis\":{\"gridcolor\":\"white\",\"linecolor\":\"white\",\"ticks\":\"\"}},\"ternary\":{\"bgcolor\":\"#E5ECF6\",\"aaxis\":{\"gridcolor\":\"white\",\"linecolor\":\"white\",\"ticks\":\"\"},\"baxis\":{\"gridcolor\":\"white\",\"linecolor\":\"white\",\"ticks\":\"\"},\"caxis\":{\"gridcolor\":\"white\",\"linecolor\":\"white\",\"ticks\":\"\"}},\"coloraxis\":{\"colorbar\":{\"outlinewidth\":0,\"ticks\":\"\"}},\"colorscale\":{\"sequential\":[[0.0,\"#0d0887\"],[0.1111111111111111,\"#46039f\"],[0.2222222222222222,\"#7201a8\"],[0.3333333333333333,\"#9c179e\"],[0.4444444444444444,\"#bd3786\"],[0.5555555555555556,\"#d8576b\"],[0.6666666666666666,\"#ed7953\"],[0.7777777777777778,\"#fb9f3a\"],[0.8888888888888888,\"#fdca26\"],[1.0,\"#f0f921\"]],\"sequentialminus\":[[0.0,\"#0d0887\"],[0.1111111111111111,\"#46039f\"],[0.2222222222222222,\"#7201a8\"],[0.3333333333333333,\"#9c179e\"],[0.4444444444444444,\"#bd3786\"],[0.5555555555555556,\"#d8576b\"],[0.6666666666666666,\"#ed7953\"],[0.7777777777777778,\"#fb9f3a\"],[0.8888888888888888,\"#fdca26\"],[1.0,\"#f0f921\"]],\"diverging\":[[0,\"#8e0152\"],[0.1,\"#c51b7d\"],[0.2,\"#de77ae\"],[0.3,\"#f1b6da\"],[0.4,\"#fde0ef\"],[0.5,\"#f7f7f7\"],[0.6,\"#e6f5d0\"],[0.7,\"#b8e186\"],[0.8,\"#7fbc41\"],[0.9,\"#4d9221\"],[1,\"#276419\"]]},\"xaxis\":{\"gridcolor\":\"white\",\"linecolor\":\"white\",\"ticks\":\"\",\"title\":{\"standoff\":15},\"zerolinecolor\":\"white\",\"automargin\":true,\"zerolinewidth\":2},\"yaxis\":{\"gridcolor\":\"white\",\"linecolor\":\"white\",\"ticks\":\"\",\"title\":{\"standoff\":15},\"zerolinecolor\":\"white\",\"automargin\":true,\"zerolinewidth\":2},\"scene\":{\"xaxis\":{\"backgroundcolor\":\"#E5ECF6\",\"gridcolor\":\"white\",\"linecolor\":\"white\",\"showbackground\":true,\"ticks\":\"\",\"zerolinecolor\":\"white\",\"gridwidth\":2},\"yaxis\":{\"backgroundcolor\":\"#E5ECF6\",\"gridcolor\":\"white\",\"linecolor\":\"white\",\"showbackground\":true,\"ticks\":\"\",\"zerolinecolor\":\"white\",\"gridwidth\":2},\"zaxis\":{\"backgroundcolor\":\"#E5ECF6\",\"gridcolor\":\"white\",\"linecolor\":\"white\",\"showbackground\":true,\"ticks\":\"\",\"zerolinecolor\":\"white\",\"gridwidth\":2}},\"shapedefaults\":{\"line\":{\"color\":\"#2a3f5f\"}},\"annotationdefaults\":{\"arrowcolor\":\"#2a3f5f\",\"arrowhead\":0,\"arrowwidth\":1},\"geo\":{\"bgcolor\":\"white\",\"landcolor\":\"#E5ECF6\",\"subunitcolor\":\"white\",\"showland\":true,\"showlakes\":true,\"lakecolor\":\"white\"},\"title\":{\"x\":0.05},\"mapbox\":{\"style\":\"light\"}}},\"xaxis\":{\"anchor\":\"y\",\"domain\":[0.0,1.0],\"title\":{\"text\":\"Whole_Body_Dose\"},\"type\":\"log\"},\"yaxis\":{\"anchor\":\"x\",\"domain\":[0.0,1.0],\"title\":{\"text\":\"Time_Decimal\"}},\"legend\":{\"tracegroupgap\":0},\"margin\":{\"t\":60},\"title\":{\"text\":\"Employee and Dose df1\"},\"height\":800},                        {\"responsive\": true}                    ).then(function(){\n",
       "                            \n",
       "var gd = document.getElementById('cc762a48-e609-4bc5-b01a-c26a7dde0354');\n",
       "var x = new MutationObserver(function (mutations, observer) {{\n",
       "        var display = window.getComputedStyle(gd).display;\n",
       "        if (!display || display === 'none') {{\n",
       "            console.log([gd, 'removed!']);\n",
       "            Plotly.purge(gd);\n",
       "            observer.disconnect();\n",
       "        }}\n",
       "}});\n",
       "\n",
       "// Listen for the removal of the full notebook cells\n",
       "var notebookContainer = gd.closest('#notebook-container');\n",
       "if (notebookContainer) {{\n",
       "    x.observe(notebookContainer, {childList: true});\n",
       "}}\n",
       "\n",
       "// Listen for the clearing of the current output cell\n",
       "var outputEl = gd.closest('.output');\n",
       "if (outputEl) {{\n",
       "    x.observe(outputEl, {childList: true});\n",
       "}}\n",
       "\n",
       "                        })                };                });            </script>        </div>"
      ]
     },
     "metadata": {},
     "output_type": "display_data"
    }
   ],
   "source": [
    "fig = px.scatter(df1, x='Whole_Body_Dose', y='Time_Decimal', text='Name', log_x=True, size_max=60)\n",
    "\n",
    "fig.update_traces(textposition='top center')\n",
    "\n",
    "fig.update_layout(\n",
    "    height=800,\n",
    "    title_text='Person and Dose df2')\n",
    "\n",
    "fig.show()\n",
    "\n",
    "fig1 = px.scatter(df, x='Whole_Body_Dose', y='Time_Decimal', text='Name', log_x=True, size_max=60)\n",
    "\n",
    "fig1.update_traces(textposition='top center')\n",
    "\n",
    "fig1.update_layout(\n",
    "    height=800,\n",
    "    title_text='Employee and Dose df1')\n",
    "\n",
    "fig1.show()"
   ]
  },
  {
   "cell_type": "code",
   "execution_count": 73,
   "id": "ede6d180",
   "metadata": {},
   "outputs": [
    {
     "data": {
      "application/vnd.plotly.v1+json": {
       "config": {
        "plotlyServerURL": "https://plot.ly"
       },
       "data": [
        {
         "alignmentgroup": "True",
         "hovertemplate": "Name=%{x}<br>Whole_Body_Dose=%{y}<br>Time_Decimal=%{marker.color}<extra></extra>",
         "ids": [
          124.43333333333334
         ],
         "legendgroup": "",
         "marker": {
          "color": [
           124.43333333333334
          ],
          "coloraxis": "coloraxis",
          "pattern": {
           "shape": ""
          }
         },
         "name": "",
         "offsetgroup": "",
         "orientation": "v",
         "showlegend": false,
         "textposition": "auto",
         "type": "bar",
         "x": [
          "employee_21"
         ],
         "xaxis": "x",
         "y": [
          0.444
         ],
         "yaxis": "y"
        }
       ],
       "frames": [
        {
         "data": [
          {
           "alignmentgroup": "True",
           "hovertemplate": "Name=%{x}<br>Whole_Body_Dose=%{y}<br>Time_Decimal=%{marker.color}<extra></extra>",
           "ids": [
            124.43333333333334
           ],
           "legendgroup": "",
           "marker": {
            "color": [
             124.43333333333334
            ],
            "coloraxis": "coloraxis",
            "pattern": {
             "shape": ""
            }
           },
           "name": "",
           "offsetgroup": "",
           "orientation": "v",
           "showlegend": false,
           "textposition": "auto",
           "type": "bar",
           "x": [
            "employee_21"
           ],
           "xaxis": "x",
           "y": [
            0.444
           ],
           "yaxis": "y"
          }
         ],
         "name": "employee_21"
        },
        {
         "data": [
          {
           "alignmentgroup": "True",
           "hovertemplate": "Name=%{x}<br>Whole_Body_Dose=%{y}<br>Time_Decimal=%{marker.color}<extra></extra>",
           "ids": [
            95.58333333333333
           ],
           "legendgroup": "",
           "marker": {
            "color": [
             95.58333333333333
            ],
            "coloraxis": "coloraxis",
            "pattern": {
             "shape": ""
            }
           },
           "name": "",
           "offsetgroup": "",
           "orientation": "v",
           "showlegend": false,
           "textposition": "auto",
           "type": "bar",
           "x": [
            "employee_1"
           ],
           "xaxis": "x",
           "y": [
            0.279
           ],
           "yaxis": "y"
          }
         ],
         "name": "employee_1"
        },
        {
         "data": [
          {
           "alignmentgroup": "True",
           "hovertemplate": "Name=%{x}<br>Whole_Body_Dose=%{y}<br>Time_Decimal=%{marker.color}<extra></extra>",
           "ids": [
            89.8
           ],
           "legendgroup": "",
           "marker": {
            "color": [
             89.8
            ],
            "coloraxis": "coloraxis",
            "pattern": {
             "shape": ""
            }
           },
           "name": "",
           "offsetgroup": "",
           "orientation": "v",
           "showlegend": false,
           "textposition": "auto",
           "type": "bar",
           "x": [
            "employee_16"
           ],
           "xaxis": "x",
           "y": [
            0.23399999999999999
           ],
           "yaxis": "y"
          }
         ],
         "name": "employee_16"
        },
        {
         "data": [
          {
           "alignmentgroup": "True",
           "hovertemplate": "Name=%{x}<br>Whole_Body_Dose=%{y}<br>Time_Decimal=%{marker.color}<extra></extra>",
           "ids": [
            64.61666666666667
           ],
           "legendgroup": "",
           "marker": {
            "color": [
             64.61666666666667
            ],
            "coloraxis": "coloraxis",
            "pattern": {
             "shape": ""
            }
           },
           "name": "",
           "offsetgroup": "",
           "orientation": "v",
           "showlegend": false,
           "textposition": "auto",
           "type": "bar",
           "x": [
            "employee_25"
           ],
           "xaxis": "x",
           "y": [
            0.108
           ],
           "yaxis": "y"
          }
         ],
         "name": "employee_25"
        },
        {
         "data": [
          {
           "alignmentgroup": "True",
           "hovertemplate": "Name=%{x}<br>Whole_Body_Dose=%{y}<br>Time_Decimal=%{marker.color}<extra></extra>",
           "ids": [
            58.93333333333334
           ],
           "legendgroup": "",
           "marker": {
            "color": [
             58.93333333333334
            ],
            "coloraxis": "coloraxis",
            "pattern": {
             "shape": ""
            }
           },
           "name": "",
           "offsetgroup": "",
           "orientation": "v",
           "showlegend": false,
           "textposition": "auto",
           "type": "bar",
           "x": [
            "employee_3"
           ],
           "xaxis": "x",
           "y": [
            0.182
           ],
           "yaxis": "y"
          }
         ],
         "name": "employee_3"
        },
        {
         "data": [
          {
           "alignmentgroup": "True",
           "hovertemplate": "Name=%{x}<br>Whole_Body_Dose=%{y}<br>Time_Decimal=%{marker.color}<extra></extra>",
           "ids": [
            41.78333333333333
           ],
           "legendgroup": "",
           "marker": {
            "color": [
             41.78333333333333
            ],
            "coloraxis": "coloraxis",
            "pattern": {
             "shape": ""
            }
           },
           "name": "",
           "offsetgroup": "",
           "orientation": "v",
           "showlegend": false,
           "textposition": "auto",
           "type": "bar",
           "x": [
            "employee_6"
           ],
           "xaxis": "x",
           "y": [
            0.049
           ],
           "yaxis": "y"
          }
         ],
         "name": "employee_6"
        },
        {
         "data": [
          {
           "alignmentgroup": "True",
           "hovertemplate": "Name=%{x}<br>Whole_Body_Dose=%{y}<br>Time_Decimal=%{marker.color}<extra></extra>",
           "ids": [
            41.43333333333334
           ],
           "legendgroup": "",
           "marker": {
            "color": [
             41.43333333333334
            ],
            "coloraxis": "coloraxis",
            "pattern": {
             "shape": ""
            }
           },
           "name": "",
           "offsetgroup": "",
           "orientation": "v",
           "showlegend": false,
           "textposition": "auto",
           "type": "bar",
           "x": [
            "employee_11"
           ],
           "xaxis": "x",
           "y": [
            0.082
           ],
           "yaxis": "y"
          }
         ],
         "name": "employee_11"
        },
        {
         "data": [
          {
           "alignmentgroup": "True",
           "hovertemplate": "Name=%{x}<br>Whole_Body_Dose=%{y}<br>Time_Decimal=%{marker.color}<extra></extra>",
           "ids": [
            39.28333333333333
           ],
           "legendgroup": "",
           "marker": {
            "color": [
             39.28333333333333
            ],
            "coloraxis": "coloraxis",
            "pattern": {
             "shape": ""
            }
           },
           "name": "",
           "offsetgroup": "",
           "orientation": "v",
           "showlegend": false,
           "textposition": "auto",
           "type": "bar",
           "x": [
            "employee_18"
           ],
           "xaxis": "x",
           "y": [
            0.196
           ],
           "yaxis": "y"
          }
         ],
         "name": "employee_18"
        },
        {
         "data": [
          {
           "alignmentgroup": "True",
           "hovertemplate": "Name=%{x}<br>Whole_Body_Dose=%{y}<br>Time_Decimal=%{marker.color}<extra></extra>",
           "ids": [
            36.666666666666664
           ],
           "legendgroup": "",
           "marker": {
            "color": [
             36.666666666666664
            ],
            "coloraxis": "coloraxis",
            "pattern": {
             "shape": ""
            }
           },
           "name": "",
           "offsetgroup": "",
           "orientation": "v",
           "showlegend": false,
           "textposition": "auto",
           "type": "bar",
           "x": [
            "employee_23"
           ],
           "xaxis": "x",
           "y": [
            0.161
           ],
           "yaxis": "y"
          }
         ],
         "name": "employee_23"
        },
        {
         "data": [
          {
           "alignmentgroup": "True",
           "hovertemplate": "Name=%{x}<br>Whole_Body_Dose=%{y}<br>Time_Decimal=%{marker.color}<extra></extra>",
           "ids": [
            34.41666666666667
           ],
           "legendgroup": "",
           "marker": {
            "color": [
             34.41666666666667
            ],
            "coloraxis": "coloraxis",
            "pattern": {
             "shape": ""
            }
           },
           "name": "",
           "offsetgroup": "",
           "orientation": "v",
           "showlegend": false,
           "textposition": "auto",
           "type": "bar",
           "x": [
            "employee_24"
           ],
           "xaxis": "x",
           "y": [
            0.039
           ],
           "yaxis": "y"
          }
         ],
         "name": "employee_24"
        },
        {
         "data": [
          {
           "alignmentgroup": "True",
           "hovertemplate": "Name=%{x}<br>Whole_Body_Dose=%{y}<br>Time_Decimal=%{marker.color}<extra></extra>",
           "ids": [
            30.533333333333335
           ],
           "legendgroup": "",
           "marker": {
            "color": [
             30.533333333333335
            ],
            "coloraxis": "coloraxis",
            "pattern": {
             "shape": ""
            }
           },
           "name": "",
           "offsetgroup": "",
           "orientation": "v",
           "showlegend": false,
           "textposition": "auto",
           "type": "bar",
           "x": [
            "employee_9"
           ],
           "xaxis": "x",
           "y": [
            0.034
           ],
           "yaxis": "y"
          }
         ],
         "name": "employee_9"
        },
        {
         "data": [
          {
           "alignmentgroup": "True",
           "hovertemplate": "Name=%{x}<br>Whole_Body_Dose=%{y}<br>Time_Decimal=%{marker.color}<extra></extra>",
           "ids": [
            29.96666666666667
           ],
           "legendgroup": "",
           "marker": {
            "color": [
             29.96666666666667
            ],
            "coloraxis": "coloraxis",
            "pattern": {
             "shape": ""
            }
           },
           "name": "",
           "offsetgroup": "",
           "orientation": "v",
           "showlegend": false,
           "textposition": "auto",
           "type": "bar",
           "x": [
            "employee_4"
           ],
           "xaxis": "x",
           "y": [
            0.027999999999999997
           ],
           "yaxis": "y"
          }
         ],
         "name": "employee_4"
        },
        {
         "data": [
          {
           "alignmentgroup": "True",
           "hovertemplate": "Name=%{x}<br>Whole_Body_Dose=%{y}<br>Time_Decimal=%{marker.color}<extra></extra>",
           "ids": [
            23.283333333333335
           ],
           "legendgroup": "",
           "marker": {
            "color": [
             23.283333333333335
            ],
            "coloraxis": "coloraxis",
            "pattern": {
             "shape": ""
            }
           },
           "name": "",
           "offsetgroup": "",
           "orientation": "v",
           "showlegend": false,
           "textposition": "auto",
           "type": "bar",
           "x": [
            "employee_20"
           ],
           "xaxis": "x",
           "y": [
            0.019
           ],
           "yaxis": "y"
          }
         ],
         "name": "employee_20"
        },
        {
         "data": [
          {
           "alignmentgroup": "True",
           "hovertemplate": "Name=%{x}<br>Whole_Body_Dose=%{y}<br>Time_Decimal=%{marker.color}<extra></extra>",
           "ids": [
            16.916666666666664
           ],
           "legendgroup": "",
           "marker": {
            "color": [
             16.916666666666664
            ],
            "coloraxis": "coloraxis",
            "pattern": {
             "shape": ""
            }
           },
           "name": "",
           "offsetgroup": "",
           "orientation": "v",
           "showlegend": false,
           "textposition": "auto",
           "type": "bar",
           "x": [
            "employee_15"
           ],
           "xaxis": "x",
           "y": [
            0.057999999999999996
           ],
           "yaxis": "y"
          }
         ],
         "name": "employee_15"
        },
        {
         "data": [
          {
           "alignmentgroup": "True",
           "hovertemplate": "Name=%{x}<br>Whole_Body_Dose=%{y}<br>Time_Decimal=%{marker.color}<extra></extra>",
           "ids": [
            16.266666666666666
           ],
           "legendgroup": "",
           "marker": {
            "color": [
             16.266666666666666
            ],
            "coloraxis": "coloraxis",
            "pattern": {
             "shape": ""
            }
           },
           "name": "",
           "offsetgroup": "",
           "orientation": "v",
           "showlegend": false,
           "textposition": "auto",
           "type": "bar",
           "x": [
            "employee_2"
           ],
           "xaxis": "x",
           "y": [
            0.033
           ],
           "yaxis": "y"
          }
         ],
         "name": "employee_2"
        },
        {
         "data": [
          {
           "alignmentgroup": "True",
           "hovertemplate": "Name=%{x}<br>Whole_Body_Dose=%{y}<br>Time_Decimal=%{marker.color}<extra></extra>",
           "ids": [
            16.21666666666667
           ],
           "legendgroup": "",
           "marker": {
            "color": [
             16.21666666666667
            ],
            "coloraxis": "coloraxis",
            "pattern": {
             "shape": ""
            }
           },
           "name": "",
           "offsetgroup": "",
           "orientation": "v",
           "showlegend": false,
           "textposition": "auto",
           "type": "bar",
           "x": [
            "employee_8"
           ],
           "xaxis": "x",
           "y": [
            0.034
           ],
           "yaxis": "y"
          }
         ],
         "name": "employee_8"
        },
        {
         "data": [
          {
           "alignmentgroup": "True",
           "hovertemplate": "Name=%{x}<br>Whole_Body_Dose=%{y}<br>Time_Decimal=%{marker.color}<extra></extra>",
           "ids": [
            12.533333333333335
           ],
           "legendgroup": "",
           "marker": {
            "color": [
             12.533333333333335
            ],
            "coloraxis": "coloraxis",
            "pattern": {
             "shape": ""
            }
           },
           "name": "",
           "offsetgroup": "",
           "orientation": "v",
           "showlegend": false,
           "textposition": "auto",
           "type": "bar",
           "x": [
            "employee_5"
           ],
           "xaxis": "x",
           "y": [
            0.022
           ],
           "yaxis": "y"
          }
         ],
         "name": "employee_5"
        },
        {
         "data": [
          {
           "alignmentgroup": "True",
           "hovertemplate": "Name=%{x}<br>Whole_Body_Dose=%{y}<br>Time_Decimal=%{marker.color}<extra></extra>",
           "ids": [
            8.933333333333334
           ],
           "legendgroup": "",
           "marker": {
            "color": [
             8.933333333333334
            ],
            "coloraxis": "coloraxis",
            "pattern": {
             "shape": ""
            }
           },
           "name": "",
           "offsetgroup": "",
           "orientation": "v",
           "showlegend": false,
           "textposition": "auto",
           "type": "bar",
           "x": [
            "employee_13"
           ],
           "xaxis": "x",
           "y": [
            0.035
           ],
           "yaxis": "y"
          }
         ],
         "name": "employee_13"
        },
        {
         "data": [
          {
           "alignmentgroup": "True",
           "hovertemplate": "Name=%{x}<br>Whole_Body_Dose=%{y}<br>Time_Decimal=%{marker.color}<extra></extra>",
           "ids": [
            8.933333333333334
           ],
           "legendgroup": "",
           "marker": {
            "color": [
             8.933333333333334
            ],
            "coloraxis": "coloraxis",
            "pattern": {
             "shape": ""
            }
           },
           "name": "",
           "offsetgroup": "",
           "orientation": "v",
           "showlegend": false,
           "textposition": "auto",
           "type": "bar",
           "x": [
            "employee_22"
           ],
           "xaxis": "x",
           "y": [
            0.022
           ],
           "yaxis": "y"
          }
         ],
         "name": "employee_22"
        },
        {
         "data": [
          {
           "alignmentgroup": "True",
           "hovertemplate": "Name=%{x}<br>Whole_Body_Dose=%{y}<br>Time_Decimal=%{marker.color}<extra></extra>",
           "ids": [
            7.95
           ],
           "legendgroup": "",
           "marker": {
            "color": [
             7.95
            ],
            "coloraxis": "coloraxis",
            "pattern": {
             "shape": ""
            }
           },
           "name": "",
           "offsetgroup": "",
           "orientation": "v",
           "showlegend": false,
           "textposition": "auto",
           "type": "bar",
           "x": [
            "employee_7"
           ],
           "xaxis": "x",
           "y": [
            0.009000000000000001
           ],
           "yaxis": "y"
          }
         ],
         "name": "employee_7"
        },
        {
         "data": [
          {
           "alignmentgroup": "True",
           "hovertemplate": "Name=%{x}<br>Whole_Body_Dose=%{y}<br>Time_Decimal=%{marker.color}<extra></extra>",
           "ids": [
            7.8
           ],
           "legendgroup": "",
           "marker": {
            "color": [
             7.8
            ],
            "coloraxis": "coloraxis",
            "pattern": {
             "shape": ""
            }
           },
           "name": "",
           "offsetgroup": "",
           "orientation": "v",
           "showlegend": false,
           "textposition": "auto",
           "type": "bar",
           "x": [
            "employee_14"
           ],
           "xaxis": "x",
           "y": [
            0.011
           ],
           "yaxis": "y"
          }
         ],
         "name": "employee_14"
        },
        {
         "data": [
          {
           "alignmentgroup": "True",
           "hovertemplate": "Name=%{x}<br>Whole_Body_Dose=%{y}<br>Time_Decimal=%{marker.color}<extra></extra>",
           "ids": [
            5.433333333333334
           ],
           "legendgroup": "",
           "marker": {
            "color": [
             5.433333333333334
            ],
            "coloraxis": "coloraxis",
            "pattern": {
             "shape": ""
            }
           },
           "name": "",
           "offsetgroup": "",
           "orientation": "v",
           "showlegend": false,
           "textposition": "auto",
           "type": "bar",
           "x": [
            "employee_19"
           ],
           "xaxis": "x",
           "y": [
            0.02
           ],
           "yaxis": "y"
          }
         ],
         "name": "employee_19"
        },
        {
         "data": [
          {
           "alignmentgroup": "True",
           "hovertemplate": "Name=%{x}<br>Whole_Body_Dose=%{y}<br>Time_Decimal=%{marker.color}<extra></extra>",
           "ids": [
            1.1333333333333333
           ],
           "legendgroup": "",
           "marker": {
            "color": [
             1.1333333333333333
            ],
            "coloraxis": "coloraxis",
            "pattern": {
             "shape": ""
            }
           },
           "name": "",
           "offsetgroup": "",
           "orientation": "v",
           "showlegend": false,
           "textposition": "auto",
           "type": "bar",
           "x": [
            "employee_17"
           ],
           "xaxis": "x",
           "y": [
            0.005
           ],
           "yaxis": "y"
          }
         ],
         "name": "employee_17"
        }
       ],
       "layout": {
        "barmode": "relative",
        "coloraxis": {
         "colorbar": {
          "title": {
           "text": "Time_Decimal"
          }
         },
         "colorscale": [
          [
           0,
           "#0d0887"
          ],
          [
           0.1111111111111111,
           "#46039f"
          ],
          [
           0.2222222222222222,
           "#7201a8"
          ],
          [
           0.3333333333333333,
           "#9c179e"
          ],
          [
           0.4444444444444444,
           "#bd3786"
          ],
          [
           0.5555555555555556,
           "#d8576b"
          ],
          [
           0.6666666666666666,
           "#ed7953"
          ],
          [
           0.7777777777777778,
           "#fb9f3a"
          ],
          [
           0.8888888888888888,
           "#fdca26"
          ],
          [
           1,
           "#f0f921"
          ]
         ]
        },
        "legend": {
         "tracegroupgap": 0
        },
        "margin": {
         "t": 60
        },
        "sliders": [
         {
          "active": 0,
          "currentvalue": {
           "prefix": "Name="
          },
          "len": 0.9,
          "pad": {
           "b": 10,
           "t": 60
          },
          "steps": [
           {
            "args": [
             [
              "employee_21"
             ],
             {
              "frame": {
               "duration": 0,
               "redraw": true
              },
              "fromcurrent": true,
              "mode": "immediate",
              "transition": {
               "duration": 0,
               "easing": "linear"
              }
             }
            ],
            "label": "employee_21",
            "method": "animate"
           },
           {
            "args": [
             [
              "employee_1"
             ],
             {
              "frame": {
               "duration": 0,
               "redraw": true
              },
              "fromcurrent": true,
              "mode": "immediate",
              "transition": {
               "duration": 0,
               "easing": "linear"
              }
             }
            ],
            "label": "employee_1",
            "method": "animate"
           },
           {
            "args": [
             [
              "employee_16"
             ],
             {
              "frame": {
               "duration": 0,
               "redraw": true
              },
              "fromcurrent": true,
              "mode": "immediate",
              "transition": {
               "duration": 0,
               "easing": "linear"
              }
             }
            ],
            "label": "employee_16",
            "method": "animate"
           },
           {
            "args": [
             [
              "employee_25"
             ],
             {
              "frame": {
               "duration": 0,
               "redraw": true
              },
              "fromcurrent": true,
              "mode": "immediate",
              "transition": {
               "duration": 0,
               "easing": "linear"
              }
             }
            ],
            "label": "employee_25",
            "method": "animate"
           },
           {
            "args": [
             [
              "employee_3"
             ],
             {
              "frame": {
               "duration": 0,
               "redraw": true
              },
              "fromcurrent": true,
              "mode": "immediate",
              "transition": {
               "duration": 0,
               "easing": "linear"
              }
             }
            ],
            "label": "employee_3",
            "method": "animate"
           },
           {
            "args": [
             [
              "employee_6"
             ],
             {
              "frame": {
               "duration": 0,
               "redraw": true
              },
              "fromcurrent": true,
              "mode": "immediate",
              "transition": {
               "duration": 0,
               "easing": "linear"
              }
             }
            ],
            "label": "employee_6",
            "method": "animate"
           },
           {
            "args": [
             [
              "employee_11"
             ],
             {
              "frame": {
               "duration": 0,
               "redraw": true
              },
              "fromcurrent": true,
              "mode": "immediate",
              "transition": {
               "duration": 0,
               "easing": "linear"
              }
             }
            ],
            "label": "employee_11",
            "method": "animate"
           },
           {
            "args": [
             [
              "employee_18"
             ],
             {
              "frame": {
               "duration": 0,
               "redraw": true
              },
              "fromcurrent": true,
              "mode": "immediate",
              "transition": {
               "duration": 0,
               "easing": "linear"
              }
             }
            ],
            "label": "employee_18",
            "method": "animate"
           },
           {
            "args": [
             [
              "employee_23"
             ],
             {
              "frame": {
               "duration": 0,
               "redraw": true
              },
              "fromcurrent": true,
              "mode": "immediate",
              "transition": {
               "duration": 0,
               "easing": "linear"
              }
             }
            ],
            "label": "employee_23",
            "method": "animate"
           },
           {
            "args": [
             [
              "employee_24"
             ],
             {
              "frame": {
               "duration": 0,
               "redraw": true
              },
              "fromcurrent": true,
              "mode": "immediate",
              "transition": {
               "duration": 0,
               "easing": "linear"
              }
             }
            ],
            "label": "employee_24",
            "method": "animate"
           },
           {
            "args": [
             [
              "employee_9"
             ],
             {
              "frame": {
               "duration": 0,
               "redraw": true
              },
              "fromcurrent": true,
              "mode": "immediate",
              "transition": {
               "duration": 0,
               "easing": "linear"
              }
             }
            ],
            "label": "employee_9",
            "method": "animate"
           },
           {
            "args": [
             [
              "employee_4"
             ],
             {
              "frame": {
               "duration": 0,
               "redraw": true
              },
              "fromcurrent": true,
              "mode": "immediate",
              "transition": {
               "duration": 0,
               "easing": "linear"
              }
             }
            ],
            "label": "employee_4",
            "method": "animate"
           },
           {
            "args": [
             [
              "employee_20"
             ],
             {
              "frame": {
               "duration": 0,
               "redraw": true
              },
              "fromcurrent": true,
              "mode": "immediate",
              "transition": {
               "duration": 0,
               "easing": "linear"
              }
             }
            ],
            "label": "employee_20",
            "method": "animate"
           },
           {
            "args": [
             [
              "employee_15"
             ],
             {
              "frame": {
               "duration": 0,
               "redraw": true
              },
              "fromcurrent": true,
              "mode": "immediate",
              "transition": {
               "duration": 0,
               "easing": "linear"
              }
             }
            ],
            "label": "employee_15",
            "method": "animate"
           },
           {
            "args": [
             [
              "employee_2"
             ],
             {
              "frame": {
               "duration": 0,
               "redraw": true
              },
              "fromcurrent": true,
              "mode": "immediate",
              "transition": {
               "duration": 0,
               "easing": "linear"
              }
             }
            ],
            "label": "employee_2",
            "method": "animate"
           },
           {
            "args": [
             [
              "employee_8"
             ],
             {
              "frame": {
               "duration": 0,
               "redraw": true
              },
              "fromcurrent": true,
              "mode": "immediate",
              "transition": {
               "duration": 0,
               "easing": "linear"
              }
             }
            ],
            "label": "employee_8",
            "method": "animate"
           },
           {
            "args": [
             [
              "employee_5"
             ],
             {
              "frame": {
               "duration": 0,
               "redraw": true
              },
              "fromcurrent": true,
              "mode": "immediate",
              "transition": {
               "duration": 0,
               "easing": "linear"
              }
             }
            ],
            "label": "employee_5",
            "method": "animate"
           },
           {
            "args": [
             [
              "employee_13"
             ],
             {
              "frame": {
               "duration": 0,
               "redraw": true
              },
              "fromcurrent": true,
              "mode": "immediate",
              "transition": {
               "duration": 0,
               "easing": "linear"
              }
             }
            ],
            "label": "employee_13",
            "method": "animate"
           },
           {
            "args": [
             [
              "employee_22"
             ],
             {
              "frame": {
               "duration": 0,
               "redraw": true
              },
              "fromcurrent": true,
              "mode": "immediate",
              "transition": {
               "duration": 0,
               "easing": "linear"
              }
             }
            ],
            "label": "employee_22",
            "method": "animate"
           },
           {
            "args": [
             [
              "employee_7"
             ],
             {
              "frame": {
               "duration": 0,
               "redraw": true
              },
              "fromcurrent": true,
              "mode": "immediate",
              "transition": {
               "duration": 0,
               "easing": "linear"
              }
             }
            ],
            "label": "employee_7",
            "method": "animate"
           },
           {
            "args": [
             [
              "employee_14"
             ],
             {
              "frame": {
               "duration": 0,
               "redraw": true
              },
              "fromcurrent": true,
              "mode": "immediate",
              "transition": {
               "duration": 0,
               "easing": "linear"
              }
             }
            ],
            "label": "employee_14",
            "method": "animate"
           },
           {
            "args": [
             [
              "employee_19"
             ],
             {
              "frame": {
               "duration": 0,
               "redraw": true
              },
              "fromcurrent": true,
              "mode": "immediate",
              "transition": {
               "duration": 0,
               "easing": "linear"
              }
             }
            ],
            "label": "employee_19",
            "method": "animate"
           },
           {
            "args": [
             [
              "employee_17"
             ],
             {
              "frame": {
               "duration": 0,
               "redraw": true
              },
              "fromcurrent": true,
              "mode": "immediate",
              "transition": {
               "duration": 0,
               "easing": "linear"
              }
             }
            ],
            "label": "employee_17",
            "method": "animate"
           }
          ],
          "x": 0.1,
          "xanchor": "left",
          "y": 0,
          "yanchor": "top"
         }
        ],
        "template": {
         "data": {
          "bar": [
           {
            "error_x": {
             "color": "#2a3f5f"
            },
            "error_y": {
             "color": "#2a3f5f"
            },
            "marker": {
             "line": {
              "color": "#E5ECF6",
              "width": 0.5
             },
             "pattern": {
              "fillmode": "overlay",
              "size": 10,
              "solidity": 0.2
             }
            },
            "type": "bar"
           }
          ],
          "barpolar": [
           {
            "marker": {
             "line": {
              "color": "#E5ECF6",
              "width": 0.5
             },
             "pattern": {
              "fillmode": "overlay",
              "size": 10,
              "solidity": 0.2
             }
            },
            "type": "barpolar"
           }
          ],
          "carpet": [
           {
            "aaxis": {
             "endlinecolor": "#2a3f5f",
             "gridcolor": "white",
             "linecolor": "white",
             "minorgridcolor": "white",
             "startlinecolor": "#2a3f5f"
            },
            "baxis": {
             "endlinecolor": "#2a3f5f",
             "gridcolor": "white",
             "linecolor": "white",
             "minorgridcolor": "white",
             "startlinecolor": "#2a3f5f"
            },
            "type": "carpet"
           }
          ],
          "choropleth": [
           {
            "colorbar": {
             "outlinewidth": 0,
             "ticks": ""
            },
            "type": "choropleth"
           }
          ],
          "contour": [
           {
            "colorbar": {
             "outlinewidth": 0,
             "ticks": ""
            },
            "colorscale": [
             [
              0,
              "#0d0887"
             ],
             [
              0.1111111111111111,
              "#46039f"
             ],
             [
              0.2222222222222222,
              "#7201a8"
             ],
             [
              0.3333333333333333,
              "#9c179e"
             ],
             [
              0.4444444444444444,
              "#bd3786"
             ],
             [
              0.5555555555555556,
              "#d8576b"
             ],
             [
              0.6666666666666666,
              "#ed7953"
             ],
             [
              0.7777777777777778,
              "#fb9f3a"
             ],
             [
              0.8888888888888888,
              "#fdca26"
             ],
             [
              1,
              "#f0f921"
             ]
            ],
            "type": "contour"
           }
          ],
          "contourcarpet": [
           {
            "colorbar": {
             "outlinewidth": 0,
             "ticks": ""
            },
            "type": "contourcarpet"
           }
          ],
          "heatmap": [
           {
            "colorbar": {
             "outlinewidth": 0,
             "ticks": ""
            },
            "colorscale": [
             [
              0,
              "#0d0887"
             ],
             [
              0.1111111111111111,
              "#46039f"
             ],
             [
              0.2222222222222222,
              "#7201a8"
             ],
             [
              0.3333333333333333,
              "#9c179e"
             ],
             [
              0.4444444444444444,
              "#bd3786"
             ],
             [
              0.5555555555555556,
              "#d8576b"
             ],
             [
              0.6666666666666666,
              "#ed7953"
             ],
             [
              0.7777777777777778,
              "#fb9f3a"
             ],
             [
              0.8888888888888888,
              "#fdca26"
             ],
             [
              1,
              "#f0f921"
             ]
            ],
            "type": "heatmap"
           }
          ],
          "heatmapgl": [
           {
            "colorbar": {
             "outlinewidth": 0,
             "ticks": ""
            },
            "colorscale": [
             [
              0,
              "#0d0887"
             ],
             [
              0.1111111111111111,
              "#46039f"
             ],
             [
              0.2222222222222222,
              "#7201a8"
             ],
             [
              0.3333333333333333,
              "#9c179e"
             ],
             [
              0.4444444444444444,
              "#bd3786"
             ],
             [
              0.5555555555555556,
              "#d8576b"
             ],
             [
              0.6666666666666666,
              "#ed7953"
             ],
             [
              0.7777777777777778,
              "#fb9f3a"
             ],
             [
              0.8888888888888888,
              "#fdca26"
             ],
             [
              1,
              "#f0f921"
             ]
            ],
            "type": "heatmapgl"
           }
          ],
          "histogram": [
           {
            "marker": {
             "pattern": {
              "fillmode": "overlay",
              "size": 10,
              "solidity": 0.2
             }
            },
            "type": "histogram"
           }
          ],
          "histogram2d": [
           {
            "colorbar": {
             "outlinewidth": 0,
             "ticks": ""
            },
            "colorscale": [
             [
              0,
              "#0d0887"
             ],
             [
              0.1111111111111111,
              "#46039f"
             ],
             [
              0.2222222222222222,
              "#7201a8"
             ],
             [
              0.3333333333333333,
              "#9c179e"
             ],
             [
              0.4444444444444444,
              "#bd3786"
             ],
             [
              0.5555555555555556,
              "#d8576b"
             ],
             [
              0.6666666666666666,
              "#ed7953"
             ],
             [
              0.7777777777777778,
              "#fb9f3a"
             ],
             [
              0.8888888888888888,
              "#fdca26"
             ],
             [
              1,
              "#f0f921"
             ]
            ],
            "type": "histogram2d"
           }
          ],
          "histogram2dcontour": [
           {
            "colorbar": {
             "outlinewidth": 0,
             "ticks": ""
            },
            "colorscale": [
             [
              0,
              "#0d0887"
             ],
             [
              0.1111111111111111,
              "#46039f"
             ],
             [
              0.2222222222222222,
              "#7201a8"
             ],
             [
              0.3333333333333333,
              "#9c179e"
             ],
             [
              0.4444444444444444,
              "#bd3786"
             ],
             [
              0.5555555555555556,
              "#d8576b"
             ],
             [
              0.6666666666666666,
              "#ed7953"
             ],
             [
              0.7777777777777778,
              "#fb9f3a"
             ],
             [
              0.8888888888888888,
              "#fdca26"
             ],
             [
              1,
              "#f0f921"
             ]
            ],
            "type": "histogram2dcontour"
           }
          ],
          "mesh3d": [
           {
            "colorbar": {
             "outlinewidth": 0,
             "ticks": ""
            },
            "type": "mesh3d"
           }
          ],
          "parcoords": [
           {
            "line": {
             "colorbar": {
              "outlinewidth": 0,
              "ticks": ""
             }
            },
            "type": "parcoords"
           }
          ],
          "pie": [
           {
            "automargin": true,
            "type": "pie"
           }
          ],
          "scatter": [
           {
            "fillpattern": {
             "fillmode": "overlay",
             "size": 10,
             "solidity": 0.2
            },
            "type": "scatter"
           }
          ],
          "scatter3d": [
           {
            "line": {
             "colorbar": {
              "outlinewidth": 0,
              "ticks": ""
             }
            },
            "marker": {
             "colorbar": {
              "outlinewidth": 0,
              "ticks": ""
             }
            },
            "type": "scatter3d"
           }
          ],
          "scattercarpet": [
           {
            "marker": {
             "colorbar": {
              "outlinewidth": 0,
              "ticks": ""
             }
            },
            "type": "scattercarpet"
           }
          ],
          "scattergeo": [
           {
            "marker": {
             "colorbar": {
              "outlinewidth": 0,
              "ticks": ""
             }
            },
            "type": "scattergeo"
           }
          ],
          "scattergl": [
           {
            "marker": {
             "colorbar": {
              "outlinewidth": 0,
              "ticks": ""
             }
            },
            "type": "scattergl"
           }
          ],
          "scattermapbox": [
           {
            "marker": {
             "colorbar": {
              "outlinewidth": 0,
              "ticks": ""
             }
            },
            "type": "scattermapbox"
           }
          ],
          "scatterpolar": [
           {
            "marker": {
             "colorbar": {
              "outlinewidth": 0,
              "ticks": ""
             }
            },
            "type": "scatterpolar"
           }
          ],
          "scatterpolargl": [
           {
            "marker": {
             "colorbar": {
              "outlinewidth": 0,
              "ticks": ""
             }
            },
            "type": "scatterpolargl"
           }
          ],
          "scatterternary": [
           {
            "marker": {
             "colorbar": {
              "outlinewidth": 0,
              "ticks": ""
             }
            },
            "type": "scatterternary"
           }
          ],
          "surface": [
           {
            "colorbar": {
             "outlinewidth": 0,
             "ticks": ""
            },
            "colorscale": [
             [
              0,
              "#0d0887"
             ],
             [
              0.1111111111111111,
              "#46039f"
             ],
             [
              0.2222222222222222,
              "#7201a8"
             ],
             [
              0.3333333333333333,
              "#9c179e"
             ],
             [
              0.4444444444444444,
              "#bd3786"
             ],
             [
              0.5555555555555556,
              "#d8576b"
             ],
             [
              0.6666666666666666,
              "#ed7953"
             ],
             [
              0.7777777777777778,
              "#fb9f3a"
             ],
             [
              0.8888888888888888,
              "#fdca26"
             ],
             [
              1,
              "#f0f921"
             ]
            ],
            "type": "surface"
           }
          ],
          "table": [
           {
            "cells": {
             "fill": {
              "color": "#EBF0F8"
             },
             "line": {
              "color": "white"
             }
            },
            "header": {
             "fill": {
              "color": "#C8D4E3"
             },
             "line": {
              "color": "white"
             }
            },
            "type": "table"
           }
          ]
         },
         "layout": {
          "annotationdefaults": {
           "arrowcolor": "#2a3f5f",
           "arrowhead": 0,
           "arrowwidth": 1
          },
          "autotypenumbers": "strict",
          "coloraxis": {
           "colorbar": {
            "outlinewidth": 0,
            "ticks": ""
           }
          },
          "colorscale": {
           "diverging": [
            [
             0,
             "#8e0152"
            ],
            [
             0.1,
             "#c51b7d"
            ],
            [
             0.2,
             "#de77ae"
            ],
            [
             0.3,
             "#f1b6da"
            ],
            [
             0.4,
             "#fde0ef"
            ],
            [
             0.5,
             "#f7f7f7"
            ],
            [
             0.6,
             "#e6f5d0"
            ],
            [
             0.7,
             "#b8e186"
            ],
            [
             0.8,
             "#7fbc41"
            ],
            [
             0.9,
             "#4d9221"
            ],
            [
             1,
             "#276419"
            ]
           ],
           "sequential": [
            [
             0,
             "#0d0887"
            ],
            [
             0.1111111111111111,
             "#46039f"
            ],
            [
             0.2222222222222222,
             "#7201a8"
            ],
            [
             0.3333333333333333,
             "#9c179e"
            ],
            [
             0.4444444444444444,
             "#bd3786"
            ],
            [
             0.5555555555555556,
             "#d8576b"
            ],
            [
             0.6666666666666666,
             "#ed7953"
            ],
            [
             0.7777777777777778,
             "#fb9f3a"
            ],
            [
             0.8888888888888888,
             "#fdca26"
            ],
            [
             1,
             "#f0f921"
            ]
           ],
           "sequentialminus": [
            [
             0,
             "#0d0887"
            ],
            [
             0.1111111111111111,
             "#46039f"
            ],
            [
             0.2222222222222222,
             "#7201a8"
            ],
            [
             0.3333333333333333,
             "#9c179e"
            ],
            [
             0.4444444444444444,
             "#bd3786"
            ],
            [
             0.5555555555555556,
             "#d8576b"
            ],
            [
             0.6666666666666666,
             "#ed7953"
            ],
            [
             0.7777777777777778,
             "#fb9f3a"
            ],
            [
             0.8888888888888888,
             "#fdca26"
            ],
            [
             1,
             "#f0f921"
            ]
           ]
          },
          "colorway": [
           "#636efa",
           "#EF553B",
           "#00cc96",
           "#ab63fa",
           "#FFA15A",
           "#19d3f3",
           "#FF6692",
           "#B6E880",
           "#FF97FF",
           "#FECB52"
          ],
          "font": {
           "color": "#2a3f5f"
          },
          "geo": {
           "bgcolor": "white",
           "lakecolor": "white",
           "landcolor": "#E5ECF6",
           "showlakes": true,
           "showland": true,
           "subunitcolor": "white"
          },
          "hoverlabel": {
           "align": "left"
          },
          "hovermode": "closest",
          "mapbox": {
           "style": "light"
          },
          "paper_bgcolor": "white",
          "plot_bgcolor": "#E5ECF6",
          "polar": {
           "angularaxis": {
            "gridcolor": "white",
            "linecolor": "white",
            "ticks": ""
           },
           "bgcolor": "#E5ECF6",
           "radialaxis": {
            "gridcolor": "white",
            "linecolor": "white",
            "ticks": ""
           }
          },
          "scene": {
           "xaxis": {
            "backgroundcolor": "#E5ECF6",
            "gridcolor": "white",
            "gridwidth": 2,
            "linecolor": "white",
            "showbackground": true,
            "ticks": "",
            "zerolinecolor": "white"
           },
           "yaxis": {
            "backgroundcolor": "#E5ECF6",
            "gridcolor": "white",
            "gridwidth": 2,
            "linecolor": "white",
            "showbackground": true,
            "ticks": "",
            "zerolinecolor": "white"
           },
           "zaxis": {
            "backgroundcolor": "#E5ECF6",
            "gridcolor": "white",
            "gridwidth": 2,
            "linecolor": "white",
            "showbackground": true,
            "ticks": "",
            "zerolinecolor": "white"
           }
          },
          "shapedefaults": {
           "line": {
            "color": "#2a3f5f"
           }
          },
          "ternary": {
           "aaxis": {
            "gridcolor": "white",
            "linecolor": "white",
            "ticks": ""
           },
           "baxis": {
            "gridcolor": "white",
            "linecolor": "white",
            "ticks": ""
           },
           "bgcolor": "#E5ECF6",
           "caxis": {
            "gridcolor": "white",
            "linecolor": "white",
            "ticks": ""
           }
          },
          "title": {
           "x": 0.05
          },
          "xaxis": {
           "automargin": true,
           "gridcolor": "white",
           "linecolor": "white",
           "ticks": "",
           "title": {
            "standoff": 15
           },
           "zerolinecolor": "white",
           "zerolinewidth": 2
          },
          "yaxis": {
           "automargin": true,
           "gridcolor": "white",
           "linecolor": "white",
           "ticks": "",
           "title": {
            "standoff": 15
           },
           "zerolinecolor": "white",
           "zerolinewidth": 2
          }
         }
        },
        "updatemenus": [
         {
          "buttons": [
           {
            "args": [
             null,
             {
              "frame": {
               "duration": 3500,
               "redraw": true
              },
              "fromcurrent": true,
              "mode": "immediate",
              "transition": {
               "duration": 500,
               "easing": "linear"
              }
             }
            ],
            "label": "&#9654;",
            "method": "animate"
           },
           {
            "args": [
             [
              null
             ],
             {
              "frame": {
               "duration": 0,
               "redraw": true
              },
              "fromcurrent": true,
              "mode": "immediate",
              "transition": {
               "duration": 0,
               "easing": "linear"
              }
             }
            ],
            "label": "&#9724;",
            "method": "animate"
           }
          ],
          "direction": "left",
          "pad": {
           "r": 10,
           "t": 70
          },
          "showactive": false,
          "type": "buttons",
          "x": 0.1,
          "xanchor": "right",
          "y": 0,
          "yanchor": "top"
         }
        ],
        "xaxis": {
         "anchor": "y",
         "categoryarray": [
          "employee_21",
          "employee_1",
          "employee_16",
          "employee_25",
          "employee_3",
          "employee_6",
          "employee_11",
          "employee_18",
          "employee_23",
          "employee_24",
          "employee_9",
          "employee_4",
          "employee_20",
          "employee_15",
          "employee_2",
          "employee_8",
          "employee_5",
          "employee_13",
          "employee_22",
          "employee_7",
          "employee_14",
          "employee_19",
          "employee_17"
         ],
         "categoryorder": "array",
         "domain": [
          0,
          1
         ],
         "range": [
          0,
          25
         ],
         "title": {
          "text": "Name"
         }
        },
        "yaxis": {
         "anchor": "x",
         "domain": [
          0,
          1
         ],
         "range": [
          0,
          0.5
         ],
         "title": {
          "text": "Whole_Body_Dose"
         }
        }
       }
      },
      "text/html": [
       "<div>                            <div id=\"f18dfeba-b7be-4017-bcbb-517005b53b0d\" class=\"plotly-graph-div\" style=\"height:525px; width:100%;\"></div>            <script type=\"text/javascript\">                require([\"plotly\"], function(Plotly) {                    window.PLOTLYENV=window.PLOTLYENV || {};                                    if (document.getElementById(\"f18dfeba-b7be-4017-bcbb-517005b53b0d\")) {                    Plotly.newPlot(                        \"f18dfeba-b7be-4017-bcbb-517005b53b0d\",                        [{\"alignmentgroup\":\"True\",\"hovertemplate\":\"Name=%{x}<br>Whole_Body_Dose=%{y}<br>Time_Decimal=%{marker.color}<extra></extra>\",\"ids\":[124.43333333333334],\"legendgroup\":\"\",\"marker\":{\"color\":[124.43333333333334],\"coloraxis\":\"coloraxis\",\"pattern\":{\"shape\":\"\"}},\"name\":\"\",\"offsetgroup\":\"\",\"orientation\":\"v\",\"showlegend\":false,\"textposition\":\"auto\",\"x\":[\"employee_21\"],\"xaxis\":\"x\",\"y\":[0.444],\"yaxis\":\"y\",\"type\":\"bar\"}],                        {\"template\":{\"data\":{\"histogram2dcontour\":[{\"type\":\"histogram2dcontour\",\"colorbar\":{\"outlinewidth\":0,\"ticks\":\"\"},\"colorscale\":[[0.0,\"#0d0887\"],[0.1111111111111111,\"#46039f\"],[0.2222222222222222,\"#7201a8\"],[0.3333333333333333,\"#9c179e\"],[0.4444444444444444,\"#bd3786\"],[0.5555555555555556,\"#d8576b\"],[0.6666666666666666,\"#ed7953\"],[0.7777777777777778,\"#fb9f3a\"],[0.8888888888888888,\"#fdca26\"],[1.0,\"#f0f921\"]]}],\"choropleth\":[{\"type\":\"choropleth\",\"colorbar\":{\"outlinewidth\":0,\"ticks\":\"\"}}],\"histogram2d\":[{\"type\":\"histogram2d\",\"colorbar\":{\"outlinewidth\":0,\"ticks\":\"\"},\"colorscale\":[[0.0,\"#0d0887\"],[0.1111111111111111,\"#46039f\"],[0.2222222222222222,\"#7201a8\"],[0.3333333333333333,\"#9c179e\"],[0.4444444444444444,\"#bd3786\"],[0.5555555555555556,\"#d8576b\"],[0.6666666666666666,\"#ed7953\"],[0.7777777777777778,\"#fb9f3a\"],[0.8888888888888888,\"#fdca26\"],[1.0,\"#f0f921\"]]}],\"heatmap\":[{\"type\":\"heatmap\",\"colorbar\":{\"outlinewidth\":0,\"ticks\":\"\"},\"colorscale\":[[0.0,\"#0d0887\"],[0.1111111111111111,\"#46039f\"],[0.2222222222222222,\"#7201a8\"],[0.3333333333333333,\"#9c179e\"],[0.4444444444444444,\"#bd3786\"],[0.5555555555555556,\"#d8576b\"],[0.6666666666666666,\"#ed7953\"],[0.7777777777777778,\"#fb9f3a\"],[0.8888888888888888,\"#fdca26\"],[1.0,\"#f0f921\"]]}],\"heatmapgl\":[{\"type\":\"heatmapgl\",\"colorbar\":{\"outlinewidth\":0,\"ticks\":\"\"},\"colorscale\":[[0.0,\"#0d0887\"],[0.1111111111111111,\"#46039f\"],[0.2222222222222222,\"#7201a8\"],[0.3333333333333333,\"#9c179e\"],[0.4444444444444444,\"#bd3786\"],[0.5555555555555556,\"#d8576b\"],[0.6666666666666666,\"#ed7953\"],[0.7777777777777778,\"#fb9f3a\"],[0.8888888888888888,\"#fdca26\"],[1.0,\"#f0f921\"]]}],\"contourcarpet\":[{\"type\":\"contourcarpet\",\"colorbar\":{\"outlinewidth\":0,\"ticks\":\"\"}}],\"contour\":[{\"type\":\"contour\",\"colorbar\":{\"outlinewidth\":0,\"ticks\":\"\"},\"colorscale\":[[0.0,\"#0d0887\"],[0.1111111111111111,\"#46039f\"],[0.2222222222222222,\"#7201a8\"],[0.3333333333333333,\"#9c179e\"],[0.4444444444444444,\"#bd3786\"],[0.5555555555555556,\"#d8576b\"],[0.6666666666666666,\"#ed7953\"],[0.7777777777777778,\"#fb9f3a\"],[0.8888888888888888,\"#fdca26\"],[1.0,\"#f0f921\"]]}],\"surface\":[{\"type\":\"surface\",\"colorbar\":{\"outlinewidth\":0,\"ticks\":\"\"},\"colorscale\":[[0.0,\"#0d0887\"],[0.1111111111111111,\"#46039f\"],[0.2222222222222222,\"#7201a8\"],[0.3333333333333333,\"#9c179e\"],[0.4444444444444444,\"#bd3786\"],[0.5555555555555556,\"#d8576b\"],[0.6666666666666666,\"#ed7953\"],[0.7777777777777778,\"#fb9f3a\"],[0.8888888888888888,\"#fdca26\"],[1.0,\"#f0f921\"]]}],\"mesh3d\":[{\"type\":\"mesh3d\",\"colorbar\":{\"outlinewidth\":0,\"ticks\":\"\"}}],\"scatter\":[{\"fillpattern\":{\"fillmode\":\"overlay\",\"size\":10,\"solidity\":0.2},\"type\":\"scatter\"}],\"parcoords\":[{\"type\":\"parcoords\",\"line\":{\"colorbar\":{\"outlinewidth\":0,\"ticks\":\"\"}}}],\"scatterpolargl\":[{\"type\":\"scatterpolargl\",\"marker\":{\"colorbar\":{\"outlinewidth\":0,\"ticks\":\"\"}}}],\"bar\":[{\"error_x\":{\"color\":\"#2a3f5f\"},\"error_y\":{\"color\":\"#2a3f5f\"},\"marker\":{\"line\":{\"color\":\"#E5ECF6\",\"width\":0.5},\"pattern\":{\"fillmode\":\"overlay\",\"size\":10,\"solidity\":0.2}},\"type\":\"bar\"}],\"scattergeo\":[{\"type\":\"scattergeo\",\"marker\":{\"colorbar\":{\"outlinewidth\":0,\"ticks\":\"\"}}}],\"scatterpolar\":[{\"type\":\"scatterpolar\",\"marker\":{\"colorbar\":{\"outlinewidth\":0,\"ticks\":\"\"}}}],\"histogram\":[{\"marker\":{\"pattern\":{\"fillmode\":\"overlay\",\"size\":10,\"solidity\":0.2}},\"type\":\"histogram\"}],\"scattergl\":[{\"type\":\"scattergl\",\"marker\":{\"colorbar\":{\"outlinewidth\":0,\"ticks\":\"\"}}}],\"scatter3d\":[{\"type\":\"scatter3d\",\"line\":{\"colorbar\":{\"outlinewidth\":0,\"ticks\":\"\"}},\"marker\":{\"colorbar\":{\"outlinewidth\":0,\"ticks\":\"\"}}}],\"scattermapbox\":[{\"type\":\"scattermapbox\",\"marker\":{\"colorbar\":{\"outlinewidth\":0,\"ticks\":\"\"}}}],\"scatterternary\":[{\"type\":\"scatterternary\",\"marker\":{\"colorbar\":{\"outlinewidth\":0,\"ticks\":\"\"}}}],\"scattercarpet\":[{\"type\":\"scattercarpet\",\"marker\":{\"colorbar\":{\"outlinewidth\":0,\"ticks\":\"\"}}}],\"carpet\":[{\"aaxis\":{\"endlinecolor\":\"#2a3f5f\",\"gridcolor\":\"white\",\"linecolor\":\"white\",\"minorgridcolor\":\"white\",\"startlinecolor\":\"#2a3f5f\"},\"baxis\":{\"endlinecolor\":\"#2a3f5f\",\"gridcolor\":\"white\",\"linecolor\":\"white\",\"minorgridcolor\":\"white\",\"startlinecolor\":\"#2a3f5f\"},\"type\":\"carpet\"}],\"table\":[{\"cells\":{\"fill\":{\"color\":\"#EBF0F8\"},\"line\":{\"color\":\"white\"}},\"header\":{\"fill\":{\"color\":\"#C8D4E3\"},\"line\":{\"color\":\"white\"}},\"type\":\"table\"}],\"barpolar\":[{\"marker\":{\"line\":{\"color\":\"#E5ECF6\",\"width\":0.5},\"pattern\":{\"fillmode\":\"overlay\",\"size\":10,\"solidity\":0.2}},\"type\":\"barpolar\"}],\"pie\":[{\"automargin\":true,\"type\":\"pie\"}]},\"layout\":{\"autotypenumbers\":\"strict\",\"colorway\":[\"#636efa\",\"#EF553B\",\"#00cc96\",\"#ab63fa\",\"#FFA15A\",\"#19d3f3\",\"#FF6692\",\"#B6E880\",\"#FF97FF\",\"#FECB52\"],\"font\":{\"color\":\"#2a3f5f\"},\"hovermode\":\"closest\",\"hoverlabel\":{\"align\":\"left\"},\"paper_bgcolor\":\"white\",\"plot_bgcolor\":\"#E5ECF6\",\"polar\":{\"bgcolor\":\"#E5ECF6\",\"angularaxis\":{\"gridcolor\":\"white\",\"linecolor\":\"white\",\"ticks\":\"\"},\"radialaxis\":{\"gridcolor\":\"white\",\"linecolor\":\"white\",\"ticks\":\"\"}},\"ternary\":{\"bgcolor\":\"#E5ECF6\",\"aaxis\":{\"gridcolor\":\"white\",\"linecolor\":\"white\",\"ticks\":\"\"},\"baxis\":{\"gridcolor\":\"white\",\"linecolor\":\"white\",\"ticks\":\"\"},\"caxis\":{\"gridcolor\":\"white\",\"linecolor\":\"white\",\"ticks\":\"\"}},\"coloraxis\":{\"colorbar\":{\"outlinewidth\":0,\"ticks\":\"\"}},\"colorscale\":{\"sequential\":[[0.0,\"#0d0887\"],[0.1111111111111111,\"#46039f\"],[0.2222222222222222,\"#7201a8\"],[0.3333333333333333,\"#9c179e\"],[0.4444444444444444,\"#bd3786\"],[0.5555555555555556,\"#d8576b\"],[0.6666666666666666,\"#ed7953\"],[0.7777777777777778,\"#fb9f3a\"],[0.8888888888888888,\"#fdca26\"],[1.0,\"#f0f921\"]],\"sequentialminus\":[[0.0,\"#0d0887\"],[0.1111111111111111,\"#46039f\"],[0.2222222222222222,\"#7201a8\"],[0.3333333333333333,\"#9c179e\"],[0.4444444444444444,\"#bd3786\"],[0.5555555555555556,\"#d8576b\"],[0.6666666666666666,\"#ed7953\"],[0.7777777777777778,\"#fb9f3a\"],[0.8888888888888888,\"#fdca26\"],[1.0,\"#f0f921\"]],\"diverging\":[[0,\"#8e0152\"],[0.1,\"#c51b7d\"],[0.2,\"#de77ae\"],[0.3,\"#f1b6da\"],[0.4,\"#fde0ef\"],[0.5,\"#f7f7f7\"],[0.6,\"#e6f5d0\"],[0.7,\"#b8e186\"],[0.8,\"#7fbc41\"],[0.9,\"#4d9221\"],[1,\"#276419\"]]},\"xaxis\":{\"gridcolor\":\"white\",\"linecolor\":\"white\",\"ticks\":\"\",\"title\":{\"standoff\":15},\"zerolinecolor\":\"white\",\"automargin\":true,\"zerolinewidth\":2},\"yaxis\":{\"gridcolor\":\"white\",\"linecolor\":\"white\",\"ticks\":\"\",\"title\":{\"standoff\":15},\"zerolinecolor\":\"white\",\"automargin\":true,\"zerolinewidth\":2},\"scene\":{\"xaxis\":{\"backgroundcolor\":\"#E5ECF6\",\"gridcolor\":\"white\",\"linecolor\":\"white\",\"showbackground\":true,\"ticks\":\"\",\"zerolinecolor\":\"white\",\"gridwidth\":2},\"yaxis\":{\"backgroundcolor\":\"#E5ECF6\",\"gridcolor\":\"white\",\"linecolor\":\"white\",\"showbackground\":true,\"ticks\":\"\",\"zerolinecolor\":\"white\",\"gridwidth\":2},\"zaxis\":{\"backgroundcolor\":\"#E5ECF6\",\"gridcolor\":\"white\",\"linecolor\":\"white\",\"showbackground\":true,\"ticks\":\"\",\"zerolinecolor\":\"white\",\"gridwidth\":2}},\"shapedefaults\":{\"line\":{\"color\":\"#2a3f5f\"}},\"annotationdefaults\":{\"arrowcolor\":\"#2a3f5f\",\"arrowhead\":0,\"arrowwidth\":1},\"geo\":{\"bgcolor\":\"white\",\"landcolor\":\"#E5ECF6\",\"subunitcolor\":\"white\",\"showland\":true,\"showlakes\":true,\"lakecolor\":\"white\"},\"title\":{\"x\":0.05},\"mapbox\":{\"style\":\"light\"}}},\"xaxis\":{\"anchor\":\"y\",\"domain\":[0.0,1.0],\"title\":{\"text\":\"Name\"},\"range\":[0,25],\"categoryorder\":\"array\",\"categoryarray\":[\"employee_21\",\"employee_1\",\"employee_16\",\"employee_25\",\"employee_3\",\"employee_6\",\"employee_11\",\"employee_18\",\"employee_23\",\"employee_24\",\"employee_9\",\"employee_4\",\"employee_20\",\"employee_15\",\"employee_2\",\"employee_8\",\"employee_5\",\"employee_13\",\"employee_22\",\"employee_7\",\"employee_14\",\"employee_19\",\"employee_17\"]},\"yaxis\":{\"anchor\":\"x\",\"domain\":[0.0,1.0],\"title\":{\"text\":\"Whole_Body_Dose\"},\"range\":[0,0.5]},\"coloraxis\":{\"colorbar\":{\"title\":{\"text\":\"Time_Decimal\"}},\"colorscale\":[[0.0,\"#0d0887\"],[0.1111111111111111,\"#46039f\"],[0.2222222222222222,\"#7201a8\"],[0.3333333333333333,\"#9c179e\"],[0.4444444444444444,\"#bd3786\"],[0.5555555555555556,\"#d8576b\"],[0.6666666666666666,\"#ed7953\"],[0.7777777777777778,\"#fb9f3a\"],[0.8888888888888888,\"#fdca26\"],[1.0,\"#f0f921\"]]},\"legend\":{\"tracegroupgap\":0},\"margin\":{\"t\":60},\"barmode\":\"relative\",\"updatemenus\":[{\"buttons\":[{\"args\":[null,{\"frame\":{\"duration\":3500,\"redraw\":true},\"mode\":\"immediate\",\"fromcurrent\":true,\"transition\":{\"duration\":500,\"easing\":\"linear\"}}],\"label\":\"&#9654;\",\"method\":\"animate\"},{\"args\":[[null],{\"frame\":{\"duration\":0,\"redraw\":true},\"mode\":\"immediate\",\"fromcurrent\":true,\"transition\":{\"duration\":0,\"easing\":\"linear\"}}],\"label\":\"&#9724;\",\"method\":\"animate\"}],\"direction\":\"left\",\"pad\":{\"r\":10,\"t\":70},\"showactive\":false,\"type\":\"buttons\",\"x\":0.1,\"xanchor\":\"right\",\"y\":0,\"yanchor\":\"top\"}],\"sliders\":[{\"active\":0,\"currentvalue\":{\"prefix\":\"Name=\"},\"len\":0.9,\"pad\":{\"b\":10,\"t\":60},\"steps\":[{\"args\":[[\"employee_21\"],{\"frame\":{\"duration\":0,\"redraw\":true},\"mode\":\"immediate\",\"fromcurrent\":true,\"transition\":{\"duration\":0,\"easing\":\"linear\"}}],\"label\":\"employee_21\",\"method\":\"animate\"},{\"args\":[[\"employee_1\"],{\"frame\":{\"duration\":0,\"redraw\":true},\"mode\":\"immediate\",\"fromcurrent\":true,\"transition\":{\"duration\":0,\"easing\":\"linear\"}}],\"label\":\"employee_1\",\"method\":\"animate\"},{\"args\":[[\"employee_16\"],{\"frame\":{\"duration\":0,\"redraw\":true},\"mode\":\"immediate\",\"fromcurrent\":true,\"transition\":{\"duration\":0,\"easing\":\"linear\"}}],\"label\":\"employee_16\",\"method\":\"animate\"},{\"args\":[[\"employee_25\"],{\"frame\":{\"duration\":0,\"redraw\":true},\"mode\":\"immediate\",\"fromcurrent\":true,\"transition\":{\"duration\":0,\"easing\":\"linear\"}}],\"label\":\"employee_25\",\"method\":\"animate\"},{\"args\":[[\"employee_3\"],{\"frame\":{\"duration\":0,\"redraw\":true},\"mode\":\"immediate\",\"fromcurrent\":true,\"transition\":{\"duration\":0,\"easing\":\"linear\"}}],\"label\":\"employee_3\",\"method\":\"animate\"},{\"args\":[[\"employee_6\"],{\"frame\":{\"duration\":0,\"redraw\":true},\"mode\":\"immediate\",\"fromcurrent\":true,\"transition\":{\"duration\":0,\"easing\":\"linear\"}}],\"label\":\"employee_6\",\"method\":\"animate\"},{\"args\":[[\"employee_11\"],{\"frame\":{\"duration\":0,\"redraw\":true},\"mode\":\"immediate\",\"fromcurrent\":true,\"transition\":{\"duration\":0,\"easing\":\"linear\"}}],\"label\":\"employee_11\",\"method\":\"animate\"},{\"args\":[[\"employee_18\"],{\"frame\":{\"duration\":0,\"redraw\":true},\"mode\":\"immediate\",\"fromcurrent\":true,\"transition\":{\"duration\":0,\"easing\":\"linear\"}}],\"label\":\"employee_18\",\"method\":\"animate\"},{\"args\":[[\"employee_23\"],{\"frame\":{\"duration\":0,\"redraw\":true},\"mode\":\"immediate\",\"fromcurrent\":true,\"transition\":{\"duration\":0,\"easing\":\"linear\"}}],\"label\":\"employee_23\",\"method\":\"animate\"},{\"args\":[[\"employee_24\"],{\"frame\":{\"duration\":0,\"redraw\":true},\"mode\":\"immediate\",\"fromcurrent\":true,\"transition\":{\"duration\":0,\"easing\":\"linear\"}}],\"label\":\"employee_24\",\"method\":\"animate\"},{\"args\":[[\"employee_9\"],{\"frame\":{\"duration\":0,\"redraw\":true},\"mode\":\"immediate\",\"fromcurrent\":true,\"transition\":{\"duration\":0,\"easing\":\"linear\"}}],\"label\":\"employee_9\",\"method\":\"animate\"},{\"args\":[[\"employee_4\"],{\"frame\":{\"duration\":0,\"redraw\":true},\"mode\":\"immediate\",\"fromcurrent\":true,\"transition\":{\"duration\":0,\"easing\":\"linear\"}}],\"label\":\"employee_4\",\"method\":\"animate\"},{\"args\":[[\"employee_20\"],{\"frame\":{\"duration\":0,\"redraw\":true},\"mode\":\"immediate\",\"fromcurrent\":true,\"transition\":{\"duration\":0,\"easing\":\"linear\"}}],\"label\":\"employee_20\",\"method\":\"animate\"},{\"args\":[[\"employee_15\"],{\"frame\":{\"duration\":0,\"redraw\":true},\"mode\":\"immediate\",\"fromcurrent\":true,\"transition\":{\"duration\":0,\"easing\":\"linear\"}}],\"label\":\"employee_15\",\"method\":\"animate\"},{\"args\":[[\"employee_2\"],{\"frame\":{\"duration\":0,\"redraw\":true},\"mode\":\"immediate\",\"fromcurrent\":true,\"transition\":{\"duration\":0,\"easing\":\"linear\"}}],\"label\":\"employee_2\",\"method\":\"animate\"},{\"args\":[[\"employee_8\"],{\"frame\":{\"duration\":0,\"redraw\":true},\"mode\":\"immediate\",\"fromcurrent\":true,\"transition\":{\"duration\":0,\"easing\":\"linear\"}}],\"label\":\"employee_8\",\"method\":\"animate\"},{\"args\":[[\"employee_5\"],{\"frame\":{\"duration\":0,\"redraw\":true},\"mode\":\"immediate\",\"fromcurrent\":true,\"transition\":{\"duration\":0,\"easing\":\"linear\"}}],\"label\":\"employee_5\",\"method\":\"animate\"},{\"args\":[[\"employee_13\"],{\"frame\":{\"duration\":0,\"redraw\":true},\"mode\":\"immediate\",\"fromcurrent\":true,\"transition\":{\"duration\":0,\"easing\":\"linear\"}}],\"label\":\"employee_13\",\"method\":\"animate\"},{\"args\":[[\"employee_22\"],{\"frame\":{\"duration\":0,\"redraw\":true},\"mode\":\"immediate\",\"fromcurrent\":true,\"transition\":{\"duration\":0,\"easing\":\"linear\"}}],\"label\":\"employee_22\",\"method\":\"animate\"},{\"args\":[[\"employee_7\"],{\"frame\":{\"duration\":0,\"redraw\":true},\"mode\":\"immediate\",\"fromcurrent\":true,\"transition\":{\"duration\":0,\"easing\":\"linear\"}}],\"label\":\"employee_7\",\"method\":\"animate\"},{\"args\":[[\"employee_14\"],{\"frame\":{\"duration\":0,\"redraw\":true},\"mode\":\"immediate\",\"fromcurrent\":true,\"transition\":{\"duration\":0,\"easing\":\"linear\"}}],\"label\":\"employee_14\",\"method\":\"animate\"},{\"args\":[[\"employee_19\"],{\"frame\":{\"duration\":0,\"redraw\":true},\"mode\":\"immediate\",\"fromcurrent\":true,\"transition\":{\"duration\":0,\"easing\":\"linear\"}}],\"label\":\"employee_19\",\"method\":\"animate\"},{\"args\":[[\"employee_17\"],{\"frame\":{\"duration\":0,\"redraw\":true},\"mode\":\"immediate\",\"fromcurrent\":true,\"transition\":{\"duration\":0,\"easing\":\"linear\"}}],\"label\":\"employee_17\",\"method\":\"animate\"}],\"x\":0.1,\"xanchor\":\"left\",\"y\":0,\"yanchor\":\"top\"}]},                        {\"responsive\": true}                    ).then(function(){\n",
       "                            Plotly.addFrames('f18dfeba-b7be-4017-bcbb-517005b53b0d', [{\"data\":[{\"alignmentgroup\":\"True\",\"hovertemplate\":\"Name=%{x}<br>Whole_Body_Dose=%{y}<br>Time_Decimal=%{marker.color}<extra></extra>\",\"ids\":[124.43333333333334],\"legendgroup\":\"\",\"marker\":{\"color\":[124.43333333333334],\"coloraxis\":\"coloraxis\",\"pattern\":{\"shape\":\"\"}},\"name\":\"\",\"offsetgroup\":\"\",\"orientation\":\"v\",\"showlegend\":false,\"textposition\":\"auto\",\"x\":[\"employee_21\"],\"xaxis\":\"x\",\"y\":[0.444],\"yaxis\":\"y\",\"type\":\"bar\"}],\"name\":\"employee_21\"},{\"data\":[{\"alignmentgroup\":\"True\",\"hovertemplate\":\"Name=%{x}<br>Whole_Body_Dose=%{y}<br>Time_Decimal=%{marker.color}<extra></extra>\",\"ids\":[95.58333333333333],\"legendgroup\":\"\",\"marker\":{\"color\":[95.58333333333333],\"coloraxis\":\"coloraxis\",\"pattern\":{\"shape\":\"\"}},\"name\":\"\",\"offsetgroup\":\"\",\"orientation\":\"v\",\"showlegend\":false,\"textposition\":\"auto\",\"x\":[\"employee_1\"],\"xaxis\":\"x\",\"y\":[0.279],\"yaxis\":\"y\",\"type\":\"bar\"}],\"name\":\"employee_1\"},{\"data\":[{\"alignmentgroup\":\"True\",\"hovertemplate\":\"Name=%{x}<br>Whole_Body_Dose=%{y}<br>Time_Decimal=%{marker.color}<extra></extra>\",\"ids\":[89.8],\"legendgroup\":\"\",\"marker\":{\"color\":[89.8],\"coloraxis\":\"coloraxis\",\"pattern\":{\"shape\":\"\"}},\"name\":\"\",\"offsetgroup\":\"\",\"orientation\":\"v\",\"showlegend\":false,\"textposition\":\"auto\",\"x\":[\"employee_16\"],\"xaxis\":\"x\",\"y\":[0.23399999999999999],\"yaxis\":\"y\",\"type\":\"bar\"}],\"name\":\"employee_16\"},{\"data\":[{\"alignmentgroup\":\"True\",\"hovertemplate\":\"Name=%{x}<br>Whole_Body_Dose=%{y}<br>Time_Decimal=%{marker.color}<extra></extra>\",\"ids\":[64.61666666666667],\"legendgroup\":\"\",\"marker\":{\"color\":[64.61666666666667],\"coloraxis\":\"coloraxis\",\"pattern\":{\"shape\":\"\"}},\"name\":\"\",\"offsetgroup\":\"\",\"orientation\":\"v\",\"showlegend\":false,\"textposition\":\"auto\",\"x\":[\"employee_25\"],\"xaxis\":\"x\",\"y\":[0.108],\"yaxis\":\"y\",\"type\":\"bar\"}],\"name\":\"employee_25\"},{\"data\":[{\"alignmentgroup\":\"True\",\"hovertemplate\":\"Name=%{x}<br>Whole_Body_Dose=%{y}<br>Time_Decimal=%{marker.color}<extra></extra>\",\"ids\":[58.93333333333334],\"legendgroup\":\"\",\"marker\":{\"color\":[58.93333333333334],\"coloraxis\":\"coloraxis\",\"pattern\":{\"shape\":\"\"}},\"name\":\"\",\"offsetgroup\":\"\",\"orientation\":\"v\",\"showlegend\":false,\"textposition\":\"auto\",\"x\":[\"employee_3\"],\"xaxis\":\"x\",\"y\":[0.182],\"yaxis\":\"y\",\"type\":\"bar\"}],\"name\":\"employee_3\"},{\"data\":[{\"alignmentgroup\":\"True\",\"hovertemplate\":\"Name=%{x}<br>Whole_Body_Dose=%{y}<br>Time_Decimal=%{marker.color}<extra></extra>\",\"ids\":[41.78333333333333],\"legendgroup\":\"\",\"marker\":{\"color\":[41.78333333333333],\"coloraxis\":\"coloraxis\",\"pattern\":{\"shape\":\"\"}},\"name\":\"\",\"offsetgroup\":\"\",\"orientation\":\"v\",\"showlegend\":false,\"textposition\":\"auto\",\"x\":[\"employee_6\"],\"xaxis\":\"x\",\"y\":[0.049],\"yaxis\":\"y\",\"type\":\"bar\"}],\"name\":\"employee_6\"},{\"data\":[{\"alignmentgroup\":\"True\",\"hovertemplate\":\"Name=%{x}<br>Whole_Body_Dose=%{y}<br>Time_Decimal=%{marker.color}<extra></extra>\",\"ids\":[41.43333333333334],\"legendgroup\":\"\",\"marker\":{\"color\":[41.43333333333334],\"coloraxis\":\"coloraxis\",\"pattern\":{\"shape\":\"\"}},\"name\":\"\",\"offsetgroup\":\"\",\"orientation\":\"v\",\"showlegend\":false,\"textposition\":\"auto\",\"x\":[\"employee_11\"],\"xaxis\":\"x\",\"y\":[0.082],\"yaxis\":\"y\",\"type\":\"bar\"}],\"name\":\"employee_11\"},{\"data\":[{\"alignmentgroup\":\"True\",\"hovertemplate\":\"Name=%{x}<br>Whole_Body_Dose=%{y}<br>Time_Decimal=%{marker.color}<extra></extra>\",\"ids\":[39.28333333333333],\"legendgroup\":\"\",\"marker\":{\"color\":[39.28333333333333],\"coloraxis\":\"coloraxis\",\"pattern\":{\"shape\":\"\"}},\"name\":\"\",\"offsetgroup\":\"\",\"orientation\":\"v\",\"showlegend\":false,\"textposition\":\"auto\",\"x\":[\"employee_18\"],\"xaxis\":\"x\",\"y\":[0.196],\"yaxis\":\"y\",\"type\":\"bar\"}],\"name\":\"employee_18\"},{\"data\":[{\"alignmentgroup\":\"True\",\"hovertemplate\":\"Name=%{x}<br>Whole_Body_Dose=%{y}<br>Time_Decimal=%{marker.color}<extra></extra>\",\"ids\":[36.666666666666664],\"legendgroup\":\"\",\"marker\":{\"color\":[36.666666666666664],\"coloraxis\":\"coloraxis\",\"pattern\":{\"shape\":\"\"}},\"name\":\"\",\"offsetgroup\":\"\",\"orientation\":\"v\",\"showlegend\":false,\"textposition\":\"auto\",\"x\":[\"employee_23\"],\"xaxis\":\"x\",\"y\":[0.161],\"yaxis\":\"y\",\"type\":\"bar\"}],\"name\":\"employee_23\"},{\"data\":[{\"alignmentgroup\":\"True\",\"hovertemplate\":\"Name=%{x}<br>Whole_Body_Dose=%{y}<br>Time_Decimal=%{marker.color}<extra></extra>\",\"ids\":[34.41666666666667],\"legendgroup\":\"\",\"marker\":{\"color\":[34.41666666666667],\"coloraxis\":\"coloraxis\",\"pattern\":{\"shape\":\"\"}},\"name\":\"\",\"offsetgroup\":\"\",\"orientation\":\"v\",\"showlegend\":false,\"textposition\":\"auto\",\"x\":[\"employee_24\"],\"xaxis\":\"x\",\"y\":[0.039],\"yaxis\":\"y\",\"type\":\"bar\"}],\"name\":\"employee_24\"},{\"data\":[{\"alignmentgroup\":\"True\",\"hovertemplate\":\"Name=%{x}<br>Whole_Body_Dose=%{y}<br>Time_Decimal=%{marker.color}<extra></extra>\",\"ids\":[30.533333333333335],\"legendgroup\":\"\",\"marker\":{\"color\":[30.533333333333335],\"coloraxis\":\"coloraxis\",\"pattern\":{\"shape\":\"\"}},\"name\":\"\",\"offsetgroup\":\"\",\"orientation\":\"v\",\"showlegend\":false,\"textposition\":\"auto\",\"x\":[\"employee_9\"],\"xaxis\":\"x\",\"y\":[0.034],\"yaxis\":\"y\",\"type\":\"bar\"}],\"name\":\"employee_9\"},{\"data\":[{\"alignmentgroup\":\"True\",\"hovertemplate\":\"Name=%{x}<br>Whole_Body_Dose=%{y}<br>Time_Decimal=%{marker.color}<extra></extra>\",\"ids\":[29.96666666666667],\"legendgroup\":\"\",\"marker\":{\"color\":[29.96666666666667],\"coloraxis\":\"coloraxis\",\"pattern\":{\"shape\":\"\"}},\"name\":\"\",\"offsetgroup\":\"\",\"orientation\":\"v\",\"showlegend\":false,\"textposition\":\"auto\",\"x\":[\"employee_4\"],\"xaxis\":\"x\",\"y\":[0.027999999999999997],\"yaxis\":\"y\",\"type\":\"bar\"}],\"name\":\"employee_4\"},{\"data\":[{\"alignmentgroup\":\"True\",\"hovertemplate\":\"Name=%{x}<br>Whole_Body_Dose=%{y}<br>Time_Decimal=%{marker.color}<extra></extra>\",\"ids\":[23.283333333333335],\"legendgroup\":\"\",\"marker\":{\"color\":[23.283333333333335],\"coloraxis\":\"coloraxis\",\"pattern\":{\"shape\":\"\"}},\"name\":\"\",\"offsetgroup\":\"\",\"orientation\":\"v\",\"showlegend\":false,\"textposition\":\"auto\",\"x\":[\"employee_20\"],\"xaxis\":\"x\",\"y\":[0.019],\"yaxis\":\"y\",\"type\":\"bar\"}],\"name\":\"employee_20\"},{\"data\":[{\"alignmentgroup\":\"True\",\"hovertemplate\":\"Name=%{x}<br>Whole_Body_Dose=%{y}<br>Time_Decimal=%{marker.color}<extra></extra>\",\"ids\":[16.916666666666664],\"legendgroup\":\"\",\"marker\":{\"color\":[16.916666666666664],\"coloraxis\":\"coloraxis\",\"pattern\":{\"shape\":\"\"}},\"name\":\"\",\"offsetgroup\":\"\",\"orientation\":\"v\",\"showlegend\":false,\"textposition\":\"auto\",\"x\":[\"employee_15\"],\"xaxis\":\"x\",\"y\":[0.057999999999999996],\"yaxis\":\"y\",\"type\":\"bar\"}],\"name\":\"employee_15\"},{\"data\":[{\"alignmentgroup\":\"True\",\"hovertemplate\":\"Name=%{x}<br>Whole_Body_Dose=%{y}<br>Time_Decimal=%{marker.color}<extra></extra>\",\"ids\":[16.266666666666666],\"legendgroup\":\"\",\"marker\":{\"color\":[16.266666666666666],\"coloraxis\":\"coloraxis\",\"pattern\":{\"shape\":\"\"}},\"name\":\"\",\"offsetgroup\":\"\",\"orientation\":\"v\",\"showlegend\":false,\"textposition\":\"auto\",\"x\":[\"employee_2\"],\"xaxis\":\"x\",\"y\":[0.033],\"yaxis\":\"y\",\"type\":\"bar\"}],\"name\":\"employee_2\"},{\"data\":[{\"alignmentgroup\":\"True\",\"hovertemplate\":\"Name=%{x}<br>Whole_Body_Dose=%{y}<br>Time_Decimal=%{marker.color}<extra></extra>\",\"ids\":[16.21666666666667],\"legendgroup\":\"\",\"marker\":{\"color\":[16.21666666666667],\"coloraxis\":\"coloraxis\",\"pattern\":{\"shape\":\"\"}},\"name\":\"\",\"offsetgroup\":\"\",\"orientation\":\"v\",\"showlegend\":false,\"textposition\":\"auto\",\"x\":[\"employee_8\"],\"xaxis\":\"x\",\"y\":[0.034],\"yaxis\":\"y\",\"type\":\"bar\"}],\"name\":\"employee_8\"},{\"data\":[{\"alignmentgroup\":\"True\",\"hovertemplate\":\"Name=%{x}<br>Whole_Body_Dose=%{y}<br>Time_Decimal=%{marker.color}<extra></extra>\",\"ids\":[12.533333333333335],\"legendgroup\":\"\",\"marker\":{\"color\":[12.533333333333335],\"coloraxis\":\"coloraxis\",\"pattern\":{\"shape\":\"\"}},\"name\":\"\",\"offsetgroup\":\"\",\"orientation\":\"v\",\"showlegend\":false,\"textposition\":\"auto\",\"x\":[\"employee_5\"],\"xaxis\":\"x\",\"y\":[0.022],\"yaxis\":\"y\",\"type\":\"bar\"}],\"name\":\"employee_5\"},{\"data\":[{\"alignmentgroup\":\"True\",\"hovertemplate\":\"Name=%{x}<br>Whole_Body_Dose=%{y}<br>Time_Decimal=%{marker.color}<extra></extra>\",\"ids\":[8.933333333333334],\"legendgroup\":\"\",\"marker\":{\"color\":[8.933333333333334],\"coloraxis\":\"coloraxis\",\"pattern\":{\"shape\":\"\"}},\"name\":\"\",\"offsetgroup\":\"\",\"orientation\":\"v\",\"showlegend\":false,\"textposition\":\"auto\",\"x\":[\"employee_13\"],\"xaxis\":\"x\",\"y\":[0.035],\"yaxis\":\"y\",\"type\":\"bar\"}],\"name\":\"employee_13\"},{\"data\":[{\"alignmentgroup\":\"True\",\"hovertemplate\":\"Name=%{x}<br>Whole_Body_Dose=%{y}<br>Time_Decimal=%{marker.color}<extra></extra>\",\"ids\":[8.933333333333334],\"legendgroup\":\"\",\"marker\":{\"color\":[8.933333333333334],\"coloraxis\":\"coloraxis\",\"pattern\":{\"shape\":\"\"}},\"name\":\"\",\"offsetgroup\":\"\",\"orientation\":\"v\",\"showlegend\":false,\"textposition\":\"auto\",\"x\":[\"employee_22\"],\"xaxis\":\"x\",\"y\":[0.022],\"yaxis\":\"y\",\"type\":\"bar\"}],\"name\":\"employee_22\"},{\"data\":[{\"alignmentgroup\":\"True\",\"hovertemplate\":\"Name=%{x}<br>Whole_Body_Dose=%{y}<br>Time_Decimal=%{marker.color}<extra></extra>\",\"ids\":[7.95],\"legendgroup\":\"\",\"marker\":{\"color\":[7.95],\"coloraxis\":\"coloraxis\",\"pattern\":{\"shape\":\"\"}},\"name\":\"\",\"offsetgroup\":\"\",\"orientation\":\"v\",\"showlegend\":false,\"textposition\":\"auto\",\"x\":[\"employee_7\"],\"xaxis\":\"x\",\"y\":[0.009000000000000001],\"yaxis\":\"y\",\"type\":\"bar\"}],\"name\":\"employee_7\"},{\"data\":[{\"alignmentgroup\":\"True\",\"hovertemplate\":\"Name=%{x}<br>Whole_Body_Dose=%{y}<br>Time_Decimal=%{marker.color}<extra></extra>\",\"ids\":[7.8],\"legendgroup\":\"\",\"marker\":{\"color\":[7.8],\"coloraxis\":\"coloraxis\",\"pattern\":{\"shape\":\"\"}},\"name\":\"\",\"offsetgroup\":\"\",\"orientation\":\"v\",\"showlegend\":false,\"textposition\":\"auto\",\"x\":[\"employee_14\"],\"xaxis\":\"x\",\"y\":[0.011],\"yaxis\":\"y\",\"type\":\"bar\"}],\"name\":\"employee_14\"},{\"data\":[{\"alignmentgroup\":\"True\",\"hovertemplate\":\"Name=%{x}<br>Whole_Body_Dose=%{y}<br>Time_Decimal=%{marker.color}<extra></extra>\",\"ids\":[5.433333333333334],\"legendgroup\":\"\",\"marker\":{\"color\":[5.433333333333334],\"coloraxis\":\"coloraxis\",\"pattern\":{\"shape\":\"\"}},\"name\":\"\",\"offsetgroup\":\"\",\"orientation\":\"v\",\"showlegend\":false,\"textposition\":\"auto\",\"x\":[\"employee_19\"],\"xaxis\":\"x\",\"y\":[0.02],\"yaxis\":\"y\",\"type\":\"bar\"}],\"name\":\"employee_19\"},{\"data\":[{\"alignmentgroup\":\"True\",\"hovertemplate\":\"Name=%{x}<br>Whole_Body_Dose=%{y}<br>Time_Decimal=%{marker.color}<extra></extra>\",\"ids\":[1.1333333333333333],\"legendgroup\":\"\",\"marker\":{\"color\":[1.1333333333333333],\"coloraxis\":\"coloraxis\",\"pattern\":{\"shape\":\"\"}},\"name\":\"\",\"offsetgroup\":\"\",\"orientation\":\"v\",\"showlegend\":false,\"textposition\":\"auto\",\"x\":[\"employee_17\"],\"xaxis\":\"x\",\"y\":[0.005],\"yaxis\":\"y\",\"type\":\"bar\"}],\"name\":\"employee_17\"}]);\n",
       "                        }).then(function(){\n",
       "                            \n",
       "var gd = document.getElementById('f18dfeba-b7be-4017-bcbb-517005b53b0d');\n",
       "var x = new MutationObserver(function (mutations, observer) {{\n",
       "        var display = window.getComputedStyle(gd).display;\n",
       "        if (!display || display === 'none') {{\n",
       "            console.log([gd, 'removed!']);\n",
       "            Plotly.purge(gd);\n",
       "            observer.disconnect();\n",
       "        }}\n",
       "}});\n",
       "\n",
       "// Listen for the removal of the full notebook cells\n",
       "var notebookContainer = gd.closest('#notebook-container');\n",
       "if (notebookContainer) {{\n",
       "    x.observe(notebookContainer, {childList: true});\n",
       "}}\n",
       "\n",
       "// Listen for the clearing of the current output cell\n",
       "var outputEl = gd.closest('.output');\n",
       "if (outputEl) {{\n",
       "    x.observe(outputEl, {childList: true});\n",
       "}}\n",
       "\n",
       "                        })                };                });            </script>        </div>"
      ]
     },
     "metadata": {},
     "output_type": "display_data"
    },
    {
     "data": {
      "application/vnd.plotly.v1+json": {
       "config": {
        "plotlyServerURL": "https://plot.ly"
       },
       "data": [
        {
         "alignmentgroup": "True",
         "hovertemplate": "Name=%{x}<br>Whole_Body_Dose=%{y}<br>Time_Decimal=%{marker.color}<extra></extra>",
         "ids": [
          84.83333333333333
         ],
         "legendgroup": "",
         "marker": {
          "color": [
           84.83333333333333
          ],
          "coloraxis": "coloraxis",
          "pattern": {
           "shape": ""
          }
         },
         "name": "",
         "offsetgroup": "",
         "orientation": "v",
         "showlegend": false,
         "textposition": "auto",
         "type": "bar",
         "x": [
          "employee_11"
         ],
         "xaxis": "x",
         "y": [
          0.254
         ],
         "yaxis": "y"
        }
       ],
       "frames": [
        {
         "data": [
          {
           "alignmentgroup": "True",
           "hovertemplate": "Name=%{x}<br>Whole_Body_Dose=%{y}<br>Time_Decimal=%{marker.color}<extra></extra>",
           "ids": [
            84.83333333333333
           ],
           "legendgroup": "",
           "marker": {
            "color": [
             84.83333333333333
            ],
            "coloraxis": "coloraxis",
            "pattern": {
             "shape": ""
            }
           },
           "name": "",
           "offsetgroup": "",
           "orientation": "v",
           "showlegend": false,
           "textposition": "auto",
           "type": "bar",
           "x": [
            "employee_11"
           ],
           "xaxis": "x",
           "y": [
            0.254
           ],
           "yaxis": "y"
          }
         ],
         "name": "employee_11"
        },
        {
         "data": [
          {
           "alignmentgroup": "True",
           "hovertemplate": "Name=%{x}<br>Whole_Body_Dose=%{y}<br>Time_Decimal=%{marker.color}<extra></extra>",
           "ids": [
            61.7
           ],
           "legendgroup": "",
           "marker": {
            "color": [
             61.7
            ],
            "coloraxis": "coloraxis",
            "pattern": {
             "shape": ""
            }
           },
           "name": "",
           "offsetgroup": "",
           "orientation": "v",
           "showlegend": false,
           "textposition": "auto",
           "type": "bar",
           "x": [
            "employee_14"
           ],
           "xaxis": "x",
           "y": [
            0.149
           ],
           "yaxis": "y"
          }
         ],
         "name": "employee_14"
        },
        {
         "data": [
          {
           "alignmentgroup": "True",
           "hovertemplate": "Name=%{x}<br>Whole_Body_Dose=%{y}<br>Time_Decimal=%{marker.color}<extra></extra>",
           "ids": [
            61.63333333333333
           ],
           "legendgroup": "",
           "marker": {
            "color": [
             61.63333333333333
            ],
            "coloraxis": "coloraxis",
            "pattern": {
             "shape": ""
            }
           },
           "name": "",
           "offsetgroup": "",
           "orientation": "v",
           "showlegend": false,
           "textposition": "auto",
           "type": "bar",
           "x": [
            "employee_16"
           ],
           "xaxis": "x",
           "y": [
            0.099
           ],
           "yaxis": "y"
          }
         ],
         "name": "employee_16"
        },
        {
         "data": [
          {
           "alignmentgroup": "True",
           "hovertemplate": "Name=%{x}<br>Whole_Body_Dose=%{y}<br>Time_Decimal=%{marker.color}<extra></extra>",
           "ids": [
            61.45
           ],
           "legendgroup": "",
           "marker": {
            "color": [
             61.45
            ],
            "coloraxis": "coloraxis",
            "pattern": {
             "shape": ""
            }
           },
           "name": "",
           "offsetgroup": "",
           "orientation": "v",
           "showlegend": false,
           "textposition": "auto",
           "type": "bar",
           "x": [
            "employee_21"
           ],
           "xaxis": "x",
           "y": [
            0.16
           ],
           "yaxis": "y"
          }
         ],
         "name": "employee_21"
        },
        {
         "data": [
          {
           "alignmentgroup": "True",
           "hovertemplate": "Name=%{x}<br>Whole_Body_Dose=%{y}<br>Time_Decimal=%{marker.color}<extra></extra>",
           "ids": [
            54.3
           ],
           "legendgroup": "",
           "marker": {
            "color": [
             54.3
            ],
            "coloraxis": "coloraxis",
            "pattern": {
             "shape": ""
            }
           },
           "name": "",
           "offsetgroup": "",
           "orientation": "v",
           "showlegend": false,
           "textposition": "auto",
           "type": "bar",
           "x": [
            "employee_18"
           ],
           "xaxis": "x",
           "y": [
            0.187
           ],
           "yaxis": "y"
          }
         ],
         "name": "employee_18"
        },
        {
         "data": [
          {
           "alignmentgroup": "True",
           "hovertemplate": "Name=%{x}<br>Whole_Body_Dose=%{y}<br>Time_Decimal=%{marker.color}<extra></extra>",
           "ids": [
            54.1
           ],
           "legendgroup": "",
           "marker": {
            "color": [
             54.1
            ],
            "coloraxis": "coloraxis",
            "pattern": {
             "shape": ""
            }
           },
           "name": "",
           "offsetgroup": "",
           "orientation": "v",
           "showlegend": false,
           "textposition": "auto",
           "type": "bar",
           "x": [
            "employee_8"
           ],
           "xaxis": "x",
           "y": [
            0.091
           ],
           "yaxis": "y"
          }
         ],
         "name": "employee_8"
        },
        {
         "data": [
          {
           "alignmentgroup": "True",
           "hovertemplate": "Name=%{x}<br>Whole_Body_Dose=%{y}<br>Time_Decimal=%{marker.color}<extra></extra>",
           "ids": [
            53.78333333333333
           ],
           "legendgroup": "",
           "marker": {
            "color": [
             53.78333333333333
            ],
            "coloraxis": "coloraxis",
            "pattern": {
             "shape": ""
            }
           },
           "name": "",
           "offsetgroup": "",
           "orientation": "v",
           "showlegend": false,
           "textposition": "auto",
           "type": "bar",
           "x": [
            "employee_9"
           ],
           "xaxis": "x",
           "y": [
            0.174
           ],
           "yaxis": "y"
          }
         ],
         "name": "employee_9"
        },
        {
         "data": [
          {
           "alignmentgroup": "True",
           "hovertemplate": "Name=%{x}<br>Whole_Body_Dose=%{y}<br>Time_Decimal=%{marker.color}<extra></extra>",
           "ids": [
            47.53333333333333
           ],
           "legendgroup": "",
           "marker": {
            "color": [
             47.53333333333333
            ],
            "coloraxis": "coloraxis",
            "pattern": {
             "shape": ""
            }
           },
           "name": "",
           "offsetgroup": "",
           "orientation": "v",
           "showlegend": false,
           "textposition": "auto",
           "type": "bar",
           "x": [
            "employee_26"
           ],
           "xaxis": "x",
           "y": [
            0.133
           ],
           "yaxis": "y"
          }
         ],
         "name": "employee_26"
        },
        {
         "data": [
          {
           "alignmentgroup": "True",
           "hovertemplate": "Name=%{x}<br>Whole_Body_Dose=%{y}<br>Time_Decimal=%{marker.color}<extra></extra>",
           "ids": [
            46.53333333333333
           ],
           "legendgroup": "",
           "marker": {
            "color": [
             46.53333333333333
            ],
            "coloraxis": "coloraxis",
            "pattern": {
             "shape": ""
            }
           },
           "name": "",
           "offsetgroup": "",
           "orientation": "v",
           "showlegend": false,
           "textposition": "auto",
           "type": "bar",
           "x": [
            "employee_2"
           ],
           "xaxis": "x",
           "y": [
            0.139
           ],
           "yaxis": "y"
          }
         ],
         "name": "employee_2"
        },
        {
         "data": [
          {
           "alignmentgroup": "True",
           "hovertemplate": "Name=%{x}<br>Whole_Body_Dose=%{y}<br>Time_Decimal=%{marker.color}<extra></extra>",
           "ids": [
            31.71666666666667
           ],
           "legendgroup": "",
           "marker": {
            "color": [
             31.71666666666667
            ],
            "coloraxis": "coloraxis",
            "pattern": {
             "shape": ""
            }
           },
           "name": "",
           "offsetgroup": "",
           "orientation": "v",
           "showlegend": false,
           "textposition": "auto",
           "type": "bar",
           "x": [
            "employee_10"
           ],
           "xaxis": "x",
           "y": [
            0.036000000000000004
           ],
           "yaxis": "y"
          }
         ],
         "name": "employee_10"
        },
        {
         "data": [
          {
           "alignmentgroup": "True",
           "hovertemplate": "Name=%{x}<br>Whole_Body_Dose=%{y}<br>Time_Decimal=%{marker.color}<extra></extra>",
           "ids": [
            31.383333333333333
           ],
           "legendgroup": "",
           "marker": {
            "color": [
             31.383333333333333
            ],
            "coloraxis": "coloraxis",
            "pattern": {
             "shape": ""
            }
           },
           "name": "",
           "offsetgroup": "",
           "orientation": "v",
           "showlegend": false,
           "textposition": "auto",
           "type": "bar",
           "x": [
            "employee_1"
           ],
           "xaxis": "x",
           "y": [
            0.077
           ],
           "yaxis": "y"
          }
         ],
         "name": "employee_1"
        },
        {
         "data": [
          {
           "alignmentgroup": "True",
           "hovertemplate": "Name=%{x}<br>Whole_Body_Dose=%{y}<br>Time_Decimal=%{marker.color}<extra></extra>",
           "ids": [
            28.733333333333334
           ],
           "legendgroup": "",
           "marker": {
            "color": [
             28.733333333333334
            ],
            "coloraxis": "coloraxis",
            "pattern": {
             "shape": ""
            }
           },
           "name": "",
           "offsetgroup": "",
           "orientation": "v",
           "showlegend": false,
           "textposition": "auto",
           "type": "bar",
           "x": [
            "employee_3"
           ],
           "xaxis": "x",
           "y": [
            0.106
           ],
           "yaxis": "y"
          }
         ],
         "name": "employee_3"
        },
        {
         "data": [
          {
           "alignmentgroup": "True",
           "hovertemplate": "Name=%{x}<br>Whole_Body_Dose=%{y}<br>Time_Decimal=%{marker.color}<extra></extra>",
           "ids": [
            25.6
           ],
           "legendgroup": "",
           "marker": {
            "color": [
             25.6
            ],
            "coloraxis": "coloraxis",
            "pattern": {
             "shape": ""
            }
           },
           "name": "",
           "offsetgroup": "",
           "orientation": "v",
           "showlegend": false,
           "textposition": "auto",
           "type": "bar",
           "x": [
            "employee_15"
           ],
           "xaxis": "x",
           "y": [
            0.085
           ],
           "yaxis": "y"
          }
         ],
         "name": "employee_15"
        },
        {
         "data": [
          {
           "alignmentgroup": "True",
           "hovertemplate": "Name=%{x}<br>Whole_Body_Dose=%{y}<br>Time_Decimal=%{marker.color}<extra></extra>",
           "ids": [
            22.78333333333333
           ],
           "legendgroup": "",
           "marker": {
            "color": [
             22.78333333333333
            ],
            "coloraxis": "coloraxis",
            "pattern": {
             "shape": ""
            }
           },
           "name": "",
           "offsetgroup": "",
           "orientation": "v",
           "showlegend": false,
           "textposition": "auto",
           "type": "bar",
           "x": [
            "employee_19"
           ],
           "xaxis": "x",
           "y": [
            0.017
           ],
           "yaxis": "y"
          }
         ],
         "name": "employee_19"
        },
        {
         "data": [
          {
           "alignmentgroup": "True",
           "hovertemplate": "Name=%{x}<br>Whole_Body_Dose=%{y}<br>Time_Decimal=%{marker.color}<extra></extra>",
           "ids": [
            17.75
           ],
           "legendgroup": "",
           "marker": {
            "color": [
             17.75
            ],
            "coloraxis": "coloraxis",
            "pattern": {
             "shape": ""
            }
           },
           "name": "",
           "offsetgroup": "",
           "orientation": "v",
           "showlegend": false,
           "textposition": "auto",
           "type": "bar",
           "x": [
            "employee_24"
           ],
           "xaxis": "x",
           "y": [
            0.064
           ],
           "yaxis": "y"
          }
         ],
         "name": "employee_24"
        },
        {
         "data": [
          {
           "alignmentgroup": "True",
           "hovertemplate": "Name=%{x}<br>Whole_Body_Dose=%{y}<br>Time_Decimal=%{marker.color}<extra></extra>",
           "ids": [
            17.633333333333333
           ],
           "legendgroup": "",
           "marker": {
            "color": [
             17.633333333333333
            ],
            "coloraxis": "coloraxis",
            "pattern": {
             "shape": ""
            }
           },
           "name": "",
           "offsetgroup": "",
           "orientation": "v",
           "showlegend": false,
           "textposition": "auto",
           "type": "bar",
           "x": [
            "employee_6"
           ],
           "xaxis": "x",
           "y": [
            0.038
           ],
           "yaxis": "y"
          }
         ],
         "name": "employee_6"
        },
        {
         "data": [
          {
           "alignmentgroup": "True",
           "hovertemplate": "Name=%{x}<br>Whole_Body_Dose=%{y}<br>Time_Decimal=%{marker.color}<extra></extra>",
           "ids": [
            16.53333333333333
           ],
           "legendgroup": "",
           "marker": {
            "color": [
             16.53333333333333
            ],
            "coloraxis": "coloraxis",
            "pattern": {
             "shape": ""
            }
           },
           "name": "",
           "offsetgroup": "",
           "orientation": "v",
           "showlegend": false,
           "textposition": "auto",
           "type": "bar",
           "x": [
            "employee_13"
           ],
           "xaxis": "x",
           "y": [
            0.048
           ],
           "yaxis": "y"
          }
         ],
         "name": "employee_13"
        },
        {
         "data": [
          {
           "alignmentgroup": "True",
           "hovertemplate": "Name=%{x}<br>Whole_Body_Dose=%{y}<br>Time_Decimal=%{marker.color}<extra></extra>",
           "ids": [
            14.916666666666668
           ],
           "legendgroup": "",
           "marker": {
            "color": [
             14.916666666666668
            ],
            "coloraxis": "coloraxis",
            "pattern": {
             "shape": ""
            }
           },
           "name": "",
           "offsetgroup": "",
           "orientation": "v",
           "showlegend": false,
           "textposition": "auto",
           "type": "bar",
           "x": [
            "employee_20"
           ],
           "xaxis": "x",
           "y": [
            0.035
           ],
           "yaxis": "y"
          }
         ],
         "name": "employee_20"
        },
        {
         "data": [
          {
           "alignmentgroup": "True",
           "hovertemplate": "Name=%{x}<br>Whole_Body_Dose=%{y}<br>Time_Decimal=%{marker.color}<extra></extra>",
           "ids": [
            14.75
           ],
           "legendgroup": "",
           "marker": {
            "color": [
             14.75
            ],
            "coloraxis": "coloraxis",
            "pattern": {
             "shape": ""
            }
           },
           "name": "",
           "offsetgroup": "",
           "orientation": "v",
           "showlegend": false,
           "textposition": "auto",
           "type": "bar",
           "x": [
            "employee_4"
           ],
           "xaxis": "x",
           "y": [
            0.03
           ],
           "yaxis": "y"
          }
         ],
         "name": "employee_4"
        },
        {
         "data": [
          {
           "alignmentgroup": "True",
           "hovertemplate": "Name=%{x}<br>Whole_Body_Dose=%{y}<br>Time_Decimal=%{marker.color}<extra></extra>",
           "ids": [
            12.783333333333333
           ],
           "legendgroup": "",
           "marker": {
            "color": [
             12.783333333333333
            ],
            "coloraxis": "coloraxis",
            "pattern": {
             "shape": ""
            }
           },
           "name": "",
           "offsetgroup": "",
           "orientation": "v",
           "showlegend": false,
           "textposition": "auto",
           "type": "bar",
           "x": [
            "employee_23"
           ],
           "xaxis": "x",
           "y": [
            0.017
           ],
           "yaxis": "y"
          }
         ],
         "name": "employee_23"
        },
        {
         "data": [
          {
           "alignmentgroup": "True",
           "hovertemplate": "Name=%{x}<br>Whole_Body_Dose=%{y}<br>Time_Decimal=%{marker.color}<extra></extra>",
           "ids": [
            8.466666666666667
           ],
           "legendgroup": "",
           "marker": {
            "color": [
             8.466666666666667
            ],
            "coloraxis": "coloraxis",
            "pattern": {
             "shape": ""
            }
           },
           "name": "",
           "offsetgroup": "",
           "orientation": "v",
           "showlegend": false,
           "textposition": "auto",
           "type": "bar",
           "x": [
            "employee_17"
           ],
           "xaxis": "x",
           "y": [
            0.009000000000000001
           ],
           "yaxis": "y"
          }
         ],
         "name": "employee_17"
        },
        {
         "data": [
          {
           "alignmentgroup": "True",
           "hovertemplate": "Name=%{x}<br>Whole_Body_Dose=%{y}<br>Time_Decimal=%{marker.color}<extra></extra>",
           "ids": [
            8.266666666666667
           ],
           "legendgroup": "",
           "marker": {
            "color": [
             8.266666666666667
            ],
            "coloraxis": "coloraxis",
            "pattern": {
             "shape": ""
            }
           },
           "name": "",
           "offsetgroup": "",
           "orientation": "v",
           "showlegend": false,
           "textposition": "auto",
           "type": "bar",
           "x": [
            "employee_12"
           ],
           "xaxis": "x",
           "y": [
            0.011
           ],
           "yaxis": "y"
          }
         ],
         "name": "employee_12"
        },
        {
         "data": [
          {
           "alignmentgroup": "True",
           "hovertemplate": "Name=%{x}<br>Whole_Body_Dose=%{y}<br>Time_Decimal=%{marker.color}<extra></extra>",
           "ids": [
            8.083333333333334
           ],
           "legendgroup": "",
           "marker": {
            "color": [
             8.083333333333334
            ],
            "coloraxis": "coloraxis",
            "pattern": {
             "shape": ""
            }
           },
           "name": "",
           "offsetgroup": "",
           "orientation": "v",
           "showlegend": false,
           "textposition": "auto",
           "type": "bar",
           "x": [
            "employee_7"
           ],
           "xaxis": "x",
           "y": [
            0.015
           ],
           "yaxis": "y"
          }
         ],
         "name": "employee_7"
        },
        {
         "data": [
          {
           "alignmentgroup": "True",
           "hovertemplate": "Name=%{x}<br>Whole_Body_Dose=%{y}<br>Time_Decimal=%{marker.color}<extra></extra>",
           "ids": [
            7.883333333333334
           ],
           "legendgroup": "",
           "marker": {
            "color": [
             7.883333333333334
            ],
            "coloraxis": "coloraxis",
            "pattern": {
             "shape": ""
            }
           },
           "name": "",
           "offsetgroup": "",
           "orientation": "v",
           "showlegend": false,
           "textposition": "auto",
           "type": "bar",
           "x": [
            "employee_5"
           ],
           "xaxis": "x",
           "y": [
            0.044000000000000004
           ],
           "yaxis": "y"
          }
         ],
         "name": "employee_5"
        },
        {
         "data": [
          {
           "alignmentgroup": "True",
           "hovertemplate": "Name=%{x}<br>Whole_Body_Dose=%{y}<br>Time_Decimal=%{marker.color}<extra></extra>",
           "ids": [
            5.233333333333333
           ],
           "legendgroup": "",
           "marker": {
            "color": [
             5.233333333333333
            ],
            "coloraxis": "coloraxis",
            "pattern": {
             "shape": ""
            }
           },
           "name": "",
           "offsetgroup": "",
           "orientation": "v",
           "showlegend": false,
           "textposition": "auto",
           "type": "bar",
           "x": [
            "employee_25"
           ],
           "xaxis": "x",
           "y": [
            0.011
           ],
           "yaxis": "y"
          }
         ],
         "name": "employee_25"
        },
        {
         "data": [
          {
           "alignmentgroup": "True",
           "hovertemplate": "Name=%{x}<br>Whole_Body_Dose=%{y}<br>Time_Decimal=%{marker.color}<extra></extra>",
           "ids": [
            4.716666666666667
           ],
           "legendgroup": "",
           "marker": {
            "color": [
             4.716666666666667
            ],
            "coloraxis": "coloraxis",
            "pattern": {
             "shape": ""
            }
           },
           "name": "",
           "offsetgroup": "",
           "orientation": "v",
           "showlegend": false,
           "textposition": "auto",
           "type": "bar",
           "x": [
            "employee_22"
           ],
           "xaxis": "x",
           "y": [
            0.021
           ],
           "yaxis": "y"
          }
         ],
         "name": "employee_22"
        }
       ],
       "layout": {
        "barmode": "relative",
        "coloraxis": {
         "colorbar": {
          "title": {
           "text": "Time_Decimal"
          }
         },
         "colorscale": [
          [
           0,
           "#0d0887"
          ],
          [
           0.1111111111111111,
           "#46039f"
          ],
          [
           0.2222222222222222,
           "#7201a8"
          ],
          [
           0.3333333333333333,
           "#9c179e"
          ],
          [
           0.4444444444444444,
           "#bd3786"
          ],
          [
           0.5555555555555556,
           "#d8576b"
          ],
          [
           0.6666666666666666,
           "#ed7953"
          ],
          [
           0.7777777777777778,
           "#fb9f3a"
          ],
          [
           0.8888888888888888,
           "#fdca26"
          ],
          [
           1,
           "#f0f921"
          ]
         ]
        },
        "legend": {
         "tracegroupgap": 0
        },
        "margin": {
         "t": 60
        },
        "sliders": [
         {
          "active": 0,
          "currentvalue": {
           "prefix": "Name="
          },
          "len": 0.9,
          "pad": {
           "b": 10,
           "t": 60
          },
          "steps": [
           {
            "args": [
             [
              "employee_11"
             ],
             {
              "frame": {
               "duration": 0,
               "redraw": true
              },
              "fromcurrent": true,
              "mode": "immediate",
              "transition": {
               "duration": 0,
               "easing": "linear"
              }
             }
            ],
            "label": "employee_11",
            "method": "animate"
           },
           {
            "args": [
             [
              "employee_14"
             ],
             {
              "frame": {
               "duration": 0,
               "redraw": true
              },
              "fromcurrent": true,
              "mode": "immediate",
              "transition": {
               "duration": 0,
               "easing": "linear"
              }
             }
            ],
            "label": "employee_14",
            "method": "animate"
           },
           {
            "args": [
             [
              "employee_16"
             ],
             {
              "frame": {
               "duration": 0,
               "redraw": true
              },
              "fromcurrent": true,
              "mode": "immediate",
              "transition": {
               "duration": 0,
               "easing": "linear"
              }
             }
            ],
            "label": "employee_16",
            "method": "animate"
           },
           {
            "args": [
             [
              "employee_21"
             ],
             {
              "frame": {
               "duration": 0,
               "redraw": true
              },
              "fromcurrent": true,
              "mode": "immediate",
              "transition": {
               "duration": 0,
               "easing": "linear"
              }
             }
            ],
            "label": "employee_21",
            "method": "animate"
           },
           {
            "args": [
             [
              "employee_18"
             ],
             {
              "frame": {
               "duration": 0,
               "redraw": true
              },
              "fromcurrent": true,
              "mode": "immediate",
              "transition": {
               "duration": 0,
               "easing": "linear"
              }
             }
            ],
            "label": "employee_18",
            "method": "animate"
           },
           {
            "args": [
             [
              "employee_8"
             ],
             {
              "frame": {
               "duration": 0,
               "redraw": true
              },
              "fromcurrent": true,
              "mode": "immediate",
              "transition": {
               "duration": 0,
               "easing": "linear"
              }
             }
            ],
            "label": "employee_8",
            "method": "animate"
           },
           {
            "args": [
             [
              "employee_9"
             ],
             {
              "frame": {
               "duration": 0,
               "redraw": true
              },
              "fromcurrent": true,
              "mode": "immediate",
              "transition": {
               "duration": 0,
               "easing": "linear"
              }
             }
            ],
            "label": "employee_9",
            "method": "animate"
           },
           {
            "args": [
             [
              "employee_26"
             ],
             {
              "frame": {
               "duration": 0,
               "redraw": true
              },
              "fromcurrent": true,
              "mode": "immediate",
              "transition": {
               "duration": 0,
               "easing": "linear"
              }
             }
            ],
            "label": "employee_26",
            "method": "animate"
           },
           {
            "args": [
             [
              "employee_2"
             ],
             {
              "frame": {
               "duration": 0,
               "redraw": true
              },
              "fromcurrent": true,
              "mode": "immediate",
              "transition": {
               "duration": 0,
               "easing": "linear"
              }
             }
            ],
            "label": "employee_2",
            "method": "animate"
           },
           {
            "args": [
             [
              "employee_10"
             ],
             {
              "frame": {
               "duration": 0,
               "redraw": true
              },
              "fromcurrent": true,
              "mode": "immediate",
              "transition": {
               "duration": 0,
               "easing": "linear"
              }
             }
            ],
            "label": "employee_10",
            "method": "animate"
           },
           {
            "args": [
             [
              "employee_1"
             ],
             {
              "frame": {
               "duration": 0,
               "redraw": true
              },
              "fromcurrent": true,
              "mode": "immediate",
              "transition": {
               "duration": 0,
               "easing": "linear"
              }
             }
            ],
            "label": "employee_1",
            "method": "animate"
           },
           {
            "args": [
             [
              "employee_3"
             ],
             {
              "frame": {
               "duration": 0,
               "redraw": true
              },
              "fromcurrent": true,
              "mode": "immediate",
              "transition": {
               "duration": 0,
               "easing": "linear"
              }
             }
            ],
            "label": "employee_3",
            "method": "animate"
           },
           {
            "args": [
             [
              "employee_15"
             ],
             {
              "frame": {
               "duration": 0,
               "redraw": true
              },
              "fromcurrent": true,
              "mode": "immediate",
              "transition": {
               "duration": 0,
               "easing": "linear"
              }
             }
            ],
            "label": "employee_15",
            "method": "animate"
           },
           {
            "args": [
             [
              "employee_19"
             ],
             {
              "frame": {
               "duration": 0,
               "redraw": true
              },
              "fromcurrent": true,
              "mode": "immediate",
              "transition": {
               "duration": 0,
               "easing": "linear"
              }
             }
            ],
            "label": "employee_19",
            "method": "animate"
           },
           {
            "args": [
             [
              "employee_24"
             ],
             {
              "frame": {
               "duration": 0,
               "redraw": true
              },
              "fromcurrent": true,
              "mode": "immediate",
              "transition": {
               "duration": 0,
               "easing": "linear"
              }
             }
            ],
            "label": "employee_24",
            "method": "animate"
           },
           {
            "args": [
             [
              "employee_6"
             ],
             {
              "frame": {
               "duration": 0,
               "redraw": true
              },
              "fromcurrent": true,
              "mode": "immediate",
              "transition": {
               "duration": 0,
               "easing": "linear"
              }
             }
            ],
            "label": "employee_6",
            "method": "animate"
           },
           {
            "args": [
             [
              "employee_13"
             ],
             {
              "frame": {
               "duration": 0,
               "redraw": true
              },
              "fromcurrent": true,
              "mode": "immediate",
              "transition": {
               "duration": 0,
               "easing": "linear"
              }
             }
            ],
            "label": "employee_13",
            "method": "animate"
           },
           {
            "args": [
             [
              "employee_20"
             ],
             {
              "frame": {
               "duration": 0,
               "redraw": true
              },
              "fromcurrent": true,
              "mode": "immediate",
              "transition": {
               "duration": 0,
               "easing": "linear"
              }
             }
            ],
            "label": "employee_20",
            "method": "animate"
           },
           {
            "args": [
             [
              "employee_4"
             ],
             {
              "frame": {
               "duration": 0,
               "redraw": true
              },
              "fromcurrent": true,
              "mode": "immediate",
              "transition": {
               "duration": 0,
               "easing": "linear"
              }
             }
            ],
            "label": "employee_4",
            "method": "animate"
           },
           {
            "args": [
             [
              "employee_23"
             ],
             {
              "frame": {
               "duration": 0,
               "redraw": true
              },
              "fromcurrent": true,
              "mode": "immediate",
              "transition": {
               "duration": 0,
               "easing": "linear"
              }
             }
            ],
            "label": "employee_23",
            "method": "animate"
           },
           {
            "args": [
             [
              "employee_17"
             ],
             {
              "frame": {
               "duration": 0,
               "redraw": true
              },
              "fromcurrent": true,
              "mode": "immediate",
              "transition": {
               "duration": 0,
               "easing": "linear"
              }
             }
            ],
            "label": "employee_17",
            "method": "animate"
           },
           {
            "args": [
             [
              "employee_12"
             ],
             {
              "frame": {
               "duration": 0,
               "redraw": true
              },
              "fromcurrent": true,
              "mode": "immediate",
              "transition": {
               "duration": 0,
               "easing": "linear"
              }
             }
            ],
            "label": "employee_12",
            "method": "animate"
           },
           {
            "args": [
             [
              "employee_7"
             ],
             {
              "frame": {
               "duration": 0,
               "redraw": true
              },
              "fromcurrent": true,
              "mode": "immediate",
              "transition": {
               "duration": 0,
               "easing": "linear"
              }
             }
            ],
            "label": "employee_7",
            "method": "animate"
           },
           {
            "args": [
             [
              "employee_5"
             ],
             {
              "frame": {
               "duration": 0,
               "redraw": true
              },
              "fromcurrent": true,
              "mode": "immediate",
              "transition": {
               "duration": 0,
               "easing": "linear"
              }
             }
            ],
            "label": "employee_5",
            "method": "animate"
           },
           {
            "args": [
             [
              "employee_25"
             ],
             {
              "frame": {
               "duration": 0,
               "redraw": true
              },
              "fromcurrent": true,
              "mode": "immediate",
              "transition": {
               "duration": 0,
               "easing": "linear"
              }
             }
            ],
            "label": "employee_25",
            "method": "animate"
           },
           {
            "args": [
             [
              "employee_22"
             ],
             {
              "frame": {
               "duration": 0,
               "redraw": true
              },
              "fromcurrent": true,
              "mode": "immediate",
              "transition": {
               "duration": 0,
               "easing": "linear"
              }
             }
            ],
            "label": "employee_22",
            "method": "animate"
           }
          ],
          "x": 0.1,
          "xanchor": "left",
          "y": 0,
          "yanchor": "top"
         }
        ],
        "template": {
         "data": {
          "bar": [
           {
            "error_x": {
             "color": "#2a3f5f"
            },
            "error_y": {
             "color": "#2a3f5f"
            },
            "marker": {
             "line": {
              "color": "#E5ECF6",
              "width": 0.5
             },
             "pattern": {
              "fillmode": "overlay",
              "size": 10,
              "solidity": 0.2
             }
            },
            "type": "bar"
           }
          ],
          "barpolar": [
           {
            "marker": {
             "line": {
              "color": "#E5ECF6",
              "width": 0.5
             },
             "pattern": {
              "fillmode": "overlay",
              "size": 10,
              "solidity": 0.2
             }
            },
            "type": "barpolar"
           }
          ],
          "carpet": [
           {
            "aaxis": {
             "endlinecolor": "#2a3f5f",
             "gridcolor": "white",
             "linecolor": "white",
             "minorgridcolor": "white",
             "startlinecolor": "#2a3f5f"
            },
            "baxis": {
             "endlinecolor": "#2a3f5f",
             "gridcolor": "white",
             "linecolor": "white",
             "minorgridcolor": "white",
             "startlinecolor": "#2a3f5f"
            },
            "type": "carpet"
           }
          ],
          "choropleth": [
           {
            "colorbar": {
             "outlinewidth": 0,
             "ticks": ""
            },
            "type": "choropleth"
           }
          ],
          "contour": [
           {
            "colorbar": {
             "outlinewidth": 0,
             "ticks": ""
            },
            "colorscale": [
             [
              0,
              "#0d0887"
             ],
             [
              0.1111111111111111,
              "#46039f"
             ],
             [
              0.2222222222222222,
              "#7201a8"
             ],
             [
              0.3333333333333333,
              "#9c179e"
             ],
             [
              0.4444444444444444,
              "#bd3786"
             ],
             [
              0.5555555555555556,
              "#d8576b"
             ],
             [
              0.6666666666666666,
              "#ed7953"
             ],
             [
              0.7777777777777778,
              "#fb9f3a"
             ],
             [
              0.8888888888888888,
              "#fdca26"
             ],
             [
              1,
              "#f0f921"
             ]
            ],
            "type": "contour"
           }
          ],
          "contourcarpet": [
           {
            "colorbar": {
             "outlinewidth": 0,
             "ticks": ""
            },
            "type": "contourcarpet"
           }
          ],
          "heatmap": [
           {
            "colorbar": {
             "outlinewidth": 0,
             "ticks": ""
            },
            "colorscale": [
             [
              0,
              "#0d0887"
             ],
             [
              0.1111111111111111,
              "#46039f"
             ],
             [
              0.2222222222222222,
              "#7201a8"
             ],
             [
              0.3333333333333333,
              "#9c179e"
             ],
             [
              0.4444444444444444,
              "#bd3786"
             ],
             [
              0.5555555555555556,
              "#d8576b"
             ],
             [
              0.6666666666666666,
              "#ed7953"
             ],
             [
              0.7777777777777778,
              "#fb9f3a"
             ],
             [
              0.8888888888888888,
              "#fdca26"
             ],
             [
              1,
              "#f0f921"
             ]
            ],
            "type": "heatmap"
           }
          ],
          "heatmapgl": [
           {
            "colorbar": {
             "outlinewidth": 0,
             "ticks": ""
            },
            "colorscale": [
             [
              0,
              "#0d0887"
             ],
             [
              0.1111111111111111,
              "#46039f"
             ],
             [
              0.2222222222222222,
              "#7201a8"
             ],
             [
              0.3333333333333333,
              "#9c179e"
             ],
             [
              0.4444444444444444,
              "#bd3786"
             ],
             [
              0.5555555555555556,
              "#d8576b"
             ],
             [
              0.6666666666666666,
              "#ed7953"
             ],
             [
              0.7777777777777778,
              "#fb9f3a"
             ],
             [
              0.8888888888888888,
              "#fdca26"
             ],
             [
              1,
              "#f0f921"
             ]
            ],
            "type": "heatmapgl"
           }
          ],
          "histogram": [
           {
            "marker": {
             "pattern": {
              "fillmode": "overlay",
              "size": 10,
              "solidity": 0.2
             }
            },
            "type": "histogram"
           }
          ],
          "histogram2d": [
           {
            "colorbar": {
             "outlinewidth": 0,
             "ticks": ""
            },
            "colorscale": [
             [
              0,
              "#0d0887"
             ],
             [
              0.1111111111111111,
              "#46039f"
             ],
             [
              0.2222222222222222,
              "#7201a8"
             ],
             [
              0.3333333333333333,
              "#9c179e"
             ],
             [
              0.4444444444444444,
              "#bd3786"
             ],
             [
              0.5555555555555556,
              "#d8576b"
             ],
             [
              0.6666666666666666,
              "#ed7953"
             ],
             [
              0.7777777777777778,
              "#fb9f3a"
             ],
             [
              0.8888888888888888,
              "#fdca26"
             ],
             [
              1,
              "#f0f921"
             ]
            ],
            "type": "histogram2d"
           }
          ],
          "histogram2dcontour": [
           {
            "colorbar": {
             "outlinewidth": 0,
             "ticks": ""
            },
            "colorscale": [
             [
              0,
              "#0d0887"
             ],
             [
              0.1111111111111111,
              "#46039f"
             ],
             [
              0.2222222222222222,
              "#7201a8"
             ],
             [
              0.3333333333333333,
              "#9c179e"
             ],
             [
              0.4444444444444444,
              "#bd3786"
             ],
             [
              0.5555555555555556,
              "#d8576b"
             ],
             [
              0.6666666666666666,
              "#ed7953"
             ],
             [
              0.7777777777777778,
              "#fb9f3a"
             ],
             [
              0.8888888888888888,
              "#fdca26"
             ],
             [
              1,
              "#f0f921"
             ]
            ],
            "type": "histogram2dcontour"
           }
          ],
          "mesh3d": [
           {
            "colorbar": {
             "outlinewidth": 0,
             "ticks": ""
            },
            "type": "mesh3d"
           }
          ],
          "parcoords": [
           {
            "line": {
             "colorbar": {
              "outlinewidth": 0,
              "ticks": ""
             }
            },
            "type": "parcoords"
           }
          ],
          "pie": [
           {
            "automargin": true,
            "type": "pie"
           }
          ],
          "scatter": [
           {
            "fillpattern": {
             "fillmode": "overlay",
             "size": 10,
             "solidity": 0.2
            },
            "type": "scatter"
           }
          ],
          "scatter3d": [
           {
            "line": {
             "colorbar": {
              "outlinewidth": 0,
              "ticks": ""
             }
            },
            "marker": {
             "colorbar": {
              "outlinewidth": 0,
              "ticks": ""
             }
            },
            "type": "scatter3d"
           }
          ],
          "scattercarpet": [
           {
            "marker": {
             "colorbar": {
              "outlinewidth": 0,
              "ticks": ""
             }
            },
            "type": "scattercarpet"
           }
          ],
          "scattergeo": [
           {
            "marker": {
             "colorbar": {
              "outlinewidth": 0,
              "ticks": ""
             }
            },
            "type": "scattergeo"
           }
          ],
          "scattergl": [
           {
            "marker": {
             "colorbar": {
              "outlinewidth": 0,
              "ticks": ""
             }
            },
            "type": "scattergl"
           }
          ],
          "scattermapbox": [
           {
            "marker": {
             "colorbar": {
              "outlinewidth": 0,
              "ticks": ""
             }
            },
            "type": "scattermapbox"
           }
          ],
          "scatterpolar": [
           {
            "marker": {
             "colorbar": {
              "outlinewidth": 0,
              "ticks": ""
             }
            },
            "type": "scatterpolar"
           }
          ],
          "scatterpolargl": [
           {
            "marker": {
             "colorbar": {
              "outlinewidth": 0,
              "ticks": ""
             }
            },
            "type": "scatterpolargl"
           }
          ],
          "scatterternary": [
           {
            "marker": {
             "colorbar": {
              "outlinewidth": 0,
              "ticks": ""
             }
            },
            "type": "scatterternary"
           }
          ],
          "surface": [
           {
            "colorbar": {
             "outlinewidth": 0,
             "ticks": ""
            },
            "colorscale": [
             [
              0,
              "#0d0887"
             ],
             [
              0.1111111111111111,
              "#46039f"
             ],
             [
              0.2222222222222222,
              "#7201a8"
             ],
             [
              0.3333333333333333,
              "#9c179e"
             ],
             [
              0.4444444444444444,
              "#bd3786"
             ],
             [
              0.5555555555555556,
              "#d8576b"
             ],
             [
              0.6666666666666666,
              "#ed7953"
             ],
             [
              0.7777777777777778,
              "#fb9f3a"
             ],
             [
              0.8888888888888888,
              "#fdca26"
             ],
             [
              1,
              "#f0f921"
             ]
            ],
            "type": "surface"
           }
          ],
          "table": [
           {
            "cells": {
             "fill": {
              "color": "#EBF0F8"
             },
             "line": {
              "color": "white"
             }
            },
            "header": {
             "fill": {
              "color": "#C8D4E3"
             },
             "line": {
              "color": "white"
             }
            },
            "type": "table"
           }
          ]
         },
         "layout": {
          "annotationdefaults": {
           "arrowcolor": "#2a3f5f",
           "arrowhead": 0,
           "arrowwidth": 1
          },
          "autotypenumbers": "strict",
          "coloraxis": {
           "colorbar": {
            "outlinewidth": 0,
            "ticks": ""
           }
          },
          "colorscale": {
           "diverging": [
            [
             0,
             "#8e0152"
            ],
            [
             0.1,
             "#c51b7d"
            ],
            [
             0.2,
             "#de77ae"
            ],
            [
             0.3,
             "#f1b6da"
            ],
            [
             0.4,
             "#fde0ef"
            ],
            [
             0.5,
             "#f7f7f7"
            ],
            [
             0.6,
             "#e6f5d0"
            ],
            [
             0.7,
             "#b8e186"
            ],
            [
             0.8,
             "#7fbc41"
            ],
            [
             0.9,
             "#4d9221"
            ],
            [
             1,
             "#276419"
            ]
           ],
           "sequential": [
            [
             0,
             "#0d0887"
            ],
            [
             0.1111111111111111,
             "#46039f"
            ],
            [
             0.2222222222222222,
             "#7201a8"
            ],
            [
             0.3333333333333333,
             "#9c179e"
            ],
            [
             0.4444444444444444,
             "#bd3786"
            ],
            [
             0.5555555555555556,
             "#d8576b"
            ],
            [
             0.6666666666666666,
             "#ed7953"
            ],
            [
             0.7777777777777778,
             "#fb9f3a"
            ],
            [
             0.8888888888888888,
             "#fdca26"
            ],
            [
             1,
             "#f0f921"
            ]
           ],
           "sequentialminus": [
            [
             0,
             "#0d0887"
            ],
            [
             0.1111111111111111,
             "#46039f"
            ],
            [
             0.2222222222222222,
             "#7201a8"
            ],
            [
             0.3333333333333333,
             "#9c179e"
            ],
            [
             0.4444444444444444,
             "#bd3786"
            ],
            [
             0.5555555555555556,
             "#d8576b"
            ],
            [
             0.6666666666666666,
             "#ed7953"
            ],
            [
             0.7777777777777778,
             "#fb9f3a"
            ],
            [
             0.8888888888888888,
             "#fdca26"
            ],
            [
             1,
             "#f0f921"
            ]
           ]
          },
          "colorway": [
           "#636efa",
           "#EF553B",
           "#00cc96",
           "#ab63fa",
           "#FFA15A",
           "#19d3f3",
           "#FF6692",
           "#B6E880",
           "#FF97FF",
           "#FECB52"
          ],
          "font": {
           "color": "#2a3f5f"
          },
          "geo": {
           "bgcolor": "white",
           "lakecolor": "white",
           "landcolor": "#E5ECF6",
           "showlakes": true,
           "showland": true,
           "subunitcolor": "white"
          },
          "hoverlabel": {
           "align": "left"
          },
          "hovermode": "closest",
          "mapbox": {
           "style": "light"
          },
          "paper_bgcolor": "white",
          "plot_bgcolor": "#E5ECF6",
          "polar": {
           "angularaxis": {
            "gridcolor": "white",
            "linecolor": "white",
            "ticks": ""
           },
           "bgcolor": "#E5ECF6",
           "radialaxis": {
            "gridcolor": "white",
            "linecolor": "white",
            "ticks": ""
           }
          },
          "scene": {
           "xaxis": {
            "backgroundcolor": "#E5ECF6",
            "gridcolor": "white",
            "gridwidth": 2,
            "linecolor": "white",
            "showbackground": true,
            "ticks": "",
            "zerolinecolor": "white"
           },
           "yaxis": {
            "backgroundcolor": "#E5ECF6",
            "gridcolor": "white",
            "gridwidth": 2,
            "linecolor": "white",
            "showbackground": true,
            "ticks": "",
            "zerolinecolor": "white"
           },
           "zaxis": {
            "backgroundcolor": "#E5ECF6",
            "gridcolor": "white",
            "gridwidth": 2,
            "linecolor": "white",
            "showbackground": true,
            "ticks": "",
            "zerolinecolor": "white"
           }
          },
          "shapedefaults": {
           "line": {
            "color": "#2a3f5f"
           }
          },
          "ternary": {
           "aaxis": {
            "gridcolor": "white",
            "linecolor": "white",
            "ticks": ""
           },
           "baxis": {
            "gridcolor": "white",
            "linecolor": "white",
            "ticks": ""
           },
           "bgcolor": "#E5ECF6",
           "caxis": {
            "gridcolor": "white",
            "linecolor": "white",
            "ticks": ""
           }
          },
          "title": {
           "x": 0.05
          },
          "xaxis": {
           "automargin": true,
           "gridcolor": "white",
           "linecolor": "white",
           "ticks": "",
           "title": {
            "standoff": 15
           },
           "zerolinecolor": "white",
           "zerolinewidth": 2
          },
          "yaxis": {
           "automargin": true,
           "gridcolor": "white",
           "linecolor": "white",
           "ticks": "",
           "title": {
            "standoff": 15
           },
           "zerolinecolor": "white",
           "zerolinewidth": 2
          }
         }
        },
        "updatemenus": [
         {
          "buttons": [
           {
            "args": [
             null,
             {
              "frame": {
               "duration": 3500,
               "redraw": true
              },
              "fromcurrent": true,
              "mode": "immediate",
              "transition": {
               "duration": 500,
               "easing": "linear"
              }
             }
            ],
            "label": "&#9654;",
            "method": "animate"
           },
           {
            "args": [
             [
              null
             ],
             {
              "frame": {
               "duration": 0,
               "redraw": true
              },
              "fromcurrent": true,
              "mode": "immediate",
              "transition": {
               "duration": 0,
               "easing": "linear"
              }
             }
            ],
            "label": "&#9724;",
            "method": "animate"
           }
          ],
          "direction": "left",
          "pad": {
           "r": 10,
           "t": 70
          },
          "showactive": false,
          "type": "buttons",
          "x": 0.1,
          "xanchor": "right",
          "y": 0,
          "yanchor": "top"
         }
        ],
        "xaxis": {
         "anchor": "y",
         "categoryarray": [
          "employee_11",
          "employee_14",
          "employee_16",
          "employee_21",
          "employee_18",
          "employee_8",
          "employee_9",
          "employee_26",
          "employee_2",
          "employee_10",
          "employee_1",
          "employee_3",
          "employee_15",
          "employee_19",
          "employee_24",
          "employee_6",
          "employee_13",
          "employee_20",
          "employee_4",
          "employee_23",
          "employee_17",
          "employee_12",
          "employee_7",
          "employee_5",
          "employee_25",
          "employee_22"
         ],
         "categoryorder": "array",
         "domain": [
          0,
          1
         ],
         "range": [
          0,
          26
         ],
         "title": {
          "text": "Name"
         }
        },
        "yaxis": {
         "anchor": "x",
         "domain": [
          0,
          1
         ],
         "range": [
          0,
          0.5
         ],
         "title": {
          "text": "Whole_Body_Dose"
         }
        }
       }
      },
      "text/html": [
       "<div>                            <div id=\"3f06c21c-7b60-4932-bc23-c2f0d62f9365\" class=\"plotly-graph-div\" style=\"height:525px; width:100%;\"></div>            <script type=\"text/javascript\">                require([\"plotly\"], function(Plotly) {                    window.PLOTLYENV=window.PLOTLYENV || {};                                    if (document.getElementById(\"3f06c21c-7b60-4932-bc23-c2f0d62f9365\")) {                    Plotly.newPlot(                        \"3f06c21c-7b60-4932-bc23-c2f0d62f9365\",                        [{\"alignmentgroup\":\"True\",\"hovertemplate\":\"Name=%{x}<br>Whole_Body_Dose=%{y}<br>Time_Decimal=%{marker.color}<extra></extra>\",\"ids\":[84.83333333333333],\"legendgroup\":\"\",\"marker\":{\"color\":[84.83333333333333],\"coloraxis\":\"coloraxis\",\"pattern\":{\"shape\":\"\"}},\"name\":\"\",\"offsetgroup\":\"\",\"orientation\":\"v\",\"showlegend\":false,\"textposition\":\"auto\",\"x\":[\"employee_11\"],\"xaxis\":\"x\",\"y\":[0.254],\"yaxis\":\"y\",\"type\":\"bar\"}],                        {\"template\":{\"data\":{\"histogram2dcontour\":[{\"type\":\"histogram2dcontour\",\"colorbar\":{\"outlinewidth\":0,\"ticks\":\"\"},\"colorscale\":[[0.0,\"#0d0887\"],[0.1111111111111111,\"#46039f\"],[0.2222222222222222,\"#7201a8\"],[0.3333333333333333,\"#9c179e\"],[0.4444444444444444,\"#bd3786\"],[0.5555555555555556,\"#d8576b\"],[0.6666666666666666,\"#ed7953\"],[0.7777777777777778,\"#fb9f3a\"],[0.8888888888888888,\"#fdca26\"],[1.0,\"#f0f921\"]]}],\"choropleth\":[{\"type\":\"choropleth\",\"colorbar\":{\"outlinewidth\":0,\"ticks\":\"\"}}],\"histogram2d\":[{\"type\":\"histogram2d\",\"colorbar\":{\"outlinewidth\":0,\"ticks\":\"\"},\"colorscale\":[[0.0,\"#0d0887\"],[0.1111111111111111,\"#46039f\"],[0.2222222222222222,\"#7201a8\"],[0.3333333333333333,\"#9c179e\"],[0.4444444444444444,\"#bd3786\"],[0.5555555555555556,\"#d8576b\"],[0.6666666666666666,\"#ed7953\"],[0.7777777777777778,\"#fb9f3a\"],[0.8888888888888888,\"#fdca26\"],[1.0,\"#f0f921\"]]}],\"heatmap\":[{\"type\":\"heatmap\",\"colorbar\":{\"outlinewidth\":0,\"ticks\":\"\"},\"colorscale\":[[0.0,\"#0d0887\"],[0.1111111111111111,\"#46039f\"],[0.2222222222222222,\"#7201a8\"],[0.3333333333333333,\"#9c179e\"],[0.4444444444444444,\"#bd3786\"],[0.5555555555555556,\"#d8576b\"],[0.6666666666666666,\"#ed7953\"],[0.7777777777777778,\"#fb9f3a\"],[0.8888888888888888,\"#fdca26\"],[1.0,\"#f0f921\"]]}],\"heatmapgl\":[{\"type\":\"heatmapgl\",\"colorbar\":{\"outlinewidth\":0,\"ticks\":\"\"},\"colorscale\":[[0.0,\"#0d0887\"],[0.1111111111111111,\"#46039f\"],[0.2222222222222222,\"#7201a8\"],[0.3333333333333333,\"#9c179e\"],[0.4444444444444444,\"#bd3786\"],[0.5555555555555556,\"#d8576b\"],[0.6666666666666666,\"#ed7953\"],[0.7777777777777778,\"#fb9f3a\"],[0.8888888888888888,\"#fdca26\"],[1.0,\"#f0f921\"]]}],\"contourcarpet\":[{\"type\":\"contourcarpet\",\"colorbar\":{\"outlinewidth\":0,\"ticks\":\"\"}}],\"contour\":[{\"type\":\"contour\",\"colorbar\":{\"outlinewidth\":0,\"ticks\":\"\"},\"colorscale\":[[0.0,\"#0d0887\"],[0.1111111111111111,\"#46039f\"],[0.2222222222222222,\"#7201a8\"],[0.3333333333333333,\"#9c179e\"],[0.4444444444444444,\"#bd3786\"],[0.5555555555555556,\"#d8576b\"],[0.6666666666666666,\"#ed7953\"],[0.7777777777777778,\"#fb9f3a\"],[0.8888888888888888,\"#fdca26\"],[1.0,\"#f0f921\"]]}],\"surface\":[{\"type\":\"surface\",\"colorbar\":{\"outlinewidth\":0,\"ticks\":\"\"},\"colorscale\":[[0.0,\"#0d0887\"],[0.1111111111111111,\"#46039f\"],[0.2222222222222222,\"#7201a8\"],[0.3333333333333333,\"#9c179e\"],[0.4444444444444444,\"#bd3786\"],[0.5555555555555556,\"#d8576b\"],[0.6666666666666666,\"#ed7953\"],[0.7777777777777778,\"#fb9f3a\"],[0.8888888888888888,\"#fdca26\"],[1.0,\"#f0f921\"]]}],\"mesh3d\":[{\"type\":\"mesh3d\",\"colorbar\":{\"outlinewidth\":0,\"ticks\":\"\"}}],\"scatter\":[{\"fillpattern\":{\"fillmode\":\"overlay\",\"size\":10,\"solidity\":0.2},\"type\":\"scatter\"}],\"parcoords\":[{\"type\":\"parcoords\",\"line\":{\"colorbar\":{\"outlinewidth\":0,\"ticks\":\"\"}}}],\"scatterpolargl\":[{\"type\":\"scatterpolargl\",\"marker\":{\"colorbar\":{\"outlinewidth\":0,\"ticks\":\"\"}}}],\"bar\":[{\"error_x\":{\"color\":\"#2a3f5f\"},\"error_y\":{\"color\":\"#2a3f5f\"},\"marker\":{\"line\":{\"color\":\"#E5ECF6\",\"width\":0.5},\"pattern\":{\"fillmode\":\"overlay\",\"size\":10,\"solidity\":0.2}},\"type\":\"bar\"}],\"scattergeo\":[{\"type\":\"scattergeo\",\"marker\":{\"colorbar\":{\"outlinewidth\":0,\"ticks\":\"\"}}}],\"scatterpolar\":[{\"type\":\"scatterpolar\",\"marker\":{\"colorbar\":{\"outlinewidth\":0,\"ticks\":\"\"}}}],\"histogram\":[{\"marker\":{\"pattern\":{\"fillmode\":\"overlay\",\"size\":10,\"solidity\":0.2}},\"type\":\"histogram\"}],\"scattergl\":[{\"type\":\"scattergl\",\"marker\":{\"colorbar\":{\"outlinewidth\":0,\"ticks\":\"\"}}}],\"scatter3d\":[{\"type\":\"scatter3d\",\"line\":{\"colorbar\":{\"outlinewidth\":0,\"ticks\":\"\"}},\"marker\":{\"colorbar\":{\"outlinewidth\":0,\"ticks\":\"\"}}}],\"scattermapbox\":[{\"type\":\"scattermapbox\",\"marker\":{\"colorbar\":{\"outlinewidth\":0,\"ticks\":\"\"}}}],\"scatterternary\":[{\"type\":\"scatterternary\",\"marker\":{\"colorbar\":{\"outlinewidth\":0,\"ticks\":\"\"}}}],\"scattercarpet\":[{\"type\":\"scattercarpet\",\"marker\":{\"colorbar\":{\"outlinewidth\":0,\"ticks\":\"\"}}}],\"carpet\":[{\"aaxis\":{\"endlinecolor\":\"#2a3f5f\",\"gridcolor\":\"white\",\"linecolor\":\"white\",\"minorgridcolor\":\"white\",\"startlinecolor\":\"#2a3f5f\"},\"baxis\":{\"endlinecolor\":\"#2a3f5f\",\"gridcolor\":\"white\",\"linecolor\":\"white\",\"minorgridcolor\":\"white\",\"startlinecolor\":\"#2a3f5f\"},\"type\":\"carpet\"}],\"table\":[{\"cells\":{\"fill\":{\"color\":\"#EBF0F8\"},\"line\":{\"color\":\"white\"}},\"header\":{\"fill\":{\"color\":\"#C8D4E3\"},\"line\":{\"color\":\"white\"}},\"type\":\"table\"}],\"barpolar\":[{\"marker\":{\"line\":{\"color\":\"#E5ECF6\",\"width\":0.5},\"pattern\":{\"fillmode\":\"overlay\",\"size\":10,\"solidity\":0.2}},\"type\":\"barpolar\"}],\"pie\":[{\"automargin\":true,\"type\":\"pie\"}]},\"layout\":{\"autotypenumbers\":\"strict\",\"colorway\":[\"#636efa\",\"#EF553B\",\"#00cc96\",\"#ab63fa\",\"#FFA15A\",\"#19d3f3\",\"#FF6692\",\"#B6E880\",\"#FF97FF\",\"#FECB52\"],\"font\":{\"color\":\"#2a3f5f\"},\"hovermode\":\"closest\",\"hoverlabel\":{\"align\":\"left\"},\"paper_bgcolor\":\"white\",\"plot_bgcolor\":\"#E5ECF6\",\"polar\":{\"bgcolor\":\"#E5ECF6\",\"angularaxis\":{\"gridcolor\":\"white\",\"linecolor\":\"white\",\"ticks\":\"\"},\"radialaxis\":{\"gridcolor\":\"white\",\"linecolor\":\"white\",\"ticks\":\"\"}},\"ternary\":{\"bgcolor\":\"#E5ECF6\",\"aaxis\":{\"gridcolor\":\"white\",\"linecolor\":\"white\",\"ticks\":\"\"},\"baxis\":{\"gridcolor\":\"white\",\"linecolor\":\"white\",\"ticks\":\"\"},\"caxis\":{\"gridcolor\":\"white\",\"linecolor\":\"white\",\"ticks\":\"\"}},\"coloraxis\":{\"colorbar\":{\"outlinewidth\":0,\"ticks\":\"\"}},\"colorscale\":{\"sequential\":[[0.0,\"#0d0887\"],[0.1111111111111111,\"#46039f\"],[0.2222222222222222,\"#7201a8\"],[0.3333333333333333,\"#9c179e\"],[0.4444444444444444,\"#bd3786\"],[0.5555555555555556,\"#d8576b\"],[0.6666666666666666,\"#ed7953\"],[0.7777777777777778,\"#fb9f3a\"],[0.8888888888888888,\"#fdca26\"],[1.0,\"#f0f921\"]],\"sequentialminus\":[[0.0,\"#0d0887\"],[0.1111111111111111,\"#46039f\"],[0.2222222222222222,\"#7201a8\"],[0.3333333333333333,\"#9c179e\"],[0.4444444444444444,\"#bd3786\"],[0.5555555555555556,\"#d8576b\"],[0.6666666666666666,\"#ed7953\"],[0.7777777777777778,\"#fb9f3a\"],[0.8888888888888888,\"#fdca26\"],[1.0,\"#f0f921\"]],\"diverging\":[[0,\"#8e0152\"],[0.1,\"#c51b7d\"],[0.2,\"#de77ae\"],[0.3,\"#f1b6da\"],[0.4,\"#fde0ef\"],[0.5,\"#f7f7f7\"],[0.6,\"#e6f5d0\"],[0.7,\"#b8e186\"],[0.8,\"#7fbc41\"],[0.9,\"#4d9221\"],[1,\"#276419\"]]},\"xaxis\":{\"gridcolor\":\"white\",\"linecolor\":\"white\",\"ticks\":\"\",\"title\":{\"standoff\":15},\"zerolinecolor\":\"white\",\"automargin\":true,\"zerolinewidth\":2},\"yaxis\":{\"gridcolor\":\"white\",\"linecolor\":\"white\",\"ticks\":\"\",\"title\":{\"standoff\":15},\"zerolinecolor\":\"white\",\"automargin\":true,\"zerolinewidth\":2},\"scene\":{\"xaxis\":{\"backgroundcolor\":\"#E5ECF6\",\"gridcolor\":\"white\",\"linecolor\":\"white\",\"showbackground\":true,\"ticks\":\"\",\"zerolinecolor\":\"white\",\"gridwidth\":2},\"yaxis\":{\"backgroundcolor\":\"#E5ECF6\",\"gridcolor\":\"white\",\"linecolor\":\"white\",\"showbackground\":true,\"ticks\":\"\",\"zerolinecolor\":\"white\",\"gridwidth\":2},\"zaxis\":{\"backgroundcolor\":\"#E5ECF6\",\"gridcolor\":\"white\",\"linecolor\":\"white\",\"showbackground\":true,\"ticks\":\"\",\"zerolinecolor\":\"white\",\"gridwidth\":2}},\"shapedefaults\":{\"line\":{\"color\":\"#2a3f5f\"}},\"annotationdefaults\":{\"arrowcolor\":\"#2a3f5f\",\"arrowhead\":0,\"arrowwidth\":1},\"geo\":{\"bgcolor\":\"white\",\"landcolor\":\"#E5ECF6\",\"subunitcolor\":\"white\",\"showland\":true,\"showlakes\":true,\"lakecolor\":\"white\"},\"title\":{\"x\":0.05},\"mapbox\":{\"style\":\"light\"}}},\"xaxis\":{\"anchor\":\"y\",\"domain\":[0.0,1.0],\"title\":{\"text\":\"Name\"},\"range\":[0,26],\"categoryorder\":\"array\",\"categoryarray\":[\"employee_11\",\"employee_14\",\"employee_16\",\"employee_21\",\"employee_18\",\"employee_8\",\"employee_9\",\"employee_26\",\"employee_2\",\"employee_10\",\"employee_1\",\"employee_3\",\"employee_15\",\"employee_19\",\"employee_24\",\"employee_6\",\"employee_13\",\"employee_20\",\"employee_4\",\"employee_23\",\"employee_17\",\"employee_12\",\"employee_7\",\"employee_5\",\"employee_25\",\"employee_22\"]},\"yaxis\":{\"anchor\":\"x\",\"domain\":[0.0,1.0],\"title\":{\"text\":\"Whole_Body_Dose\"},\"range\":[0,0.5]},\"coloraxis\":{\"colorbar\":{\"title\":{\"text\":\"Time_Decimal\"}},\"colorscale\":[[0.0,\"#0d0887\"],[0.1111111111111111,\"#46039f\"],[0.2222222222222222,\"#7201a8\"],[0.3333333333333333,\"#9c179e\"],[0.4444444444444444,\"#bd3786\"],[0.5555555555555556,\"#d8576b\"],[0.6666666666666666,\"#ed7953\"],[0.7777777777777778,\"#fb9f3a\"],[0.8888888888888888,\"#fdca26\"],[1.0,\"#f0f921\"]]},\"legend\":{\"tracegroupgap\":0},\"margin\":{\"t\":60},\"barmode\":\"relative\",\"updatemenus\":[{\"buttons\":[{\"args\":[null,{\"frame\":{\"duration\":3500,\"redraw\":true},\"mode\":\"immediate\",\"fromcurrent\":true,\"transition\":{\"duration\":500,\"easing\":\"linear\"}}],\"label\":\"&#9654;\",\"method\":\"animate\"},{\"args\":[[null],{\"frame\":{\"duration\":0,\"redraw\":true},\"mode\":\"immediate\",\"fromcurrent\":true,\"transition\":{\"duration\":0,\"easing\":\"linear\"}}],\"label\":\"&#9724;\",\"method\":\"animate\"}],\"direction\":\"left\",\"pad\":{\"r\":10,\"t\":70},\"showactive\":false,\"type\":\"buttons\",\"x\":0.1,\"xanchor\":\"right\",\"y\":0,\"yanchor\":\"top\"}],\"sliders\":[{\"active\":0,\"currentvalue\":{\"prefix\":\"Name=\"},\"len\":0.9,\"pad\":{\"b\":10,\"t\":60},\"steps\":[{\"args\":[[\"employee_11\"],{\"frame\":{\"duration\":0,\"redraw\":true},\"mode\":\"immediate\",\"fromcurrent\":true,\"transition\":{\"duration\":0,\"easing\":\"linear\"}}],\"label\":\"employee_11\",\"method\":\"animate\"},{\"args\":[[\"employee_14\"],{\"frame\":{\"duration\":0,\"redraw\":true},\"mode\":\"immediate\",\"fromcurrent\":true,\"transition\":{\"duration\":0,\"easing\":\"linear\"}}],\"label\":\"employee_14\",\"method\":\"animate\"},{\"args\":[[\"employee_16\"],{\"frame\":{\"duration\":0,\"redraw\":true},\"mode\":\"immediate\",\"fromcurrent\":true,\"transition\":{\"duration\":0,\"easing\":\"linear\"}}],\"label\":\"employee_16\",\"method\":\"animate\"},{\"args\":[[\"employee_21\"],{\"frame\":{\"duration\":0,\"redraw\":true},\"mode\":\"immediate\",\"fromcurrent\":true,\"transition\":{\"duration\":0,\"easing\":\"linear\"}}],\"label\":\"employee_21\",\"method\":\"animate\"},{\"args\":[[\"employee_18\"],{\"frame\":{\"duration\":0,\"redraw\":true},\"mode\":\"immediate\",\"fromcurrent\":true,\"transition\":{\"duration\":0,\"easing\":\"linear\"}}],\"label\":\"employee_18\",\"method\":\"animate\"},{\"args\":[[\"employee_8\"],{\"frame\":{\"duration\":0,\"redraw\":true},\"mode\":\"immediate\",\"fromcurrent\":true,\"transition\":{\"duration\":0,\"easing\":\"linear\"}}],\"label\":\"employee_8\",\"method\":\"animate\"},{\"args\":[[\"employee_9\"],{\"frame\":{\"duration\":0,\"redraw\":true},\"mode\":\"immediate\",\"fromcurrent\":true,\"transition\":{\"duration\":0,\"easing\":\"linear\"}}],\"label\":\"employee_9\",\"method\":\"animate\"},{\"args\":[[\"employee_26\"],{\"frame\":{\"duration\":0,\"redraw\":true},\"mode\":\"immediate\",\"fromcurrent\":true,\"transition\":{\"duration\":0,\"easing\":\"linear\"}}],\"label\":\"employee_26\",\"method\":\"animate\"},{\"args\":[[\"employee_2\"],{\"frame\":{\"duration\":0,\"redraw\":true},\"mode\":\"immediate\",\"fromcurrent\":true,\"transition\":{\"duration\":0,\"easing\":\"linear\"}}],\"label\":\"employee_2\",\"method\":\"animate\"},{\"args\":[[\"employee_10\"],{\"frame\":{\"duration\":0,\"redraw\":true},\"mode\":\"immediate\",\"fromcurrent\":true,\"transition\":{\"duration\":0,\"easing\":\"linear\"}}],\"label\":\"employee_10\",\"method\":\"animate\"},{\"args\":[[\"employee_1\"],{\"frame\":{\"duration\":0,\"redraw\":true},\"mode\":\"immediate\",\"fromcurrent\":true,\"transition\":{\"duration\":0,\"easing\":\"linear\"}}],\"label\":\"employee_1\",\"method\":\"animate\"},{\"args\":[[\"employee_3\"],{\"frame\":{\"duration\":0,\"redraw\":true},\"mode\":\"immediate\",\"fromcurrent\":true,\"transition\":{\"duration\":0,\"easing\":\"linear\"}}],\"label\":\"employee_3\",\"method\":\"animate\"},{\"args\":[[\"employee_15\"],{\"frame\":{\"duration\":0,\"redraw\":true},\"mode\":\"immediate\",\"fromcurrent\":true,\"transition\":{\"duration\":0,\"easing\":\"linear\"}}],\"label\":\"employee_15\",\"method\":\"animate\"},{\"args\":[[\"employee_19\"],{\"frame\":{\"duration\":0,\"redraw\":true},\"mode\":\"immediate\",\"fromcurrent\":true,\"transition\":{\"duration\":0,\"easing\":\"linear\"}}],\"label\":\"employee_19\",\"method\":\"animate\"},{\"args\":[[\"employee_24\"],{\"frame\":{\"duration\":0,\"redraw\":true},\"mode\":\"immediate\",\"fromcurrent\":true,\"transition\":{\"duration\":0,\"easing\":\"linear\"}}],\"label\":\"employee_24\",\"method\":\"animate\"},{\"args\":[[\"employee_6\"],{\"frame\":{\"duration\":0,\"redraw\":true},\"mode\":\"immediate\",\"fromcurrent\":true,\"transition\":{\"duration\":0,\"easing\":\"linear\"}}],\"label\":\"employee_6\",\"method\":\"animate\"},{\"args\":[[\"employee_13\"],{\"frame\":{\"duration\":0,\"redraw\":true},\"mode\":\"immediate\",\"fromcurrent\":true,\"transition\":{\"duration\":0,\"easing\":\"linear\"}}],\"label\":\"employee_13\",\"method\":\"animate\"},{\"args\":[[\"employee_20\"],{\"frame\":{\"duration\":0,\"redraw\":true},\"mode\":\"immediate\",\"fromcurrent\":true,\"transition\":{\"duration\":0,\"easing\":\"linear\"}}],\"label\":\"employee_20\",\"method\":\"animate\"},{\"args\":[[\"employee_4\"],{\"frame\":{\"duration\":0,\"redraw\":true},\"mode\":\"immediate\",\"fromcurrent\":true,\"transition\":{\"duration\":0,\"easing\":\"linear\"}}],\"label\":\"employee_4\",\"method\":\"animate\"},{\"args\":[[\"employee_23\"],{\"frame\":{\"duration\":0,\"redraw\":true},\"mode\":\"immediate\",\"fromcurrent\":true,\"transition\":{\"duration\":0,\"easing\":\"linear\"}}],\"label\":\"employee_23\",\"method\":\"animate\"},{\"args\":[[\"employee_17\"],{\"frame\":{\"duration\":0,\"redraw\":true},\"mode\":\"immediate\",\"fromcurrent\":true,\"transition\":{\"duration\":0,\"easing\":\"linear\"}}],\"label\":\"employee_17\",\"method\":\"animate\"},{\"args\":[[\"employee_12\"],{\"frame\":{\"duration\":0,\"redraw\":true},\"mode\":\"immediate\",\"fromcurrent\":true,\"transition\":{\"duration\":0,\"easing\":\"linear\"}}],\"label\":\"employee_12\",\"method\":\"animate\"},{\"args\":[[\"employee_7\"],{\"frame\":{\"duration\":0,\"redraw\":true},\"mode\":\"immediate\",\"fromcurrent\":true,\"transition\":{\"duration\":0,\"easing\":\"linear\"}}],\"label\":\"employee_7\",\"method\":\"animate\"},{\"args\":[[\"employee_5\"],{\"frame\":{\"duration\":0,\"redraw\":true},\"mode\":\"immediate\",\"fromcurrent\":true,\"transition\":{\"duration\":0,\"easing\":\"linear\"}}],\"label\":\"employee_5\",\"method\":\"animate\"},{\"args\":[[\"employee_25\"],{\"frame\":{\"duration\":0,\"redraw\":true},\"mode\":\"immediate\",\"fromcurrent\":true,\"transition\":{\"duration\":0,\"easing\":\"linear\"}}],\"label\":\"employee_25\",\"method\":\"animate\"},{\"args\":[[\"employee_22\"],{\"frame\":{\"duration\":0,\"redraw\":true},\"mode\":\"immediate\",\"fromcurrent\":true,\"transition\":{\"duration\":0,\"easing\":\"linear\"}}],\"label\":\"employee_22\",\"method\":\"animate\"}],\"x\":0.1,\"xanchor\":\"left\",\"y\":0,\"yanchor\":\"top\"}]},                        {\"responsive\": true}                    ).then(function(){\n",
       "                            Plotly.addFrames('3f06c21c-7b60-4932-bc23-c2f0d62f9365', [{\"data\":[{\"alignmentgroup\":\"True\",\"hovertemplate\":\"Name=%{x}<br>Whole_Body_Dose=%{y}<br>Time_Decimal=%{marker.color}<extra></extra>\",\"ids\":[84.83333333333333],\"legendgroup\":\"\",\"marker\":{\"color\":[84.83333333333333],\"coloraxis\":\"coloraxis\",\"pattern\":{\"shape\":\"\"}},\"name\":\"\",\"offsetgroup\":\"\",\"orientation\":\"v\",\"showlegend\":false,\"textposition\":\"auto\",\"x\":[\"employee_11\"],\"xaxis\":\"x\",\"y\":[0.254],\"yaxis\":\"y\",\"type\":\"bar\"}],\"name\":\"employee_11\"},{\"data\":[{\"alignmentgroup\":\"True\",\"hovertemplate\":\"Name=%{x}<br>Whole_Body_Dose=%{y}<br>Time_Decimal=%{marker.color}<extra></extra>\",\"ids\":[61.7],\"legendgroup\":\"\",\"marker\":{\"color\":[61.7],\"coloraxis\":\"coloraxis\",\"pattern\":{\"shape\":\"\"}},\"name\":\"\",\"offsetgroup\":\"\",\"orientation\":\"v\",\"showlegend\":false,\"textposition\":\"auto\",\"x\":[\"employee_14\"],\"xaxis\":\"x\",\"y\":[0.149],\"yaxis\":\"y\",\"type\":\"bar\"}],\"name\":\"employee_14\"},{\"data\":[{\"alignmentgroup\":\"True\",\"hovertemplate\":\"Name=%{x}<br>Whole_Body_Dose=%{y}<br>Time_Decimal=%{marker.color}<extra></extra>\",\"ids\":[61.63333333333333],\"legendgroup\":\"\",\"marker\":{\"color\":[61.63333333333333],\"coloraxis\":\"coloraxis\",\"pattern\":{\"shape\":\"\"}},\"name\":\"\",\"offsetgroup\":\"\",\"orientation\":\"v\",\"showlegend\":false,\"textposition\":\"auto\",\"x\":[\"employee_16\"],\"xaxis\":\"x\",\"y\":[0.099],\"yaxis\":\"y\",\"type\":\"bar\"}],\"name\":\"employee_16\"},{\"data\":[{\"alignmentgroup\":\"True\",\"hovertemplate\":\"Name=%{x}<br>Whole_Body_Dose=%{y}<br>Time_Decimal=%{marker.color}<extra></extra>\",\"ids\":[61.45],\"legendgroup\":\"\",\"marker\":{\"color\":[61.45],\"coloraxis\":\"coloraxis\",\"pattern\":{\"shape\":\"\"}},\"name\":\"\",\"offsetgroup\":\"\",\"orientation\":\"v\",\"showlegend\":false,\"textposition\":\"auto\",\"x\":[\"employee_21\"],\"xaxis\":\"x\",\"y\":[0.16],\"yaxis\":\"y\",\"type\":\"bar\"}],\"name\":\"employee_21\"},{\"data\":[{\"alignmentgroup\":\"True\",\"hovertemplate\":\"Name=%{x}<br>Whole_Body_Dose=%{y}<br>Time_Decimal=%{marker.color}<extra></extra>\",\"ids\":[54.3],\"legendgroup\":\"\",\"marker\":{\"color\":[54.3],\"coloraxis\":\"coloraxis\",\"pattern\":{\"shape\":\"\"}},\"name\":\"\",\"offsetgroup\":\"\",\"orientation\":\"v\",\"showlegend\":false,\"textposition\":\"auto\",\"x\":[\"employee_18\"],\"xaxis\":\"x\",\"y\":[0.187],\"yaxis\":\"y\",\"type\":\"bar\"}],\"name\":\"employee_18\"},{\"data\":[{\"alignmentgroup\":\"True\",\"hovertemplate\":\"Name=%{x}<br>Whole_Body_Dose=%{y}<br>Time_Decimal=%{marker.color}<extra></extra>\",\"ids\":[54.1],\"legendgroup\":\"\",\"marker\":{\"color\":[54.1],\"coloraxis\":\"coloraxis\",\"pattern\":{\"shape\":\"\"}},\"name\":\"\",\"offsetgroup\":\"\",\"orientation\":\"v\",\"showlegend\":false,\"textposition\":\"auto\",\"x\":[\"employee_8\"],\"xaxis\":\"x\",\"y\":[0.091],\"yaxis\":\"y\",\"type\":\"bar\"}],\"name\":\"employee_8\"},{\"data\":[{\"alignmentgroup\":\"True\",\"hovertemplate\":\"Name=%{x}<br>Whole_Body_Dose=%{y}<br>Time_Decimal=%{marker.color}<extra></extra>\",\"ids\":[53.78333333333333],\"legendgroup\":\"\",\"marker\":{\"color\":[53.78333333333333],\"coloraxis\":\"coloraxis\",\"pattern\":{\"shape\":\"\"}},\"name\":\"\",\"offsetgroup\":\"\",\"orientation\":\"v\",\"showlegend\":false,\"textposition\":\"auto\",\"x\":[\"employee_9\"],\"xaxis\":\"x\",\"y\":[0.174],\"yaxis\":\"y\",\"type\":\"bar\"}],\"name\":\"employee_9\"},{\"data\":[{\"alignmentgroup\":\"True\",\"hovertemplate\":\"Name=%{x}<br>Whole_Body_Dose=%{y}<br>Time_Decimal=%{marker.color}<extra></extra>\",\"ids\":[47.53333333333333],\"legendgroup\":\"\",\"marker\":{\"color\":[47.53333333333333],\"coloraxis\":\"coloraxis\",\"pattern\":{\"shape\":\"\"}},\"name\":\"\",\"offsetgroup\":\"\",\"orientation\":\"v\",\"showlegend\":false,\"textposition\":\"auto\",\"x\":[\"employee_26\"],\"xaxis\":\"x\",\"y\":[0.133],\"yaxis\":\"y\",\"type\":\"bar\"}],\"name\":\"employee_26\"},{\"data\":[{\"alignmentgroup\":\"True\",\"hovertemplate\":\"Name=%{x}<br>Whole_Body_Dose=%{y}<br>Time_Decimal=%{marker.color}<extra></extra>\",\"ids\":[46.53333333333333],\"legendgroup\":\"\",\"marker\":{\"color\":[46.53333333333333],\"coloraxis\":\"coloraxis\",\"pattern\":{\"shape\":\"\"}},\"name\":\"\",\"offsetgroup\":\"\",\"orientation\":\"v\",\"showlegend\":false,\"textposition\":\"auto\",\"x\":[\"employee_2\"],\"xaxis\":\"x\",\"y\":[0.139],\"yaxis\":\"y\",\"type\":\"bar\"}],\"name\":\"employee_2\"},{\"data\":[{\"alignmentgroup\":\"True\",\"hovertemplate\":\"Name=%{x}<br>Whole_Body_Dose=%{y}<br>Time_Decimal=%{marker.color}<extra></extra>\",\"ids\":[31.71666666666667],\"legendgroup\":\"\",\"marker\":{\"color\":[31.71666666666667],\"coloraxis\":\"coloraxis\",\"pattern\":{\"shape\":\"\"}},\"name\":\"\",\"offsetgroup\":\"\",\"orientation\":\"v\",\"showlegend\":false,\"textposition\":\"auto\",\"x\":[\"employee_10\"],\"xaxis\":\"x\",\"y\":[0.036000000000000004],\"yaxis\":\"y\",\"type\":\"bar\"}],\"name\":\"employee_10\"},{\"data\":[{\"alignmentgroup\":\"True\",\"hovertemplate\":\"Name=%{x}<br>Whole_Body_Dose=%{y}<br>Time_Decimal=%{marker.color}<extra></extra>\",\"ids\":[31.383333333333333],\"legendgroup\":\"\",\"marker\":{\"color\":[31.383333333333333],\"coloraxis\":\"coloraxis\",\"pattern\":{\"shape\":\"\"}},\"name\":\"\",\"offsetgroup\":\"\",\"orientation\":\"v\",\"showlegend\":false,\"textposition\":\"auto\",\"x\":[\"employee_1\"],\"xaxis\":\"x\",\"y\":[0.077],\"yaxis\":\"y\",\"type\":\"bar\"}],\"name\":\"employee_1\"},{\"data\":[{\"alignmentgroup\":\"True\",\"hovertemplate\":\"Name=%{x}<br>Whole_Body_Dose=%{y}<br>Time_Decimal=%{marker.color}<extra></extra>\",\"ids\":[28.733333333333334],\"legendgroup\":\"\",\"marker\":{\"color\":[28.733333333333334],\"coloraxis\":\"coloraxis\",\"pattern\":{\"shape\":\"\"}},\"name\":\"\",\"offsetgroup\":\"\",\"orientation\":\"v\",\"showlegend\":false,\"textposition\":\"auto\",\"x\":[\"employee_3\"],\"xaxis\":\"x\",\"y\":[0.106],\"yaxis\":\"y\",\"type\":\"bar\"}],\"name\":\"employee_3\"},{\"data\":[{\"alignmentgroup\":\"True\",\"hovertemplate\":\"Name=%{x}<br>Whole_Body_Dose=%{y}<br>Time_Decimal=%{marker.color}<extra></extra>\",\"ids\":[25.6],\"legendgroup\":\"\",\"marker\":{\"color\":[25.6],\"coloraxis\":\"coloraxis\",\"pattern\":{\"shape\":\"\"}},\"name\":\"\",\"offsetgroup\":\"\",\"orientation\":\"v\",\"showlegend\":false,\"textposition\":\"auto\",\"x\":[\"employee_15\"],\"xaxis\":\"x\",\"y\":[0.085],\"yaxis\":\"y\",\"type\":\"bar\"}],\"name\":\"employee_15\"},{\"data\":[{\"alignmentgroup\":\"True\",\"hovertemplate\":\"Name=%{x}<br>Whole_Body_Dose=%{y}<br>Time_Decimal=%{marker.color}<extra></extra>\",\"ids\":[22.78333333333333],\"legendgroup\":\"\",\"marker\":{\"color\":[22.78333333333333],\"coloraxis\":\"coloraxis\",\"pattern\":{\"shape\":\"\"}},\"name\":\"\",\"offsetgroup\":\"\",\"orientation\":\"v\",\"showlegend\":false,\"textposition\":\"auto\",\"x\":[\"employee_19\"],\"xaxis\":\"x\",\"y\":[0.017],\"yaxis\":\"y\",\"type\":\"bar\"}],\"name\":\"employee_19\"},{\"data\":[{\"alignmentgroup\":\"True\",\"hovertemplate\":\"Name=%{x}<br>Whole_Body_Dose=%{y}<br>Time_Decimal=%{marker.color}<extra></extra>\",\"ids\":[17.75],\"legendgroup\":\"\",\"marker\":{\"color\":[17.75],\"coloraxis\":\"coloraxis\",\"pattern\":{\"shape\":\"\"}},\"name\":\"\",\"offsetgroup\":\"\",\"orientation\":\"v\",\"showlegend\":false,\"textposition\":\"auto\",\"x\":[\"employee_24\"],\"xaxis\":\"x\",\"y\":[0.064],\"yaxis\":\"y\",\"type\":\"bar\"}],\"name\":\"employee_24\"},{\"data\":[{\"alignmentgroup\":\"True\",\"hovertemplate\":\"Name=%{x}<br>Whole_Body_Dose=%{y}<br>Time_Decimal=%{marker.color}<extra></extra>\",\"ids\":[17.633333333333333],\"legendgroup\":\"\",\"marker\":{\"color\":[17.633333333333333],\"coloraxis\":\"coloraxis\",\"pattern\":{\"shape\":\"\"}},\"name\":\"\",\"offsetgroup\":\"\",\"orientation\":\"v\",\"showlegend\":false,\"textposition\":\"auto\",\"x\":[\"employee_6\"],\"xaxis\":\"x\",\"y\":[0.038],\"yaxis\":\"y\",\"type\":\"bar\"}],\"name\":\"employee_6\"},{\"data\":[{\"alignmentgroup\":\"True\",\"hovertemplate\":\"Name=%{x}<br>Whole_Body_Dose=%{y}<br>Time_Decimal=%{marker.color}<extra></extra>\",\"ids\":[16.53333333333333],\"legendgroup\":\"\",\"marker\":{\"color\":[16.53333333333333],\"coloraxis\":\"coloraxis\",\"pattern\":{\"shape\":\"\"}},\"name\":\"\",\"offsetgroup\":\"\",\"orientation\":\"v\",\"showlegend\":false,\"textposition\":\"auto\",\"x\":[\"employee_13\"],\"xaxis\":\"x\",\"y\":[0.048],\"yaxis\":\"y\",\"type\":\"bar\"}],\"name\":\"employee_13\"},{\"data\":[{\"alignmentgroup\":\"True\",\"hovertemplate\":\"Name=%{x}<br>Whole_Body_Dose=%{y}<br>Time_Decimal=%{marker.color}<extra></extra>\",\"ids\":[14.916666666666668],\"legendgroup\":\"\",\"marker\":{\"color\":[14.916666666666668],\"coloraxis\":\"coloraxis\",\"pattern\":{\"shape\":\"\"}},\"name\":\"\",\"offsetgroup\":\"\",\"orientation\":\"v\",\"showlegend\":false,\"textposition\":\"auto\",\"x\":[\"employee_20\"],\"xaxis\":\"x\",\"y\":[0.035],\"yaxis\":\"y\",\"type\":\"bar\"}],\"name\":\"employee_20\"},{\"data\":[{\"alignmentgroup\":\"True\",\"hovertemplate\":\"Name=%{x}<br>Whole_Body_Dose=%{y}<br>Time_Decimal=%{marker.color}<extra></extra>\",\"ids\":[14.75],\"legendgroup\":\"\",\"marker\":{\"color\":[14.75],\"coloraxis\":\"coloraxis\",\"pattern\":{\"shape\":\"\"}},\"name\":\"\",\"offsetgroup\":\"\",\"orientation\":\"v\",\"showlegend\":false,\"textposition\":\"auto\",\"x\":[\"employee_4\"],\"xaxis\":\"x\",\"y\":[0.03],\"yaxis\":\"y\",\"type\":\"bar\"}],\"name\":\"employee_4\"},{\"data\":[{\"alignmentgroup\":\"True\",\"hovertemplate\":\"Name=%{x}<br>Whole_Body_Dose=%{y}<br>Time_Decimal=%{marker.color}<extra></extra>\",\"ids\":[12.783333333333333],\"legendgroup\":\"\",\"marker\":{\"color\":[12.783333333333333],\"coloraxis\":\"coloraxis\",\"pattern\":{\"shape\":\"\"}},\"name\":\"\",\"offsetgroup\":\"\",\"orientation\":\"v\",\"showlegend\":false,\"textposition\":\"auto\",\"x\":[\"employee_23\"],\"xaxis\":\"x\",\"y\":[0.017],\"yaxis\":\"y\",\"type\":\"bar\"}],\"name\":\"employee_23\"},{\"data\":[{\"alignmentgroup\":\"True\",\"hovertemplate\":\"Name=%{x}<br>Whole_Body_Dose=%{y}<br>Time_Decimal=%{marker.color}<extra></extra>\",\"ids\":[8.466666666666667],\"legendgroup\":\"\",\"marker\":{\"color\":[8.466666666666667],\"coloraxis\":\"coloraxis\",\"pattern\":{\"shape\":\"\"}},\"name\":\"\",\"offsetgroup\":\"\",\"orientation\":\"v\",\"showlegend\":false,\"textposition\":\"auto\",\"x\":[\"employee_17\"],\"xaxis\":\"x\",\"y\":[0.009000000000000001],\"yaxis\":\"y\",\"type\":\"bar\"}],\"name\":\"employee_17\"},{\"data\":[{\"alignmentgroup\":\"True\",\"hovertemplate\":\"Name=%{x}<br>Whole_Body_Dose=%{y}<br>Time_Decimal=%{marker.color}<extra></extra>\",\"ids\":[8.266666666666667],\"legendgroup\":\"\",\"marker\":{\"color\":[8.266666666666667],\"coloraxis\":\"coloraxis\",\"pattern\":{\"shape\":\"\"}},\"name\":\"\",\"offsetgroup\":\"\",\"orientation\":\"v\",\"showlegend\":false,\"textposition\":\"auto\",\"x\":[\"employee_12\"],\"xaxis\":\"x\",\"y\":[0.011],\"yaxis\":\"y\",\"type\":\"bar\"}],\"name\":\"employee_12\"},{\"data\":[{\"alignmentgroup\":\"True\",\"hovertemplate\":\"Name=%{x}<br>Whole_Body_Dose=%{y}<br>Time_Decimal=%{marker.color}<extra></extra>\",\"ids\":[8.083333333333334],\"legendgroup\":\"\",\"marker\":{\"color\":[8.083333333333334],\"coloraxis\":\"coloraxis\",\"pattern\":{\"shape\":\"\"}},\"name\":\"\",\"offsetgroup\":\"\",\"orientation\":\"v\",\"showlegend\":false,\"textposition\":\"auto\",\"x\":[\"employee_7\"],\"xaxis\":\"x\",\"y\":[0.015],\"yaxis\":\"y\",\"type\":\"bar\"}],\"name\":\"employee_7\"},{\"data\":[{\"alignmentgroup\":\"True\",\"hovertemplate\":\"Name=%{x}<br>Whole_Body_Dose=%{y}<br>Time_Decimal=%{marker.color}<extra></extra>\",\"ids\":[7.883333333333334],\"legendgroup\":\"\",\"marker\":{\"color\":[7.883333333333334],\"coloraxis\":\"coloraxis\",\"pattern\":{\"shape\":\"\"}},\"name\":\"\",\"offsetgroup\":\"\",\"orientation\":\"v\",\"showlegend\":false,\"textposition\":\"auto\",\"x\":[\"employee_5\"],\"xaxis\":\"x\",\"y\":[0.044000000000000004],\"yaxis\":\"y\",\"type\":\"bar\"}],\"name\":\"employee_5\"},{\"data\":[{\"alignmentgroup\":\"True\",\"hovertemplate\":\"Name=%{x}<br>Whole_Body_Dose=%{y}<br>Time_Decimal=%{marker.color}<extra></extra>\",\"ids\":[5.233333333333333],\"legendgroup\":\"\",\"marker\":{\"color\":[5.233333333333333],\"coloraxis\":\"coloraxis\",\"pattern\":{\"shape\":\"\"}},\"name\":\"\",\"offsetgroup\":\"\",\"orientation\":\"v\",\"showlegend\":false,\"textposition\":\"auto\",\"x\":[\"employee_25\"],\"xaxis\":\"x\",\"y\":[0.011],\"yaxis\":\"y\",\"type\":\"bar\"}],\"name\":\"employee_25\"},{\"data\":[{\"alignmentgroup\":\"True\",\"hovertemplate\":\"Name=%{x}<br>Whole_Body_Dose=%{y}<br>Time_Decimal=%{marker.color}<extra></extra>\",\"ids\":[4.716666666666667],\"legendgroup\":\"\",\"marker\":{\"color\":[4.716666666666667],\"coloraxis\":\"coloraxis\",\"pattern\":{\"shape\":\"\"}},\"name\":\"\",\"offsetgroup\":\"\",\"orientation\":\"v\",\"showlegend\":false,\"textposition\":\"auto\",\"x\":[\"employee_22\"],\"xaxis\":\"x\",\"y\":[0.021],\"yaxis\":\"y\",\"type\":\"bar\"}],\"name\":\"employee_22\"}]);\n",
       "                        }).then(function(){\n",
       "                            \n",
       "var gd = document.getElementById('3f06c21c-7b60-4932-bc23-c2f0d62f9365');\n",
       "var x = new MutationObserver(function (mutations, observer) {{\n",
       "        var display = window.getComputedStyle(gd).display;\n",
       "        if (!display || display === 'none') {{\n",
       "            console.log([gd, 'removed!']);\n",
       "            Plotly.purge(gd);\n",
       "            observer.disconnect();\n",
       "        }}\n",
       "}});\n",
       "\n",
       "// Listen for the removal of the full notebook cells\n",
       "var notebookContainer = gd.closest('#notebook-container');\n",
       "if (notebookContainer) {{\n",
       "    x.observe(notebookContainer, {childList: true});\n",
       "}}\n",
       "\n",
       "// Listen for the clearing of the current output cell\n",
       "var outputEl = gd.closest('.output');\n",
       "if (outputEl) {{\n",
       "    x.observe(outputEl, {childList: true});\n",
       "}}\n",
       "\n",
       "                        })                };                });            </script>        </div>"
      ]
     },
     "metadata": {},
     "output_type": "display_data"
    }
   ],
   "source": [
    "fig6 = px.bar(df1, x='Name', y='Whole_Body_Dose', color='Time_Decimal',\n",
    "  animation_frame='Name', animation_group='Time_Decimal', range_y=[0,0.500], range_x=[0,25])\n",
    "fig6.layout.updatemenus[0].buttons[0].args[1]['frame']['duration'] = 3500\n",
    "\n",
    "\n",
    "fig6.show()\n",
    "\n",
    "fig7 = px.bar(df, x='Name', y='Whole_Body_Dose', color='Time_Decimal',\n",
    "  animation_frame='Name', animation_group='Time_Decimal', range_y=[0,0.500], range_x=[0,26])\n",
    "fig7.layout.updatemenus[0].buttons[0].args[1]['frame']['duration'] = 3500\n",
    "\n",
    "\n",
    "fig7.show()"
   ]
  },
  {
   "cell_type": "markdown",
   "id": "a31237a8",
   "metadata": {},
   "source": [
    "# My linear regression prediction model"
   ]
  },
  {
   "cell_type": "markdown",
   "id": "3f15e736",
   "metadata": {},
   "source": [
    "dayshift_3 was my only successful prediction model of a 63% score prediction."
   ]
  },
  {
   "cell_type": "code",
   "execution_count": 74,
   "id": "9dcf099c",
   "metadata": {},
   "outputs": [
    {
     "data": {
      "image/png": "[encoded data removed]",
      "text/plain": [
       "<Figure size 640x480 with 1 Axes>"
      ]
     },
     "metadata": {},
     "output_type": "display_data"
    }
   ],
   "source": [
    "dayshift_3.plot(kind='scatter', x='Time_Decimal', y='Whole_Body_Dose')\n",
    "plt.show() \n",
    "# Change the data frame to show all the different predictions. \n",
    "#df1\n",
    "#df2\n",
    "#dayshift_4\n",
    "#nightshift_3\n",
    "#nightshift_4"
   ]
  },
  {
   "cell_type": "code",
   "execution_count": 75,
   "id": "556d7c23",
   "metadata": {},
   "outputs": [],
   "source": [
    "x_train, x_test, y_train, y_test = train_test_split(dayshift_3['Time_Decimal'], dayshift_3['Whole_Body_Dose'],train_size=0.8,random_state=0)\n",
    "# This is training 80% of the data against the 20% of the testing data\n",
    "# Change the data frame to show all the different predictions. \n",
    "#df1\n",
    "#df2\n",
    "#dayshift_4\n",
    "#nightshift_3\n",
    "#nightshift_4"
   ]
  },
  {
   "cell_type": "code",
   "execution_count": 76,
   "id": "80d7fcd9",
   "metadata": {},
   "outputs": [
    {
     "data": {
      "image/png": "[encoded data removed]",
      "text/plain": [
       "<Figure size 640x480 with 1 Axes>"
      ]
     },
     "metadata": {},
     "output_type": "display_data"
    }
   ],
   "source": [
    "plt.scatter(x_train, y_train, label='Training Data', color='r', alpha=.7)\n",
    "plt.scatter(x_test, y_test, label='Testing Data', color='g', alpha=.7)\n",
    "plt.legend()\n",
    "plt.title('Test Train Split')\n",
    "plt.show()\n",
    "# This is a scatter plot of the test and train data."
   ]
  },
  {
   "cell_type": "code",
   "execution_count": 77,
   "id": "08d13f16",
   "metadata": {},
   "outputs": [
    {
     "data": {
      "text/plain": [
       "LinearRegression()"
      ]
     },
     "execution_count": 77,
     "metadata": {},
     "output_type": "execute_result"
    }
   ],
   "source": [
    "LR = LinearRegression()\n",
    "LR.fit(x_train.values.reshape(-1,1), y_train.values)"
   ]
  },
  {
   "cell_type": "code",
   "execution_count": 78,
   "id": "c058eeb5",
   "metadata": {},
   "outputs": [
    {
     "data": {
      "image/png": "[encoded data removed]",
      "text/plain": [
       "<Figure size 640x480 with 1 Axes>"
      ]
     },
     "metadata": {},
     "output_type": "display_data"
    }
   ],
   "source": [
    "prediction = LR.predict(x_test.values.reshape(-1,1))\n",
    "\n",
    "plt.plot(x_test, prediction, label='Linear Regression', color='b')\n",
    "plt.scatter(x_test, y_test, label='Actual Test Data', color='g', alpha=.7)\n",
    "plt.legend()\n",
    "plt.show()\n",
    "# This shows my linear regression line, you can see its not much data."
   ]
  },
  {
   "cell_type": "code",
   "execution_count": 79,
   "id": "aa6daebe",
   "metadata": {},
   "outputs": [
    {
     "data": {
      "text/plain": [
       "0.02529747773102509"
      ]
     },
     "execution_count": 79,
     "metadata": {},
     "output_type": "execute_result"
    }
   ],
   "source": [
    "LR.predict(np.array([[8]]))[0] # Type in the hour to see the predictive dose. Changing the LR.Predict to Numpy array so i could type in the hours i wanted for a dose prediction."
   ]
  },
  {
   "cell_type": "code",
   "execution_count": 80,
   "id": "7c8e69e5",
   "metadata": {},
   "outputs": [
    {
     "data": {
      "text/plain": [
       "0.635675459979417"
      ]
     },
     "execution_count": 80,
     "metadata": {},
     "output_type": "execute_result"
    }
   ],
   "source": [
    "LR.score(x_test.values.reshape(-1,1), y_test.values) # I went through all my data and dayshift_3 scored the highest prediction score"
   ]
  },
  {
   "cell_type": "markdown",
   "id": "2dc55bad",
   "metadata": {},
   "source": [
    "# A simple scatter plot with a trendline"
   ]
  },
  {
   "cell_type": "code",
   "execution_count": 82,
   "id": "b8b0df8b",
   "metadata": {},
   "outputs": [
    {
     "data": {
      "application/vnd.plotly.v1+json": {
       "config": {
        "plotlyServerURL": "https://plot.ly"
       },
       "data": [
        {
         "hovertemplate": "Whole_Body_Dose=%{x}<br>Time_Decimal=%{y}<extra></extra>",
         "legendgroup": "",
         "marker": {
          "color": "#636efa",
          "opacity": 0.65,
          "symbol": "circle"
         },
         "mode": "markers",
         "name": "",
         "orientation": "v",
         "showlegend": false,
         "type": "scatter",
         "x": [
          0.03,
          0.029,
          0.011,
          0.043,
          0.039,
          0.013,
          0.012,
          0.007,
          0.016,
          0.024,
          0.042,
          0.002,
          0.003,
          0.025,
          0.013,
          0.005,
          0.015,
          0.027,
          0.022,
          0.006,
          0.006,
          0.028,
          0.02,
          0.005,
          0.005,
          0.016,
          0.017,
          0.001,
          0.04,
          0.037,
          0.008,
          0.006,
          0.046,
          0.038,
          0.013,
          0.014,
          0.021,
          0.016,
          0.002,
          0.02,
          0.021,
          0.025,
          0.026,
          0.006,
          0.002,
          0.028,
          0.017,
          0.029,
          0.027,
          0.023,
          0.023,
          0.014,
          0.018,
          0.024,
          0.007,
          0.01,
          0.006
         ],
         "xaxis": "x",
         "y": [
          6.083333333333333,
          6.066666666666666,
          5.233333333333333,
          8.05,
          8.05,
          6.816666666666666,
          6.783333333333333,
          5.933333333333334,
          1.6166666666666667,
          6.4,
          7.166666666666667,
          0.7166666666666667,
          0.6666666666666666,
          7.2,
          7.166666666666667,
          6.066666666666666,
          7.766666666666667,
          7.366666666666666,
          7.35,
          4.966666666666667,
          4.95,
          7.116666666666666,
          7.116666666666666,
          1.9666666666666666,
          1.8833333333333333,
          6.8,
          6.766666666666667,
          0.38333333333333336,
          7.583333333333333,
          7.533333333333333,
          6.9,
          6.883333333333334,
          7.716666666666667,
          7.716666666666667,
          3.3833333333333333,
          3.35,
          7.866666666666666,
          7.6,
          0.48333333333333334,
          7.05,
          7.066666666666666,
          6.35,
          6.333333333333333,
          0.6833333333333333,
          0.7333333333333333,
          6.983333333333333,
          4.95,
          5.8,
          5.8,
          5.916666666666667,
          2.85,
          2.816666666666667,
          2.35,
          2.35,
          1.3666666666666667,
          1.3333333333333333,
          1.3
         ],
         "yaxis": "y"
        },
        {
         "hovertemplate": "<b>OLS trendline</b><br>Time_Decimal = 139.089 * Whole_Body_Dose + 2.58939<br>R<sup>2</sup>=0.420650<br><br>Whole_Body_Dose=%{x}<br>Time_Decimal=%{y} <b>(trend)</b><extra></extra>",
         "legendgroup": "",
         "line": {
          "color": "red"
         },
         "marker": {
          "color": "#636efa",
          "symbol": "circle"
         },
         "mode": "lines",
         "name": "",
         "showlegend": false,
         "type": "scatter",
         "x": [
          0.001,
          0.002,
          0.002,
          0.002,
          0.003,
          0.005,
          0.005,
          0.005,
          0.006,
          0.006,
          0.006,
          0.006,
          0.006,
          0.007,
          0.007,
          0.008,
          0.01,
          0.011,
          0.012,
          0.013,
          0.013,
          0.013,
          0.014,
          0.014,
          0.015,
          0.016,
          0.016,
          0.016,
          0.017,
          0.017,
          0.018,
          0.02,
          0.02,
          0.021,
          0.021,
          0.022,
          0.023,
          0.023,
          0.024,
          0.024,
          0.025,
          0.025,
          0.026,
          0.027,
          0.027,
          0.028,
          0.028,
          0.029,
          0.029,
          0.03,
          0.037,
          0.038,
          0.039,
          0.04,
          0.042,
          0.043,
          0.046
         ],
         "xaxis": "x",
         "y": [
          2.7284821692770014,
          2.867571399469754,
          2.867571399469754,
          2.867571399469754,
          3.006660629662507,
          3.284839090048013,
          3.284839090048013,
          3.284839090048013,
          3.423928320240766,
          3.423928320240766,
          3.423928320240766,
          3.423928320240766,
          3.423928320240766,
          3.563017550433519,
          3.563017550433519,
          3.7021067806262717,
          3.980285241011778,
          4.11937447120453,
          4.258463701397284,
          4.397552931590036,
          4.397552931590036,
          4.397552931590036,
          4.5366421617827895,
          4.5366421617827895,
          4.6757313919755426,
          4.814820622168296,
          4.814820622168296,
          4.814820622168296,
          4.953909852361049,
          4.953909852361049,
          5.092999082553801,
          5.371177542939307,
          5.371177542939307,
          5.51026677313206,
          5.51026677313206,
          5.649356003324813,
          5.788445233517566,
          5.788445233517566,
          5.92753446371032,
          5.92753446371032,
          6.066623693903072,
          6.066623693903072,
          6.205712924095825,
          6.344802154288578,
          6.344802154288578,
          6.483891384481331,
          6.483891384481331,
          6.622980614674084,
          6.622980614674084,
          6.762069844866836,
          7.735694456216107,
          7.874783686408859,
          8.013872916601613,
          8.152962146794366,
          8.431140607179872,
          8.570229837372624,
          8.987497527950884
         ],
         "yaxis": "y"
        }
       ],
       "layout": {
        "legend": {
         "tracegroupgap": 0
        },
        "margin": {
         "t": 60
        },
        "template": {
         "data": {
          "bar": [
           {
            "error_x": {
             "color": "#2a3f5f"
            },
            "error_y": {
             "color": "#2a3f5f"
            },
            "marker": {
             "line": {
              "color": "#E5ECF6",
              "width": 0.5
             },
             "pattern": {
              "fillmode": "overlay",
              "size": 10,
              "solidity": 0.2
             }
            },
            "type": "bar"
           }
          ],
          "barpolar": [
           {
            "marker": {
             "line": {
              "color": "#E5ECF6",
              "width": 0.5
             },
             "pattern": {
              "fillmode": "overlay",
              "size": 10,
              "solidity": 0.2
             }
            },
            "type": "barpolar"
           }
          ],
          "carpet": [
           {
            "aaxis": {
             "endlinecolor": "#2a3f5f",
             "gridcolor": "white",
             "linecolor": "white",
             "minorgridcolor": "white",
             "startlinecolor": "#2a3f5f"
            },
            "baxis": {
             "endlinecolor": "#2a3f5f",
             "gridcolor": "white",
             "linecolor": "white",
             "minorgridcolor": "white",
             "startlinecolor": "#2a3f5f"
            },
            "type": "carpet"
           }
          ],
          "choropleth": [
           {
            "colorbar": {
             "outlinewidth": 0,
             "ticks": ""
            },
            "type": "choropleth"
           }
          ],
          "contour": [
           {
            "colorbar": {
             "outlinewidth": 0,
             "ticks": ""
            },
            "colorscale": [
             [
              0,
              "#0d0887"
             ],
             [
              0.1111111111111111,
              "#46039f"
             ],
             [
              0.2222222222222222,
              "#7201a8"
             ],
             [
              0.3333333333333333,
              "#9c179e"
             ],
             [
              0.4444444444444444,
              "#bd3786"
             ],
             [
              0.5555555555555556,
              "#d8576b"
             ],
             [
              0.6666666666666666,
              "#ed7953"
             ],
             [
              0.7777777777777778,
              "#fb9f3a"
             ],
             [
              0.8888888888888888,
              "#fdca26"
             ],
             [
              1,
              "#f0f921"
             ]
            ],
            "type": "contour"
           }
          ],
          "contourcarpet": [
           {
            "colorbar": {
             "outlinewidth": 0,
             "ticks": ""
            },
            "type": "contourcarpet"
           }
          ],
          "heatmap": [
           {
            "colorbar": {
             "outlinewidth": 0,
             "ticks": ""
            },
            "colorscale": [
             [
              0,
              "#0d0887"
             ],
             [
              0.1111111111111111,
              "#46039f"
             ],
             [
              0.2222222222222222,
              "#7201a8"
             ],
             [
              0.3333333333333333,
              "#9c179e"
             ],
             [
              0.4444444444444444,
              "#bd3786"
             ],
             [
              0.5555555555555556,
              "#d8576b"
             ],
             [
              0.6666666666666666,
              "#ed7953"
             ],
             [
              0.7777777777777778,
              "#fb9f3a"
             ],
             [
              0.8888888888888888,
              "#fdca26"
             ],
             [
              1,
              "#f0f921"
             ]
            ],
            "type": "heatmap"
           }
          ],
          "heatmapgl": [
           {
            "colorbar": {
             "outlinewidth": 0,
             "ticks": ""
            },
            "colorscale": [
             [
              0,
              "#0d0887"
             ],
             [
              0.1111111111111111,
              "#46039f"
             ],
             [
              0.2222222222222222,
              "#7201a8"
             ],
             [
              0.3333333333333333,
              "#9c179e"
             ],
             [
              0.4444444444444444,
              "#bd3786"
             ],
             [
              0.5555555555555556,
              "#d8576b"
             ],
             [
              0.6666666666666666,
              "#ed7953"
             ],
             [
              0.7777777777777778,
              "#fb9f3a"
             ],
             [
              0.8888888888888888,
              "#fdca26"
             ],
             [
              1,
              "#f0f921"
             ]
            ],
            "type": "heatmapgl"
           }
          ],
          "histogram": [
           {
            "marker": {
             "pattern": {
              "fillmode": "overlay",
              "size": 10,
              "solidity": 0.2
             }
            },
            "type": "histogram"
           }
          ],
          "histogram2d": [
           {
            "colorbar": {
             "outlinewidth": 0,
             "ticks": ""
            },
            "colorscale": [
             [
              0,
              "#0d0887"
             ],
             [
              0.1111111111111111,
              "#46039f"
             ],
             [
              0.2222222222222222,
              "#7201a8"
             ],
             [
              0.3333333333333333,
              "#9c179e"
             ],
             [
              0.4444444444444444,
              "#bd3786"
             ],
             [
              0.5555555555555556,
              "#d8576b"
             ],
             [
              0.6666666666666666,
              "#ed7953"
             ],
             [
              0.7777777777777778,
              "#fb9f3a"
             ],
             [
              0.8888888888888888,
              "#fdca26"
             ],
             [
              1,
              "#f0f921"
             ]
            ],
            "type": "histogram2d"
           }
          ],
          "histogram2dcontour": [
           {
            "colorbar": {
             "outlinewidth": 0,
             "ticks": ""
            },
            "colorscale": [
             [
              0,
              "#0d0887"
             ],
             [
              0.1111111111111111,
              "#46039f"
             ],
             [
              0.2222222222222222,
              "#7201a8"
             ],
             [
              0.3333333333333333,
              "#9c179e"
             ],
             [
              0.4444444444444444,
              "#bd3786"
             ],
             [
              0.5555555555555556,
              "#d8576b"
             ],
             [
              0.6666666666666666,
              "#ed7953"
             ],
             [
              0.7777777777777778,
              "#fb9f3a"
             ],
             [
              0.8888888888888888,
              "#fdca26"
             ],
             [
              1,
              "#f0f921"
             ]
            ],
            "type": "histogram2dcontour"
           }
          ],
          "mesh3d": [
           {
            "colorbar": {
             "outlinewidth": 0,
             "ticks": ""
            },
            "type": "mesh3d"
           }
          ],
          "parcoords": [
           {
            "line": {
             "colorbar": {
              "outlinewidth": 0,
              "ticks": ""
             }
            },
            "type": "parcoords"
           }
          ],
          "pie": [
           {
            "automargin": true,
            "type": "pie"
           }
          ],
          "scatter": [
           {
            "fillpattern": {
             "fillmode": "overlay",
             "size": 10,
             "solidity": 0.2
            },
            "type": "scatter"
           }
          ],
          "scatter3d": [
           {
            "line": {
             "colorbar": {
              "outlinewidth": 0,
              "ticks": ""
             }
            },
            "marker": {
             "colorbar": {
              "outlinewidth": 0,
              "ticks": ""
             }
            },
            "type": "scatter3d"
           }
          ],
          "scattercarpet": [
           {
            "marker": {
             "colorbar": {
              "outlinewidth": 0,
              "ticks": ""
             }
            },
            "type": "scattercarpet"
           }
          ],
          "scattergeo": [
           {
            "marker": {
             "colorbar": {
              "outlinewidth": 0,
              "ticks": ""
             }
            },
            "type": "scattergeo"
           }
          ],
          "scattergl": [
           {
            "marker": {
             "colorbar": {
              "outlinewidth": 0,
              "ticks": ""
             }
            },
            "type": "scattergl"
           }
          ],
          "scattermapbox": [
           {
            "marker": {
             "colorbar": {
              "outlinewidth": 0,
              "ticks": ""
             }
            },
            "type": "scattermapbox"
           }
          ],
          "scatterpolar": [
           {
            "marker": {
             "colorbar": {
              "outlinewidth": 0,
              "ticks": ""
             }
            },
            "type": "scatterpolar"
           }
          ],
          "scatterpolargl": [
           {
            "marker": {
             "colorbar": {
              "outlinewidth": 0,
              "ticks": ""
             }
            },
            "type": "scatterpolargl"
           }
          ],
          "scatterternary": [
           {
            "marker": {
             "colorbar": {
              "outlinewidth": 0,
              "ticks": ""
             }
            },
            "type": "scatterternary"
           }
          ],
          "surface": [
           {
            "colorbar": {
             "outlinewidth": 0,
             "ticks": ""
            },
            "colorscale": [
             [
              0,
              "#0d0887"
             ],
             [
              0.1111111111111111,
              "#46039f"
             ],
             [
              0.2222222222222222,
              "#7201a8"
             ],
             [
              0.3333333333333333,
              "#9c179e"
             ],
             [
              0.4444444444444444,
              "#bd3786"
             ],
             [
              0.5555555555555556,
              "#d8576b"
             ],
             [
              0.6666666666666666,
              "#ed7953"
             ],
             [
              0.7777777777777778,
              "#fb9f3a"
             ],
             [
              0.8888888888888888,
              "#fdca26"
             ],
             [
              1,
              "#f0f921"
             ]
            ],
            "type": "surface"
           }
          ],
          "table": [
           {
            "cells": {
             "fill": {
              "color": "#EBF0F8"
             },
             "line": {
              "color": "white"
             }
            },
            "header": {
             "fill": {
              "color": "#C8D4E3"
             },
             "line": {
              "color": "white"
             }
            },
            "type": "table"
           }
          ]
         },
         "layout": {
          "annotationdefaults": {
           "arrowcolor": "#2a3f5f",
           "arrowhead": 0,
           "arrowwidth": 1
          },
          "autotypenumbers": "strict",
          "coloraxis": {
           "colorbar": {
            "outlinewidth": 0,
            "ticks": ""
           }
          },
          "colorscale": {
           "diverging": [
            [
             0,
             "#8e0152"
            ],
            [
             0.1,
             "#c51b7d"
            ],
            [
             0.2,
             "#de77ae"
            ],
            [
             0.3,
             "#f1b6da"
            ],
            [
             0.4,
             "#fde0ef"
            ],
            [
             0.5,
             "#f7f7f7"
            ],
            [
             0.6,
             "#e6f5d0"
            ],
            [
             0.7,
             "#b8e186"
            ],
            [
             0.8,
             "#7fbc41"
            ],
            [
             0.9,
             "#4d9221"
            ],
            [
             1,
             "#276419"
            ]
           ],
           "sequential": [
            [
             0,
             "#0d0887"
            ],
            [
             0.1111111111111111,
             "#46039f"
            ],
            [
             0.2222222222222222,
             "#7201a8"
            ],
            [
             0.3333333333333333,
             "#9c179e"
            ],
            [
             0.4444444444444444,
             "#bd3786"
            ],
            [
             0.5555555555555556,
             "#d8576b"
            ],
            [
             0.6666666666666666,
             "#ed7953"
            ],
            [
             0.7777777777777778,
             "#fb9f3a"
            ],
            [
             0.8888888888888888,
             "#fdca26"
            ],
            [
             1,
             "#f0f921"
            ]
           ],
           "sequentialminus": [
            [
             0,
             "#0d0887"
            ],
            [
             0.1111111111111111,
             "#46039f"
            ],
            [
             0.2222222222222222,
             "#7201a8"
            ],
            [
             0.3333333333333333,
             "#9c179e"
            ],
            [
             0.4444444444444444,
             "#bd3786"
            ],
            [
             0.5555555555555556,
             "#d8576b"
            ],
            [
             0.6666666666666666,
             "#ed7953"
            ],
            [
             0.7777777777777778,
             "#fb9f3a"
            ],
            [
             0.8888888888888888,
             "#fdca26"
            ],
            [
             1,
             "#f0f921"
            ]
           ]
          },
          "colorway": [
           "#636efa",
           "#EF553B",
           "#00cc96",
           "#ab63fa",
           "#FFA15A",
           "#19d3f3",
           "#FF6692",
           "#B6E880",
           "#FF97FF",
           "#FECB52"
          ],
          "font": {
           "color": "#2a3f5f"
          },
          "geo": {
           "bgcolor": "white",
           "lakecolor": "white",
           "landcolor": "#E5ECF6",
           "showlakes": true,
           "showland": true,
           "subunitcolor": "white"
          },
          "hoverlabel": {
           "align": "left"
          },
          "hovermode": "closest",
          "mapbox": {
           "style": "light"
          },
          "paper_bgcolor": "white",
          "plot_bgcolor": "#E5ECF6",
          "polar": {
           "angularaxis": {
            "gridcolor": "white",
            "linecolor": "white",
            "ticks": ""
           },
           "bgcolor": "#E5ECF6",
           "radialaxis": {
            "gridcolor": "white",
            "linecolor": "white",
            "ticks": ""
           }
          },
          "scene": {
           "xaxis": {
            "backgroundcolor": "#E5ECF6",
            "gridcolor": "white",
            "gridwidth": 2,
            "linecolor": "white",
            "showbackground": true,
            "ticks": "",
            "zerolinecolor": "white"
           },
           "yaxis": {
            "backgroundcolor": "#E5ECF6",
            "gridcolor": "white",
            "gridwidth": 2,
            "linecolor": "white",
            "showbackground": true,
            "ticks": "",
            "zerolinecolor": "white"
           },
           "zaxis": {
            "backgroundcolor": "#E5ECF6",
            "gridcolor": "white",
            "gridwidth": 2,
            "linecolor": "white",
            "showbackground": true,
            "ticks": "",
            "zerolinecolor": "white"
           }
          },
          "shapedefaults": {
           "line": {
            "color": "#2a3f5f"
           }
          },
          "ternary": {
           "aaxis": {
            "gridcolor": "white",
            "linecolor": "white",
            "ticks": ""
           },
           "baxis": {
            "gridcolor": "white",
            "linecolor": "white",
            "ticks": ""
           },
           "bgcolor": "#E5ECF6",
           "caxis": {
            "gridcolor": "white",
            "linecolor": "white",
            "ticks": ""
           }
          },
          "title": {
           "x": 0.05
          },
          "xaxis": {
           "automargin": true,
           "gridcolor": "white",
           "linecolor": "white",
           "ticks": "",
           "title": {
            "standoff": 15
           },
           "zerolinecolor": "white",
           "zerolinewidth": 2
          },
          "yaxis": {
           "automargin": true,
           "gridcolor": "white",
           "linecolor": "white",
           "ticks": "",
           "title": {
            "standoff": 15
           },
           "zerolinecolor": "white",
           "zerolinewidth": 2
          }
         }
        },
        "xaxis": {
         "anchor": "y",
         "domain": [
          0,
          1
         ],
         "title": {
          "text": "Whole_Body_Dose"
         }
        },
        "yaxis": {
         "anchor": "x",
         "domain": [
          0,
          1
         ],
         "title": {
          "text": "Time_Decimal"
         }
        }
       }
      },
      "text/html": [
       "<div>                            <div id=\"03095e76-b4af-42a8-8c23-6df39ec5f29c\" class=\"plotly-graph-div\" style=\"height:525px; width:100%;\"></div>            <script type=\"text/javascript\">                require([\"plotly\"], function(Plotly) {                    window.PLOTLYENV=window.PLOTLYENV || {};                                    if (document.getElementById(\"03095e76-b4af-42a8-8c23-6df39ec5f29c\")) {                    Plotly.newPlot(                        \"03095e76-b4af-42a8-8c23-6df39ec5f29c\",                        [{\"hovertemplate\":\"Whole_Body_Dose=%{x}<br>Time_Decimal=%{y}<extra></extra>\",\"legendgroup\":\"\",\"marker\":{\"color\":\"#636efa\",\"opacity\":0.65,\"symbol\":\"circle\"},\"mode\":\"markers\",\"name\":\"\",\"orientation\":\"v\",\"showlegend\":false,\"x\":[0.03,0.029,0.011,0.043,0.039,0.013,0.012,0.007,0.016,0.024,0.042,0.002,0.003,0.025,0.013,0.005,0.015,0.027,0.022,0.006,0.006,0.028,0.02,0.005,0.005,0.016,0.017,0.001,0.04,0.037,0.008,0.006,0.046,0.038,0.013,0.014,0.021,0.016,0.002,0.02,0.021,0.025,0.026,0.006,0.002,0.028,0.017,0.029,0.027,0.023,0.023,0.014,0.018,0.024,0.007,0.01,0.006],\"xaxis\":\"x\",\"y\":[6.083333333333333,6.066666666666666,5.233333333333333,8.05,8.05,6.816666666666666,6.783333333333333,5.933333333333334,1.6166666666666667,6.4,7.166666666666667,0.7166666666666667,0.6666666666666666,7.2,7.166666666666667,6.066666666666666,7.766666666666667,7.366666666666666,7.35,4.966666666666667,4.95,7.116666666666666,7.116666666666666,1.9666666666666666,1.8833333333333333,6.8,6.766666666666667,0.38333333333333336,7.583333333333333,7.533333333333333,6.9,6.883333333333334,7.716666666666667,7.716666666666667,3.3833333333333333,3.35,7.866666666666666,7.6,0.48333333333333334,7.05,7.066666666666666,6.35,6.333333333333333,0.6833333333333333,0.7333333333333333,6.983333333333333,4.95,5.8,5.8,5.916666666666667,2.85,2.816666666666667,2.35,2.35,1.3666666666666667,1.3333333333333333,1.3],\"yaxis\":\"y\",\"type\":\"scatter\"},{\"hovertemplate\":\"<b>OLS trendline</b><br>Time_Decimal = 139.089 * Whole_Body_Dose + 2.58939<br>R<sup>2</sup>=0.420650<br><br>Whole_Body_Dose=%{x}<br>Time_Decimal=%{y} <b>(trend)</b><extra></extra>\",\"legendgroup\":\"\",\"line\":{\"color\":\"red\"},\"marker\":{\"color\":\"#636efa\",\"symbol\":\"circle\"},\"mode\":\"lines\",\"name\":\"\",\"showlegend\":false,\"x\":[0.001,0.002,0.002,0.002,0.003,0.005,0.005,0.005,0.006,0.006,0.006,0.006,0.006,0.007,0.007,0.008,0.01,0.011,0.012,0.013,0.013,0.013,0.014,0.014,0.015,0.016,0.016,0.016,0.017,0.017,0.018,0.02,0.02,0.021,0.021,0.022,0.023,0.023,0.024,0.024,0.025,0.025,0.026,0.027,0.027,0.028,0.028,0.029,0.029,0.03,0.037,0.038,0.039,0.04,0.042,0.043,0.046],\"xaxis\":\"x\",\"y\":[2.7284821692770014,2.867571399469754,2.867571399469754,2.867571399469754,3.006660629662507,3.284839090048013,3.284839090048013,3.284839090048013,3.423928320240766,3.423928320240766,3.423928320240766,3.423928320240766,3.423928320240766,3.563017550433519,3.563017550433519,3.7021067806262717,3.980285241011778,4.11937447120453,4.258463701397284,4.397552931590036,4.397552931590036,4.397552931590036,4.5366421617827895,4.5366421617827895,4.6757313919755426,4.814820622168296,4.814820622168296,4.814820622168296,4.953909852361049,4.953909852361049,5.092999082553801,5.371177542939307,5.371177542939307,5.51026677313206,5.51026677313206,5.649356003324813,5.788445233517566,5.788445233517566,5.92753446371032,5.92753446371032,6.066623693903072,6.066623693903072,6.205712924095825,6.344802154288578,6.344802154288578,6.483891384481331,6.483891384481331,6.622980614674084,6.622980614674084,6.762069844866836,7.735694456216107,7.874783686408859,8.013872916601613,8.152962146794366,8.431140607179872,8.570229837372624,8.987497527950884],\"yaxis\":\"y\",\"type\":\"scatter\"}],                        {\"template\":{\"data\":{\"histogram2dcontour\":[{\"type\":\"histogram2dcontour\",\"colorbar\":{\"outlinewidth\":0,\"ticks\":\"\"},\"colorscale\":[[0.0,\"#0d0887\"],[0.1111111111111111,\"#46039f\"],[0.2222222222222222,\"#7201a8\"],[0.3333333333333333,\"#9c179e\"],[0.4444444444444444,\"#bd3786\"],[0.5555555555555556,\"#d8576b\"],[0.6666666666666666,\"#ed7953\"],[0.7777777777777778,\"#fb9f3a\"],[0.8888888888888888,\"#fdca26\"],[1.0,\"#f0f921\"]]}],\"choropleth\":[{\"type\":\"choropleth\",\"colorbar\":{\"outlinewidth\":0,\"ticks\":\"\"}}],\"histogram2d\":[{\"type\":\"histogram2d\",\"colorbar\":{\"outlinewidth\":0,\"ticks\":\"\"},\"colorscale\":[[0.0,\"#0d0887\"],[0.1111111111111111,\"#46039f\"],[0.2222222222222222,\"#7201a8\"],[0.3333333333333333,\"#9c179e\"],[0.4444444444444444,\"#bd3786\"],[0.5555555555555556,\"#d8576b\"],[0.6666666666666666,\"#ed7953\"],[0.7777777777777778,\"#fb9f3a\"],[0.8888888888888888,\"#fdca26\"],[1.0,\"#f0f921\"]]}],\"heatmap\":[{\"type\":\"heatmap\",\"colorbar\":{\"outlinewidth\":0,\"ticks\":\"\"},\"colorscale\":[[0.0,\"#0d0887\"],[0.1111111111111111,\"#46039f\"],[0.2222222222222222,\"#7201a8\"],[0.3333333333333333,\"#9c179e\"],[0.4444444444444444,\"#bd3786\"],[0.5555555555555556,\"#d8576b\"],[0.6666666666666666,\"#ed7953\"],[0.7777777777777778,\"#fb9f3a\"],[0.8888888888888888,\"#fdca26\"],[1.0,\"#f0f921\"]]}],\"heatmapgl\":[{\"type\":\"heatmapgl\",\"colorbar\":{\"outlinewidth\":0,\"ticks\":\"\"},\"colorscale\":[[0.0,\"#0d0887\"],[0.1111111111111111,\"#46039f\"],[0.2222222222222222,\"#7201a8\"],[0.3333333333333333,\"#9c179e\"],[0.4444444444444444,\"#bd3786\"],[0.5555555555555556,\"#d8576b\"],[0.6666666666666666,\"#ed7953\"],[0.7777777777777778,\"#fb9f3a\"],[0.8888888888888888,\"#fdca26\"],[1.0,\"#f0f921\"]]}],\"contourcarpet\":[{\"type\":\"contourcarpet\",\"colorbar\":{\"outlinewidth\":0,\"ticks\":\"\"}}],\"contour\":[{\"type\":\"contour\",\"colorbar\":{\"outlinewidth\":0,\"ticks\":\"\"},\"colorscale\":[[0.0,\"#0d0887\"],[0.1111111111111111,\"#46039f\"],[0.2222222222222222,\"#7201a8\"],[0.3333333333333333,\"#9c179e\"],[0.4444444444444444,\"#bd3786\"],[0.5555555555555556,\"#d8576b\"],[0.6666666666666666,\"#ed7953\"],[0.7777777777777778,\"#fb9f3a\"],[0.8888888888888888,\"#fdca26\"],[1.0,\"#f0f921\"]]}],\"surface\":[{\"type\":\"surface\",\"colorbar\":{\"outlinewidth\":0,\"ticks\":\"\"},\"colorscale\":[[0.0,\"#0d0887\"],[0.1111111111111111,\"#46039f\"],[0.2222222222222222,\"#7201a8\"],[0.3333333333333333,\"#9c179e\"],[0.4444444444444444,\"#bd3786\"],[0.5555555555555556,\"#d8576b\"],[0.6666666666666666,\"#ed7953\"],[0.7777777777777778,\"#fb9f3a\"],[0.8888888888888888,\"#fdca26\"],[1.0,\"#f0f921\"]]}],\"mesh3d\":[{\"type\":\"mesh3d\",\"colorbar\":{\"outlinewidth\":0,\"ticks\":\"\"}}],\"scatter\":[{\"fillpattern\":{\"fillmode\":\"overlay\",\"size\":10,\"solidity\":0.2},\"type\":\"scatter\"}],\"parcoords\":[{\"type\":\"parcoords\",\"line\":{\"colorbar\":{\"outlinewidth\":0,\"ticks\":\"\"}}}],\"scatterpolargl\":[{\"type\":\"scatterpolargl\",\"marker\":{\"colorbar\":{\"outlinewidth\":0,\"ticks\":\"\"}}}],\"bar\":[{\"error_x\":{\"color\":\"#2a3f5f\"},\"error_y\":{\"color\":\"#2a3f5f\"},\"marker\":{\"line\":{\"color\":\"#E5ECF6\",\"width\":0.5},\"pattern\":{\"fillmode\":\"overlay\",\"size\":10,\"solidity\":0.2}},\"type\":\"bar\"}],\"scattergeo\":[{\"type\":\"scattergeo\",\"marker\":{\"colorbar\":{\"outlinewidth\":0,\"ticks\":\"\"}}}],\"scatterpolar\":[{\"type\":\"scatterpolar\",\"marker\":{\"colorbar\":{\"outlinewidth\":0,\"ticks\":\"\"}}}],\"histogram\":[{\"marker\":{\"pattern\":{\"fillmode\":\"overlay\",\"size\":10,\"solidity\":0.2}},\"type\":\"histogram\"}],\"scattergl\":[{\"type\":\"scattergl\",\"marker\":{\"colorbar\":{\"outlinewidth\":0,\"ticks\":\"\"}}}],\"scatter3d\":[{\"type\":\"scatter3d\",\"line\":{\"colorbar\":{\"outlinewidth\":0,\"ticks\":\"\"}},\"marker\":{\"colorbar\":{\"outlinewidth\":0,\"ticks\":\"\"}}}],\"scattermapbox\":[{\"type\":\"scattermapbox\",\"marker\":{\"colorbar\":{\"outlinewidth\":0,\"ticks\":\"\"}}}],\"scatterternary\":[{\"type\":\"scatterternary\",\"marker\":{\"colorbar\":{\"outlinewidth\":0,\"ticks\":\"\"}}}],\"scattercarpet\":[{\"type\":\"scattercarpet\",\"marker\":{\"colorbar\":{\"outlinewidth\":0,\"ticks\":\"\"}}}],\"carpet\":[{\"aaxis\":{\"endlinecolor\":\"#2a3f5f\",\"gridcolor\":\"white\",\"linecolor\":\"white\",\"minorgridcolor\":\"white\",\"startlinecolor\":\"#2a3f5f\"},\"baxis\":{\"endlinecolor\":\"#2a3f5f\",\"gridcolor\":\"white\",\"linecolor\":\"white\",\"minorgridcolor\":\"white\",\"startlinecolor\":\"#2a3f5f\"},\"type\":\"carpet\"}],\"table\":[{\"cells\":{\"fill\":{\"color\":\"#EBF0F8\"},\"line\":{\"color\":\"white\"}},\"header\":{\"fill\":{\"color\":\"#C8D4E3\"},\"line\":{\"color\":\"white\"}},\"type\":\"table\"}],\"barpolar\":[{\"marker\":{\"line\":{\"color\":\"#E5ECF6\",\"width\":0.5},\"pattern\":{\"fillmode\":\"overlay\",\"size\":10,\"solidity\":0.2}},\"type\":\"barpolar\"}],\"pie\":[{\"automargin\":true,\"type\":\"pie\"}]},\"layout\":{\"autotypenumbers\":\"strict\",\"colorway\":[\"#636efa\",\"#EF553B\",\"#00cc96\",\"#ab63fa\",\"#FFA15A\",\"#19d3f3\",\"#FF6692\",\"#B6E880\",\"#FF97FF\",\"#FECB52\"],\"font\":{\"color\":\"#2a3f5f\"},\"hovermode\":\"closest\",\"hoverlabel\":{\"align\":\"left\"},\"paper_bgcolor\":\"white\",\"plot_bgcolor\":\"#E5ECF6\",\"polar\":{\"bgcolor\":\"#E5ECF6\",\"angularaxis\":{\"gridcolor\":\"white\",\"linecolor\":\"white\",\"ticks\":\"\"},\"radialaxis\":{\"gridcolor\":\"white\",\"linecolor\":\"white\",\"ticks\":\"\"}},\"ternary\":{\"bgcolor\":\"#E5ECF6\",\"aaxis\":{\"gridcolor\":\"white\",\"linecolor\":\"white\",\"ticks\":\"\"},\"baxis\":{\"gridcolor\":\"white\",\"linecolor\":\"white\",\"ticks\":\"\"},\"caxis\":{\"gridcolor\":\"white\",\"linecolor\":\"white\",\"ticks\":\"\"}},\"coloraxis\":{\"colorbar\":{\"outlinewidth\":0,\"ticks\":\"\"}},\"colorscale\":{\"sequential\":[[0.0,\"#0d0887\"],[0.1111111111111111,\"#46039f\"],[0.2222222222222222,\"#7201a8\"],[0.3333333333333333,\"#9c179e\"],[0.4444444444444444,\"#bd3786\"],[0.5555555555555556,\"#d8576b\"],[0.6666666666666666,\"#ed7953\"],[0.7777777777777778,\"#fb9f3a\"],[0.8888888888888888,\"#fdca26\"],[1.0,\"#f0f921\"]],\"sequentialminus\":[[0.0,\"#0d0887\"],[0.1111111111111111,\"#46039f\"],[0.2222222222222222,\"#7201a8\"],[0.3333333333333333,\"#9c179e\"],[0.4444444444444444,\"#bd3786\"],[0.5555555555555556,\"#d8576b\"],[0.6666666666666666,\"#ed7953\"],[0.7777777777777778,\"#fb9f3a\"],[0.8888888888888888,\"#fdca26\"],[1.0,\"#f0f921\"]],\"diverging\":[[0,\"#8e0152\"],[0.1,\"#c51b7d\"],[0.2,\"#de77ae\"],[0.3,\"#f1b6da\"],[0.4,\"#fde0ef\"],[0.5,\"#f7f7f7\"],[0.6,\"#e6f5d0\"],[0.7,\"#b8e186\"],[0.8,\"#7fbc41\"],[0.9,\"#4d9221\"],[1,\"#276419\"]]},\"xaxis\":{\"gridcolor\":\"white\",\"linecolor\":\"white\",\"ticks\":\"\",\"title\":{\"standoff\":15},\"zerolinecolor\":\"white\",\"automargin\":true,\"zerolinewidth\":2},\"yaxis\":{\"gridcolor\":\"white\",\"linecolor\":\"white\",\"ticks\":\"\",\"title\":{\"standoff\":15},\"zerolinecolor\":\"white\",\"automargin\":true,\"zerolinewidth\":2},\"scene\":{\"xaxis\":{\"backgroundcolor\":\"#E5ECF6\",\"gridcolor\":\"white\",\"linecolor\":\"white\",\"showbackground\":true,\"ticks\":\"\",\"zerolinecolor\":\"white\",\"gridwidth\":2},\"yaxis\":{\"backgroundcolor\":\"#E5ECF6\",\"gridcolor\":\"white\",\"linecolor\":\"white\",\"showbackground\":true,\"ticks\":\"\",\"zerolinecolor\":\"white\",\"gridwidth\":2},\"zaxis\":{\"backgroundcolor\":\"#E5ECF6\",\"gridcolor\":\"white\",\"linecolor\":\"white\",\"showbackground\":true,\"ticks\":\"\",\"zerolinecolor\":\"white\",\"gridwidth\":2}},\"shapedefaults\":{\"line\":{\"color\":\"#2a3f5f\"}},\"annotationdefaults\":{\"arrowcolor\":\"#2a3f5f\",\"arrowhead\":0,\"arrowwidth\":1},\"geo\":{\"bgcolor\":\"white\",\"landcolor\":\"#E5ECF6\",\"subunitcolor\":\"white\",\"showland\":true,\"showlakes\":true,\"lakecolor\":\"white\"},\"title\":{\"x\":0.05},\"mapbox\":{\"style\":\"light\"}}},\"xaxis\":{\"anchor\":\"y\",\"domain\":[0.0,1.0],\"title\":{\"text\":\"Whole_Body_Dose\"}},\"yaxis\":{\"anchor\":\"x\",\"domain\":[0.0,1.0],\"title\":{\"text\":\"Time_Decimal\"}},\"legend\":{\"tracegroupgap\":0},\"margin\":{\"t\":60}},                        {\"responsive\": true}                    ).then(function(){\n",
       "                            \n",
       "var gd = document.getElementById('03095e76-b4af-42a8-8c23-6df39ec5f29c');\n",
       "var x = new MutationObserver(function (mutations, observer) {{\n",
       "        var display = window.getComputedStyle(gd).display;\n",
       "        if (!display || display === 'none') {{\n",
       "            console.log([gd, 'removed!']);\n",
       "            Plotly.purge(gd);\n",
       "            observer.disconnect();\n",
       "        }}\n",
       "}});\n",
       "\n",
       "// Listen for the removal of the full notebook cells\n",
       "var notebookContainer = gd.closest('#notebook-container');\n",
       "if (notebookContainer) {{\n",
       "    x.observe(notebookContainer, {childList: true});\n",
       "}}\n",
       "\n",
       "// Listen for the clearing of the current output cell\n",
       "var outputEl = gd.closest('.output');\n",
       "if (outputEl) {{\n",
       "    x.observe(outputEl, {childList: true});\n",
       "}}\n",
       "\n",
       "                        })                };                });            </script>        </div>"
      ]
     },
     "metadata": {},
     "output_type": "display_data"
    }
   ],
   "source": [
    "\n",
    "fig7 = px.scatter(\n",
    "    dayshift_3, x='Whole_Body_Dose', y='Time_Decimal', opacity=0.65,\n",
    "    trendline='ols', trendline_color_override='red'\n",
    ")\n",
    "fig7.show()\n"
   ]
  },
  {
   "cell_type": "markdown",
   "id": "9f186633",
   "metadata": {},
   "source": [
    "# Conclusion "
   ]
  },
  {
   "cell_type": "markdown",
   "id": "98a1e70c",
   "metadata": {},
   "source": [
    "I am not happy with the results, yes, I did what I set out to do which was a shift analysis and a machine learning algorithm, but my goal that I want to do is,to get the guys on the shop floor to understand we are not monitoring them via the EPDs we are trying to help them take less radiation which is the ultimate goal. The less radiation the better, if we can get an accurate time and dose prediction then we can plan better. We will need to police this better just like they do on nuclear power stations where you clock in on the EPD at the job and once complete you clock out and hand in the EPD.\n",
    "\n",
    "I feel like night shift is less productive, given the time difference between days and dose taken, yes, one of the data frames say different, but we did not start night shift straight away on this task, this I why I believe we need to manage the night shift better as I think that people are taking advantage of night shift. If we can get better dosimetry control, we will be able to predict the dose more accurately.\n",
    "\n"
   ]
  }
 ],
 "metadata": {
  "kernelspec": {
   "display_name": "Python 3 (ipykernel)",
   "language": "python",
   "name": "python3"
  },
  "language_info": {
   "codemirror_mode": {
    "name": "ipython",
    "version": 3
   },
   "file_extension": ".py",
   "mimetype": "text/x-python",
   "name": "python",
   "nbconvert_exporter": "python",
   "pygments_lexer": "ipython3",
   "version": "3.9.13"
  }
 },
 "nbformat": 4,
 "nbformat_minor": 5
}
